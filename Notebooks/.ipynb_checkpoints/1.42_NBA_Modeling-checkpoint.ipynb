{
 "cells": [
  {
   "cell_type": "code",
   "execution_count": 10,
   "metadata": {},
   "outputs": [],
   "source": [
    "import numpy as np\n",
    "import pandas as pd\n",
    "import os\n",
    "import plotly.express as px\n",
    "import plotly.graph_objects as go\n",
    "import plotly\n",
    "\n",
    "from sklearn.pipeline import Pipeline\n",
    "from sklearn.linear_model import LinearRegression, LassoCV, RidgeCV, LogisticRegression, SGDClassifier\n",
    "from sklearn.preprocessing import StandardScaler, PolynomialFeatures, PowerTransformer\n",
    "from sklearn.model_selection import train_test_split, cross_val_score, GridSearchCV\n",
    "from sklearn.ensemble import VotingClassifier, RandomForestClassifier, ExtraTreesClassifier, BaggingClassifier, AdaBoostClassifier, GradientBoostingClassifier\n",
    "from sklearn.tree import DecisionTreeClassifier, DecisionTreeRegressor\n",
    "from sklearn.naive_bayes import MultinomialNB, ComplementNB\n",
    "from sklearn.neighbors import KNeighborsRegressor, KNeighborsClassifier\n",
    "from sklearn import metrics\n",
    "from sklearn.base import BaseEstimator\n",
    "from sklearn.svm import SVC, SVR \n",
    "from sklearn.metrics import mean_squared_error, f1_score, confusion_matrix\n",
    "from imblearn.over_sampling import RandomOverSampler\n",
    "from collections import Counter\n",
    "from keras.models import Sequential\n",
    "from keras.layers import Dense, Dropout, Activation, Flatten, Conv2D, MaxPooling2D\n",
    "from keras import regularizers\n",
    "from keras.callbacks import ReduceLROnPlateau\n",
    "from keras.optimizers import Adam\n",
    "import tensorflow as tf\n",
    "\n",
    "pd.set_option('display.max_rows', 2000)\n",
    "pd.set_option('display.max_columns', 500)\n",
    "pd.set_option('display.width', 1000)\n"
   ]
  },
  {
   "cell_type": "code",
   "execution_count": 11,
   "metadata": {},
   "outputs": [
    {
     "name": "stdout",
     "output_type": "stream",
     "text": [
      "/Users/pwalesdinan/Desktop/GA/NBA_Player_Prediction/Notebooks\n"
     ]
    }
   ],
   "source": [
    "cd /Users/pwalesdinan/Desktop/GA/NBA_Player_Prediction/Notebooks/"
   ]
  },
  {
   "cell_type": "code",
   "execution_count": 15,
   "metadata": {},
   "outputs": [],
   "source": [
    "%store -r nba\n",
    "%store -r first_second_seasons_agg"
   ]
  },
  {
   "cell_type": "code",
   "execution_count": 16,
   "metadata": {},
   "outputs": [
    {
     "data": {
      "text/plain": [
       "(621, 41)"
      ]
     },
     "execution_count": 16,
     "metadata": {},
     "output_type": "execute_result"
    }
   ],
   "source": [
    "first_second_seasons_agg.shape"
   ]
  },
  {
   "cell_type": "code",
   "execution_count": 17,
   "metadata": {},
   "outputs": [
    {
     "data": {
      "text/html": [
       "<div>\n",
       "<style scoped>\n",
       "    .dataframe tbody tr th:only-of-type {\n",
       "        vertical-align: middle;\n",
       "    }\n",
       "\n",
       "    .dataframe tbody tr th {\n",
       "        vertical-align: top;\n",
       "    }\n",
       "\n",
       "    .dataframe thead th {\n",
       "        text-align: right;\n",
       "    }\n",
       "</style>\n",
       "<table border=\"1\" class=\"dataframe\">\n",
       "  <thead>\n",
       "    <tr style=\"text-align: right;\">\n",
       "      <th></th>\n",
       "      <th>Player_name</th>\n",
       "      <th>player_id</th>\n",
       "      <th>Tm_x</th>\n",
       "      <th>DRAFT_YEAR+1</th>\n",
       "      <th>Draft_team</th>\n",
       "      <th>Pk</th>\n",
       "      <th>Pos</th>\n",
       "      <th>Age</th>\n",
       "      <th>College</th>\n",
       "      <th>Yrs</th>\n",
       "      <th>draft_round</th>\n",
       "      <th>target</th>\n",
       "      <th>PER</th>\n",
       "      <th>TS%</th>\n",
       "      <th>3PAr</th>\n",
       "      <th>FTr</th>\n",
       "      <th>ORB%</th>\n",
       "      <th>DRB%</th>\n",
       "      <th>TRB%</th>\n",
       "      <th>AST%</th>\n",
       "      <th>STL%</th>\n",
       "      <th>BLK%</th>\n",
       "      <th>TOV%</th>\n",
       "      <th>USG%</th>\n",
       "      <th>WS/48</th>\n",
       "      <th>OBPM</th>\n",
       "      <th>DBPM</th>\n",
       "      <th>BPM</th>\n",
       "      <th>FG%</th>\n",
       "      <th>3P%</th>\n",
       "      <th>FT%</th>\n",
       "      <th>PPG</th>\n",
       "      <th>RPG</th>\n",
       "      <th>APG</th>\n",
       "      <th>G</th>\n",
       "      <th>MP</th>\n",
       "      <th>VORP</th>\n",
       "      <th>PTS</th>\n",
       "      <th>TRB</th>\n",
       "      <th>AST</th>\n",
       "      <th>WS</th>\n",
       "    </tr>\n",
       "  </thead>\n",
       "  <tbody>\n",
       "    <tr>\n",
       "      <th>0</th>\n",
       "      <td>A.J. Hammons</td>\n",
       "      <td>hammoaj01</td>\n",
       "      <td>DAL</td>\n",
       "      <td>2017.0</td>\n",
       "      <td>DAL</td>\n",
       "      <td>46.0</td>\n",
       "      <td>C</td>\n",
       "      <td>24</td>\n",
       "      <td>Purdue University</td>\n",
       "      <td>1.0</td>\n",
       "      <td>2.0</td>\n",
       "      <td>0</td>\n",
       "      <td>8.4</td>\n",
       "      <td>0.472</td>\n",
       "      <td>0.238</td>\n",
       "      <td>0.476</td>\n",
       "      <td>5.4</td>\n",
       "      <td>21.0</td>\n",
       "      <td>12.8</td>\n",
       "      <td>3.8</td>\n",
       "      <td>0.3</td>\n",
       "      <td>7.2</td>\n",
       "      <td>16.4</td>\n",
       "      <td>17.6</td>\n",
       "      <td>-0.001</td>\n",
       "      <td>-7.5</td>\n",
       "      <td>2.0</td>\n",
       "      <td>-5.6</td>\n",
       "      <td>0.405</td>\n",
       "      <td>0.500</td>\n",
       "      <td>0.450</td>\n",
       "      <td>2.2</td>\n",
       "      <td>1.6</td>\n",
       "      <td>0.2</td>\n",
       "      <td>22</td>\n",
       "      <td>163</td>\n",
       "      <td>-0.1</td>\n",
       "      <td>48.0</td>\n",
       "      <td>36.0</td>\n",
       "      <td>4.0</td>\n",
       "      <td>0.0</td>\n",
       "    </tr>\n",
       "    <tr>\n",
       "      <th>6</th>\n",
       "      <td>Abdel Nader</td>\n",
       "      <td>naderab01</td>\n",
       "      <td>BOS</td>\n",
       "      <td>2017.0</td>\n",
       "      <td>BOS</td>\n",
       "      <td>58.0</td>\n",
       "      <td>SF</td>\n",
       "      <td>24</td>\n",
       "      <td>Iowa State University</td>\n",
       "      <td>2.0</td>\n",
       "      <td>2.0</td>\n",
       "      <td>0</td>\n",
       "      <td>5.1</td>\n",
       "      <td>0.439</td>\n",
       "      <td>0.436</td>\n",
       "      <td>0.262</td>\n",
       "      <td>2.8</td>\n",
       "      <td>12.0</td>\n",
       "      <td>7.4</td>\n",
       "      <td>7.1</td>\n",
       "      <td>1.4</td>\n",
       "      <td>1.6</td>\n",
       "      <td>17.0</td>\n",
       "      <td>17.1</td>\n",
       "      <td>-0.014</td>\n",
       "      <td>-5.9</td>\n",
       "      <td>0.3</td>\n",
       "      <td>-5.6</td>\n",
       "      <td>0.387</td>\n",
       "      <td>0.333</td>\n",
       "      <td>0.667</td>\n",
       "      <td>3.6</td>\n",
       "      <td>1.7</td>\n",
       "      <td>0.4</td>\n",
       "      <td>48</td>\n",
       "      <td>522</td>\n",
       "      <td>-0.5</td>\n",
       "      <td>387.0</td>\n",
       "      <td>187.0</td>\n",
       "      <td>46.0</td>\n",
       "      <td>-0.1</td>\n",
       "    </tr>\n",
       "    <tr>\n",
       "      <th>15</th>\n",
       "      <td>Alec Peters</td>\n",
       "      <td>peteral01</td>\n",
       "      <td>PHO</td>\n",
       "      <td>2018.0</td>\n",
       "      <td>PHO</td>\n",
       "      <td>54.0</td>\n",
       "      <td>PF</td>\n",
       "      <td>22</td>\n",
       "      <td>Valparaiso University</td>\n",
       "      <td>1.0</td>\n",
       "      <td>2.0</td>\n",
       "      <td>0</td>\n",
       "      <td>10.7</td>\n",
       "      <td>0.523</td>\n",
       "      <td>0.784</td>\n",
       "      <td>0.135</td>\n",
       "      <td>3.7</td>\n",
       "      <td>14.0</td>\n",
       "      <td>8.8</td>\n",
       "      <td>7.9</td>\n",
       "      <td>0.4</td>\n",
       "      <td>0.7</td>\n",
       "      <td>4.9</td>\n",
       "      <td>15.5</td>\n",
       "      <td>0.055</td>\n",
       "      <td>-0.2</td>\n",
       "      <td>-3.1</td>\n",
       "      <td>-3.3</td>\n",
       "      <td>0.378</td>\n",
       "      <td>0.310</td>\n",
       "      <td>0.800</td>\n",
       "      <td>4.1</td>\n",
       "      <td>1.9</td>\n",
       "      <td>0.6</td>\n",
       "      <td>20</td>\n",
       "      <td>225</td>\n",
       "      <td>-0.1</td>\n",
       "      <td>82.0</td>\n",
       "      <td>37.0</td>\n",
       "      <td>12.0</td>\n",
       "      <td>0.3</td>\n",
       "    </tr>\n",
       "  </tbody>\n",
       "</table>\n",
       "</div>"
      ],
      "text/plain": [
       "     Player_name  player_id Tm_x  DRAFT_YEAR+1 Draft_team    Pk Pos  Age                College  Yrs  draft_round  target   PER    TS%   3PAr    FTr  ORB%  DRB%  TRB%  AST%  STL%  BLK%  TOV%  USG%  WS/48  OBPM  DBPM  BPM    FG%    3P%    FT%  PPG  RPG  APG   G   MP  VORP    PTS    TRB   AST   WS\n",
       "0   A.J. Hammons  hammoaj01  DAL        2017.0        DAL  46.0   C   24      Purdue University  1.0          2.0       0   8.4  0.472  0.238  0.476   5.4  21.0  12.8   3.8   0.3   7.2  16.4  17.6 -0.001  -7.5   2.0 -5.6  0.405  0.500  0.450  2.2  1.6  0.2  22  163  -0.1   48.0   36.0   4.0  0.0\n",
       "6    Abdel Nader  naderab01  BOS        2017.0        BOS  58.0  SF   24  Iowa State University  2.0          2.0       0   5.1  0.439  0.436  0.262   2.8  12.0   7.4   7.1   1.4   1.6  17.0  17.1 -0.014  -5.9   0.3 -5.6  0.387  0.333  0.667  3.6  1.7  0.4  48  522  -0.5  387.0  187.0  46.0 -0.1\n",
       "15   Alec Peters  peteral01  PHO        2018.0        PHO  54.0  PF   22  Valparaiso University  1.0          2.0       0  10.7  0.523  0.784  0.135   3.7  14.0   8.8   7.9   0.4   0.7   4.9  15.5  0.055  -0.2  -3.1 -3.3  0.378  0.310  0.800  4.1  1.9  0.6  20  225  -0.1   82.0   37.0  12.0  0.3"
      ]
     },
     "execution_count": 17,
     "metadata": {},
     "output_type": "execute_result"
    }
   ],
   "source": [
    "# Creating a data set to do future predictions that can't be completely tested\n",
    "test_master_agg = first_second_seasons_agg.loc[(first_second_seasons_agg['DRAFT_YEAR+1'] == 2017) | (first_second_seasons_agg['DRAFT_YEAR+1'] == 2018) | (first_second_seasons_agg['DRAFT_YEAR+1'] == 2016)]\n",
    "test_master_agg.head(3)"
   ]
  },
  {
   "cell_type": "code",
   "execution_count": 18,
   "metadata": {},
   "outputs": [
    {
     "data": {
      "text/plain": [
       "(475, 41)"
      ]
     },
     "execution_count": 18,
     "metadata": {},
     "output_type": "execute_result"
    }
   ],
   "source": [
    "first_second_seasons_agg_test = first_second_seasons_agg.loc[~first_second_seasons_agg[\"player_id\"].isin(test_master_agg['player_id'])]\n",
    "first_second_seasons_agg_test.sort_values(\"DRAFT_YEAR+1\", ascending=False).shape"
   ]
  },
  {
   "cell_type": "code",
   "execution_count": 19,
   "metadata": {},
   "outputs": [],
   "source": [
    "features = [\n",
    "            'Pk', \n",
    "            'Age', \n",
    "            'G', \n",
    "            'MP', \n",
    "            'TS%', \n",
    "            '3PAr', \n",
    "            'FTr', \n",
    "            'ORB%', \n",
    "            'DRB%', \n",
    "            'TRB%', \n",
    "            'AST%', \n",
    "            'BLK%', \n",
    "            'TOV%', \n",
    "            'USG%', \n",
    "            'WS', \n",
    "            'WS/48', \n",
    "            'OBPM', \n",
    "            'DBPM', \n",
    "            'BPM', \n",
    "            'VORP',\n",
    "            'RPG',\n",
    "            'PPG',\n",
    "            'APG',\n",
    "            'FT%',\n",
    "            '3P%',\n",
    "            'PER'\n",
    "]"
   ]
  },
  {
   "cell_type": "code",
   "execution_count": 20,
   "metadata": {},
   "outputs": [
    {
     "name": "stdout",
     "output_type": "stream",
     "text": [
      "[(0, 579), (1, 579)]\n"
     ]
    },
    {
     "data": {
      "text/plain": [
       "(621, 26)"
      ]
     },
     "execution_count": 20,
     "metadata": {},
     "output_type": "execute_result"
    }
   ],
   "source": [
    "y = first_second_seasons_agg['target'] # Setting y --> our target variable\n",
    "X = first_second_seasons_agg[features] # Creating our X variables based on the features we want to use to predict target\n",
    "ss = StandardScaler() # Instantiate a standard scalar\n",
    "X_sc = ss.fit_transform(X) # Fit and transform our X variable\n",
    "ros = RandomOverSampler(random_state=0) # Instantiate a random oversampler in order to oversample our training set\n",
    "X_resampled, y_resampled = ros.fit_resample(X_sc, y) # Fit that oversampler to our X_sc (scaled) and y data\n",
    "print(sorted(Counter(y_resampled).items())) # Show the balance btw classes\n",
    "# Train, test, split based on our oversampled data\n",
    "X_train, X_test, y_train, y_test = train_test_split(X_resampled, y_resampled, random_state=100, test_size=0.25)\n",
    "X.shape"
   ]
  },
  {
   "cell_type": "code",
   "execution_count": 21,
   "metadata": {},
   "outputs": [],
   "source": [
    "# Instantiating all of our different classification models\n",
    "lr_class = LogisticRegression(penalty='l1', C=40, solver='liblinear')\n",
    "knn_class = KNeighborsClassifier(n_neighbors=3, p=4, leaf_size=10)\n",
    "tree_class = DecisionTreeClassifier(max_features='auto', min_samples_leaf=3, min_samples_split=4, random_state=100)\n",
    "bag_class = BaggingClassifier(bootstrap=False, max_features=8, max_samples=100, n_estimators=100, random_state=100)\n",
    "forest_class = RandomForestClassifier(bootstrap=True, max_leaf_nodes=None, min_samples_leaf=3, min_samples_split=8, n_estimators=9, random_state=100)\n",
    "ada_class = AdaBoostClassifier(learning_rate=0.78, n_estimators=100, random_state=100)\n",
    "svc = SVC(degree=8, C=1, gamma=1, kernel='rbf', random_state=100)\n",
    "grad_class = GradientBoostingClassifier(n_estimators=100, min_samples_leaf=3, min_samples_split=8, max_depth=3)"
   ]
  },
  {
   "cell_type": "code",
   "execution_count": 22,
   "metadata": {},
   "outputs": [],
   "source": [
    "class_models = {\n",
    "            'lr_class': lr_class, \n",
    "            'forest_class': forest_class, \n",
    "            'tree_class': tree_class,\n",
    "            'ada_class': ada_class,            \n",
    "            'knn_class': knn_class, \n",
    "            'bag_class': bag_class, \n",
    "            'svc': svc,\n",
    "            \"grad\": grad_class\n",
    "                } "
   ]
  },
  {
   "cell_type": "code",
   "execution_count": 23,
   "metadata": {},
   "outputs": [
    {
     "name": "stdout",
     "output_type": "stream",
     "text": [
      "(290, 8)\n",
      "(868, 8)\n"
     ]
    }
   ],
   "source": [
    "y_pred_testc = []\n",
    "y_pred_trainc = []\n",
    "\n",
    "for model in class_models.values():\n",
    "    model.fit(X_train, y_train)\n",
    "    y_pred_testc.append(model.predict(X_test))\n",
    "    y_pred_trainc.append(model.predict(X_train))\n",
    "\n",
    "y_pred_testc_df = pd.DataFrame(y_pred_testc, index=class_models.keys()).T\n",
    "y_pred_trainc_df = pd.DataFrame(y_pred_trainc, index=class_models.keys()).T\n",
    "print(y_pred_testc_df.shape)\n",
    "print(y_pred_trainc_df.shape)"
   ]
  },
  {
   "cell_type": "code",
   "execution_count": 24,
   "metadata": {
    "scrolled": true
   },
   "outputs": [
    {
     "data": {
      "text/html": [
       "<div>\n",
       "<style scoped>\n",
       "    .dataframe tbody tr th:only-of-type {\n",
       "        vertical-align: middle;\n",
       "    }\n",
       "\n",
       "    .dataframe tbody tr th {\n",
       "        vertical-align: top;\n",
       "    }\n",
       "\n",
       "    .dataframe thead th {\n",
       "        text-align: right;\n",
       "    }\n",
       "</style>\n",
       "<table border=\"1\" class=\"dataframe\">\n",
       "  <thead>\n",
       "    <tr style=\"text-align: right;\">\n",
       "      <th></th>\n",
       "      <th>train</th>\n",
       "      <th>test</th>\n",
       "      <th>F1-train</th>\n",
       "      <th>F1-test</th>\n",
       "      <th>true_neg</th>\n",
       "      <th>fal_pos</th>\n",
       "      <th>fal_neg</th>\n",
       "      <th>true_po</th>\n",
       "    </tr>\n",
       "  </thead>\n",
       "  <tbody>\n",
       "    <tr>\n",
       "      <th>lr_class</th>\n",
       "      <td>0.918203</td>\n",
       "      <td>0.893103</td>\n",
       "      <td>0.920135</td>\n",
       "      <td>0.888889</td>\n",
       "      <td>135</td>\n",
       "      <td>19</td>\n",
       "      <td>12</td>\n",
       "      <td>124</td>\n",
       "    </tr>\n",
       "    <tr>\n",
       "      <th>forest_class</th>\n",
       "      <td>0.994240</td>\n",
       "      <td>0.975862</td>\n",
       "      <td>0.994388</td>\n",
       "      <td>0.974910</td>\n",
       "      <td>147</td>\n",
       "      <td>7</td>\n",
       "      <td>0</td>\n",
       "      <td>136</td>\n",
       "    </tr>\n",
       "    <tr>\n",
       "      <th>tree_class</th>\n",
       "      <td>0.991935</td>\n",
       "      <td>0.958621</td>\n",
       "      <td>0.992161</td>\n",
       "      <td>0.957746</td>\n",
       "      <td>142</td>\n",
       "      <td>12</td>\n",
       "      <td>0</td>\n",
       "      <td>136</td>\n",
       "    </tr>\n",
       "    <tr>\n",
       "      <th>ada_class</th>\n",
       "      <td>1.000000</td>\n",
       "      <td>0.982759</td>\n",
       "      <td>1.000000</td>\n",
       "      <td>0.981949</td>\n",
       "      <td>149</td>\n",
       "      <td>5</td>\n",
       "      <td>0</td>\n",
       "      <td>136</td>\n",
       "    </tr>\n",
       "    <tr>\n",
       "      <th>knn_class</th>\n",
       "      <td>0.971198</td>\n",
       "      <td>0.944828</td>\n",
       "      <td>0.972558</td>\n",
       "      <td>0.944444</td>\n",
       "      <td>138</td>\n",
       "      <td>16</td>\n",
       "      <td>0</td>\n",
       "      <td>136</td>\n",
       "    </tr>\n",
       "    <tr>\n",
       "      <th>bag_class</th>\n",
       "      <td>0.944700</td>\n",
       "      <td>0.934483</td>\n",
       "      <td>0.948608</td>\n",
       "      <td>0.934708</td>\n",
       "      <td>135</td>\n",
       "      <td>19</td>\n",
       "      <td>0</td>\n",
       "      <td>136</td>\n",
       "    </tr>\n",
       "    <tr>\n",
       "      <th>svc</th>\n",
       "      <td>1.000000</td>\n",
       "      <td>1.000000</td>\n",
       "      <td>1.000000</td>\n",
       "      <td>1.000000</td>\n",
       "      <td>154</td>\n",
       "      <td>0</td>\n",
       "      <td>0</td>\n",
       "      <td>136</td>\n",
       "    </tr>\n",
       "    <tr>\n",
       "      <th>grad</th>\n",
       "      <td>1.000000</td>\n",
       "      <td>0.982759</td>\n",
       "      <td>1.000000</td>\n",
       "      <td>0.981949</td>\n",
       "      <td>149</td>\n",
       "      <td>5</td>\n",
       "      <td>0</td>\n",
       "      <td>136</td>\n",
       "    </tr>\n",
       "  </tbody>\n",
       "</table>\n",
       "</div>"
      ],
      "text/plain": [
       "                 train      test  F1-train   F1-test  true_neg  fal_pos  fal_neg  true_po\n",
       "lr_class      0.918203  0.893103  0.920135  0.888889       135       19       12      124\n",
       "forest_class  0.994240  0.975862  0.994388  0.974910       147        7        0      136\n",
       "tree_class    0.991935  0.958621  0.992161  0.957746       142       12        0      136\n",
       "ada_class     1.000000  0.982759  1.000000  0.981949       149        5        0      136\n",
       "knn_class     0.971198  0.944828  0.972558  0.944444       138       16        0      136\n",
       "bag_class     0.944700  0.934483  0.948608  0.934708       135       19        0      136\n",
       "svc           1.000000  1.000000  1.000000  1.000000       154        0        0      136\n",
       "grad          1.000000  0.982759  1.000000  0.981949       149        5        0      136"
      ]
     },
     "execution_count": 24,
     "metadata": {},
     "output_type": "execute_result"
    }
   ],
   "source": [
    "accuracy = {'train': [], 'test': [], 'F1-train': [], 'F1-test': [], 'true_neg': [], 'fal_pos': [], 'fal_neg': [], 'true_po': []}\n",
    "for model in class_models.values():\n",
    "    accuracy['train'].append(model.score(X_train, y_train))\n",
    "    accuracy['test'].append(model.score(X_test, y_test))\n",
    "for col in y_pred_testc_df:\n",
    "    accuracy['F1-train'].append(f1_score(y_train, y_pred_trainc_df[col]))\n",
    "    accuracy['F1-test'].append(f1_score(y_test, y_pred_testc_df[col]))\n",
    "for col in y_pred_testc_df:\n",
    "    accuracy['true_neg'].append(confusion_matrix(y_test, y_pred_testc_df[col])[0][0])\n",
    "    accuracy['fal_pos'].append(confusion_matrix(y_test, y_pred_testc_df[col])[0][1])\n",
    "    accuracy['fal_neg'].append(confusion_matrix(y_test, y_pred_testc_df[col])[1][0])\n",
    "    accuracy['true_po'].append(confusion_matrix(y_test, y_pred_testc_df[col])[1][1])\n",
    "    \n",
    "accuracy_df = pd.DataFrame(accuracy, index=class_models.keys())\n",
    "accuracy_df"
   ]
  },
  {
   "cell_type": "code",
   "execution_count": 25,
   "metadata": {},
   "outputs": [],
   "source": [
    "master = test_master_agg[features]\n",
    "master_sc = ss.fit_transform(master)\n",
    "predicted_player = pd.DataFrame(index=master.index)\n",
    "predicted_player[['Player_name', 'DRAFT_YEAR+1']] = test_master_agg[['Player_name', 'DRAFT_YEAR+1']]\n",
    "for (model_name, model) in class_models.items():\n",
    "    predicted_player[model_name] = model.predict(master_sc)\n",
    "predicted_player['tot'] = predicted_player['lr_class'] + predicted_player['forest_class'] + predicted_player['tree_class'] + predicted_player['ada_class'] + predicted_player['knn_class'] + predicted_player['bag_class'] + predicted_player['svc'] + predicted_player['grad'] \n",
    "# predicted_player.to_csv('predict_15_16_17_based_on_2nd_yr')"
   ]
  },
  {
   "cell_type": "code",
   "execution_count": 26,
   "metadata": {},
   "outputs": [
    {
     "name": "stdout",
     "output_type": "stream",
     "text": [
      "Stored 'predicted_player' (DataFrame)\n"
     ]
    }
   ],
   "source": [
    "%store predicted_player"
   ]
  },
  {
   "cell_type": "code",
   "execution_count": 27,
   "metadata": {},
   "outputs": [
    {
     "data": {
      "text/html": [
       "<div>\n",
       "<style scoped>\n",
       "    .dataframe tbody tr th:only-of-type {\n",
       "        vertical-align: middle;\n",
       "    }\n",
       "\n",
       "    .dataframe tbody tr th {\n",
       "        vertical-align: top;\n",
       "    }\n",
       "\n",
       "    .dataframe thead th {\n",
       "        text-align: right;\n",
       "    }\n",
       "</style>\n",
       "<table border=\"1\" class=\"dataframe\">\n",
       "  <thead>\n",
       "    <tr style=\"text-align: right;\">\n",
       "      <th></th>\n",
       "      <th>Player_name</th>\n",
       "      <th>DRAFT_YEAR+1</th>\n",
       "      <th>lr_class</th>\n",
       "      <th>forest_class</th>\n",
       "      <th>tree_class</th>\n",
       "      <th>ada_class</th>\n",
       "      <th>knn_class</th>\n",
       "      <th>bag_class</th>\n",
       "      <th>svc</th>\n",
       "      <th>grad</th>\n",
       "      <th>tot</th>\n",
       "    </tr>\n",
       "  </thead>\n",
       "  <tbody>\n",
       "    <tr>\n",
       "      <th>363</th>\n",
       "      <td>Kristaps Porzingis</td>\n",
       "      <td>2016.0</td>\n",
       "      <td>1</td>\n",
       "      <td>1</td>\n",
       "      <td>1</td>\n",
       "      <td>1</td>\n",
       "      <td>1</td>\n",
       "      <td>1</td>\n",
       "      <td>1</td>\n",
       "      <td>1</td>\n",
       "      <td>8</td>\n",
       "    </tr>\n",
       "    <tr>\n",
       "      <th>438</th>\n",
       "      <td>Montrezl Harrell</td>\n",
       "      <td>2016.0</td>\n",
       "      <td>1</td>\n",
       "      <td>1</td>\n",
       "      <td>0</td>\n",
       "      <td>1</td>\n",
       "      <td>1</td>\n",
       "      <td>1</td>\n",
       "      <td>1</td>\n",
       "      <td>1</td>\n",
       "      <td>7</td>\n",
       "    </tr>\n",
       "    <tr>\n",
       "      <th>495</th>\n",
       "      <td>Richaun Holmes</td>\n",
       "      <td>2016.0</td>\n",
       "      <td>0</td>\n",
       "      <td>1</td>\n",
       "      <td>1</td>\n",
       "      <td>1</td>\n",
       "      <td>1</td>\n",
       "      <td>1</td>\n",
       "      <td>1</td>\n",
       "      <td>1</td>\n",
       "      <td>7</td>\n",
       "    </tr>\n",
       "    <tr>\n",
       "      <th>378</th>\n",
       "      <td>Lauri Markkanen</td>\n",
       "      <td>2018.0</td>\n",
       "      <td>1</td>\n",
       "      <td>1</td>\n",
       "      <td>1</td>\n",
       "      <td>1</td>\n",
       "      <td>1</td>\n",
       "      <td>1</td>\n",
       "      <td>0</td>\n",
       "      <td>1</td>\n",
       "      <td>7</td>\n",
       "    </tr>\n",
       "    <tr>\n",
       "      <th>156</th>\n",
       "      <td>Domantas Sabonis</td>\n",
       "      <td>2017.0</td>\n",
       "      <td>0</td>\n",
       "      <td>1</td>\n",
       "      <td>0</td>\n",
       "      <td>1</td>\n",
       "      <td>1</td>\n",
       "      <td>1</td>\n",
       "      <td>1</td>\n",
       "      <td>1</td>\n",
       "      <td>6</td>\n",
       "    </tr>\n",
       "    <tr>\n",
       "      <th>147</th>\n",
       "      <td>Devin Booker</td>\n",
       "      <td>2016.0</td>\n",
       "      <td>1</td>\n",
       "      <td>1</td>\n",
       "      <td>0</td>\n",
       "      <td>0</td>\n",
       "      <td>1</td>\n",
       "      <td>1</td>\n",
       "      <td>1</td>\n",
       "      <td>1</td>\n",
       "      <td>6</td>\n",
       "    </tr>\n",
       "    <tr>\n",
       "      <th>43</th>\n",
       "      <td>Ben Simmons</td>\n",
       "      <td>2017.0</td>\n",
       "      <td>1</td>\n",
       "      <td>1</td>\n",
       "      <td>0</td>\n",
       "      <td>1</td>\n",
       "      <td>1</td>\n",
       "      <td>1</td>\n",
       "      <td>0</td>\n",
       "      <td>1</td>\n",
       "      <td>6</td>\n",
       "    </tr>\n",
       "    <tr>\n",
       "      <th>265</th>\n",
       "      <td>Jarrett Allen</td>\n",
       "      <td>2018.0</td>\n",
       "      <td>1</td>\n",
       "      <td>1</td>\n",
       "      <td>0</td>\n",
       "      <td>1</td>\n",
       "      <td>1</td>\n",
       "      <td>1</td>\n",
       "      <td>0</td>\n",
       "      <td>1</td>\n",
       "      <td>6</td>\n",
       "    </tr>\n",
       "    <tr>\n",
       "      <th>271</th>\n",
       "      <td>Jayson Tatum</td>\n",
       "      <td>2018.0</td>\n",
       "      <td>0</td>\n",
       "      <td>1</td>\n",
       "      <td>1</td>\n",
       "      <td>1</td>\n",
       "      <td>0</td>\n",
       "      <td>1</td>\n",
       "      <td>0</td>\n",
       "      <td>1</td>\n",
       "      <td>5</td>\n",
       "    </tr>\n",
       "    <tr>\n",
       "      <th>442</th>\n",
       "      <td>Myles Turner</td>\n",
       "      <td>2016.0</td>\n",
       "      <td>1</td>\n",
       "      <td>1</td>\n",
       "      <td>0</td>\n",
       "      <td>1</td>\n",
       "      <td>0</td>\n",
       "      <td>1</td>\n",
       "      <td>0</td>\n",
       "      <td>1</td>\n",
       "      <td>5</td>\n",
       "    </tr>\n",
       "    <tr>\n",
       "      <th>610</th>\n",
       "      <td>Willie Cauley-Stein</td>\n",
       "      <td>2016.0</td>\n",
       "      <td>1</td>\n",
       "      <td>1</td>\n",
       "      <td>1</td>\n",
       "      <td>0</td>\n",
       "      <td>0</td>\n",
       "      <td>1</td>\n",
       "      <td>0</td>\n",
       "      <td>1</td>\n",
       "      <td>5</td>\n",
       "    </tr>\n",
       "    <tr>\n",
       "      <th>365</th>\n",
       "      <td>Kyle Kuzma</td>\n",
       "      <td>2018.0</td>\n",
       "      <td>1</td>\n",
       "      <td>1</td>\n",
       "      <td>1</td>\n",
       "      <td>0</td>\n",
       "      <td>0</td>\n",
       "      <td>1</td>\n",
       "      <td>0</td>\n",
       "      <td>1</td>\n",
       "      <td>5</td>\n",
       "    </tr>\n",
       "    <tr>\n",
       "      <th>94</th>\n",
       "      <td>D'Angelo Russell</td>\n",
       "      <td>2016.0</td>\n",
       "      <td>1</td>\n",
       "      <td>0</td>\n",
       "      <td>0</td>\n",
       "      <td>1</td>\n",
       "      <td>0</td>\n",
       "      <td>1</td>\n",
       "      <td>0</td>\n",
       "      <td>1</td>\n",
       "      <td>4</td>\n",
       "    </tr>\n",
       "    <tr>\n",
       "      <th>468</th>\n",
       "      <td>Pascal Siakam</td>\n",
       "      <td>2017.0</td>\n",
       "      <td>1</td>\n",
       "      <td>0</td>\n",
       "      <td>1</td>\n",
       "      <td>0</td>\n",
       "      <td>1</td>\n",
       "      <td>1</td>\n",
       "      <td>0</td>\n",
       "      <td>0</td>\n",
       "      <td>4</td>\n",
       "    </tr>\n",
       "    <tr>\n",
       "      <th>612</th>\n",
       "      <td>Willy Hernangomez</td>\n",
       "      <td>2016.0</td>\n",
       "      <td>1</td>\n",
       "      <td>0</td>\n",
       "      <td>1</td>\n",
       "      <td>1</td>\n",
       "      <td>0</td>\n",
       "      <td>1</td>\n",
       "      <td>0</td>\n",
       "      <td>0</td>\n",
       "      <td>4</td>\n",
       "    </tr>\n",
       "    <tr>\n",
       "      <th>74</th>\n",
       "      <td>Cheick Diallo</td>\n",
       "      <td>2017.0</td>\n",
       "      <td>1</td>\n",
       "      <td>0</td>\n",
       "      <td>0</td>\n",
       "      <td>1</td>\n",
       "      <td>0</td>\n",
       "      <td>1</td>\n",
       "      <td>0</td>\n",
       "      <td>0</td>\n",
       "      <td>3</td>\n",
       "    </tr>\n",
       "    <tr>\n",
       "      <th>160</th>\n",
       "      <td>Donovan Mitchell</td>\n",
       "      <td>2018.0</td>\n",
       "      <td>1</td>\n",
       "      <td>0</td>\n",
       "      <td>0</td>\n",
       "      <td>0</td>\n",
       "      <td>1</td>\n",
       "      <td>1</td>\n",
       "      <td>0</td>\n",
       "      <td>0</td>\n",
       "      <td>3</td>\n",
       "    </tr>\n",
       "    <tr>\n",
       "      <th>248</th>\n",
       "      <td>Jamal Murray</td>\n",
       "      <td>2017.0</td>\n",
       "      <td>0</td>\n",
       "      <td>0</td>\n",
       "      <td>1</td>\n",
       "      <td>0</td>\n",
       "      <td>1</td>\n",
       "      <td>1</td>\n",
       "      <td>0</td>\n",
       "      <td>0</td>\n",
       "      <td>3</td>\n",
       "    </tr>\n",
       "    <tr>\n",
       "      <th>124</th>\n",
       "      <td>De'Aaron Fox</td>\n",
       "      <td>2018.0</td>\n",
       "      <td>0</td>\n",
       "      <td>1</td>\n",
       "      <td>0</td>\n",
       "      <td>0</td>\n",
       "      <td>0</td>\n",
       "      <td>1</td>\n",
       "      <td>0</td>\n",
       "      <td>1</td>\n",
       "      <td>3</td>\n",
       "    </tr>\n",
       "    <tr>\n",
       "      <th>47</th>\n",
       "      <td>Bobby Portis</td>\n",
       "      <td>2016.0</td>\n",
       "      <td>1</td>\n",
       "      <td>0</td>\n",
       "      <td>0</td>\n",
       "      <td>0</td>\n",
       "      <td>1</td>\n",
       "      <td>0</td>\n",
       "      <td>0</td>\n",
       "      <td>0</td>\n",
       "      <td>2</td>\n",
       "    </tr>\n",
       "    <tr>\n",
       "      <th>66</th>\n",
       "      <td>Caris LeVert</td>\n",
       "      <td>2017.0</td>\n",
       "      <td>0</td>\n",
       "      <td>0</td>\n",
       "      <td>1</td>\n",
       "      <td>0</td>\n",
       "      <td>0</td>\n",
       "      <td>1</td>\n",
       "      <td>0</td>\n",
       "      <td>0</td>\n",
       "      <td>2</td>\n",
       "    </tr>\n",
       "    <tr>\n",
       "      <th>232</th>\n",
       "      <td>Ivan Rabb</td>\n",
       "      <td>2018.0</td>\n",
       "      <td>0</td>\n",
       "      <td>0</td>\n",
       "      <td>1</td>\n",
       "      <td>0</td>\n",
       "      <td>0</td>\n",
       "      <td>1</td>\n",
       "      <td>0</td>\n",
       "      <td>0</td>\n",
       "      <td>2</td>\n",
       "    </tr>\n",
       "    <tr>\n",
       "      <th>29</th>\n",
       "      <td>Ante Žižić</td>\n",
       "      <td>2017.0</td>\n",
       "      <td>1</td>\n",
       "      <td>0</td>\n",
       "      <td>0</td>\n",
       "      <td>0</td>\n",
       "      <td>1</td>\n",
       "      <td>0</td>\n",
       "      <td>0</td>\n",
       "      <td>0</td>\n",
       "      <td>2</td>\n",
       "    </tr>\n",
       "    <tr>\n",
       "      <th>376</th>\n",
       "      <td>Larry Nance</td>\n",
       "      <td>2016.0</td>\n",
       "      <td>0</td>\n",
       "      <td>0</td>\n",
       "      <td>1</td>\n",
       "      <td>0</td>\n",
       "      <td>0</td>\n",
       "      <td>1</td>\n",
       "      <td>0</td>\n",
       "      <td>0</td>\n",
       "      <td>2</td>\n",
       "    </tr>\n",
       "    <tr>\n",
       "      <th>40</th>\n",
       "      <td>Bam Adebayo</td>\n",
       "      <td>2018.0</td>\n",
       "      <td>1</td>\n",
       "      <td>0</td>\n",
       "      <td>0</td>\n",
       "      <td>0</td>\n",
       "      <td>0</td>\n",
       "      <td>1</td>\n",
       "      <td>0</td>\n",
       "      <td>0</td>\n",
       "      <td>2</td>\n",
       "    </tr>\n",
       "    <tr>\n",
       "      <th>243</th>\n",
       "      <td>Jahlil Okafor</td>\n",
       "      <td>2016.0</td>\n",
       "      <td>0</td>\n",
       "      <td>1</td>\n",
       "      <td>0</td>\n",
       "      <td>0</td>\n",
       "      <td>0</td>\n",
       "      <td>1</td>\n",
       "      <td>0</td>\n",
       "      <td>0</td>\n",
       "      <td>2</td>\n",
       "    </tr>\n",
       "    <tr>\n",
       "      <th>362</th>\n",
       "      <td>Kris Dunn</td>\n",
       "      <td>2017.0</td>\n",
       "      <td>0</td>\n",
       "      <td>0</td>\n",
       "      <td>0</td>\n",
       "      <td>0</td>\n",
       "      <td>1</td>\n",
       "      <td>0</td>\n",
       "      <td>0</td>\n",
       "      <td>0</td>\n",
       "      <td>1</td>\n",
       "    </tr>\n",
       "    <tr>\n",
       "      <th>245</th>\n",
       "      <td>Jakob Poeltl</td>\n",
       "      <td>2017.0</td>\n",
       "      <td>0</td>\n",
       "      <td>0</td>\n",
       "      <td>0</td>\n",
       "      <td>0</td>\n",
       "      <td>0</td>\n",
       "      <td>1</td>\n",
       "      <td>0</td>\n",
       "      <td>0</td>\n",
       "      <td>1</td>\n",
       "    </tr>\n",
       "    <tr>\n",
       "      <th>59</th>\n",
       "      <td>Buddy Hield</td>\n",
       "      <td>2017.0</td>\n",
       "      <td>1</td>\n",
       "      <td>0</td>\n",
       "      <td>0</td>\n",
       "      <td>0</td>\n",
       "      <td>0</td>\n",
       "      <td>0</td>\n",
       "      <td>0</td>\n",
       "      <td>0</td>\n",
       "      <td>1</td>\n",
       "    </tr>\n",
       "    <tr>\n",
       "      <th>137</th>\n",
       "      <td>Demetrius Jackson</td>\n",
       "      <td>2017.0</td>\n",
       "      <td>1</td>\n",
       "      <td>0</td>\n",
       "      <td>0</td>\n",
       "      <td>0</td>\n",
       "      <td>0</td>\n",
       "      <td>0</td>\n",
       "      <td>0</td>\n",
       "      <td>0</td>\n",
       "      <td>1</td>\n",
       "    </tr>\n",
       "    <tr>\n",
       "      <th>506</th>\n",
       "      <td>Rondae Hollis-Jefferson</td>\n",
       "      <td>2016.0</td>\n",
       "      <td>0</td>\n",
       "      <td>0</td>\n",
       "      <td>0</td>\n",
       "      <td>0</td>\n",
       "      <td>0</td>\n",
       "      <td>1</td>\n",
       "      <td>0</td>\n",
       "      <td>0</td>\n",
       "      <td>1</td>\n",
       "    </tr>\n",
       "    <tr>\n",
       "      <th>134</th>\n",
       "      <td>Dejounte Murray</td>\n",
       "      <td>2017.0</td>\n",
       "      <td>0</td>\n",
       "      <td>0</td>\n",
       "      <td>0</td>\n",
       "      <td>1</td>\n",
       "      <td>0</td>\n",
       "      <td>0</td>\n",
       "      <td>0</td>\n",
       "      <td>0</td>\n",
       "      <td>1</td>\n",
       "    </tr>\n",
       "    <tr>\n",
       "      <th>311</th>\n",
       "      <td>Jordan Bell</td>\n",
       "      <td>2018.0</td>\n",
       "      <td>1</td>\n",
       "      <td>0</td>\n",
       "      <td>0</td>\n",
       "      <td>0</td>\n",
       "      <td>0</td>\n",
       "      <td>0</td>\n",
       "      <td>0</td>\n",
       "      <td>0</td>\n",
       "      <td>1</td>\n",
       "    </tr>\n",
       "    <tr>\n",
       "      <th>56</th>\n",
       "      <td>Brice Johnson</td>\n",
       "      <td>2017.0</td>\n",
       "      <td>0</td>\n",
       "      <td>0</td>\n",
       "      <td>0</td>\n",
       "      <td>0</td>\n",
       "      <td>1</td>\n",
       "      <td>0</td>\n",
       "      <td>0</td>\n",
       "      <td>0</td>\n",
       "      <td>1</td>\n",
       "    </tr>\n",
       "    <tr>\n",
       "      <th>393</th>\n",
       "      <td>Malcolm Brogdon</td>\n",
       "      <td>2017.0</td>\n",
       "      <td>0</td>\n",
       "      <td>0</td>\n",
       "      <td>0</td>\n",
       "      <td>0</td>\n",
       "      <td>0</td>\n",
       "      <td>0</td>\n",
       "      <td>0</td>\n",
       "      <td>0</td>\n",
       "      <td>0</td>\n",
       "    </tr>\n",
       "    <tr>\n",
       "      <th>339</th>\n",
       "      <td>Kadeem Allen</td>\n",
       "      <td>2018.0</td>\n",
       "      <td>0</td>\n",
       "      <td>0</td>\n",
       "      <td>0</td>\n",
       "      <td>0</td>\n",
       "      <td>0</td>\n",
       "      <td>0</td>\n",
       "      <td>0</td>\n",
       "      <td>0</td>\n",
       "      <td>0</td>\n",
       "    </tr>\n",
       "    <tr>\n",
       "      <th>437</th>\n",
       "      <td>Monte Morris</td>\n",
       "      <td>2018.0</td>\n",
       "      <td>0</td>\n",
       "      <td>0</td>\n",
       "      <td>0</td>\n",
       "      <td>0</td>\n",
       "      <td>0</td>\n",
       "      <td>0</td>\n",
       "      <td>0</td>\n",
       "      <td>0</td>\n",
       "      <td>0</td>\n",
       "    </tr>\n",
       "    <tr>\n",
       "      <th>425</th>\n",
       "      <td>Michael Gbinije</td>\n",
       "      <td>2017.0</td>\n",
       "      <td>0</td>\n",
       "      <td>0</td>\n",
       "      <td>0</td>\n",
       "      <td>0</td>\n",
       "      <td>0</td>\n",
       "      <td>0</td>\n",
       "      <td>0</td>\n",
       "      <td>0</td>\n",
       "      <td>0</td>\n",
       "    </tr>\n",
       "    <tr>\n",
       "      <th>414</th>\n",
       "      <td>Marquese Chriss</td>\n",
       "      <td>2017.0</td>\n",
       "      <td>0</td>\n",
       "      <td>0</td>\n",
       "      <td>0</td>\n",
       "      <td>0</td>\n",
       "      <td>0</td>\n",
       "      <td>0</td>\n",
       "      <td>0</td>\n",
       "      <td>0</td>\n",
       "      <td>0</td>\n",
       "    </tr>\n",
       "    <tr>\n",
       "      <th>354</th>\n",
       "      <td>Kevon Looney</td>\n",
       "      <td>2016.0</td>\n",
       "      <td>0</td>\n",
       "      <td>0</td>\n",
       "      <td>0</td>\n",
       "      <td>0</td>\n",
       "      <td>0</td>\n",
       "      <td>0</td>\n",
       "      <td>0</td>\n",
       "      <td>0</td>\n",
       "      <td>0</td>\n",
       "    </tr>\n",
       "    <tr>\n",
       "      <th>412</th>\n",
       "      <td>Markelle Fultz</td>\n",
       "      <td>2018.0</td>\n",
       "      <td>0</td>\n",
       "      <td>0</td>\n",
       "      <td>0</td>\n",
       "      <td>0</td>\n",
       "      <td>0</td>\n",
       "      <td>0</td>\n",
       "      <td>0</td>\n",
       "      <td>0</td>\n",
       "      <td>0</td>\n",
       "    </tr>\n",
       "    <tr>\n",
       "      <th>410</th>\n",
       "      <td>Mario Hezonja</td>\n",
       "      <td>2016.0</td>\n",
       "      <td>0</td>\n",
       "      <td>0</td>\n",
       "      <td>0</td>\n",
       "      <td>0</td>\n",
       "      <td>0</td>\n",
       "      <td>0</td>\n",
       "      <td>0</td>\n",
       "      <td>0</td>\n",
       "      <td>0</td>\n",
       "    </tr>\n",
       "    <tr>\n",
       "      <th>345</th>\n",
       "      <td>Kelly Oubre</td>\n",
       "      <td>2016.0</td>\n",
       "      <td>0</td>\n",
       "      <td>0</td>\n",
       "      <td>0</td>\n",
       "      <td>0</td>\n",
       "      <td>0</td>\n",
       "      <td>0</td>\n",
       "      <td>0</td>\n",
       "      <td>0</td>\n",
       "      <td>0</td>\n",
       "    </tr>\n",
       "    <tr>\n",
       "      <th>384</th>\n",
       "      <td>Lonzo Ball</td>\n",
       "      <td>2018.0</td>\n",
       "      <td>0</td>\n",
       "      <td>0</td>\n",
       "      <td>0</td>\n",
       "      <td>0</td>\n",
       "      <td>0</td>\n",
       "      <td>0</td>\n",
       "      <td>0</td>\n",
       "      <td>0</td>\n",
       "      <td>0</td>\n",
       "    </tr>\n",
       "    <tr>\n",
       "      <th>391</th>\n",
       "      <td>Luke Kennard</td>\n",
       "      <td>2018.0</td>\n",
       "      <td>0</td>\n",
       "      <td>0</td>\n",
       "      <td>0</td>\n",
       "      <td>0</td>\n",
       "      <td>0</td>\n",
       "      <td>0</td>\n",
       "      <td>0</td>\n",
       "      <td>0</td>\n",
       "      <td>0</td>\n",
       "    </tr>\n",
       "    <tr>\n",
       "      <th>402</th>\n",
       "      <td>Marcus Paige</td>\n",
       "      <td>2017.0</td>\n",
       "      <td>0</td>\n",
       "      <td>0</td>\n",
       "      <td>0</td>\n",
       "      <td>0</td>\n",
       "      <td>0</td>\n",
       "      <td>0</td>\n",
       "      <td>0</td>\n",
       "      <td>0</td>\n",
       "      <td>0</td>\n",
       "    </tr>\n",
       "    <tr>\n",
       "      <th>455</th>\n",
       "      <td>Norman Powell</td>\n",
       "      <td>2016.0</td>\n",
       "      <td>0</td>\n",
       "      <td>0</td>\n",
       "      <td>0</td>\n",
       "      <td>0</td>\n",
       "      <td>0</td>\n",
       "      <td>0</td>\n",
       "      <td>0</td>\n",
       "      <td>0</td>\n",
       "      <td>0</td>\n",
       "    </tr>\n",
       "    <tr>\n",
       "      <th>341</th>\n",
       "      <td>Kay Felder</td>\n",
       "      <td>2017.0</td>\n",
       "      <td>0</td>\n",
       "      <td>0</td>\n",
       "      <td>0</td>\n",
       "      <td>0</td>\n",
       "      <td>0</td>\n",
       "      <td>0</td>\n",
       "      <td>0</td>\n",
       "      <td>0</td>\n",
       "      <td>0</td>\n",
       "    </tr>\n",
       "    <tr>\n",
       "      <th>392</th>\n",
       "      <td>Malachi Richardson</td>\n",
       "      <td>2017.0</td>\n",
       "      <td>0</td>\n",
       "      <td>0</td>\n",
       "      <td>0</td>\n",
       "      <td>0</td>\n",
       "      <td>0</td>\n",
       "      <td>0</td>\n",
       "      <td>0</td>\n",
       "      <td>0</td>\n",
       "      <td>0</td>\n",
       "    </tr>\n",
       "    <tr>\n",
       "      <th>397</th>\n",
       "      <td>Malik Monk</td>\n",
       "      <td>2018.0</td>\n",
       "      <td>0</td>\n",
       "      <td>0</td>\n",
       "      <td>0</td>\n",
       "      <td>0</td>\n",
       "      <td>0</td>\n",
       "      <td>0</td>\n",
       "      <td>0</td>\n",
       "      <td>0</td>\n",
       "      <td>0</td>\n",
       "    </tr>\n",
       "    <tr>\n",
       "      <th>395</th>\n",
       "      <td>Malik Beasley</td>\n",
       "      <td>2017.0</td>\n",
       "      <td>0</td>\n",
       "      <td>0</td>\n",
       "      <td>0</td>\n",
       "      <td>0</td>\n",
       "      <td>0</td>\n",
       "      <td>0</td>\n",
       "      <td>0</td>\n",
       "      <td>0</td>\n",
       "      <td>0</td>\n",
       "    </tr>\n",
       "    <tr>\n",
       "      <th>0</th>\n",
       "      <td>A.J. Hammons</td>\n",
       "      <td>2017.0</td>\n",
       "      <td>0</td>\n",
       "      <td>0</td>\n",
       "      <td>0</td>\n",
       "      <td>0</td>\n",
       "      <td>0</td>\n",
       "      <td>0</td>\n",
       "      <td>0</td>\n",
       "      <td>0</td>\n",
       "      <td>0</td>\n",
       "    </tr>\n",
       "    <tr>\n",
       "      <th>458</th>\n",
       "      <td>OG Anunoby</td>\n",
       "      <td>2018.0</td>\n",
       "      <td>0</td>\n",
       "      <td>0</td>\n",
       "      <td>0</td>\n",
       "      <td>0</td>\n",
       "      <td>0</td>\n",
       "      <td>0</td>\n",
       "      <td>0</td>\n",
       "      <td>0</td>\n",
       "      <td>0</td>\n",
       "    </tr>\n",
       "    <tr>\n",
       "      <th>469</th>\n",
       "      <td>Pat Connaughton</td>\n",
       "      <td>2016.0</td>\n",
       "      <td>0</td>\n",
       "      <td>0</td>\n",
       "      <td>0</td>\n",
       "      <td>0</td>\n",
       "      <td>0</td>\n",
       "      <td>0</td>\n",
       "      <td>0</td>\n",
       "      <td>0</td>\n",
       "      <td>0</td>\n",
       "    </tr>\n",
       "    <tr>\n",
       "      <th>616</th>\n",
       "      <td>Zach Collins</td>\n",
       "      <td>2018.0</td>\n",
       "      <td>0</td>\n",
       "      <td>0</td>\n",
       "      <td>0</td>\n",
       "      <td>0</td>\n",
       "      <td>0</td>\n",
       "      <td>0</td>\n",
       "      <td>0</td>\n",
       "      <td>0</td>\n",
       "      <td>0</td>\n",
       "    </tr>\n",
       "    <tr>\n",
       "      <th>606</th>\n",
       "      <td>Wesley Iwundu</td>\n",
       "      <td>2018.0</td>\n",
       "      <td>0</td>\n",
       "      <td>0</td>\n",
       "      <td>0</td>\n",
       "      <td>0</td>\n",
       "      <td>0</td>\n",
       "      <td>0</td>\n",
       "      <td>0</td>\n",
       "      <td>0</td>\n",
       "      <td>0</td>\n",
       "    </tr>\n",
       "    <tr>\n",
       "      <th>602</th>\n",
       "      <td>Wade Baldwin</td>\n",
       "      <td>2017.0</td>\n",
       "      <td>0</td>\n",
       "      <td>0</td>\n",
       "      <td>0</td>\n",
       "      <td>0</td>\n",
       "      <td>0</td>\n",
       "      <td>0</td>\n",
       "      <td>0</td>\n",
       "      <td>0</td>\n",
       "      <td>0</td>\n",
       "    </tr>\n",
       "    <tr>\n",
       "      <th>598</th>\n",
       "      <td>Tyus Jones</td>\n",
       "      <td>2016.0</td>\n",
       "      <td>0</td>\n",
       "      <td>0</td>\n",
       "      <td>0</td>\n",
       "      <td>0</td>\n",
       "      <td>0</td>\n",
       "      <td>0</td>\n",
       "      <td>0</td>\n",
       "      <td>0</td>\n",
       "      <td>0</td>\n",
       "    </tr>\n",
       "    <tr>\n",
       "      <th>595</th>\n",
       "      <td>Tyrone Wallace</td>\n",
       "      <td>2017.0</td>\n",
       "      <td>0</td>\n",
       "      <td>0</td>\n",
       "      <td>0</td>\n",
       "      <td>0</td>\n",
       "      <td>0</td>\n",
       "      <td>0</td>\n",
       "      <td>0</td>\n",
       "      <td>0</td>\n",
       "      <td>0</td>\n",
       "    </tr>\n",
       "    <tr>\n",
       "      <th>592</th>\n",
       "      <td>Tyler Ulis</td>\n",
       "      <td>2017.0</td>\n",
       "      <td>0</td>\n",
       "      <td>0</td>\n",
       "      <td>0</td>\n",
       "      <td>0</td>\n",
       "      <td>0</td>\n",
       "      <td>0</td>\n",
       "      <td>0</td>\n",
       "      <td>0</td>\n",
       "      <td>0</td>\n",
       "    </tr>\n",
       "    <tr>\n",
       "      <th>591</th>\n",
       "      <td>Tyler Lydon</td>\n",
       "      <td>2018.0</td>\n",
       "      <td>0</td>\n",
       "      <td>0</td>\n",
       "      <td>0</td>\n",
       "      <td>0</td>\n",
       "      <td>0</td>\n",
       "      <td>0</td>\n",
       "      <td>0</td>\n",
       "      <td>0</td>\n",
       "      <td>0</td>\n",
       "    </tr>\n",
       "    <tr>\n",
       "      <th>587</th>\n",
       "      <td>Tyler Dorsey</td>\n",
       "      <td>2018.0</td>\n",
       "      <td>0</td>\n",
       "      <td>0</td>\n",
       "      <td>0</td>\n",
       "      <td>0</td>\n",
       "      <td>0</td>\n",
       "      <td>0</td>\n",
       "      <td>0</td>\n",
       "      <td>0</td>\n",
       "      <td>0</td>\n",
       "    </tr>\n",
       "    <tr>\n",
       "      <th>582</th>\n",
       "      <td>Trey Lyles</td>\n",
       "      <td>2016.0</td>\n",
       "      <td>0</td>\n",
       "      <td>0</td>\n",
       "      <td>0</td>\n",
       "      <td>0</td>\n",
       "      <td>0</td>\n",
       "      <td>0</td>\n",
       "      <td>0</td>\n",
       "      <td>0</td>\n",
       "      <td>0</td>\n",
       "    </tr>\n",
       "    <tr>\n",
       "      <th>573</th>\n",
       "      <td>Tony Bradley</td>\n",
       "      <td>2018.0</td>\n",
       "      <td>0</td>\n",
       "      <td>0</td>\n",
       "      <td>0</td>\n",
       "      <td>0</td>\n",
       "      <td>0</td>\n",
       "      <td>0</td>\n",
       "      <td>0</td>\n",
       "      <td>0</td>\n",
       "      <td>0</td>\n",
       "    </tr>\n",
       "    <tr>\n",
       "      <th>570</th>\n",
       "      <td>Timothe Luwawu-Cabarrot</td>\n",
       "      <td>2017.0</td>\n",
       "      <td>0</td>\n",
       "      <td>0</td>\n",
       "      <td>0</td>\n",
       "      <td>0</td>\n",
       "      <td>0</td>\n",
       "      <td>0</td>\n",
       "      <td>0</td>\n",
       "      <td>0</td>\n",
       "      <td>0</td>\n",
       "    </tr>\n",
       "    <tr>\n",
       "      <th>568</th>\n",
       "      <td>Thon Maker</td>\n",
       "      <td>2017.0</td>\n",
       "      <td>0</td>\n",
       "      <td>0</td>\n",
       "      <td>0</td>\n",
       "      <td>0</td>\n",
       "      <td>0</td>\n",
       "      <td>0</td>\n",
       "      <td>0</td>\n",
       "      <td>0</td>\n",
       "      <td>0</td>\n",
       "    </tr>\n",
       "    <tr>\n",
       "      <th>562</th>\n",
       "      <td>Terry Rozier</td>\n",
       "      <td>2016.0</td>\n",
       "      <td>0</td>\n",
       "      <td>0</td>\n",
       "      <td>0</td>\n",
       "      <td>0</td>\n",
       "      <td>0</td>\n",
       "      <td>0</td>\n",
       "      <td>0</td>\n",
       "      <td>0</td>\n",
       "      <td>0</td>\n",
       "    </tr>\n",
       "    <tr>\n",
       "      <th>558</th>\n",
       "      <td>Terrance Ferguson</td>\n",
       "      <td>2018.0</td>\n",
       "      <td>0</td>\n",
       "      <td>0</td>\n",
       "      <td>0</td>\n",
       "      <td>0</td>\n",
       "      <td>0</td>\n",
       "      <td>0</td>\n",
       "      <td>0</td>\n",
       "      <td>0</td>\n",
       "      <td>0</td>\n",
       "    </tr>\n",
       "    <tr>\n",
       "      <th>556</th>\n",
       "      <td>Taurean Waller-Prince</td>\n",
       "      <td>2017.0</td>\n",
       "      <td>0</td>\n",
       "      <td>0</td>\n",
       "      <td>0</td>\n",
       "      <td>0</td>\n",
       "      <td>0</td>\n",
       "      <td>0</td>\n",
       "      <td>0</td>\n",
       "      <td>0</td>\n",
       "      <td>0</td>\n",
       "    </tr>\n",
       "    <tr>\n",
       "      <th>552</th>\n",
       "      <td>T.J. Leaf</td>\n",
       "      <td>2018.0</td>\n",
       "      <td>0</td>\n",
       "      <td>0</td>\n",
       "      <td>0</td>\n",
       "      <td>0</td>\n",
       "      <td>0</td>\n",
       "      <td>0</td>\n",
       "      <td>0</td>\n",
       "      <td>0</td>\n",
       "      <td>0</td>\n",
       "    </tr>\n",
       "    <tr>\n",
       "      <th>546</th>\n",
       "      <td>Sterling Brown</td>\n",
       "      <td>2018.0</td>\n",
       "      <td>0</td>\n",
       "      <td>0</td>\n",
       "      <td>0</td>\n",
       "      <td>0</td>\n",
       "      <td>0</td>\n",
       "      <td>0</td>\n",
       "      <td>0</td>\n",
       "      <td>0</td>\n",
       "      <td>0</td>\n",
       "    </tr>\n",
       "    <tr>\n",
       "      <th>545</th>\n",
       "      <td>Stephen Zimmerman</td>\n",
       "      <td>2017.0</td>\n",
       "      <td>0</td>\n",
       "      <td>0</td>\n",
       "      <td>0</td>\n",
       "      <td>0</td>\n",
       "      <td>0</td>\n",
       "      <td>0</td>\n",
       "      <td>0</td>\n",
       "      <td>0</td>\n",
       "      <td>0</td>\n",
       "    </tr>\n",
       "    <tr>\n",
       "      <th>543</th>\n",
       "      <td>Stanley Johnson</td>\n",
       "      <td>2016.0</td>\n",
       "      <td>0</td>\n",
       "      <td>0</td>\n",
       "      <td>0</td>\n",
       "      <td>0</td>\n",
       "      <td>0</td>\n",
       "      <td>0</td>\n",
       "      <td>0</td>\n",
       "      <td>0</td>\n",
       "      <td>0</td>\n",
       "    </tr>\n",
       "    <tr>\n",
       "      <th>536</th>\n",
       "      <td>Skal Labissiere</td>\n",
       "      <td>2017.0</td>\n",
       "      <td>0</td>\n",
       "      <td>0</td>\n",
       "      <td>0</td>\n",
       "      <td>0</td>\n",
       "      <td>0</td>\n",
       "      <td>0</td>\n",
       "      <td>0</td>\n",
       "      <td>0</td>\n",
       "      <td>0</td>\n",
       "    </tr>\n",
       "    <tr>\n",
       "      <th>535</th>\n",
       "      <td>Sindarius Thornwell</td>\n",
       "      <td>2018.0</td>\n",
       "      <td>0</td>\n",
       "      <td>0</td>\n",
       "      <td>0</td>\n",
       "      <td>0</td>\n",
       "      <td>0</td>\n",
       "      <td>0</td>\n",
       "      <td>0</td>\n",
       "      <td>0</td>\n",
       "      <td>0</td>\n",
       "    </tr>\n",
       "    <tr>\n",
       "      <th>522</th>\n",
       "      <td>Semi Ojeleye</td>\n",
       "      <td>2018.0</td>\n",
       "      <td>0</td>\n",
       "      <td>0</td>\n",
       "      <td>0</td>\n",
       "      <td>0</td>\n",
       "      <td>0</td>\n",
       "      <td>0</td>\n",
       "      <td>0</td>\n",
       "      <td>0</td>\n",
       "      <td>0</td>\n",
       "    </tr>\n",
       "    <tr>\n",
       "      <th>518</th>\n",
       "      <td>Sam Dekker</td>\n",
       "      <td>2016.0</td>\n",
       "      <td>0</td>\n",
       "      <td>0</td>\n",
       "      <td>0</td>\n",
       "      <td>0</td>\n",
       "      <td>0</td>\n",
       "      <td>0</td>\n",
       "      <td>0</td>\n",
       "      <td>0</td>\n",
       "      <td>0</td>\n",
       "    </tr>\n",
       "    <tr>\n",
       "      <th>335</th>\n",
       "      <td>Justin Patton</td>\n",
       "      <td>2018.0</td>\n",
       "      <td>0</td>\n",
       "      <td>0</td>\n",
       "      <td>0</td>\n",
       "      <td>0</td>\n",
       "      <td>0</td>\n",
       "      <td>0</td>\n",
       "      <td>0</td>\n",
       "      <td>0</td>\n",
       "      <td>0</td>\n",
       "    </tr>\n",
       "    <tr>\n",
       "      <th>489</th>\n",
       "      <td>Rashad Vaughn</td>\n",
       "      <td>2016.0</td>\n",
       "      <td>0</td>\n",
       "      <td>0</td>\n",
       "      <td>0</td>\n",
       "      <td>0</td>\n",
       "      <td>0</td>\n",
       "      <td>0</td>\n",
       "      <td>0</td>\n",
       "      <td>0</td>\n",
       "      <td>0</td>\n",
       "    </tr>\n",
       "    <tr>\n",
       "      <th>486</th>\n",
       "      <td>Rakeem Christmas</td>\n",
       "      <td>2016.0</td>\n",
       "      <td>0</td>\n",
       "      <td>0</td>\n",
       "      <td>0</td>\n",
       "      <td>0</td>\n",
       "      <td>0</td>\n",
       "      <td>0</td>\n",
       "      <td>0</td>\n",
       "      <td>0</td>\n",
       "      <td>0</td>\n",
       "    </tr>\n",
       "    <tr>\n",
       "      <th>484</th>\n",
       "      <td>R.J. Hunter</td>\n",
       "      <td>2016.0</td>\n",
       "      <td>0</td>\n",
       "      <td>0</td>\n",
       "      <td>0</td>\n",
       "      <td>0</td>\n",
       "      <td>0</td>\n",
       "      <td>0</td>\n",
       "      <td>0</td>\n",
       "      <td>0</td>\n",
       "      <td>0</td>\n",
       "    </tr>\n",
       "    <tr>\n",
       "      <th>477</th>\n",
       "      <td>Paul Zipser</td>\n",
       "      <td>2017.0</td>\n",
       "      <td>0</td>\n",
       "      <td>0</td>\n",
       "      <td>0</td>\n",
       "      <td>0</td>\n",
       "      <td>0</td>\n",
       "      <td>0</td>\n",
       "      <td>0</td>\n",
       "      <td>0</td>\n",
       "      <td>0</td>\n",
       "    </tr>\n",
       "    <tr>\n",
       "      <th>470</th>\n",
       "      <td>Patrick McCaw</td>\n",
       "      <td>2017.0</td>\n",
       "      <td>0</td>\n",
       "      <td>0</td>\n",
       "      <td>0</td>\n",
       "      <td>0</td>\n",
       "      <td>0</td>\n",
       "      <td>0</td>\n",
       "      <td>0</td>\n",
       "      <td>0</td>\n",
       "      <td>0</td>\n",
       "    </tr>\n",
       "    <tr>\n",
       "      <th>336</th>\n",
       "      <td>Justise Winslow</td>\n",
       "      <td>2016.0</td>\n",
       "      <td>0</td>\n",
       "      <td>0</td>\n",
       "      <td>0</td>\n",
       "      <td>0</td>\n",
       "      <td>0</td>\n",
       "      <td>0</td>\n",
       "      <td>0</td>\n",
       "      <td>0</td>\n",
       "      <td>0</td>\n",
       "    </tr>\n",
       "    <tr>\n",
       "      <th>296</th>\n",
       "      <td>Joel Bolomboy</td>\n",
       "      <td>2017.0</td>\n",
       "      <td>0</td>\n",
       "      <td>0</td>\n",
       "      <td>0</td>\n",
       "      <td>0</td>\n",
       "      <td>0</td>\n",
       "      <td>0</td>\n",
       "      <td>0</td>\n",
       "      <td>0</td>\n",
       "      <td>0</td>\n",
       "    </tr>\n",
       "    <tr>\n",
       "      <th>334</th>\n",
       "      <td>Justin Jackson</td>\n",
       "      <td>2018.0</td>\n",
       "      <td>0</td>\n",
       "      <td>0</td>\n",
       "      <td>0</td>\n",
       "      <td>0</td>\n",
       "      <td>0</td>\n",
       "      <td>0</td>\n",
       "      <td>0</td>\n",
       "      <td>0</td>\n",
       "      <td>0</td>\n",
       "    </tr>\n",
       "    <tr>\n",
       "      <th>189</th>\n",
       "      <td>Frank Jackson</td>\n",
       "      <td>2018.0</td>\n",
       "      <td>0</td>\n",
       "      <td>0</td>\n",
       "      <td>0</td>\n",
       "      <td>0</td>\n",
       "      <td>0</td>\n",
       "      <td>0</td>\n",
       "      <td>0</td>\n",
       "      <td>0</td>\n",
       "      <td>0</td>\n",
       "    </tr>\n",
       "    <tr>\n",
       "      <th>173</th>\n",
       "      <td>Edmond Sumner</td>\n",
       "      <td>2018.0</td>\n",
       "      <td>0</td>\n",
       "      <td>0</td>\n",
       "      <td>0</td>\n",
       "      <td>0</td>\n",
       "      <td>0</td>\n",
       "      <td>0</td>\n",
       "      <td>0</td>\n",
       "      <td>0</td>\n",
       "      <td>0</td>\n",
       "    </tr>\n",
       "    <tr>\n",
       "      <th>167</th>\n",
       "      <td>Dwayne Bacon</td>\n",
       "      <td>2018.0</td>\n",
       "      <td>0</td>\n",
       "      <td>0</td>\n",
       "      <td>0</td>\n",
       "      <td>0</td>\n",
       "      <td>0</td>\n",
       "      <td>0</td>\n",
       "      <td>0</td>\n",
       "      <td>0</td>\n",
       "      <td>0</td>\n",
       "    </tr>\n",
       "    <tr>\n",
       "      <th>165</th>\n",
       "      <td>Dragan Bender</td>\n",
       "      <td>2017.0</td>\n",
       "      <td>0</td>\n",
       "      <td>0</td>\n",
       "      <td>0</td>\n",
       "      <td>0</td>\n",
       "      <td>0</td>\n",
       "      <td>0</td>\n",
       "      <td>0</td>\n",
       "      <td>0</td>\n",
       "      <td>0</td>\n",
       "    </tr>\n",
       "    <tr>\n",
       "      <th>154</th>\n",
       "      <td>Dillon Brooks</td>\n",
       "      <td>2018.0</td>\n",
       "      <td>0</td>\n",
       "      <td>0</td>\n",
       "      <td>0</td>\n",
       "      <td>0</td>\n",
       "      <td>0</td>\n",
       "      <td>0</td>\n",
       "      <td>0</td>\n",
       "      <td>0</td>\n",
       "      <td>0</td>\n",
       "    </tr>\n",
       "    <tr>\n",
       "      <th>153</th>\n",
       "      <td>Diamond Stone</td>\n",
       "      <td>2017.0</td>\n",
       "      <td>0</td>\n",
       "      <td>0</td>\n",
       "      <td>0</td>\n",
       "      <td>0</td>\n",
       "      <td>0</td>\n",
       "      <td>0</td>\n",
       "      <td>0</td>\n",
       "      <td>0</td>\n",
       "      <td>0</td>\n",
       "    </tr>\n",
       "    <tr>\n",
       "      <th>152</th>\n",
       "      <td>Deyonta Davis</td>\n",
       "      <td>2017.0</td>\n",
       "      <td>0</td>\n",
       "      <td>0</td>\n",
       "      <td>0</td>\n",
       "      <td>0</td>\n",
       "      <td>0</td>\n",
       "      <td>0</td>\n",
       "      <td>0</td>\n",
       "      <td>0</td>\n",
       "      <td>0</td>\n",
       "    </tr>\n",
       "    <tr>\n",
       "      <th>145</th>\n",
       "      <td>Derrick White</td>\n",
       "      <td>2018.0</td>\n",
       "      <td>0</td>\n",
       "      <td>0</td>\n",
       "      <td>0</td>\n",
       "      <td>0</td>\n",
       "      <td>0</td>\n",
       "      <td>0</td>\n",
       "      <td>0</td>\n",
       "      <td>0</td>\n",
       "      <td>0</td>\n",
       "    </tr>\n",
       "    <tr>\n",
       "      <th>140</th>\n",
       "      <td>Denzel Valentine</td>\n",
       "      <td>2017.0</td>\n",
       "      <td>0</td>\n",
       "      <td>0</td>\n",
       "      <td>0</td>\n",
       "      <td>0</td>\n",
       "      <td>0</td>\n",
       "      <td>0</td>\n",
       "      <td>0</td>\n",
       "      <td>0</td>\n",
       "      <td>0</td>\n",
       "    </tr>\n",
       "    <tr>\n",
       "      <th>139</th>\n",
       "      <td>Dennis Smith</td>\n",
       "      <td>2018.0</td>\n",
       "      <td>0</td>\n",
       "      <td>0</td>\n",
       "      <td>0</td>\n",
       "      <td>0</td>\n",
       "      <td>0</td>\n",
       "      <td>0</td>\n",
       "      <td>0</td>\n",
       "      <td>0</td>\n",
       "      <td>0</td>\n",
       "    </tr>\n",
       "    <tr>\n",
       "      <th>135</th>\n",
       "      <td>Delon Wright</td>\n",
       "      <td>2016.0</td>\n",
       "      <td>0</td>\n",
       "      <td>0</td>\n",
       "      <td>0</td>\n",
       "      <td>0</td>\n",
       "      <td>0</td>\n",
       "      <td>0</td>\n",
       "      <td>0</td>\n",
       "      <td>0</td>\n",
       "      <td>0</td>\n",
       "    </tr>\n",
       "    <tr>\n",
       "      <th>128</th>\n",
       "      <td>DeAndre' Bembry</td>\n",
       "      <td>2017.0</td>\n",
       "      <td>0</td>\n",
       "      <td>0</td>\n",
       "      <td>0</td>\n",
       "      <td>0</td>\n",
       "      <td>0</td>\n",
       "      <td>0</td>\n",
       "      <td>0</td>\n",
       "      <td>0</td>\n",
       "      <td>0</td>\n",
       "    </tr>\n",
       "    <tr>\n",
       "      <th>123</th>\n",
       "      <td>Davon Reed</td>\n",
       "      <td>2018.0</td>\n",
       "      <td>0</td>\n",
       "      <td>0</td>\n",
       "      <td>0</td>\n",
       "      <td>0</td>\n",
       "      <td>0</td>\n",
       "      <td>0</td>\n",
       "      <td>0</td>\n",
       "      <td>0</td>\n",
       "      <td>0</td>\n",
       "    </tr>\n",
       "    <tr>\n",
       "      <th>121</th>\n",
       "      <td>Darrun Hilliard</td>\n",
       "      <td>2016.0</td>\n",
       "      <td>0</td>\n",
       "      <td>0</td>\n",
       "      <td>0</td>\n",
       "      <td>0</td>\n",
       "      <td>0</td>\n",
       "      <td>0</td>\n",
       "      <td>0</td>\n",
       "      <td>0</td>\n",
       "      <td>0</td>\n",
       "    </tr>\n",
       "    <tr>\n",
       "      <th>108</th>\n",
       "      <td>Daniel Hamilton</td>\n",
       "      <td>2017.0</td>\n",
       "      <td>0</td>\n",
       "      <td>0</td>\n",
       "      <td>0</td>\n",
       "      <td>0</td>\n",
       "      <td>0</td>\n",
       "      <td>0</td>\n",
       "      <td>0</td>\n",
       "      <td>0</td>\n",
       "      <td>0</td>\n",
       "    </tr>\n",
       "    <tr>\n",
       "      <th>106</th>\n",
       "      <td>Damyean Dotson</td>\n",
       "      <td>2018.0</td>\n",
       "      <td>0</td>\n",
       "      <td>0</td>\n",
       "      <td>0</td>\n",
       "      <td>0</td>\n",
       "      <td>0</td>\n",
       "      <td>0</td>\n",
       "      <td>0</td>\n",
       "      <td>0</td>\n",
       "      <td>0</td>\n",
       "    </tr>\n",
       "    <tr>\n",
       "      <th>101</th>\n",
       "      <td>Damian Jones</td>\n",
       "      <td>2017.0</td>\n",
       "      <td>0</td>\n",
       "      <td>0</td>\n",
       "      <td>0</td>\n",
       "      <td>0</td>\n",
       "      <td>0</td>\n",
       "      <td>0</td>\n",
       "      <td>0</td>\n",
       "      <td>0</td>\n",
       "      <td>0</td>\n",
       "    </tr>\n",
       "    <tr>\n",
       "      <th>98</th>\n",
       "      <td>D.J. Wilson</td>\n",
       "      <td>2018.0</td>\n",
       "      <td>0</td>\n",
       "      <td>0</td>\n",
       "      <td>0</td>\n",
       "      <td>0</td>\n",
       "      <td>0</td>\n",
       "      <td>0</td>\n",
       "      <td>0</td>\n",
       "      <td>0</td>\n",
       "      <td>0</td>\n",
       "    </tr>\n",
       "    <tr>\n",
       "      <th>79</th>\n",
       "      <td>Chris McCullough</td>\n",
       "      <td>2016.0</td>\n",
       "      <td>0</td>\n",
       "      <td>0</td>\n",
       "      <td>0</td>\n",
       "      <td>0</td>\n",
       "      <td>0</td>\n",
       "      <td>0</td>\n",
       "      <td>0</td>\n",
       "      <td>0</td>\n",
       "      <td>0</td>\n",
       "    </tr>\n",
       "    <tr>\n",
       "      <th>77</th>\n",
       "      <td>Chinanu Onuaku</td>\n",
       "      <td>2017.0</td>\n",
       "      <td>0</td>\n",
       "      <td>0</td>\n",
       "      <td>0</td>\n",
       "      <td>0</td>\n",
       "      <td>0</td>\n",
       "      <td>0</td>\n",
       "      <td>0</td>\n",
       "      <td>0</td>\n",
       "      <td>0</td>\n",
       "    </tr>\n",
       "    <tr>\n",
       "      <th>65</th>\n",
       "      <td>Cameron Payne</td>\n",
       "      <td>2016.0</td>\n",
       "      <td>0</td>\n",
       "      <td>0</td>\n",
       "      <td>0</td>\n",
       "      <td>0</td>\n",
       "      <td>0</td>\n",
       "      <td>0</td>\n",
       "      <td>0</td>\n",
       "      <td>0</td>\n",
       "      <td>0</td>\n",
       "    </tr>\n",
       "    <tr>\n",
       "      <th>63</th>\n",
       "      <td>Caleb Swanigan</td>\n",
       "      <td>2018.0</td>\n",
       "      <td>0</td>\n",
       "      <td>0</td>\n",
       "      <td>0</td>\n",
       "      <td>0</td>\n",
       "      <td>0</td>\n",
       "      <td>0</td>\n",
       "      <td>0</td>\n",
       "      <td>0</td>\n",
       "      <td>0</td>\n",
       "    </tr>\n",
       "    <tr>\n",
       "      <th>51</th>\n",
       "      <td>Brandon Ingram</td>\n",
       "      <td>2017.0</td>\n",
       "      <td>0</td>\n",
       "      <td>0</td>\n",
       "      <td>0</td>\n",
       "      <td>0</td>\n",
       "      <td>0</td>\n",
       "      <td>0</td>\n",
       "      <td>0</td>\n",
       "      <td>0</td>\n",
       "      <td>0</td>\n",
       "    </tr>\n",
       "    <tr>\n",
       "      <th>50</th>\n",
       "      <td>Branden Dawson</td>\n",
       "      <td>2016.0</td>\n",
       "      <td>0</td>\n",
       "      <td>0</td>\n",
       "      <td>0</td>\n",
       "      <td>0</td>\n",
       "      <td>0</td>\n",
       "      <td>0</td>\n",
       "      <td>0</td>\n",
       "      <td>0</td>\n",
       "      <td>0</td>\n",
       "    </tr>\n",
       "    <tr>\n",
       "      <th>41</th>\n",
       "      <td>Ben Bentil</td>\n",
       "      <td>2017.0</td>\n",
       "      <td>0</td>\n",
       "      <td>0</td>\n",
       "      <td>0</td>\n",
       "      <td>0</td>\n",
       "      <td>0</td>\n",
       "      <td>0</td>\n",
       "      <td>0</td>\n",
       "      <td>0</td>\n",
       "      <td>0</td>\n",
       "    </tr>\n",
       "    <tr>\n",
       "      <th>31</th>\n",
       "      <td>Anthony Brown</td>\n",
       "      <td>2016.0</td>\n",
       "      <td>0</td>\n",
       "      <td>0</td>\n",
       "      <td>0</td>\n",
       "      <td>0</td>\n",
       "      <td>0</td>\n",
       "      <td>0</td>\n",
       "      <td>0</td>\n",
       "      <td>0</td>\n",
       "      <td>0</td>\n",
       "    </tr>\n",
       "    <tr>\n",
       "      <th>24</th>\n",
       "      <td>Andrew Harrison</td>\n",
       "      <td>2016.0</td>\n",
       "      <td>0</td>\n",
       "      <td>0</td>\n",
       "      <td>0</td>\n",
       "      <td>0</td>\n",
       "      <td>0</td>\n",
       "      <td>0</td>\n",
       "      <td>0</td>\n",
       "      <td>0</td>\n",
       "      <td>0</td>\n",
       "    </tr>\n",
       "    <tr>\n",
       "      <th>15</th>\n",
       "      <td>Alec Peters</td>\n",
       "      <td>2018.0</td>\n",
       "      <td>0</td>\n",
       "      <td>0</td>\n",
       "      <td>0</td>\n",
       "      <td>0</td>\n",
       "      <td>0</td>\n",
       "      <td>0</td>\n",
       "      <td>0</td>\n",
       "      <td>0</td>\n",
       "      <td>0</td>\n",
       "    </tr>\n",
       "    <tr>\n",
       "      <th>178</th>\n",
       "      <td>Emmanuel Mudiay</td>\n",
       "      <td>2016.0</td>\n",
       "      <td>0</td>\n",
       "      <td>0</td>\n",
       "      <td>0</td>\n",
       "      <td>0</td>\n",
       "      <td>0</td>\n",
       "      <td>0</td>\n",
       "      <td>0</td>\n",
       "      <td>0</td>\n",
       "      <td>0</td>\n",
       "    </tr>\n",
       "    <tr>\n",
       "      <th>190</th>\n",
       "      <td>Frank Kaminsky</td>\n",
       "      <td>2016.0</td>\n",
       "      <td>0</td>\n",
       "      <td>0</td>\n",
       "      <td>0</td>\n",
       "      <td>0</td>\n",
       "      <td>0</td>\n",
       "      <td>0</td>\n",
       "      <td>0</td>\n",
       "      <td>0</td>\n",
       "      <td>0</td>\n",
       "    </tr>\n",
       "    <tr>\n",
       "      <th>332</th>\n",
       "      <td>Justin Anderson</td>\n",
       "      <td>2016.0</td>\n",
       "      <td>0</td>\n",
       "      <td>0</td>\n",
       "      <td>0</td>\n",
       "      <td>0</td>\n",
       "      <td>0</td>\n",
       "      <td>0</td>\n",
       "      <td>0</td>\n",
       "      <td>0</td>\n",
       "      <td>0</td>\n",
       "    </tr>\n",
       "    <tr>\n",
       "      <th>191</th>\n",
       "      <td>Frank Mason</td>\n",
       "      <td>2018.0</td>\n",
       "      <td>0</td>\n",
       "      <td>0</td>\n",
       "      <td>0</td>\n",
       "      <td>0</td>\n",
       "      <td>0</td>\n",
       "      <td>0</td>\n",
       "      <td>0</td>\n",
       "      <td>0</td>\n",
       "      <td>0</td>\n",
       "    </tr>\n",
       "    <tr>\n",
       "      <th>329</th>\n",
       "      <td>Juan Hernangomez</td>\n",
       "      <td>2017.0</td>\n",
       "      <td>0</td>\n",
       "      <td>0</td>\n",
       "      <td>0</td>\n",
       "      <td>0</td>\n",
       "      <td>0</td>\n",
       "      <td>0</td>\n",
       "      <td>0</td>\n",
       "      <td>0</td>\n",
       "      <td>0</td>\n",
       "    </tr>\n",
       "    <tr>\n",
       "      <th>326</th>\n",
       "      <td>Josh Richardson</td>\n",
       "      <td>2016.0</td>\n",
       "      <td>0</td>\n",
       "      <td>0</td>\n",
       "      <td>0</td>\n",
       "      <td>0</td>\n",
       "      <td>0</td>\n",
       "      <td>0</td>\n",
       "      <td>0</td>\n",
       "      <td>0</td>\n",
       "      <td>0</td>\n",
       "    </tr>\n",
       "    <tr>\n",
       "      <th>323</th>\n",
       "      <td>Josh Jackson</td>\n",
       "      <td>2018.0</td>\n",
       "      <td>0</td>\n",
       "      <td>0</td>\n",
       "      <td>0</td>\n",
       "      <td>0</td>\n",
       "      <td>0</td>\n",
       "      <td>0</td>\n",
       "      <td>0</td>\n",
       "      <td>0</td>\n",
       "      <td>0</td>\n",
       "    </tr>\n",
       "    <tr>\n",
       "      <th>321</th>\n",
       "      <td>Josh Hart</td>\n",
       "      <td>2018.0</td>\n",
       "      <td>0</td>\n",
       "      <td>0</td>\n",
       "      <td>0</td>\n",
       "      <td>0</td>\n",
       "      <td>0</td>\n",
       "      <td>0</td>\n",
       "      <td>0</td>\n",
       "      <td>0</td>\n",
       "      <td>0</td>\n",
       "    </tr>\n",
       "    <tr>\n",
       "      <th>317</th>\n",
       "      <td>Jordan Mickey</td>\n",
       "      <td>2016.0</td>\n",
       "      <td>0</td>\n",
       "      <td>0</td>\n",
       "      <td>0</td>\n",
       "      <td>0</td>\n",
       "      <td>0</td>\n",
       "      <td>0</td>\n",
       "      <td>0</td>\n",
       "      <td>0</td>\n",
       "      <td>0</td>\n",
       "    </tr>\n",
       "    <tr>\n",
       "      <th>308</th>\n",
       "      <td>Jonathan Isaac</td>\n",
       "      <td>2018.0</td>\n",
       "      <td>0</td>\n",
       "      <td>0</td>\n",
       "      <td>0</td>\n",
       "      <td>0</td>\n",
       "      <td>0</td>\n",
       "      <td>0</td>\n",
       "      <td>0</td>\n",
       "      <td>0</td>\n",
       "      <td>0</td>\n",
       "    </tr>\n",
       "    <tr>\n",
       "      <th>305</th>\n",
       "      <td>Jonah Bolden</td>\n",
       "      <td>2018.0</td>\n",
       "      <td>0</td>\n",
       "      <td>0</td>\n",
       "      <td>0</td>\n",
       "      <td>0</td>\n",
       "      <td>0</td>\n",
       "      <td>0</td>\n",
       "      <td>0</td>\n",
       "      <td>0</td>\n",
       "      <td>0</td>\n",
       "    </tr>\n",
       "    <tr>\n",
       "      <th>6</th>\n",
       "      <td>Abdel Nader</td>\n",
       "      <td>2017.0</td>\n",
       "      <td>0</td>\n",
       "      <td>0</td>\n",
       "      <td>0</td>\n",
       "      <td>0</td>\n",
       "      <td>0</td>\n",
       "      <td>0</td>\n",
       "      <td>0</td>\n",
       "      <td>0</td>\n",
       "      <td>0</td>\n",
       "    </tr>\n",
       "    <tr>\n",
       "      <th>295</th>\n",
       "      <td>Joe Young</td>\n",
       "      <td>2016.0</td>\n",
       "      <td>0</td>\n",
       "      <td>0</td>\n",
       "      <td>0</td>\n",
       "      <td>0</td>\n",
       "      <td>0</td>\n",
       "      <td>0</td>\n",
       "      <td>0</td>\n",
       "      <td>0</td>\n",
       "      <td>0</td>\n",
       "    </tr>\n",
       "    <tr>\n",
       "      <th>281</th>\n",
       "      <td>Jerian Grant</td>\n",
       "      <td>2016.0</td>\n",
       "      <td>0</td>\n",
       "      <td>0</td>\n",
       "      <td>0</td>\n",
       "      <td>0</td>\n",
       "      <td>0</td>\n",
       "      <td>0</td>\n",
       "      <td>0</td>\n",
       "      <td>0</td>\n",
       "      <td>0</td>\n",
       "    </tr>\n",
       "    <tr>\n",
       "      <th>270</th>\n",
       "      <td>Jaylen Brown</td>\n",
       "      <td>2017.0</td>\n",
       "      <td>0</td>\n",
       "      <td>0</td>\n",
       "      <td>0</td>\n",
       "      <td>0</td>\n",
       "      <td>0</td>\n",
       "      <td>0</td>\n",
       "      <td>0</td>\n",
       "      <td>0</td>\n",
       "      <td>0</td>\n",
       "    </tr>\n",
       "    <tr>\n",
       "      <th>269</th>\n",
       "      <td>Jawun Evans</td>\n",
       "      <td>2018.0</td>\n",
       "      <td>0</td>\n",
       "      <td>0</td>\n",
       "      <td>0</td>\n",
       "      <td>0</td>\n",
       "      <td>0</td>\n",
       "      <td>0</td>\n",
       "      <td>0</td>\n",
       "      <td>0</td>\n",
       "      <td>0</td>\n",
       "    </tr>\n",
       "    <tr>\n",
       "      <th>263</th>\n",
       "      <td>Jaron Blossomgame</td>\n",
       "      <td>2018.0</td>\n",
       "      <td>0</td>\n",
       "      <td>0</td>\n",
       "      <td>0</td>\n",
       "      <td>0</td>\n",
       "      <td>0</td>\n",
       "      <td>0</td>\n",
       "      <td>0</td>\n",
       "      <td>0</td>\n",
       "      <td>0</td>\n",
       "    </tr>\n",
       "    <tr>\n",
       "      <th>260</th>\n",
       "      <td>Jarell Martin</td>\n",
       "      <td>2016.0</td>\n",
       "      <td>0</td>\n",
       "      <td>0</td>\n",
       "      <td>0</td>\n",
       "      <td>0</td>\n",
       "      <td>0</td>\n",
       "      <td>0</td>\n",
       "      <td>0</td>\n",
       "      <td>0</td>\n",
       "      <td>0</td>\n",
       "    </tr>\n",
       "    <tr>\n",
       "      <th>244</th>\n",
       "      <td>Jake Layman</td>\n",
       "      <td>2017.0</td>\n",
       "      <td>0</td>\n",
       "      <td>0</td>\n",
       "      <td>0</td>\n",
       "      <td>0</td>\n",
       "      <td>0</td>\n",
       "      <td>0</td>\n",
       "      <td>0</td>\n",
       "      <td>0</td>\n",
       "      <td>0</td>\n",
       "    </tr>\n",
       "    <tr>\n",
       "      <th>239</th>\n",
       "      <td>Jabari Bird</td>\n",
       "      <td>2018.0</td>\n",
       "      <td>0</td>\n",
       "      <td>0</td>\n",
       "      <td>0</td>\n",
       "      <td>0</td>\n",
       "      <td>0</td>\n",
       "      <td>0</td>\n",
       "      <td>0</td>\n",
       "      <td>0</td>\n",
       "      <td>0</td>\n",
       "    </tr>\n",
       "    <tr>\n",
       "      <th>233</th>\n",
       "      <td>Ivica Zubac</td>\n",
       "      <td>2017.0</td>\n",
       "      <td>0</td>\n",
       "      <td>0</td>\n",
       "      <td>0</td>\n",
       "      <td>0</td>\n",
       "      <td>0</td>\n",
       "      <td>0</td>\n",
       "      <td>0</td>\n",
       "      <td>0</td>\n",
       "      <td>0</td>\n",
       "    </tr>\n",
       "    <tr>\n",
       "      <th>231</th>\n",
       "      <td>Isaiah Whitehead</td>\n",
       "      <td>2017.0</td>\n",
       "      <td>0</td>\n",
       "      <td>0</td>\n",
       "      <td>0</td>\n",
       "      <td>0</td>\n",
       "      <td>0</td>\n",
       "      <td>0</td>\n",
       "      <td>0</td>\n",
       "      <td>0</td>\n",
       "      <td>0</td>\n",
       "    </tr>\n",
       "    <tr>\n",
       "      <th>229</th>\n",
       "      <td>Isaiah Hartenstein</td>\n",
       "      <td>2018.0</td>\n",
       "      <td>0</td>\n",
       "      <td>0</td>\n",
       "      <td>0</td>\n",
       "      <td>0</td>\n",
       "      <td>0</td>\n",
       "      <td>0</td>\n",
       "      <td>0</td>\n",
       "      <td>0</td>\n",
       "      <td>0</td>\n",
       "    </tr>\n",
       "    <tr>\n",
       "      <th>225</th>\n",
       "      <td>Ike Anigbogu</td>\n",
       "      <td>2018.0</td>\n",
       "      <td>0</td>\n",
       "      <td>0</td>\n",
       "      <td>0</td>\n",
       "      <td>0</td>\n",
       "      <td>0</td>\n",
       "      <td>0</td>\n",
       "      <td>0</td>\n",
       "      <td>0</td>\n",
       "      <td>0</td>\n",
       "    </tr>\n",
       "    <tr>\n",
       "      <th>222</th>\n",
       "      <td>Henry Ellenson</td>\n",
       "      <td>2017.0</td>\n",
       "      <td>0</td>\n",
       "      <td>0</td>\n",
       "      <td>0</td>\n",
       "      <td>0</td>\n",
       "      <td>0</td>\n",
       "      <td>0</td>\n",
       "      <td>0</td>\n",
       "      <td>0</td>\n",
       "      <td>0</td>\n",
       "    </tr>\n",
       "    <tr>\n",
       "      <th>218</th>\n",
       "      <td>Harry Giles</td>\n",
       "      <td>2018.0</td>\n",
       "      <td>0</td>\n",
       "      <td>0</td>\n",
       "      <td>0</td>\n",
       "      <td>0</td>\n",
       "      <td>0</td>\n",
       "      <td>0</td>\n",
       "      <td>0</td>\n",
       "      <td>0</td>\n",
       "      <td>0</td>\n",
       "    </tr>\n",
       "    <tr>\n",
       "      <th>213</th>\n",
       "      <td>Guerschon Yabusele</td>\n",
       "      <td>2017.0</td>\n",
       "      <td>0</td>\n",
       "      <td>0</td>\n",
       "      <td>0</td>\n",
       "      <td>0</td>\n",
       "      <td>0</td>\n",
       "      <td>0</td>\n",
       "      <td>0</td>\n",
       "      <td>0</td>\n",
       "      <td>0</td>\n",
       "    </tr>\n",
       "    <tr>\n",
       "      <th>201</th>\n",
       "      <td>Georgios Papagiannis</td>\n",
       "      <td>2017.0</td>\n",
       "      <td>0</td>\n",
       "      <td>0</td>\n",
       "      <td>0</td>\n",
       "      <td>0</td>\n",
       "      <td>0</td>\n",
       "      <td>0</td>\n",
       "      <td>0</td>\n",
       "      <td>0</td>\n",
       "      <td>0</td>\n",
       "    </tr>\n",
       "    <tr>\n",
       "      <th>200</th>\n",
       "      <td>Georges Niang</td>\n",
       "      <td>2017.0</td>\n",
       "      <td>0</td>\n",
       "      <td>0</td>\n",
       "      <td>0</td>\n",
       "      <td>0</td>\n",
       "      <td>0</td>\n",
       "      <td>0</td>\n",
       "      <td>0</td>\n",
       "      <td>0</td>\n",
       "      <td>0</td>\n",
       "    </tr>\n",
       "    <tr>\n",
       "      <th>193</th>\n",
       "      <td>Furkan Korkmaz</td>\n",
       "      <td>2017.0</td>\n",
       "      <td>0</td>\n",
       "      <td>0</td>\n",
       "      <td>0</td>\n",
       "      <td>0</td>\n",
       "      <td>0</td>\n",
       "      <td>0</td>\n",
       "      <td>0</td>\n",
       "      <td>0</td>\n",
       "      <td>0</td>\n",
       "    </tr>\n",
       "    <tr>\n",
       "      <th>192</th>\n",
       "      <td>Frank Ntilikina</td>\n",
       "      <td>2018.0</td>\n",
       "      <td>0</td>\n",
       "      <td>0</td>\n",
       "      <td>0</td>\n",
       "      <td>0</td>\n",
       "      <td>0</td>\n",
       "      <td>0</td>\n",
       "      <td>0</td>\n",
       "      <td>0</td>\n",
       "      <td>0</td>\n",
       "    </tr>\n",
       "    <tr>\n",
       "      <th>619</th>\n",
       "      <td>Zhou Qi</td>\n",
       "      <td>2017.0</td>\n",
       "      <td>0</td>\n",
       "      <td>0</td>\n",
       "      <td>0</td>\n",
       "      <td>0</td>\n",
       "      <td>0</td>\n",
       "      <td>0</td>\n",
       "      <td>0</td>\n",
       "      <td>0</td>\n",
       "      <td>0</td>\n",
       "    </tr>\n",
       "  </tbody>\n",
       "</table>\n",
       "</div>"
      ],
      "text/plain": [
       "                 Player_name  DRAFT_YEAR+1  lr_class  forest_class  tree_class  ada_class  knn_class  bag_class  svc  grad  tot\n",
       "363       Kristaps Porzingis        2016.0         1             1           1          1          1          1    1     1    8\n",
       "438         Montrezl Harrell        2016.0         1             1           0          1          1          1    1     1    7\n",
       "495           Richaun Holmes        2016.0         0             1           1          1          1          1    1     1    7\n",
       "378          Lauri Markkanen        2018.0         1             1           1          1          1          1    0     1    7\n",
       "156         Domantas Sabonis        2017.0         0             1           0          1          1          1    1     1    6\n",
       "147             Devin Booker        2016.0         1             1           0          0          1          1    1     1    6\n",
       "43               Ben Simmons        2017.0         1             1           0          1          1          1    0     1    6\n",
       "265            Jarrett Allen        2018.0         1             1           0          1          1          1    0     1    6\n",
       "271             Jayson Tatum        2018.0         0             1           1          1          0          1    0     1    5\n",
       "442             Myles Turner        2016.0         1             1           0          1          0          1    0     1    5\n",
       "610      Willie Cauley-Stein        2016.0         1             1           1          0          0          1    0     1    5\n",
       "365               Kyle Kuzma        2018.0         1             1           1          0          0          1    0     1    5\n",
       "94          D'Angelo Russell        2016.0         1             0           0          1          0          1    0     1    4\n",
       "468            Pascal Siakam        2017.0         1             0           1          0          1          1    0     0    4\n",
       "612        Willy Hernangomez        2016.0         1             0           1          1          0          1    0     0    4\n",
       "74             Cheick Diallo        2017.0         1             0           0          1          0          1    0     0    3\n",
       "160         Donovan Mitchell        2018.0         1             0           0          0          1          1    0     0    3\n",
       "248             Jamal Murray        2017.0         0             0           1          0          1          1    0     0    3\n",
       "124             De'Aaron Fox        2018.0         0             1           0          0          0          1    0     1    3\n",
       "47              Bobby Portis        2016.0         1             0           0          0          1          0    0     0    2\n",
       "66              Caris LeVert        2017.0         0             0           1          0          0          1    0     0    2\n",
       "232                Ivan Rabb        2018.0         0             0           1          0          0          1    0     0    2\n",
       "29                Ante Žižić        2017.0         1             0           0          0          1          0    0     0    2\n",
       "376              Larry Nance        2016.0         0             0           1          0          0          1    0     0    2\n",
       "40               Bam Adebayo        2018.0         1             0           0          0          0          1    0     0    2\n",
       "243            Jahlil Okafor        2016.0         0             1           0          0          0          1    0     0    2\n",
       "362                Kris Dunn        2017.0         0             0           0          0          1          0    0     0    1\n",
       "245             Jakob Poeltl        2017.0         0             0           0          0          0          1    0     0    1\n",
       "59               Buddy Hield        2017.0         1             0           0          0          0          0    0     0    1\n",
       "137        Demetrius Jackson        2017.0         1             0           0          0          0          0    0     0    1\n",
       "506  Rondae Hollis-Jefferson        2016.0         0             0           0          0          0          1    0     0    1\n",
       "134          Dejounte Murray        2017.0         0             0           0          1          0          0    0     0    1\n",
       "311              Jordan Bell        2018.0         1             0           0          0          0          0    0     0    1\n",
       "56             Brice Johnson        2017.0         0             0           0          0          1          0    0     0    1\n",
       "393          Malcolm Brogdon        2017.0         0             0           0          0          0          0    0     0    0\n",
       "339             Kadeem Allen        2018.0         0             0           0          0          0          0    0     0    0\n",
       "437             Monte Morris        2018.0         0             0           0          0          0          0    0     0    0\n",
       "425          Michael Gbinije        2017.0         0             0           0          0          0          0    0     0    0\n",
       "414          Marquese Chriss        2017.0         0             0           0          0          0          0    0     0    0\n",
       "354             Kevon Looney        2016.0         0             0           0          0          0          0    0     0    0\n",
       "412           Markelle Fultz        2018.0         0             0           0          0          0          0    0     0    0\n",
       "410            Mario Hezonja        2016.0         0             0           0          0          0          0    0     0    0\n",
       "345              Kelly Oubre        2016.0         0             0           0          0          0          0    0     0    0\n",
       "384               Lonzo Ball        2018.0         0             0           0          0          0          0    0     0    0\n",
       "391             Luke Kennard        2018.0         0             0           0          0          0          0    0     0    0\n",
       "402             Marcus Paige        2017.0         0             0           0          0          0          0    0     0    0\n",
       "455            Norman Powell        2016.0         0             0           0          0          0          0    0     0    0\n",
       "341               Kay Felder        2017.0         0             0           0          0          0          0    0     0    0\n",
       "392       Malachi Richardson        2017.0         0             0           0          0          0          0    0     0    0\n",
       "397               Malik Monk        2018.0         0             0           0          0          0          0    0     0    0\n",
       "395            Malik Beasley        2017.0         0             0           0          0          0          0    0     0    0\n",
       "0               A.J. Hammons        2017.0         0             0           0          0          0          0    0     0    0\n",
       "458               OG Anunoby        2018.0         0             0           0          0          0          0    0     0    0\n",
       "469          Pat Connaughton        2016.0         0             0           0          0          0          0    0     0    0\n",
       "616             Zach Collins        2018.0         0             0           0          0          0          0    0     0    0\n",
       "606            Wesley Iwundu        2018.0         0             0           0          0          0          0    0     0    0\n",
       "602             Wade Baldwin        2017.0         0             0           0          0          0          0    0     0    0\n",
       "598               Tyus Jones        2016.0         0             0           0          0          0          0    0     0    0\n",
       "595           Tyrone Wallace        2017.0         0             0           0          0          0          0    0     0    0\n",
       "592               Tyler Ulis        2017.0         0             0           0          0          0          0    0     0    0\n",
       "591              Tyler Lydon        2018.0         0             0           0          0          0          0    0     0    0\n",
       "587             Tyler Dorsey        2018.0         0             0           0          0          0          0    0     0    0\n",
       "582               Trey Lyles        2016.0         0             0           0          0          0          0    0     0    0\n",
       "573             Tony Bradley        2018.0         0             0           0          0          0          0    0     0    0\n",
       "570  Timothe Luwawu-Cabarrot        2017.0         0             0           0          0          0          0    0     0    0\n",
       "568               Thon Maker        2017.0         0             0           0          0          0          0    0     0    0\n",
       "562             Terry Rozier        2016.0         0             0           0          0          0          0    0     0    0\n",
       "558        Terrance Ferguson        2018.0         0             0           0          0          0          0    0     0    0\n",
       "556    Taurean Waller-Prince        2017.0         0             0           0          0          0          0    0     0    0\n",
       "552                T.J. Leaf        2018.0         0             0           0          0          0          0    0     0    0\n",
       "546           Sterling Brown        2018.0         0             0           0          0          0          0    0     0    0\n",
       "545        Stephen Zimmerman        2017.0         0             0           0          0          0          0    0     0    0\n",
       "543          Stanley Johnson        2016.0         0             0           0          0          0          0    0     0    0\n",
       "536          Skal Labissiere        2017.0         0             0           0          0          0          0    0     0    0\n",
       "535      Sindarius Thornwell        2018.0         0             0           0          0          0          0    0     0    0\n",
       "522             Semi Ojeleye        2018.0         0             0           0          0          0          0    0     0    0\n",
       "518               Sam Dekker        2016.0         0             0           0          0          0          0    0     0    0\n",
       "335            Justin Patton        2018.0         0             0           0          0          0          0    0     0    0\n",
       "489            Rashad Vaughn        2016.0         0             0           0          0          0          0    0     0    0\n",
       "486         Rakeem Christmas        2016.0         0             0           0          0          0          0    0     0    0\n",
       "484              R.J. Hunter        2016.0         0             0           0          0          0          0    0     0    0\n",
       "477              Paul Zipser        2017.0         0             0           0          0          0          0    0     0    0\n",
       "470            Patrick McCaw        2017.0         0             0           0          0          0          0    0     0    0\n",
       "336          Justise Winslow        2016.0         0             0           0          0          0          0    0     0    0\n",
       "296            Joel Bolomboy        2017.0         0             0           0          0          0          0    0     0    0\n",
       "334           Justin Jackson        2018.0         0             0           0          0          0          0    0     0    0\n",
       "189            Frank Jackson        2018.0         0             0           0          0          0          0    0     0    0\n",
       "173            Edmond Sumner        2018.0         0             0           0          0          0          0    0     0    0\n",
       "167             Dwayne Bacon        2018.0         0             0           0          0          0          0    0     0    0\n",
       "165            Dragan Bender        2017.0         0             0           0          0          0          0    0     0    0\n",
       "154            Dillon Brooks        2018.0         0             0           0          0          0          0    0     0    0\n",
       "153            Diamond Stone        2017.0         0             0           0          0          0          0    0     0    0\n",
       "152            Deyonta Davis        2017.0         0             0           0          0          0          0    0     0    0\n",
       "145            Derrick White        2018.0         0             0           0          0          0          0    0     0    0\n",
       "140         Denzel Valentine        2017.0         0             0           0          0          0          0    0     0    0\n",
       "139             Dennis Smith        2018.0         0             0           0          0          0          0    0     0    0\n",
       "135             Delon Wright        2016.0         0             0           0          0          0          0    0     0    0\n",
       "128          DeAndre' Bembry        2017.0         0             0           0          0          0          0    0     0    0\n",
       "123               Davon Reed        2018.0         0             0           0          0          0          0    0     0    0\n",
       "121          Darrun Hilliard        2016.0         0             0           0          0          0          0    0     0    0\n",
       "108          Daniel Hamilton        2017.0         0             0           0          0          0          0    0     0    0\n",
       "106           Damyean Dotson        2018.0         0             0           0          0          0          0    0     0    0\n",
       "101             Damian Jones        2017.0         0             0           0          0          0          0    0     0    0\n",
       "98               D.J. Wilson        2018.0         0             0           0          0          0          0    0     0    0\n",
       "79          Chris McCullough        2016.0         0             0           0          0          0          0    0     0    0\n",
       "77            Chinanu Onuaku        2017.0         0             0           0          0          0          0    0     0    0\n",
       "65             Cameron Payne        2016.0         0             0           0          0          0          0    0     0    0\n",
       "63            Caleb Swanigan        2018.0         0             0           0          0          0          0    0     0    0\n",
       "51            Brandon Ingram        2017.0         0             0           0          0          0          0    0     0    0\n",
       "50            Branden Dawson        2016.0         0             0           0          0          0          0    0     0    0\n",
       "41                Ben Bentil        2017.0         0             0           0          0          0          0    0     0    0\n",
       "31             Anthony Brown        2016.0         0             0           0          0          0          0    0     0    0\n",
       "24           Andrew Harrison        2016.0         0             0           0          0          0          0    0     0    0\n",
       "15               Alec Peters        2018.0         0             0           0          0          0          0    0     0    0\n",
       "178          Emmanuel Mudiay        2016.0         0             0           0          0          0          0    0     0    0\n",
       "190           Frank Kaminsky        2016.0         0             0           0          0          0          0    0     0    0\n",
       "332          Justin Anderson        2016.0         0             0           0          0          0          0    0     0    0\n",
       "191              Frank Mason        2018.0         0             0           0          0          0          0    0     0    0\n",
       "329         Juan Hernangomez        2017.0         0             0           0          0          0          0    0     0    0\n",
       "326          Josh Richardson        2016.0         0             0           0          0          0          0    0     0    0\n",
       "323             Josh Jackson        2018.0         0             0           0          0          0          0    0     0    0\n",
       "321                Josh Hart        2018.0         0             0           0          0          0          0    0     0    0\n",
       "317            Jordan Mickey        2016.0         0             0           0          0          0          0    0     0    0\n",
       "308           Jonathan Isaac        2018.0         0             0           0          0          0          0    0     0    0\n",
       "305             Jonah Bolden        2018.0         0             0           0          0          0          0    0     0    0\n",
       "6                Abdel Nader        2017.0         0             0           0          0          0          0    0     0    0\n",
       "295                Joe Young        2016.0         0             0           0          0          0          0    0     0    0\n",
       "281             Jerian Grant        2016.0         0             0           0          0          0          0    0     0    0\n",
       "270             Jaylen Brown        2017.0         0             0           0          0          0          0    0     0    0\n",
       "269              Jawun Evans        2018.0         0             0           0          0          0          0    0     0    0\n",
       "263        Jaron Blossomgame        2018.0         0             0           0          0          0          0    0     0    0\n",
       "260            Jarell Martin        2016.0         0             0           0          0          0          0    0     0    0\n",
       "244              Jake Layman        2017.0         0             0           0          0          0          0    0     0    0\n",
       "239              Jabari Bird        2018.0         0             0           0          0          0          0    0     0    0\n",
       "233              Ivica Zubac        2017.0         0             0           0          0          0          0    0     0    0\n",
       "231         Isaiah Whitehead        2017.0         0             0           0          0          0          0    0     0    0\n",
       "229       Isaiah Hartenstein        2018.0         0             0           0          0          0          0    0     0    0\n",
       "225             Ike Anigbogu        2018.0         0             0           0          0          0          0    0     0    0\n",
       "222           Henry Ellenson        2017.0         0             0           0          0          0          0    0     0    0\n",
       "218              Harry Giles        2018.0         0             0           0          0          0          0    0     0    0\n",
       "213       Guerschon Yabusele        2017.0         0             0           0          0          0          0    0     0    0\n",
       "201     Georgios Papagiannis        2017.0         0             0           0          0          0          0    0     0    0\n",
       "200            Georges Niang        2017.0         0             0           0          0          0          0    0     0    0\n",
       "193           Furkan Korkmaz        2017.0         0             0           0          0          0          0    0     0    0\n",
       "192          Frank Ntilikina        2018.0         0             0           0          0          0          0    0     0    0\n",
       "619                  Zhou Qi        2017.0         0             0           0          0          0          0    0     0    0"
      ]
     },
     "execution_count": 27,
     "metadata": {},
     "output_type": "execute_result"
    }
   ],
   "source": [
    "predicted_player.sort_values(by='tot', ascending=False)"
   ]
  },
  {
   "cell_type": "code",
   "execution_count": 28,
   "metadata": {},
   "outputs": [
    {
     "name": "stdout",
     "output_type": "stream",
     "text": [
      "Fitting 3 folds for each of 49 candidates, totalling 147 fits\n"
     ]
    },
    {
     "name": "stderr",
     "output_type": "stream",
     "text": [
      "[Parallel(n_jobs=2)]: Using backend LokyBackend with 2 concurrent workers.\n"
     ]
    },
    {
     "name": "stdout",
     "output_type": "stream",
     "text": [
      "1.0\n",
      "\n",
      "{'C': 1.0, 'gamma': 1.0}\n",
      "\n",
      "1.0\n"
     ]
    },
    {
     "name": "stderr",
     "output_type": "stream",
     "text": [
      "[Parallel(n_jobs=2)]: Done 147 out of 147 | elapsed:    1.9s finished\n"
     ]
    },
    {
     "data": {
      "text/plain": [
       "0.9819494584837545"
      ]
     },
     "execution_count": 28,
     "metadata": {},
     "output_type": "execute_result"
    }
   ],
   "source": [
    "params = {\n",
    "#     'max_depth' : [3, 4],\n",
    "#     'min_samples_leaf' : [2, 3],\n",
    "#     'min_samples_split' : [6, 7, 8],\n",
    "#     'n_estimators' : [30, 35, 37],\n",
    "#     \"learning_rate\" : (np.logspace(-1.6, -1, 20))\n",
    "    'C' : np.logspace(-3, 3, 7),\n",
    "    'gamma' : np.logspace(-3, 3, 7)\n",
    "}\n",
    "gs = GridSearchCV(\n",
    "    SVC(),\n",
    "    params,\n",
    "    cv=3,\n",
    "    verbose=1,\n",
    "    return_train_score=False,\n",
    "    n_jobs=2)\n",
    "gs.fit(X_train, y_train)\n",
    "print(gs.best_score_)\n",
    "print()\n",
    "print(gs.best_params_)\n",
    "print()\n",
    "print(gs.score(X_test, y_test))\n",
    "pred = model.predict(X_test)\n",
    "f1_score(y_test, pred)"
   ]
  },
  {
   "cell_type": "code",
   "execution_count": 29,
   "metadata": {},
   "outputs": [
    {
     "name": "stdout",
     "output_type": "stream",
     "text": [
      "Train on 868 samples, validate on 290 samples\n",
      "Epoch 1/200\n",
      "868/868 [==============================] - 0s 378us/step - loss: 0.6712 - acc: 0.5829 - f1: 0.6825 - val_loss: 0.5439 - val_acc: 0.8241 - val_f1: 0.8423\n",
      "Epoch 2/200\n",
      "868/868 [==============================] - 0s 23us/step - loss: 0.5461 - acc: 0.7235 - f1: 0.7720 - val_loss: 0.4173 - val_acc: 0.8517 - val_f1: 0.8605\n",
      "Epoch 3/200\n",
      "868/868 [==============================] - 0s 22us/step - loss: 0.4497 - acc: 0.8191 - f1: 0.8351 - val_loss: 0.3111 - val_acc: 0.8690 - val_f1: 0.8704\n",
      "Epoch 4/200\n",
      "868/868 [==============================] - 0s 22us/step - loss: 0.3880 - acc: 0.8491 - f1: 0.8510 - val_loss: 0.2652 - val_acc: 0.8862 - val_f1: 0.8914\n",
      "Epoch 5/200\n",
      "868/868 [==============================] - 0s 23us/step - loss: 0.3494 - acc: 0.8813 - f1: 0.8889 - val_loss: 0.2409 - val_acc: 0.9069 - val_f1: 0.9091\n",
      "Epoch 6/200\n",
      "868/868 [==============================] - 0s 24us/step - loss: 0.3040 - acc: 0.8767 - f1: 0.8835 - val_loss: 0.2082 - val_acc: 0.9207 - val_f1: 0.9212\n",
      "Epoch 7/200\n",
      "868/868 [==============================] - 0s 23us/step - loss: 0.2722 - acc: 0.8998 - f1: 0.9043 - val_loss: 0.1895 - val_acc: 0.9241 - val_f1: 0.9243\n",
      "Epoch 8/200\n",
      "868/868 [==============================] - 0s 22us/step - loss: 0.2561 - acc: 0.9136 - f1: 0.9198 - val_loss: 0.1872 - val_acc: 0.9241 - val_f1: 0.9243\n",
      "Epoch 9/200\n",
      "868/868 [==============================] - 0s 22us/step - loss: 0.2428 - acc: 0.9182 - f1: 0.9261 - val_loss: 0.1864 - val_acc: 0.9310 - val_f1: 0.9306\n",
      "Epoch 10/200\n",
      "868/868 [==============================] - 0s 22us/step - loss: 0.2453 - acc: 0.9136 - f1: 0.9190 - val_loss: 0.1702 - val_acc: 0.9276 - val_f1: 0.9275\n",
      "Epoch 11/200\n",
      "868/868 [==============================] - 0s 22us/step - loss: 0.1971 - acc: 0.9297 - f1: 0.9332 - val_loss: 0.1569 - val_acc: 0.9448 - val_f1: 0.9436\n",
      "Epoch 12/200\n",
      "868/868 [==============================] - 0s 21us/step - loss: 0.1742 - acc: 0.9470 - f1: 0.9503 - val_loss: 0.1569 - val_acc: 0.9345 - val_f1: 0.9338\n",
      "Epoch 13/200\n",
      "868/868 [==============================] - 0s 20us/step - loss: 0.1927 - acc: 0.9343 - f1: 0.9349 - val_loss: 0.1415 - val_acc: 0.9448 - val_f1: 0.9438\n",
      "Epoch 14/200\n",
      "868/868 [==============================] - 0s 20us/step - loss: 0.1687 - acc: 0.9447 - f1: 0.9475 - val_loss: 0.1298 - val_acc: 0.9552 - val_f1: 0.9537\n",
      "Epoch 15/200\n",
      "868/868 [==============================] - 0s 20us/step - loss: 0.1476 - acc: 0.9539 - f1: 0.9538 - val_loss: 0.1170 - val_acc: 0.9655 - val_f1: 0.9641\n",
      "Epoch 16/200\n",
      "868/868 [==============================] - 0s 20us/step - loss: 0.1417 - acc: 0.9505 - f1: 0.9526 - val_loss: 0.1298 - val_acc: 0.9483 - val_f1: 0.9471\n",
      "Epoch 17/200\n",
      "868/868 [==============================] - 0s 20us/step - loss: 0.1877 - acc: 0.9470 - f1: 0.9493 - val_loss: 0.1243 - val_acc: 0.9517 - val_f1: 0.9506\n",
      "Epoch 18/200\n",
      "868/868 [==============================] - 0s 20us/step - loss: 0.1321 - acc: 0.9516 - f1: 0.9538 - val_loss: 0.1153 - val_acc: 0.9586 - val_f1: 0.9572\n",
      "Epoch 19/200\n",
      "868/868 [==============================] - 0s 20us/step - loss: 0.1477 - acc: 0.9539 - f1: 0.9555 - val_loss: 0.0995 - val_acc: 0.9586 - val_f1: 0.9572\n",
      "Epoch 20/200\n",
      "868/868 [==============================] - 0s 20us/step - loss: 0.1276 - acc: 0.9620 - f1: 0.9636 - val_loss: 0.0928 - val_acc: 0.9621 - val_f1: 0.9604\n",
      "Epoch 21/200\n",
      "868/868 [==============================] - 0s 20us/step - loss: 0.1231 - acc: 0.9643 - f1: 0.9659 - val_loss: 0.0835 - val_acc: 0.9655 - val_f1: 0.9639\n",
      "Epoch 22/200\n",
      "868/868 [==============================] - 0s 20us/step - loss: 0.1014 - acc: 0.9724 - f1: 0.9737 - val_loss: 0.0774 - val_acc: 0.9690 - val_f1: 0.9677\n",
      "Epoch 23/200\n",
      "868/868 [==============================] - 0s 20us/step - loss: 0.1031 - acc: 0.9700 - f1: 0.9698 - val_loss: 0.1121 - val_acc: 0.9552 - val_f1: 0.9537\n",
      "Epoch 24/200\n",
      "868/868 [==============================] - 0s 20us/step - loss: 0.1059 - acc: 0.9724 - f1: 0.9742 - val_loss: 0.0729 - val_acc: 0.9690 - val_f1: 0.9679\n",
      "\n",
      "Epoch 00024: ReduceLROnPlateau reducing learning rate to 0.0009000000078231095.\n",
      "Epoch 25/200\n",
      "868/868 [==============================] - 0s 20us/step - loss: 0.0848 - acc: 0.9747 - f1: 0.9765 - val_loss: 0.0890 - val_acc: 0.9621 - val_f1: 0.9608\n",
      "Epoch 26/200\n",
      "868/868 [==============================] - 0s 20us/step - loss: 0.0830 - acc: 0.9724 - f1: 0.9745 - val_loss: 0.0798 - val_acc: 0.9690 - val_f1: 0.9674\n",
      "Epoch 27/200\n",
      "868/868 [==============================] - 0s 20us/step - loss: 0.0818 - acc: 0.9793 - f1: 0.9794 - val_loss: 0.0713 - val_acc: 0.9724 - val_f1: 0.9711\n",
      "Epoch 28/200\n",
      "868/868 [==============================] - 0s 20us/step - loss: 0.0732 - acc: 0.9781 - f1: 0.9793 - val_loss: 0.0712 - val_acc: 0.9690 - val_f1: 0.9674\n",
      "Epoch 29/200\n",
      "868/868 [==============================] - 0s 20us/step - loss: 0.0839 - acc: 0.9839 - f1: 0.9851 - val_loss: 0.0722 - val_acc: 0.9690 - val_f1: 0.9674\n",
      "Epoch 30/200\n",
      "868/868 [==============================] - 0s 20us/step - loss: 0.0676 - acc: 0.9862 - f1: 0.9869 - val_loss: 0.0686 - val_acc: 0.9724 - val_f1: 0.9709\n",
      "Epoch 31/200\n",
      "868/868 [==============================] - 0s 20us/step - loss: 0.0605 - acc: 0.9885 - f1: 0.9892 - val_loss: 0.0692 - val_acc: 0.9690 - val_f1: 0.9674\n",
      "Epoch 32/200\n",
      "868/868 [==============================] - 0s 20us/step - loss: 0.0655 - acc: 0.9850 - f1: 0.9848 - val_loss: 0.0617 - val_acc: 0.9724 - val_f1: 0.9709\n",
      "Epoch 33/200\n",
      "868/868 [==============================] - 0s 20us/step - loss: 0.0695 - acc: 0.9827 - f1: 0.9833 - val_loss: 0.0539 - val_acc: 0.9828 - val_f1: 0.9818\n",
      "\n",
      "Epoch 00033: ReduceLROnPlateau reducing learning rate to 0.00026999999536201356.\n",
      "Epoch 34/200\n",
      "868/868 [==============================] - 0s 20us/step - loss: 0.0499 - acc: 0.9885 - f1: 0.9889 - val_loss: 0.0563 - val_acc: 0.9828 - val_f1: 0.9818\n",
      "Epoch 35/200\n",
      "868/868 [==============================] - 0s 21us/step - loss: 0.0616 - acc: 0.9850 - f1: 0.9859 - val_loss: 0.0600 - val_acc: 0.9793 - val_f1: 0.9782\n",
      "Epoch 36/200\n",
      "868/868 [==============================] - 0s 20us/step - loss: 0.0579 - acc: 0.9885 - f1: 0.9883 - val_loss: 0.0622 - val_acc: 0.9793 - val_f1: 0.9782\n",
      "\n",
      "Epoch 00036: ReduceLROnPlateau reducing learning rate to 8.099999686237424e-05.\n",
      "Epoch 37/200\n",
      "868/868 [==============================] - 0s 20us/step - loss: 0.0471 - acc: 0.9896 - f1: 0.9902 - val_loss: 0.0629 - val_acc: 0.9759 - val_f1: 0.9745\n",
      "Epoch 38/200\n",
      "868/868 [==============================] - 0s 20us/step - loss: 0.0478 - acc: 0.9896 - f1: 0.9903 - val_loss: 0.0630 - val_acc: 0.9759 - val_f1: 0.9745\n",
      "Epoch 39/200\n",
      "868/868 [==============================] - 0s 20us/step - loss: 0.0484 - acc: 0.9862 - f1: 0.9857 - val_loss: 0.0624 - val_acc: 0.9759 - val_f1: 0.9745\n",
      "\n",
      "Epoch 00039: ReduceLROnPlateau reducing learning rate to 2.429999949526973e-05.\n",
      "Epoch 40/200\n",
      "868/868 [==============================] - 0s 20us/step - loss: 0.0497 - acc: 0.9885 - f1: 0.9883 - val_loss: 0.0619 - val_acc: 0.9759 - val_f1: 0.9745\n",
      "Epoch 41/200\n",
      "868/868 [==============================] - 0s 20us/step - loss: 0.0466 - acc: 0.9839 - f1: 0.9839 - val_loss: 0.0618 - val_acc: 0.9759 - val_f1: 0.9745\n",
      "Epoch 42/200\n",
      "868/868 [==============================] - 0s 20us/step - loss: 0.0635 - acc: 0.9885 - f1: 0.9892 - val_loss: 0.0613 - val_acc: 0.9759 - val_f1: 0.9745\n",
      "Epoch 43/200\n",
      "868/868 [==============================] - 0s 20us/step - loss: 0.0420 - acc: 0.9908 - f1: 0.9906 - val_loss: 0.0610 - val_acc: 0.9759 - val_f1: 0.9745\n",
      "Epoch 44/200\n",
      "868/868 [==============================] - 0s 20us/step - loss: 0.0746 - acc: 0.9839 - f1: 0.9845 - val_loss: 0.0608 - val_acc: 0.9759 - val_f1: 0.9745\n",
      "Epoch 45/200\n",
      "868/868 [==============================] - 0s 20us/step - loss: 0.0472 - acc: 0.9896 - f1: 0.9888 - val_loss: 0.0607 - val_acc: 0.9759 - val_f1: 0.9745\n",
      "\n",
      "Epoch 00045: ReduceLROnPlateau reducing learning rate to 7.289999848580919e-06.\n",
      "Epoch 46/200\n",
      "868/868 [==============================] - 0s 21us/step - loss: 0.0640 - acc: 0.9839 - f1: 0.9845 - val_loss: 0.0605 - val_acc: 0.9759 - val_f1: 0.9745\n",
      "Epoch 47/200\n",
      "868/868 [==============================] - 0s 20us/step - loss: 0.0551 - acc: 0.9873 - f1: 0.9877 - val_loss: 0.0604 - val_acc: 0.9759 - val_f1: 0.9745\n",
      "\n",
      "Epoch 00047: ReduceLROnPlateau reducing learning rate to 2.186999927289435e-06.\n",
      "Epoch 48/200\n",
      "868/868 [==============================] - 0s 20us/step - loss: 0.0539 - acc: 0.9873 - f1: 0.9880 - val_loss: 0.0604 - val_acc: 0.9759 - val_f1: 0.9745\n",
      "Epoch 49/200\n",
      "868/868 [==============================] - 0s 20us/step - loss: 0.0515 - acc: 0.9850 - f1: 0.9855 - val_loss: 0.0604 - val_acc: 0.9759 - val_f1: 0.9745\n",
      "\n",
      "Epoch 00049: ReduceLROnPlateau reducing learning rate to 6.560999509019894e-07.\n",
      "Epoch 50/200\n",
      "868/868 [==============================] - 0s 20us/step - loss: 0.0612 - acc: 0.9839 - f1: 0.9850 - val_loss: 0.0604 - val_acc: 0.9759 - val_f1: 0.9745\n",
      "Epoch 51/200\n",
      "868/868 [==============================] - 0s 20us/step - loss: 0.0524 - acc: 0.9873 - f1: 0.9869 - val_loss: 0.0604 - val_acc: 0.9759 - val_f1: 0.9745\n",
      "\n",
      "Epoch 00051: ReduceLROnPlateau reducing learning rate to 1.9682997844938655e-07.\n",
      "Epoch 52/200\n",
      "868/868 [==============================] - 0s 20us/step - loss: 0.0535 - acc: 0.9873 - f1: 0.9881 - val_loss: 0.0604 - val_acc: 0.9759 - val_f1: 0.9745\n",
      "Epoch 53/200\n",
      "868/868 [==============================] - 0s 20us/step - loss: 0.0623 - acc: 0.9873 - f1: 0.9871 - val_loss: 0.0604 - val_acc: 0.9759 - val_f1: 0.9745\n",
      "\n",
      "Epoch 00053: ReduceLROnPlateau reducing learning rate to 5.9048991829513396e-08.\n",
      "Epoch 54/200\n",
      "868/868 [==============================] - 0s 20us/step - loss: 0.0529 - acc: 0.9862 - f1: 0.9860 - val_loss: 0.0604 - val_acc: 0.9759 - val_f1: 0.9745\n",
      "Epoch 55/200\n",
      "868/868 [==============================] - 0s 20us/step - loss: 0.0636 - acc: 0.9873 - f1: 0.9863 - val_loss: 0.0604 - val_acc: 0.9759 - val_f1: 0.9745\n",
      "\n",
      "Epoch 00055: ReduceLROnPlateau reducing learning rate to 1.771469797517966e-08.\n",
      "Epoch 56/200\n",
      "868/868 [==============================] - 0s 20us/step - loss: 0.0418 - acc: 0.9908 - f1: 0.9909 - val_loss: 0.0604 - val_acc: 0.9759 - val_f1: 0.9745\n",
      "Epoch 57/200\n",
      "868/868 [==============================] - 0s 20us/step - loss: 0.0478 - acc: 0.9942 - f1: 0.9941 - val_loss: 0.0604 - val_acc: 0.9759 - val_f1: 0.9745\n",
      "Epoch 58/200\n",
      "868/868 [==============================] - 0s 21us/step - loss: 0.0581 - acc: 0.9827 - f1: 0.9838 - val_loss: 0.0604 - val_acc: 0.9759 - val_f1: 0.9745\n",
      "\n",
      "Epoch 00058: ReduceLROnPlateau reducing learning rate to 1e-08.\n",
      "Epoch 59/200\n",
      "868/868 [==============================] - 0s 20us/step - loss: 0.0373 - acc: 0.9919 - f1: 0.9919 - val_loss: 0.0604 - val_acc: 0.9759 - val_f1: 0.9745\n",
      "Epoch 60/200\n",
      "868/868 [==============================] - 0s 20us/step - loss: 0.0543 - acc: 0.9850 - f1: 0.9853 - val_loss: 0.0604 - val_acc: 0.9759 - val_f1: 0.9745\n",
      "Epoch 61/200\n",
      "868/868 [==============================] - 0s 20us/step - loss: 0.0551 - acc: 0.9885 - f1: 0.9890 - val_loss: 0.0604 - val_acc: 0.9759 - val_f1: 0.9745\n",
      "Epoch 62/200\n",
      "868/868 [==============================] - 0s 20us/step - loss: 0.0484 - acc: 0.9896 - f1: 0.9897 - val_loss: 0.0604 - val_acc: 0.9759 - val_f1: 0.9745\n",
      "Epoch 63/200\n",
      "868/868 [==============================] - 0s 20us/step - loss: 0.0504 - acc: 0.9885 - f1: 0.9892 - val_loss: 0.0604 - val_acc: 0.9759 - val_f1: 0.9745\n",
      "Epoch 64/200\n",
      "868/868 [==============================] - 0s 20us/step - loss: 0.0643 - acc: 0.9873 - f1: 0.9884 - val_loss: 0.0604 - val_acc: 0.9759 - val_f1: 0.9745\n",
      "Epoch 65/200\n",
      "868/868 [==============================] - 0s 20us/step - loss: 0.0490 - acc: 0.9908 - f1: 0.9910 - val_loss: 0.0604 - val_acc: 0.9759 - val_f1: 0.9745\n",
      "Epoch 66/200\n",
      "868/868 [==============================] - 0s 20us/step - loss: 0.0498 - acc: 0.9873 - f1: 0.9876 - val_loss: 0.0604 - val_acc: 0.9759 - val_f1: 0.9745\n",
      "Epoch 67/200\n",
      "868/868 [==============================] - 0s 20us/step - loss: 0.0614 - acc: 0.9873 - f1: 0.9883 - val_loss: 0.0604 - val_acc: 0.9759 - val_f1: 0.9745\n",
      "Epoch 68/200\n",
      "868/868 [==============================] - 0s 20us/step - loss: 0.0587 - acc: 0.9885 - f1: 0.9886 - val_loss: 0.0604 - val_acc: 0.9759 - val_f1: 0.9745\n",
      "Epoch 69/200\n",
      "868/868 [==============================] - 0s 20us/step - loss: 0.0462 - acc: 0.9896 - f1: 0.9894 - val_loss: 0.0604 - val_acc: 0.9759 - val_f1: 0.9745\n",
      "Epoch 70/200\n",
      "868/868 [==============================] - 0s 20us/step - loss: 0.0626 - acc: 0.9850 - f1: 0.9853 - val_loss: 0.0604 - val_acc: 0.9759 - val_f1: 0.9745\n",
      "Epoch 71/200\n",
      "868/868 [==============================] - 0s 20us/step - loss: 0.0689 - acc: 0.9839 - f1: 0.9835 - val_loss: 0.0604 - val_acc: 0.9759 - val_f1: 0.9745\n",
      "Epoch 72/200\n",
      "868/868 [==============================] - 0s 20us/step - loss: 0.0431 - acc: 0.9873 - f1: 0.9872 - val_loss: 0.0604 - val_acc: 0.9759 - val_f1: 0.9745\n",
      "Epoch 73/200\n",
      "868/868 [==============================] - 0s 20us/step - loss: 0.0529 - acc: 0.9850 - f1: 0.9862 - val_loss: 0.0604 - val_acc: 0.9759 - val_f1: 0.9745\n",
      "Epoch 74/200\n",
      "868/868 [==============================] - 0s 20us/step - loss: 0.0697 - acc: 0.9919 - f1: 0.9926 - val_loss: 0.0604 - val_acc: 0.9759 - val_f1: 0.9745\n",
      "Epoch 75/200\n",
      "868/868 [==============================] - 0s 20us/step - loss: 0.0698 - acc: 0.9862 - f1: 0.9870 - val_loss: 0.0604 - val_acc: 0.9759 - val_f1: 0.9745\n",
      "Epoch 76/200\n",
      "868/868 [==============================] - 0s 20us/step - loss: 0.0500 - acc: 0.9908 - f1: 0.9914 - val_loss: 0.0604 - val_acc: 0.9759 - val_f1: 0.9745\n",
      "Epoch 77/200\n",
      "868/868 [==============================] - 0s 20us/step - loss: 0.0737 - acc: 0.9862 - f1: 0.9860 - val_loss: 0.0604 - val_acc: 0.9759 - val_f1: 0.9745\n",
      "Epoch 78/200\n",
      "868/868 [==============================] - 0s 20us/step - loss: 0.0542 - acc: 0.9839 - f1: 0.9844 - val_loss: 0.0604 - val_acc: 0.9759 - val_f1: 0.9745\n",
      "Epoch 79/200\n",
      "868/868 [==============================] - 0s 21us/step - loss: 0.0512 - acc: 0.9908 - f1: 0.9912 - val_loss: 0.0604 - val_acc: 0.9759 - val_f1: 0.9745\n",
      "Epoch 80/200\n",
      "868/868 [==============================] - 0s 20us/step - loss: 0.0432 - acc: 0.9919 - f1: 0.9925 - val_loss: 0.0604 - val_acc: 0.9759 - val_f1: 0.9745\n",
      "Epoch 81/200\n",
      "868/868 [==============================] - 0s 20us/step - loss: 0.0618 - acc: 0.9816 - f1: 0.9826 - val_loss: 0.0604 - val_acc: 0.9759 - val_f1: 0.9745\n",
      "Epoch 82/200\n",
      "868/868 [==============================] - 0s 20us/step - loss: 0.0695 - acc: 0.9827 - f1: 0.9833 - val_loss: 0.0604 - val_acc: 0.9759 - val_f1: 0.9745\n",
      "Epoch 83/200\n",
      "868/868 [==============================] - 0s 20us/step - loss: 0.0587 - acc: 0.9919 - f1: 0.9917 - val_loss: 0.0604 - val_acc: 0.9759 - val_f1: 0.9745\n",
      "Epoch 84/200\n",
      "868/868 [==============================] - 0s 20us/step - loss: 0.0538 - acc: 0.9896 - f1: 0.9895 - val_loss: 0.0604 - val_acc: 0.9759 - val_f1: 0.9745\n",
      "Epoch 85/200\n",
      "868/868 [==============================] - 0s 20us/step - loss: 0.0492 - acc: 0.9862 - f1: 0.9871 - val_loss: 0.0604 - val_acc: 0.9759 - val_f1: 0.9745\n",
      "Epoch 86/200\n",
      "868/868 [==============================] - 0s 21us/step - loss: 0.0526 - acc: 0.9896 - f1: 0.9899 - val_loss: 0.0604 - val_acc: 0.9759 - val_f1: 0.9745\n",
      "Epoch 87/200\n",
      "868/868 [==============================] - 0s 20us/step - loss: 0.0692 - acc: 0.9827 - f1: 0.9830 - val_loss: 0.0604 - val_acc: 0.9759 - val_f1: 0.9745\n",
      "Epoch 88/200\n",
      "868/868 [==============================] - 0s 20us/step - loss: 0.0490 - acc: 0.9862 - f1: 0.9861 - val_loss: 0.0604 - val_acc: 0.9759 - val_f1: 0.9745\n",
      "Epoch 89/200\n",
      "868/868 [==============================] - 0s 20us/step - loss: 0.0470 - acc: 0.9896 - f1: 0.9901 - val_loss: 0.0604 - val_acc: 0.9759 - val_f1: 0.9745\n",
      "Epoch 90/200\n",
      "868/868 [==============================] - 0s 21us/step - loss: 0.0478 - acc: 0.9885 - f1: 0.9897 - val_loss: 0.0604 - val_acc: 0.9759 - val_f1: 0.9745\n",
      "Epoch 91/200\n",
      "868/868 [==============================] - 0s 21us/step - loss: 0.0507 - acc: 0.9919 - f1: 0.9917 - val_loss: 0.0604 - val_acc: 0.9759 - val_f1: 0.9745\n",
      "Epoch 92/200\n",
      "868/868 [==============================] - 0s 20us/step - loss: 0.0463 - acc: 0.9896 - f1: 0.9893 - val_loss: 0.0604 - val_acc: 0.9759 - val_f1: 0.9745\n",
      "Epoch 93/200\n",
      "868/868 [==============================] - 0s 21us/step - loss: 0.0525 - acc: 0.9919 - f1: 0.9917 - val_loss: 0.0604 - val_acc: 0.9759 - val_f1: 0.9745\n",
      "Epoch 94/200\n",
      "868/868 [==============================] - 0s 20us/step - loss: 0.0638 - acc: 0.9850 - f1: 0.9852 - val_loss: 0.0604 - val_acc: 0.9759 - val_f1: 0.9745\n",
      "Epoch 95/200\n",
      "868/868 [==============================] - 0s 20us/step - loss: 0.0638 - acc: 0.9839 - f1: 0.9852 - val_loss: 0.0604 - val_acc: 0.9759 - val_f1: 0.9745\n",
      "Epoch 96/200\n",
      "868/868 [==============================] - 0s 21us/step - loss: 0.0467 - acc: 0.9908 - f1: 0.9913 - val_loss: 0.0604 - val_acc: 0.9759 - val_f1: 0.9745\n",
      "Epoch 97/200\n",
      "868/868 [==============================] - 0s 20us/step - loss: 0.0590 - acc: 0.9862 - f1: 0.9862 - val_loss: 0.0604 - val_acc: 0.9759 - val_f1: 0.9745\n",
      "Epoch 98/200\n",
      "868/868 [==============================] - 0s 21us/step - loss: 0.0527 - acc: 0.9862 - f1: 0.9869 - val_loss: 0.0604 - val_acc: 0.9759 - val_f1: 0.9745\n",
      "Epoch 99/200\n",
      "868/868 [==============================] - 0s 20us/step - loss: 0.0526 - acc: 0.9873 - f1: 0.9883 - val_loss: 0.0604 - val_acc: 0.9759 - val_f1: 0.9745\n",
      "Epoch 100/200\n",
      "868/868 [==============================] - 0s 20us/step - loss: 0.0482 - acc: 0.9919 - f1: 0.9921 - val_loss: 0.0604 - val_acc: 0.9759 - val_f1: 0.9745\n",
      "Epoch 101/200\n",
      "868/868 [==============================] - 0s 20us/step - loss: 0.0418 - acc: 0.9896 - f1: 0.9898 - val_loss: 0.0604 - val_acc: 0.9759 - val_f1: 0.9745\n",
      "Epoch 102/200\n",
      "868/868 [==============================] - 0s 20us/step - loss: 0.0520 - acc: 0.9896 - f1: 0.9901 - val_loss: 0.0604 - val_acc: 0.9759 - val_f1: 0.9745\n",
      "Epoch 103/200\n",
      "868/868 [==============================] - 0s 20us/step - loss: 0.0569 - acc: 0.9896 - f1: 0.9903 - val_loss: 0.0604 - val_acc: 0.9759 - val_f1: 0.9745\n",
      "Epoch 104/200\n",
      "868/868 [==============================] - 0s 20us/step - loss: 0.0668 - acc: 0.9885 - f1: 0.9884 - val_loss: 0.0604 - val_acc: 0.9759 - val_f1: 0.9745\n",
      "Epoch 105/200\n",
      "868/868 [==============================] - 0s 20us/step - loss: 0.0629 - acc: 0.9804 - f1: 0.9806 - val_loss: 0.0604 - val_acc: 0.9759 - val_f1: 0.9745\n",
      "Epoch 106/200\n",
      "868/868 [==============================] - 0s 20us/step - loss: 0.0475 - acc: 0.9896 - f1: 0.9902 - val_loss: 0.0604 - val_acc: 0.9759 - val_f1: 0.9745\n",
      "Epoch 107/200\n",
      "868/868 [==============================] - 0s 20us/step - loss: 0.0543 - acc: 0.9850 - f1: 0.9863 - val_loss: 0.0604 - val_acc: 0.9759 - val_f1: 0.9745\n",
      "Epoch 108/200\n",
      "868/868 [==============================] - 0s 20us/step - loss: 0.0660 - acc: 0.9873 - f1: 0.9873 - val_loss: 0.0604 - val_acc: 0.9759 - val_f1: 0.9745\n",
      "Epoch 109/200\n",
      "868/868 [==============================] - 0s 20us/step - loss: 0.0614 - acc: 0.9896 - f1: 0.9896 - val_loss: 0.0604 - val_acc: 0.9759 - val_f1: 0.9745\n",
      "Epoch 110/200\n",
      "868/868 [==============================] - 0s 20us/step - loss: 0.0564 - acc: 0.9885 - f1: 0.9888 - val_loss: 0.0604 - val_acc: 0.9759 - val_f1: 0.9745\n",
      "Epoch 111/200\n",
      "868/868 [==============================] - 0s 20us/step - loss: 0.0535 - acc: 0.9862 - f1: 0.9859 - val_loss: 0.0604 - val_acc: 0.9759 - val_f1: 0.9745\n",
      "Epoch 112/200\n",
      "868/868 [==============================] - 0s 20us/step - loss: 0.0536 - acc: 0.9885 - f1: 0.9887 - val_loss: 0.0604 - val_acc: 0.9759 - val_f1: 0.9745\n",
      "Epoch 113/200\n",
      "868/868 [==============================] - 0s 20us/step - loss: 0.0575 - acc: 0.9839 - f1: 0.9833 - val_loss: 0.0604 - val_acc: 0.9759 - val_f1: 0.9745\n",
      "Epoch 114/200\n",
      "868/868 [==============================] - 0s 20us/step - loss: 0.0603 - acc: 0.9816 - f1: 0.9816 - val_loss: 0.0604 - val_acc: 0.9759 - val_f1: 0.9745\n",
      "Epoch 115/200\n",
      "868/868 [==============================] - 0s 20us/step - loss: 0.0522 - acc: 0.9862 - f1: 0.9856 - val_loss: 0.0604 - val_acc: 0.9759 - val_f1: 0.9745\n",
      "Epoch 116/200\n",
      "868/868 [==============================] - 0s 20us/step - loss: 0.0565 - acc: 0.9873 - f1: 0.9883 - val_loss: 0.0604 - val_acc: 0.9759 - val_f1: 0.9745\n",
      "Epoch 117/200\n",
      "868/868 [==============================] - 0s 20us/step - loss: 0.0518 - acc: 0.9839 - f1: 0.9837 - val_loss: 0.0604 - val_acc: 0.9759 - val_f1: 0.9745\n",
      "Epoch 118/200\n",
      "868/868 [==============================] - 0s 20us/step - loss: 0.0585 - acc: 0.9885 - f1: 0.9877 - val_loss: 0.0604 - val_acc: 0.9759 - val_f1: 0.9745\n",
      "Epoch 119/200\n",
      "868/868 [==============================] - 0s 20us/step - loss: 0.0598 - acc: 0.9816 - f1: 0.9825 - val_loss: 0.0604 - val_acc: 0.9759 - val_f1: 0.9745\n",
      "Epoch 120/200\n",
      "868/868 [==============================] - 0s 20us/step - loss: 0.0535 - acc: 0.9873 - f1: 0.9873 - val_loss: 0.0604 - val_acc: 0.9759 - val_f1: 0.9745\n",
      "Epoch 121/200\n",
      "868/868 [==============================] - 0s 20us/step - loss: 0.0597 - acc: 0.9885 - f1: 0.9886 - val_loss: 0.0604 - val_acc: 0.9759 - val_f1: 0.9745\n",
      "Epoch 122/200\n",
      "868/868 [==============================] - 0s 20us/step - loss: 0.0541 - acc: 0.9850 - f1: 0.9856 - val_loss: 0.0604 - val_acc: 0.9759 - val_f1: 0.9745\n",
      "Epoch 123/200\n",
      "868/868 [==============================] - 0s 20us/step - loss: 0.0575 - acc: 0.9919 - f1: 0.9913 - val_loss: 0.0604 - val_acc: 0.9759 - val_f1: 0.9745\n",
      "Epoch 124/200\n",
      "868/868 [==============================] - 0s 20us/step - loss: 0.0580 - acc: 0.9862 - f1: 0.9865 - val_loss: 0.0604 - val_acc: 0.9759 - val_f1: 0.9745\n",
      "Epoch 125/200\n",
      "868/868 [==============================] - 0s 20us/step - loss: 0.0619 - acc: 0.9885 - f1: 0.9889 - val_loss: 0.0604 - val_acc: 0.9759 - val_f1: 0.9745\n",
      "Epoch 126/200\n",
      "868/868 [==============================] - 0s 20us/step - loss: 0.0547 - acc: 0.9873 - f1: 0.9882 - val_loss: 0.0604 - val_acc: 0.9759 - val_f1: 0.9745\n",
      "Epoch 127/200\n",
      "868/868 [==============================] - 0s 20us/step - loss: 0.0388 - acc: 0.9896 - f1: 0.9896 - val_loss: 0.0604 - val_acc: 0.9759 - val_f1: 0.9745\n",
      "Epoch 128/200\n",
      "868/868 [==============================] - 0s 20us/step - loss: 0.0528 - acc: 0.9862 - f1: 0.9866 - val_loss: 0.0604 - val_acc: 0.9759 - val_f1: 0.9745\n",
      "Epoch 129/200\n",
      "868/868 [==============================] - 0s 19us/step - loss: 0.0378 - acc: 0.9896 - f1: 0.9892 - val_loss: 0.0604 - val_acc: 0.9759 - val_f1: 0.9745\n",
      "Epoch 130/200\n",
      "868/868 [==============================] - 0s 20us/step - loss: 0.0765 - acc: 0.9804 - f1: 0.9820 - val_loss: 0.0604 - val_acc: 0.9759 - val_f1: 0.9745\n",
      "Epoch 131/200\n",
      "868/868 [==============================] - 0s 20us/step - loss: 0.0545 - acc: 0.9827 - f1: 0.9830 - val_loss: 0.0604 - val_acc: 0.9759 - val_f1: 0.9745\n",
      "Epoch 132/200\n",
      "868/868 [==============================] - 0s 20us/step - loss: 0.0491 - acc: 0.9839 - f1: 0.9835 - val_loss: 0.0604 - val_acc: 0.9759 - val_f1: 0.9745\n",
      "Epoch 133/200\n",
      "868/868 [==============================] - 0s 20us/step - loss: 0.0574 - acc: 0.9862 - f1: 0.9873 - val_loss: 0.0604 - val_acc: 0.9759 - val_f1: 0.9745\n",
      "Epoch 134/200\n",
      "868/868 [==============================] - 0s 20us/step - loss: 0.0635 - acc: 0.9873 - f1: 0.9881 - val_loss: 0.0604 - val_acc: 0.9759 - val_f1: 0.9745\n",
      "Epoch 135/200\n",
      "868/868 [==============================] - 0s 20us/step - loss: 0.0611 - acc: 0.9862 - f1: 0.9867 - val_loss: 0.0604 - val_acc: 0.9759 - val_f1: 0.9745\n",
      "Epoch 136/200\n",
      "868/868 [==============================] - 0s 20us/step - loss: 0.0684 - acc: 0.9827 - f1: 0.9839 - val_loss: 0.0604 - val_acc: 0.9759 - val_f1: 0.9745\n",
      "Epoch 137/200\n",
      "868/868 [==============================] - 0s 20us/step - loss: 0.0544 - acc: 0.9885 - f1: 0.9883 - val_loss: 0.0604 - val_acc: 0.9759 - val_f1: 0.9745\n",
      "Epoch 138/200\n",
      "868/868 [==============================] - 0s 20us/step - loss: 0.0581 - acc: 0.9919 - f1: 0.9920 - val_loss: 0.0604 - val_acc: 0.9759 - val_f1: 0.9745\n",
      "Epoch 139/200\n",
      "868/868 [==============================] - 0s 20us/step - loss: 0.0498 - acc: 0.9873 - f1: 0.9871 - val_loss: 0.0604 - val_acc: 0.9759 - val_f1: 0.9745\n",
      "Epoch 140/200\n",
      "868/868 [==============================] - 0s 21us/step - loss: 0.0502 - acc: 0.9908 - f1: 0.9911 - val_loss: 0.0604 - val_acc: 0.9759 - val_f1: 0.9745\n",
      "Epoch 141/200\n",
      "868/868 [==============================] - 0s 20us/step - loss: 0.0505 - acc: 0.9862 - f1: 0.9863 - val_loss: 0.0604 - val_acc: 0.9759 - val_f1: 0.9745\n",
      "Epoch 142/200\n",
      "868/868 [==============================] - 0s 21us/step - loss: 0.0579 - acc: 0.9850 - f1: 0.9845 - val_loss: 0.0604 - val_acc: 0.9759 - val_f1: 0.9745\n",
      "Epoch 143/200\n",
      "868/868 [==============================] - 0s 20us/step - loss: 0.0582 - acc: 0.9885 - f1: 0.9893 - val_loss: 0.0604 - val_acc: 0.9759 - val_f1: 0.9745\n",
      "Epoch 144/200\n",
      "868/868 [==============================] - 0s 19us/step - loss: 0.0540 - acc: 0.9885 - f1: 0.9890 - val_loss: 0.0604 - val_acc: 0.9759 - val_f1: 0.9745\n",
      "Epoch 145/200\n",
      "868/868 [==============================] - 0s 20us/step - loss: 0.0512 - acc: 0.9919 - f1: 0.9923 - val_loss: 0.0604 - val_acc: 0.9759 - val_f1: 0.9745\n",
      "Epoch 146/200\n",
      "868/868 [==============================] - 0s 19us/step - loss: 0.0537 - acc: 0.9862 - f1: 0.9873 - val_loss: 0.0604 - val_acc: 0.9759 - val_f1: 0.9745\n",
      "Epoch 147/200\n",
      "868/868 [==============================] - 0s 19us/step - loss: 0.0486 - acc: 0.9885 - f1: 0.9884 - val_loss: 0.0604 - val_acc: 0.9759 - val_f1: 0.9745\n",
      "Epoch 148/200\n",
      "868/868 [==============================] - 0s 21us/step - loss: 0.0563 - acc: 0.9850 - f1: 0.9856 - val_loss: 0.0604 - val_acc: 0.9759 - val_f1: 0.9745\n",
      "Epoch 149/200\n",
      "868/868 [==============================] - 0s 19us/step - loss: 0.0554 - acc: 0.9885 - f1: 0.9888 - val_loss: 0.0604 - val_acc: 0.9759 - val_f1: 0.9745\n",
      "Epoch 150/200\n",
      "868/868 [==============================] - 0s 21us/step - loss: 0.0445 - acc: 0.9919 - f1: 0.9924 - val_loss: 0.0604 - val_acc: 0.9759 - val_f1: 0.9745\n",
      "Epoch 151/200\n",
      "868/868 [==============================] - 0s 20us/step - loss: 0.0633 - acc: 0.9873 - f1: 0.9880 - val_loss: 0.0604 - val_acc: 0.9759 - val_f1: 0.9745\n",
      "Epoch 152/200\n",
      "868/868 [==============================] - 0s 19us/step - loss: 0.0528 - acc: 0.9873 - f1: 0.9875 - val_loss: 0.0604 - val_acc: 0.9759 - val_f1: 0.9745\n",
      "Epoch 153/200\n",
      "868/868 [==============================] - 0s 21us/step - loss: 0.0438 - acc: 0.9896 - f1: 0.9892 - val_loss: 0.0604 - val_acc: 0.9759 - val_f1: 0.9745\n",
      "Epoch 154/200\n",
      "868/868 [==============================] - 0s 20us/step - loss: 0.0535 - acc: 0.9908 - f1: 0.9914 - val_loss: 0.0604 - val_acc: 0.9759 - val_f1: 0.9745\n",
      "Epoch 155/200\n",
      "868/868 [==============================] - 0s 20us/step - loss: 0.0541 - acc: 0.9896 - f1: 0.9898 - val_loss: 0.0604 - val_acc: 0.9759 - val_f1: 0.9745\n",
      "Epoch 156/200\n",
      "868/868 [==============================] - 0s 20us/step - loss: 0.0418 - acc: 0.9839 - f1: 0.9838 - val_loss: 0.0604 - val_acc: 0.9759 - val_f1: 0.9745\n",
      "Epoch 157/200\n",
      "868/868 [==============================] - 0s 20us/step - loss: 0.0526 - acc: 0.9885 - f1: 0.9890 - val_loss: 0.0604 - val_acc: 0.9759 - val_f1: 0.9745\n",
      "Epoch 158/200\n",
      "868/868 [==============================] - 0s 20us/step - loss: 0.0550 - acc: 0.9885 - f1: 0.9890 - val_loss: 0.0604 - val_acc: 0.9759 - val_f1: 0.9745\n",
      "Epoch 159/200\n",
      "868/868 [==============================] - 0s 20us/step - loss: 0.0319 - acc: 0.9931 - f1: 0.9932 - val_loss: 0.0604 - val_acc: 0.9759 - val_f1: 0.9745\n",
      "Epoch 160/200\n",
      "868/868 [==============================] - 0s 20us/step - loss: 0.0420 - acc: 0.9954 - f1: 0.9951 - val_loss: 0.0604 - val_acc: 0.9759 - val_f1: 0.9745\n",
      "Epoch 161/200\n",
      "868/868 [==============================] - 0s 20us/step - loss: 0.0556 - acc: 0.9839 - f1: 0.9832 - val_loss: 0.0604 - val_acc: 0.9759 - val_f1: 0.9745\n",
      "Epoch 162/200\n",
      "868/868 [==============================] - 0s 21us/step - loss: 0.0628 - acc: 0.9839 - f1: 0.9847 - val_loss: 0.0604 - val_acc: 0.9759 - val_f1: 0.9745\n",
      "Epoch 163/200\n",
      "868/868 [==============================] - 0s 20us/step - loss: 0.0446 - acc: 0.9931 - f1: 0.9932 - val_loss: 0.0604 - val_acc: 0.9759 - val_f1: 0.9745\n",
      "Epoch 164/200\n",
      "868/868 [==============================] - 0s 20us/step - loss: 0.0624 - acc: 0.9839 - f1: 0.9836 - val_loss: 0.0604 - val_acc: 0.9759 - val_f1: 0.9745\n",
      "Epoch 165/200\n",
      "868/868 [==============================] - 0s 20us/step - loss: 0.0603 - acc: 0.9850 - f1: 0.9860 - val_loss: 0.0604 - val_acc: 0.9759 - val_f1: 0.9745\n",
      "Epoch 166/200\n",
      "868/868 [==============================] - 0s 20us/step - loss: 0.0470 - acc: 0.9885 - f1: 0.9891 - val_loss: 0.0604 - val_acc: 0.9759 - val_f1: 0.9745\n",
      "Epoch 167/200\n",
      "868/868 [==============================] - 0s 20us/step - loss: 0.0514 - acc: 0.9908 - f1: 0.9902 - val_loss: 0.0604 - val_acc: 0.9759 - val_f1: 0.9745\n",
      "Epoch 168/200\n",
      "868/868 [==============================] - 0s 20us/step - loss: 0.0518 - acc: 0.9896 - f1: 0.9896 - val_loss: 0.0604 - val_acc: 0.9759 - val_f1: 0.9745\n",
      "Epoch 169/200\n",
      "868/868 [==============================] - 0s 19us/step - loss: 0.0467 - acc: 0.9896 - f1: 0.9881 - val_loss: 0.0604 - val_acc: 0.9759 - val_f1: 0.9745\n",
      "Epoch 170/200\n",
      "868/868 [==============================] - 0s 20us/step - loss: 0.0451 - acc: 0.9896 - f1: 0.9900 - val_loss: 0.0604 - val_acc: 0.9759 - val_f1: 0.9745\n",
      "Epoch 171/200\n",
      "868/868 [==============================] - 0s 20us/step - loss: 0.0600 - acc: 0.9896 - f1: 0.9893 - val_loss: 0.0604 - val_acc: 0.9759 - val_f1: 0.9745\n",
      "Epoch 172/200\n",
      "868/868 [==============================] - 0s 20us/step - loss: 0.0620 - acc: 0.9862 - f1: 0.9869 - val_loss: 0.0604 - val_acc: 0.9759 - val_f1: 0.9745\n",
      "Epoch 173/200\n",
      "868/868 [==============================] - 0s 20us/step - loss: 0.0685 - acc: 0.9827 - f1: 0.9822 - val_loss: 0.0604 - val_acc: 0.9759 - val_f1: 0.9745\n",
      "Epoch 174/200\n",
      "868/868 [==============================] - 0s 20us/step - loss: 0.0518 - acc: 0.9919 - f1: 0.9926 - val_loss: 0.0604 - val_acc: 0.9759 - val_f1: 0.9745\n",
      "Epoch 175/200\n",
      "868/868 [==============================] - 0s 19us/step - loss: 0.0562 - acc: 0.9885 - f1: 0.9881 - val_loss: 0.0604 - val_acc: 0.9759 - val_f1: 0.9745\n",
      "Epoch 176/200\n",
      "868/868 [==============================] - 0s 20us/step - loss: 0.0376 - acc: 0.9931 - f1: 0.9927 - val_loss: 0.0604 - val_acc: 0.9759 - val_f1: 0.9745\n",
      "Epoch 177/200\n",
      "868/868 [==============================] - 0s 20us/step - loss: 0.0511 - acc: 0.9908 - f1: 0.9912 - val_loss: 0.0604 - val_acc: 0.9759 - val_f1: 0.9745\n",
      "Epoch 178/200\n",
      "868/868 [==============================] - 0s 20us/step - loss: 0.0529 - acc: 0.9862 - f1: 0.9872 - val_loss: 0.0604 - val_acc: 0.9759 - val_f1: 0.9745\n",
      "Epoch 179/200\n",
      "868/868 [==============================] - 0s 20us/step - loss: 0.0460 - acc: 0.9919 - f1: 0.9928 - val_loss: 0.0604 - val_acc: 0.9759 - val_f1: 0.9745\n",
      "Epoch 180/200\n",
      "868/868 [==============================] - 0s 22us/step - loss: 0.0443 - acc: 0.9862 - f1: 0.9872 - val_loss: 0.0604 - val_acc: 0.9759 - val_f1: 0.9745\n",
      "Epoch 181/200\n",
      "868/868 [==============================] - 0s 21us/step - loss: 0.0415 - acc: 0.9931 - f1: 0.9927 - val_loss: 0.0604 - val_acc: 0.9759 - val_f1: 0.9745\n",
      "Epoch 182/200\n",
      "868/868 [==============================] - 0s 20us/step - loss: 0.0566 - acc: 0.9885 - f1: 0.9892 - val_loss: 0.0604 - val_acc: 0.9759 - val_f1: 0.9745\n",
      "Epoch 183/200\n",
      "868/868 [==============================] - 0s 20us/step - loss: 0.0571 - acc: 0.9896 - f1: 0.9898 - val_loss: 0.0604 - val_acc: 0.9759 - val_f1: 0.9745\n",
      "Epoch 184/200\n",
      "868/868 [==============================] - 0s 20us/step - loss: 0.0469 - acc: 0.9862 - f1: 0.9863 - val_loss: 0.0604 - val_acc: 0.9759 - val_f1: 0.9745\n",
      "Epoch 185/200\n",
      "868/868 [==============================] - 0s 20us/step - loss: 0.0540 - acc: 0.9896 - f1: 0.9894 - val_loss: 0.0604 - val_acc: 0.9759 - val_f1: 0.9745\n",
      "Epoch 186/200\n",
      "868/868 [==============================] - 0s 20us/step - loss: 0.0619 - acc: 0.9885 - f1: 0.9877 - val_loss: 0.0604 - val_acc: 0.9759 - val_f1: 0.9745\n",
      "Epoch 187/200\n",
      "868/868 [==============================] - 0s 20us/step - loss: 0.0605 - acc: 0.9862 - f1: 0.9867 - val_loss: 0.0604 - val_acc: 0.9759 - val_f1: 0.9745\n",
      "Epoch 188/200\n",
      "868/868 [==============================] - 0s 20us/step - loss: 0.0545 - acc: 0.9873 - f1: 0.9874 - val_loss: 0.0604 - val_acc: 0.9759 - val_f1: 0.9745\n",
      "Epoch 189/200\n",
      "868/868 [==============================] - 0s 20us/step - loss: 0.0502 - acc: 0.9873 - f1: 0.9879 - val_loss: 0.0604 - val_acc: 0.9759 - val_f1: 0.9745\n",
      "Epoch 190/200\n",
      "868/868 [==============================] - 0s 20us/step - loss: 0.0526 - acc: 0.9862 - f1: 0.9851 - val_loss: 0.0604 - val_acc: 0.9759 - val_f1: 0.9745\n",
      "Epoch 191/200\n",
      "868/868 [==============================] - 0s 20us/step - loss: 0.0560 - acc: 0.9885 - f1: 0.9887 - val_loss: 0.0604 - val_acc: 0.9759 - val_f1: 0.9745\n",
      "Epoch 192/200\n",
      "868/868 [==============================] - 0s 20us/step - loss: 0.0577 - acc: 0.9850 - f1: 0.9852 - val_loss: 0.0604 - val_acc: 0.9759 - val_f1: 0.9745\n",
      "Epoch 193/200\n",
      "868/868 [==============================] - 0s 20us/step - loss: 0.0417 - acc: 0.9896 - f1: 0.9900 - val_loss: 0.0604 - val_acc: 0.9759 - val_f1: 0.9745\n",
      "Epoch 194/200\n",
      "868/868 [==============================] - 0s 20us/step - loss: 0.0581 - acc: 0.9862 - f1: 0.9867 - val_loss: 0.0604 - val_acc: 0.9759 - val_f1: 0.9745\n",
      "Epoch 195/200\n",
      "868/868 [==============================] - 0s 20us/step - loss: 0.0540 - acc: 0.9885 - f1: 0.9876 - val_loss: 0.0604 - val_acc: 0.9759 - val_f1: 0.9745\n",
      "Epoch 196/200\n",
      "868/868 [==============================] - 0s 21us/step - loss: 0.0591 - acc: 0.9862 - f1: 0.9873 - val_loss: 0.0604 - val_acc: 0.9759 - val_f1: 0.9745\n",
      "Epoch 197/200\n",
      "868/868 [==============================] - 0s 21us/step - loss: 0.0575 - acc: 0.9873 - f1: 0.9878 - val_loss: 0.0604 - val_acc: 0.9759 - val_f1: 0.9745\n",
      "Epoch 198/200\n",
      "868/868 [==============================] - 0s 20us/step - loss: 0.0507 - acc: 0.9908 - f1: 0.9917 - val_loss: 0.0604 - val_acc: 0.9759 - val_f1: 0.9745\n",
      "Epoch 199/200\n",
      "868/868 [==============================] - 0s 20us/step - loss: 0.0576 - acc: 0.9839 - f1: 0.9846 - val_loss: 0.0604 - val_acc: 0.9759 - val_f1: 0.9745\n",
      "Epoch 200/200\n",
      "868/868 [==============================] - 0s 20us/step - loss: 0.0592 - acc: 0.9862 - f1: 0.9866 - val_loss: 0.0604 - val_acc: 0.9759 - val_f1: 0.9745\n"
     ]
    }
   ],
   "source": [
    "model = Sequential()\n",
    "from keras import backend as K\n",
    "\n",
    "def f1(y_true, y_pred):\n",
    "    def recall(y_true, y_pred):\n",
    "        \"\"\"Recall metric.\n",
    "\n",
    "        Only computes a batch-wise average of recall.\n",
    "\n",
    "        Computes the recall, a metric for multi-label classification of\n",
    "        how many relevant items are selected.\n",
    "        \"\"\"\n",
    "        true_positives = K.sum(K.round(K.clip(y_true * y_pred, 0, 1)))\n",
    "        possible_positives = K.sum(K.round(K.clip(y_true, 0, 1)))\n",
    "        recall = true_positives / (possible_positives + K.epsilon())\n",
    "        return recall\n",
    "\n",
    "    def precision(y_true, y_pred):\n",
    "        \"\"\"Precision metric.\n",
    "\n",
    "        Only computes a batch-wise average of precision.\n",
    "\n",
    "        Computes the precision, a metric for multi-label classification of\n",
    "        how many selected items are relevant.\n",
    "        \"\"\"\n",
    "        true_positives = K.sum(K.round(K.clip(y_true * y_pred, 0, 1)))\n",
    "        predicted_positives = K.sum(K.round(K.clip(y_pred, 0, 1)))\n",
    "        precision = true_positives / (predicted_positives + K.epsilon())\n",
    "        return precision\n",
    "    precision = precision(y_true, y_pred)\n",
    "    recall = recall(y_true, y_pred)\n",
    "    return 2*((precision*recall)/(precision+recall+K.epsilon()))\n",
    "\n",
    "\n",
    "model.compile(loss='binary_crossentropy',\n",
    "          optimizer= \"adam\",\n",
    "          metrics=[f1])\n",
    "#######\n",
    "\n",
    "class myCallback(tf.keras.callbacks.Callback):\n",
    "    def on_epoch_end(self, epoch, logs={}):\n",
    "        if logs.get('acc') > .999:\n",
    "            self.model.stop_training=True\n",
    "\n",
    "earlystop = myCallback()\n",
    "reduce_lr = ReduceLROnPlateau(monitor='loss', patience=2, factor=0.3, min_lr=0.00000001, verbose=1)\n",
    "\n",
    "epochs=200\n",
    "model = Sequential()\n",
    "\n",
    "model.add(Dense(256, activation=\"relu\", input_shape=(X_train.shape[1],)))\n",
    "model.add(Dropout(rate=0.5))\n",
    "model.add(Dense(128, activation=\"relu\"))\n",
    "model.add(Dropout(rate=0.5))\n",
    "model.add(Dense(64, activation=\"relu\"))\n",
    "model.add(Dropout(rate=0.5))\n",
    "model.add(Dense(32, activation=\"relu\"))\n",
    "model.add(Dropout(rate=0.5))\n",
    "model.add(Dense(1, activation=\"sigmoid\"))\n",
    "\n",
    "model.compile(\n",
    "#     optimizer=\"adam\",\n",
    "    optimizer=Adam(lr=0.003),\n",
    "    loss=\"binary_crossentropy\",\n",
    "    metrics=[\"acc\", f1])\n",
    "\n",
    "history = model.fit(\n",
    "    X_train, y_train,\n",
    "    batch_size=100,\n",
    "    epochs=epochs,\n",
    "    validation_data=(X_test, y_test),\n",
    "    callbacks = [reduce_lr, earlystop],\n",
    "#     verbose=0,\n",
    ")"
   ]
  },
  {
   "cell_type": "code",
   "execution_count": 30,
   "metadata": {},
   "outputs": [
    {
     "data": {
      "text/plain": [
       "array([[147,   7],\n",
       "       [  0, 136]])"
      ]
     },
     "execution_count": 30,
     "metadata": {},
     "output_type": "execute_result"
    }
   ],
   "source": [
    "confusion_matrix(y_test, model.predict_classes(X_test))"
   ]
  },
  {
   "cell_type": "code",
   "execution_count": 31,
   "metadata": {},
   "outputs": [
    {
     "data": {
      "text/html": [
       "<div>\n",
       "<style scoped>\n",
       "    .dataframe tbody tr th:only-of-type {\n",
       "        vertical-align: middle;\n",
       "    }\n",
       "\n",
       "    .dataframe tbody tr th {\n",
       "        vertical-align: top;\n",
       "    }\n",
       "\n",
       "    .dataframe thead th {\n",
       "        text-align: right;\n",
       "    }\n",
       "</style>\n",
       "<table border=\"1\" class=\"dataframe\">\n",
       "  <thead>\n",
       "    <tr style=\"text-align: right;\">\n",
       "      <th></th>\n",
       "      <th>Player_name</th>\n",
       "      <th>DRAFT_YEAR+1</th>\n",
       "      <th>neural</th>\n",
       "    </tr>\n",
       "  </thead>\n",
       "  <tbody>\n",
       "    <tr>\n",
       "      <th>124</th>\n",
       "      <td>De'Aaron Fox</td>\n",
       "      <td>2018.0</td>\n",
       "      <td>1</td>\n",
       "    </tr>\n",
       "    <tr>\n",
       "      <th>160</th>\n",
       "      <td>Donovan Mitchell</td>\n",
       "      <td>2018.0</td>\n",
       "      <td>1</td>\n",
       "    </tr>\n",
       "    <tr>\n",
       "      <th>265</th>\n",
       "      <td>Jarrett Allen</td>\n",
       "      <td>2018.0</td>\n",
       "      <td>1</td>\n",
       "    </tr>\n",
       "    <tr>\n",
       "      <th>365</th>\n",
       "      <td>Kyle Kuzma</td>\n",
       "      <td>2018.0</td>\n",
       "      <td>1</td>\n",
       "    </tr>\n",
       "    <tr>\n",
       "      <th>378</th>\n",
       "      <td>Lauri Markkanen</td>\n",
       "      <td>2018.0</td>\n",
       "      <td>1</td>\n",
       "    </tr>\n",
       "    <tr>\n",
       "      <th>156</th>\n",
       "      <td>Domantas Sabonis</td>\n",
       "      <td>2017.0</td>\n",
       "      <td>1</td>\n",
       "    </tr>\n",
       "    <tr>\n",
       "      <th>248</th>\n",
       "      <td>Jamal Murray</td>\n",
       "      <td>2017.0</td>\n",
       "      <td>1</td>\n",
       "    </tr>\n",
       "    <tr>\n",
       "      <th>147</th>\n",
       "      <td>Devin Booker</td>\n",
       "      <td>2016.0</td>\n",
       "      <td>1</td>\n",
       "    </tr>\n",
       "    <tr>\n",
       "      <th>363</th>\n",
       "      <td>Kristaps Porzingis</td>\n",
       "      <td>2016.0</td>\n",
       "      <td>1</td>\n",
       "    </tr>\n",
       "    <tr>\n",
       "      <th>438</th>\n",
       "      <td>Montrezl Harrell</td>\n",
       "      <td>2016.0</td>\n",
       "      <td>1</td>\n",
       "    </tr>\n",
       "    <tr>\n",
       "      <th>495</th>\n",
       "      <td>Richaun Holmes</td>\n",
       "      <td>2016.0</td>\n",
       "      <td>1</td>\n",
       "    </tr>\n",
       "    <tr>\n",
       "      <th>506</th>\n",
       "      <td>Rondae Hollis-Jefferson</td>\n",
       "      <td>2016.0</td>\n",
       "      <td>1</td>\n",
       "    </tr>\n",
       "    <tr>\n",
       "      <th>15</th>\n",
       "      <td>Alec Peters</td>\n",
       "      <td>2018.0</td>\n",
       "      <td>0</td>\n",
       "    </tr>\n",
       "    <tr>\n",
       "      <th>40</th>\n",
       "      <td>Bam Adebayo</td>\n",
       "      <td>2018.0</td>\n",
       "      <td>0</td>\n",
       "    </tr>\n",
       "    <tr>\n",
       "      <th>63</th>\n",
       "      <td>Caleb Swanigan</td>\n",
       "      <td>2018.0</td>\n",
       "      <td>0</td>\n",
       "    </tr>\n",
       "    <tr>\n",
       "      <th>98</th>\n",
       "      <td>D.J. Wilson</td>\n",
       "      <td>2018.0</td>\n",
       "      <td>0</td>\n",
       "    </tr>\n",
       "    <tr>\n",
       "      <th>106</th>\n",
       "      <td>Damyean Dotson</td>\n",
       "      <td>2018.0</td>\n",
       "      <td>0</td>\n",
       "    </tr>\n",
       "    <tr>\n",
       "      <th>123</th>\n",
       "      <td>Davon Reed</td>\n",
       "      <td>2018.0</td>\n",
       "      <td>0</td>\n",
       "    </tr>\n",
       "    <tr>\n",
       "      <th>139</th>\n",
       "      <td>Dennis Smith</td>\n",
       "      <td>2018.0</td>\n",
       "      <td>0</td>\n",
       "    </tr>\n",
       "    <tr>\n",
       "      <th>145</th>\n",
       "      <td>Derrick White</td>\n",
       "      <td>2018.0</td>\n",
       "      <td>0</td>\n",
       "    </tr>\n",
       "    <tr>\n",
       "      <th>154</th>\n",
       "      <td>Dillon Brooks</td>\n",
       "      <td>2018.0</td>\n",
       "      <td>0</td>\n",
       "    </tr>\n",
       "    <tr>\n",
       "      <th>167</th>\n",
       "      <td>Dwayne Bacon</td>\n",
       "      <td>2018.0</td>\n",
       "      <td>0</td>\n",
       "    </tr>\n",
       "    <tr>\n",
       "      <th>173</th>\n",
       "      <td>Edmond Sumner</td>\n",
       "      <td>2018.0</td>\n",
       "      <td>0</td>\n",
       "    </tr>\n",
       "    <tr>\n",
       "      <th>189</th>\n",
       "      <td>Frank Jackson</td>\n",
       "      <td>2018.0</td>\n",
       "      <td>0</td>\n",
       "    </tr>\n",
       "    <tr>\n",
       "      <th>191</th>\n",
       "      <td>Frank Mason</td>\n",
       "      <td>2018.0</td>\n",
       "      <td>0</td>\n",
       "    </tr>\n",
       "    <tr>\n",
       "      <th>192</th>\n",
       "      <td>Frank Ntilikina</td>\n",
       "      <td>2018.0</td>\n",
       "      <td>0</td>\n",
       "    </tr>\n",
       "    <tr>\n",
       "      <th>218</th>\n",
       "      <td>Harry Giles</td>\n",
       "      <td>2018.0</td>\n",
       "      <td>0</td>\n",
       "    </tr>\n",
       "    <tr>\n",
       "      <th>225</th>\n",
       "      <td>Ike Anigbogu</td>\n",
       "      <td>2018.0</td>\n",
       "      <td>0</td>\n",
       "    </tr>\n",
       "    <tr>\n",
       "      <th>229</th>\n",
       "      <td>Isaiah Hartenstein</td>\n",
       "      <td>2018.0</td>\n",
       "      <td>0</td>\n",
       "    </tr>\n",
       "    <tr>\n",
       "      <th>232</th>\n",
       "      <td>Ivan Rabb</td>\n",
       "      <td>2018.0</td>\n",
       "      <td>0</td>\n",
       "    </tr>\n",
       "  </tbody>\n",
       "</table>\n",
       "</div>"
      ],
      "text/plain": [
       "                 Player_name  DRAFT_YEAR+1  neural\n",
       "124             De'Aaron Fox        2018.0       1\n",
       "160         Donovan Mitchell        2018.0       1\n",
       "265            Jarrett Allen        2018.0       1\n",
       "365               Kyle Kuzma        2018.0       1\n",
       "378          Lauri Markkanen        2018.0       1\n",
       "156         Domantas Sabonis        2017.0       1\n",
       "248             Jamal Murray        2017.0       1\n",
       "147             Devin Booker        2016.0       1\n",
       "363       Kristaps Porzingis        2016.0       1\n",
       "438         Montrezl Harrell        2016.0       1\n",
       "495           Richaun Holmes        2016.0       1\n",
       "506  Rondae Hollis-Jefferson        2016.0       1\n",
       "15               Alec Peters        2018.0       0\n",
       "40               Bam Adebayo        2018.0       0\n",
       "63            Caleb Swanigan        2018.0       0\n",
       "98               D.J. Wilson        2018.0       0\n",
       "106           Damyean Dotson        2018.0       0\n",
       "123               Davon Reed        2018.0       0\n",
       "139             Dennis Smith        2018.0       0\n",
       "145            Derrick White        2018.0       0\n",
       "154            Dillon Brooks        2018.0       0\n",
       "167             Dwayne Bacon        2018.0       0\n",
       "173            Edmond Sumner        2018.0       0\n",
       "189            Frank Jackson        2018.0       0\n",
       "191              Frank Mason        2018.0       0\n",
       "192          Frank Ntilikina        2018.0       0\n",
       "218              Harry Giles        2018.0       0\n",
       "225             Ike Anigbogu        2018.0       0\n",
       "229       Isaiah Hartenstein        2018.0       0\n",
       "232                Ivan Rabb        2018.0       0"
      ]
     },
     "execution_count": 31,
     "metadata": {},
     "output_type": "execute_result"
    }
   ],
   "source": [
    "master = test_master_agg[features]\n",
    "master_nn = ss.fit_transform(master)\n",
    "predicted_player_nn = pd.DataFrame(index=master.index)\n",
    "predicted_player_nn[['Player_name', 'DRAFT_YEAR+1']] = test_master_agg[['Player_name', 'DRAFT_YEAR+1']]\n",
    "predicted_player_nn['neural'] = model.predict_classes(master_nn)\n",
    "predicted_player_nn.sort_values(by=['neural', \"DRAFT_YEAR+1\"], ascending=(False, False)).head(30)"
   ]
  },
  {
   "cell_type": "code",
   "execution_count": 33,
   "metadata": {},
   "outputs": [
    {
     "data": {
      "image/png": "[encoded data removed]",
      "text/plain": [
       "<Figure size 864x576 with 1 Axes>"
      ]
     },
     "metadata": {
      "needs_background": "light"
     },
     "output_type": "display_data"
    }
   ],
   "source": [
    "import matplotlib.pyplot as plt\n",
    "ticks_1 = (np.linspace(0, epochs-1, 20).astype(int))\n",
    "ticks_2 = (np.linspace(1, epochs, 20).astype(int))\n",
    "\n",
    "# Check out our train loss and test loss over epochs.\n",
    "train_loss = history.history['loss']\n",
    "test_loss = history.history['val_loss']\n",
    "\n",
    "# Set figure size.\n",
    "plt.figure(figsize=(12, 8))\n",
    "\n",
    "# Generate line plot of training, testing loss over epochs.\n",
    "plt.plot(train_loss, label='Training Loss', color='#185fad')\n",
    "plt.plot(test_loss, label='Testing Loss', color='orange')\n",
    "\n",
    "# Set title\n",
    "plt.title('Training and Testing Loss by Epoch', fontsize = 25)\n",
    "plt.xlabel('Epoch', fontsize = 18)\n",
    "plt.ylabel('Categorical Crossentropy', fontsize = 18)\n",
    "plt.xticks(ticks_1, ticks_2)\n",
    "plt.legend(fontsize = 18);"
   ]
  },
  {
   "cell_type": "code",
   "execution_count": 34,
   "metadata": {},
   "outputs": [
    {
     "data": {
      "image/png": "[encoded data removed]",
      "text/plain": [
       "<Figure size 864x576 with 1 Axes>"
      ]
     },
     "metadata": {
      "needs_background": "light"
     },
     "output_type": "display_data"
    }
   ],
   "source": [
    "ticks_1 = (np.linspace(0, epochs-1, 20).astype(int))\n",
    "ticks_2 = (np.linspace(1, epochs, 20).astype(int))\n",
    "\n",
    "# Check out our train accuracy and accuracy loss over epochs.\n",
    "train_loss = history.history['acc']\n",
    "test_loss = history.history['val_acc']\n",
    "\n",
    "# Set figure size.\n",
    "plt.figure(figsize=(12, 8))\n",
    "\n",
    "# Generate line plot of training, testing accuracy over epochs.\n",
    "plt.plot(train_loss, label='Training Accuracy', color='#185fad')\n",
    "plt.plot(test_loss, label='Testing Accuracy', color='orange')\n",
    "\n",
    "# Set title\n",
    "plt.title('Training and Testing Accuracy by Epoch', fontsize = 25)\n",
    "plt.xlabel('Epoch', fontsize = 18)\n",
    "plt.ylabel('Categorical Crossentropy', fontsize = 18)\n",
    "plt.xticks(ticks_1, ticks_2)\n",
    "plt.legend(fontsize = 18);"
   ]
  },
  {
   "cell_type": "code",
   "execution_count": 35,
   "metadata": {},
   "outputs": [
    {
     "data": {
      "image/png": "[encoded data removed]",
      "text/plain": [
       "<Figure size 864x576 with 1 Axes>"
      ]
     },
     "metadata": {
      "needs_background": "light"
     },
     "output_type": "display_data"
    }
   ],
   "source": [
    "ticks_1 = (np.linspace(0, epochs-1, 20).astype(int))\n",
    "ticks_2 = (np.linspace(1, epochs, 20).astype(int))\n",
    "\n",
    "# Check out our train accuracy and accuracy loss over epochs.\n",
    "train_loss = history.history['f1']\n",
    "test_loss = history.history['val_f1']\n",
    "\n",
    "# Set figure size.\n",
    "plt.figure(figsize=(12, 8))\n",
    "\n",
    "# Gaenerate line plot of training, testing accuracy over epochs.\n",
    "plt.plot(train_loss, label='Training F1-Score', color='#185fad')\n",
    "plt.plot(test_loss, label='Testing F1-Score', color='orange')\n",
    "\n",
    "# Set title\n",
    "plt.title('Training and Testing F1-Score by Epoch', fontsize = 25)\n",
    "plt.xlabel('Epoch', fontsize = 18)\n",
    "plt.ylabel('Categorical Crossentropy', fontsize = 18)\n",
    "plt.xticks(ticks_1, ticks_2)\n",
    "plt.legend(fontsize = 18);"
   ]
  },
  {
   "cell_type": "code",
   "execution_count": 36,
   "metadata": {},
   "outputs": [
    {
     "ename": "NameError",
     "evalue": "name 'test_master' is not defined",
     "output_type": "error",
     "traceback": [
      "\u001b[0;31m---------------------------------------------------------------------------\u001b[0m",
      "\u001b[0;31mNameError\u001b[0m                                 Traceback (most recent call last)",
      "\u001b[0;32m<ipython-input-36-50a2c1500537>\u001b[0m in \u001b[0;36m<module>\u001b[0;34m\u001b[0m\n\u001b[0;32m----> 1\u001b[0;31m \u001b[0mtest_master_w_predictions\u001b[0m \u001b[0;34m=\u001b[0m \u001b[0mpd\u001b[0m\u001b[0;34m.\u001b[0m\u001b[0mmerge\u001b[0m\u001b[0;34m(\u001b[0m\u001b[0mtest_master\u001b[0m\u001b[0;34m,\u001b[0m \u001b[0mpredicted_player_nn\u001b[0m\u001b[0;34m,\u001b[0m \u001b[0mleft_on\u001b[0m\u001b[0;34m=\u001b[0m\u001b[0;34m'Player_name'\u001b[0m\u001b[0;34m,\u001b[0m \u001b[0mright_on\u001b[0m\u001b[0;34m=\u001b[0m\u001b[0;34m'Player_name'\u001b[0m\u001b[0;34m)\u001b[0m\u001b[0;34m\u001b[0m\u001b[0;34m\u001b[0m\u001b[0m\n\u001b[0m\u001b[1;32m      2\u001b[0m \u001b[0mtest_master_w_predictions\u001b[0m \u001b[0;34m=\u001b[0m \u001b[0mpd\u001b[0m\u001b[0;34m.\u001b[0m\u001b[0mmerge\u001b[0m\u001b[0;34m(\u001b[0m\u001b[0mtest_master_w_predictions\u001b[0m\u001b[0;34m,\u001b[0m \u001b[0mpredicted_player\u001b[0m\u001b[0;34m,\u001b[0m \u001b[0mleft_on\u001b[0m\u001b[0;34m=\u001b[0m\u001b[0;34m'Player_name'\u001b[0m\u001b[0;34m,\u001b[0m \u001b[0mright_on\u001b[0m\u001b[0;34m=\u001b[0m\u001b[0;34m'Player_name'\u001b[0m\u001b[0;34m)\u001b[0m\u001b[0;34m\u001b[0m\u001b[0;34m\u001b[0m\u001b[0m\n\u001b[1;32m      3\u001b[0m \u001b[0mtest_master_w_predictions\u001b[0m\u001b[0;34m.\u001b[0m\u001b[0mdrop\u001b[0m\u001b[0;34m(\u001b[0m\u001b[0mcolumns\u001b[0m\u001b[0;34m=\u001b[0m\u001b[0;34m[\u001b[0m\u001b[0;34m'lr_class'\u001b[0m\u001b[0;34m,\u001b[0m \u001b[0;34m'lr_class'\u001b[0m\u001b[0;34m,\u001b[0m \u001b[0;34m'tree_class'\u001b[0m\u001b[0;34m,\u001b[0m \u001b[0;34m'ada_class'\u001b[0m\u001b[0;34m,\u001b[0m \u001b[0;34m'knn_class'\u001b[0m\u001b[0;34m,\u001b[0m \u001b[0;34m'bag_class'\u001b[0m\u001b[0;34m,\u001b[0m \u001b[0;34m'svc'\u001b[0m\u001b[0;34m,\u001b[0m \u001b[0;34m'grad'\u001b[0m\u001b[0;34m,\u001b[0m \u001b[0;34m'forest_class'\u001b[0m\u001b[0;34m,\u001b[0m \u001b[0;34m'DRAFT_YEAR+1_x'\u001b[0m\u001b[0;34m,\u001b[0m \u001b[0;34m'DRAFT_YEAR+1_y'\u001b[0m\u001b[0;34m]\u001b[0m\u001b[0;34m,\u001b[0m \u001b[0minplace\u001b[0m\u001b[0;34m=\u001b[0m\u001b[0;32mTrue\u001b[0m\u001b[0;34m)\u001b[0m\u001b[0;34m\u001b[0m\u001b[0;34m\u001b[0m\u001b[0m\n\u001b[1;32m      4\u001b[0m \u001b[0mtest_master_w_predictions\u001b[0m\u001b[0;34m.\u001b[0m\u001b[0msort_values\u001b[0m\u001b[0;34m(\u001b[0m\u001b[0mby\u001b[0m\u001b[0;34m=\u001b[0m\u001b[0;34m[\u001b[0m\u001b[0;34m'target'\u001b[0m\u001b[0;34m,\u001b[0m\u001b[0;34m'neural'\u001b[0m\u001b[0;34m]\u001b[0m\u001b[0;34m,\u001b[0m \u001b[0mascending\u001b[0m\u001b[0;34m=\u001b[0m\u001b[0;34m(\u001b[0m\u001b[0;32mFalse\u001b[0m\u001b[0;34m,\u001b[0m \u001b[0;32mFalse\u001b[0m\u001b[0;34m)\u001b[0m\u001b[0;34m)\u001b[0m\u001b[0;34m\u001b[0m\u001b[0;34m\u001b[0m\u001b[0m\n",
      "\u001b[0;31mNameError\u001b[0m: name 'test_master' is not defined"
     ]
    }
   ],
   "source": [
    "test_master_w_predictions = pd.merge(test_master, predicted_player_nn, left_on='Player_name', right_on='Player_name')\n",
    "test_master_w_predictions = pd.merge(test_master_w_predictions, predicted_player, left_on='Player_name', right_on='Player_name')\n",
    "test_master_w_predictions.drop(columns=['lr_class', 'lr_class', 'tree_class', 'ada_class', 'knn_class', 'bag_class', 'svc', 'grad', 'forest_class', 'DRAFT_YEAR+1_x', 'DRAFT_YEAR+1_y'], inplace=True)\n",
    "test_master_w_predictions.sort_values(by=['target','neural'], ascending=(False, False))"
   ]
  },
  {
   "cell_type": "code",
   "execution_count": null,
   "metadata": {},
   "outputs": [],
   "source": [
    "['aggrnyl', 'agsunset', 'algae', 'amp', 'armyrose', 'balance',\n",
    "             'blackbody', 'bluered', 'blues', 'blugrn', 'bluyl', 'brbg',\n",
    "             'brwnyl', 'bugn', 'bupu', 'burg', 'burgyl', 'cividis', 'curl',\n",
    "             'darkmint', 'deep', 'delta', 'dense', 'earth', 'edge', 'electric',\n",
    "             'emrld', 'fall', 'geyser', 'gnbu', 'gray', 'greens', 'greys',\n",
    "             'haline', 'hot', 'hsv', 'ice', 'icefire', 'inferno', 'jet',\n",
    "             'magenta', 'magma', 'matter', 'mint', 'mrybm', 'mygbm', 'oranges',\n",
    "             'orrd', 'oryel', 'peach', 'phase', 'picnic', 'pinkyl', 'piyg',\n",
    "             'plasma', 'plotly3', 'portland', 'prgn', 'pubu', 'pubugn', 'puor',\n",
    "             'purd', 'purp', 'purples', 'purpor', 'rainbow', 'rdbu', 'rdgy',\n",
    "             'rdpu', 'rdylbu', 'rdylgn', 'redor', 'reds', 'solar', 'spectral',\n",
    "             'speed', 'sunset', 'sunsetdark', 'teal', 'tealgrn', 'tealrose',\n",
    "             'tempo', 'temps', 'thermal', 'tropic', 'turbid', 'twilight',\n",
    "             'viridis', 'ylgn', 'ylgnbu', 'ylorbr', 'ylorrd']\n",
    "\n"
   ]
  },
  {
   "cell_type": "code",
   "execution_count": 180,
   "metadata": {},
   "outputs": [
    {
     "data": {
      "application/vnd.plotly.v1+json": {
       "config": {
        "plotlyServerURL": "https://plot.ly"
       },
       "data": [
        {
         "customdata": [
          [
           15.8,
           17.9,
           1913,
           2.4,
           21
          ],
          [
           15.9,
           18.5,
           2096,
           2.4,
           20
          ],
          [
           24.5,
           18.1,
           2546,
           2,
           21
          ],
          [
           23.8,
           14,
           2314,
           0.2,
           23
          ],
          [
           25.1,
           17.1,
           1682,
           0,
           21
          ],
          [
           31.6,
           17.2,
           2598,
           1.7,
           22
          ],
          [
           22.1,
           15.1,
           2455,
           0.8,
           20
          ],
          [
           22.8,
           16.1,
           2565,
           1.2,
           20
          ],
          [
           22.1,
           17.5,
           1810,
           0.8,
           21
          ],
          [
           22.3,
           20,
           2732,
           4.6,
           21
          ],
          [
           28.6,
           14.6,
           2730,
           -0.2,
           20
          ],
          [
           17.6,
           19.2,
           1064,
           0.8,
           23
          ],
          [
           18.7,
           13.7,
           1761,
           0.4,
           22
          ],
          [
           18.6,
           18.6,
           1193,
           1.1,
           23
          ],
          [
           24.3,
           17.4,
           2164,
           1.2,
           21
          ],
          [
           26.6,
           15.3,
           1811,
           0.7,
           20
          ],
          [
           19.5,
           18.5,
           2541,
           2.8,
           20
          ]
         ],
         "hoverlabel": {
          "namelength": 0
         },
         "hovertemplate": "<b>%{hovertext}</b><br><br>neural=%{marker.color}<br>WS=%{x}<br>VORP=%{customdata[3]}<br>MP=%{customdata[2]}<br>USG%=%{customdata[0]}<br>PER=%{customdata[1]}<br>Age=%{customdata[4]}",
         "hovertext": [
          "Bam Adebayo",
          "Jarrett Allen",
          "De'Aaron Fox",
          "Kyle Kuzma",
          "Lauri Markkanen",
          "Donovan Mitchell",
          "Jayson Tatum",
          "Jamal Murray",
          "Domantas Sabonis",
          "Ben Simmons",
          "Devin Booker",
          "Montrezl Harrell",
          "Rondae Hollis-Jefferson",
          "Richaun Holmes",
          "Kristaps Porzingis",
          "D'Angelo Russell",
          "Myles Turner"
         ],
         "legendgroup": "neural=1",
         "marker": {
          "color": [
           1,
           1,
           1,
           1,
           1,
           1,
           1,
           1,
           1,
           1,
           1,
           1,
           1,
           1,
           1,
           1,
           1
          ],
          "coloraxis": "coloraxis",
          "line": {
           "color": "DarkSlateGrey",
           "width": 1
          },
          "size": 10,
          "symbol": "circle"
         },
         "mode": "markers",
         "name": "neural=1",
         "scene": "scene",
         "showlegend": true,
         "type": "scatter3d",
         "x": [
          6.8,
          7.6,
          5.6,
          3.1,
          2.7,
          5,
          5,
          5.5,
          4.7,
          9.2,
          2,
          4.1,
          2.6,
          3.8,
          4.5,
          1.3,
          8
         ],
         "y": [
          2.4,
          2.4,
          2,
          0.2,
          0,
          1.7,
          0.8,
          1.2,
          0.8,
          4.6,
          -0.2,
          0.8,
          0.4,
          1.1,
          1.2,
          0.7,
          2.8
         ],
         "z": [
          1913,
          2096,
          2546,
          2314,
          1682,
          2598,
          2455,
          2565,
          1810,
          2732,
          2730,
          1064,
          1761,
          1193,
          2164,
          1811,
          2541
         ]
        },
        {
         "customdata": [
          [
           19.6,
           16.2,
           416,
           0.1,
           26
          ],
          [
           29.1,
           -6,
           6,
           0,
           20
          ],
          [
           15.5,
           9.8,
           1352,
           0.3,
           21
          ],
          [
           16.8,
           11.7,
           759,
           -0.3,
           23
          ],
          [
           16.9,
           11.7,
           1423,
           0.9,
           21
          ],
          [
           13.7,
           12.9,
           788,
           0.3,
           24
          ],
          [
           12.2,
           10.2,
           439,
           -0.3,
           25
          ],
          [
           13.8,
           12.7,
           639,
           0.5,
           23
          ],
          [
           23.6,
           19.6,
           36,
           0,
           21
          ],
          [
           20.9,
           7.6,
           330,
           -0.3,
           23
          ],
          [
           15.2,
           10.9,
           1034,
           0.1,
           23
          ],
          [
           16.6,
           13.5,
           1356,
           0.7,
           21
          ],
          [
           17.9,
           7.8,
           251,
           -0.3,
           22
          ],
          [
           20.7,
           13.1,
           447,
           0,
           22
          ],
          [
           17.3,
           10.8,
           2004,
           -0.2,
           24
          ],
          [
           12.7,
           0.7,
           64,
           -0.1,
           22
          ],
          [
           40.7,
           -38.1,
           1,
           0,
           22
          ],
          [
           10.6,
           6.4,
           1931,
           0,
           20
          ],
          [
           19.3,
           10.5,
           427,
           -0.1,
           20
          ],
          [
           23.2,
           14.4,
           820,
           0,
           20
          ],
          [
           13.5,
           9.3,
           1715,
           0.6,
           23
          ],
          [
           11.8,
           10,
           221,
           0.1,
           20
          ],
          [
           16.3,
           13,
           1996,
           1.1,
           21
          ],
          [
           12.8,
           8.7,
           1233,
           -0.2,
           24
          ],
          [
           18.5,
           9.4,
           1169,
           -0.9,
           20
          ],
          [
           23.9,
           10.6,
           1988,
           -1.4,
           21
          ],
          [
           12.9,
           10.1,
           1083,
           0.1,
           23
          ],
          [
           17,
           13.9,
           531,
           0.1,
           23
          ],
          [
           18.1,
           11.9,
           1437,
           0.2,
           22
          ],
          [
           17.5,
           16.9,
           522,
           0.1,
           21
          ],
          [
           10.6,
           9.3,
           94,
           0,
           22
          ],
          [
           21.8,
           12.4,
           435,
           -0.3,
           24
          ],
          [
           24.6,
           11.8,
           1258,
           -0.6,
           20
          ],
          [
           17.1,
           16.2,
           1970,
           1.1,
           23
          ],
          [
           16.6,
           6,
           904,
           -0.8,
           20
          ],
          [
           14.1,
           8.5,
           594,
           -0.3,
           24
          ],
          [
           15.7,
           10.5,
           21,
           0,
           21
          ],
          [
           17.2,
           16.1,
           721,
           0.2,
           21
          ],
          [
           12.1,
           8.1,
           47,
           0,
           23
          ],
          [
           23.3,
           11.5,
           908,
           -0.1,
           21
          ],
          [
           27,
           13.5,
           600,
           -0.1,
           21
          ],
          [
           17.6,
           7.6,
           210,
           -0.1,
           23
          ],
          [
           18.4,
           3.1,
           145,
           -0.3,
           21
          ],
          [
           14.9,
           11.7,
           33,
           0,
           21
          ],
          [
           11.3,
           5.2,
           313,
           -0.2,
           24
          ],
          [
           17.7,
           14.8,
           1728,
           1.3,
           24
          ],
          [
           14.4,
           10.3,
           882,
           0.1,
           22
          ],
          [
           16.1,
           16.6,
           80,
           0,
           21
          ],
          [
           16.2,
           9,
           583,
           -0.5,
           21
          ],
          [
           18.2,
           7.6,
           455,
           -0.3,
           23
          ],
          [
           12.7,
           7.1,
           2069,
           -0.4,
           20
          ],
          [
           12.6,
           11.7,
           38,
           -0.1,
           24
          ],
          [
           19.1,
           14.3,
           1436,
           0.2,
           25
          ],
          [
           21.4,
           13.6,
           2152,
           1,
           21
          ],
          [
           18.1,
           11.1,
           1527,
           0,
           20
          ],
          [
           15.3,
           16.6,
           943,
           0.3,
           21
          ],
          [
           17.4,
           17,
           581,
           -0.2,
           21
          ],
          [
           24.7,
           14.5,
           1525,
           0.7,
           23
          ],
          [
           23.8,
           10.5,
           329,
           -0.4,
           21
          ],
          [
           19.9,
           18.2,
           28,
           0,
           22
          ],
          [
           24.3,
           16.1,
           2024,
           0.9,
           25
          ],
          [
           22.2,
           13.8,
           1975,
           0.4,
           20
          ],
          [
           13.9,
           6.8,
           89,
           -0.1,
           22
          ],
          [
           16.9,
           3.4,
           80,
           -0.1,
           20
          ],
          [
           14.6,
           4.9,
           160,
           -0.1,
           23
          ],
          [
           22.5,
           14.2,
           1864,
           0.7,
           23
          ],
          [
           14.6,
           10.2,
           1238,
           -0.2,
           20
          ],
          [
           12.8,
           7.4,
           961,
           -0.3,
           22
          ],
          [
           20.7,
           15.1,
           1743,
           1.4,
           21
          ],
          [
           17.1,
           5.1,
           522,
           -0.5,
           24
          ],
          [
           20.9,
           9.2,
           32,
           0,
           24
          ],
          [
           16.1,
           -3.2,
           22,
           -0.1,
           21
          ],
          [
           23,
           9.1,
           28,
           0,
           24
          ],
          [
           16.8,
           1.9,
           124,
           -0.2,
           22
          ],
          [
           15.7,
           14.5,
           1679,
           1.7,
           23
          ],
          [
           18.5,
           10.1,
           1658,
           -1.3,
           22
          ],
          [
           17.5,
           12.1,
           2095,
           0.8,
           24
          ],
          [
           16.6,
           10.1,
           851,
           0,
           23
          ],
          [
           22.1,
           12.8,
           2464,
           0.8,
           23
          ],
          [
           28.5,
           11.5,
           180,
           -0.2,
           22
          ],
          [
           15.7,
           12.3,
           235,
           0.1,
           22
          ],
          [
           15.2,
           5.2,
           824,
           -0.8,
           23
          ],
          [
           18.8,
           24.2,
           214,
           0.1,
           21
          ],
          [
           17.6,
           15.3,
           410,
           0,
           20
          ],
          [
           19.7,
           16.3,
           1421,
           0.3,
           23
          ],
          [
           13.1,
           10.4,
           219,
           -0.1,
           25
          ],
          [
           13,
           11.8,
           316,
           0,
           24
          ],
          [
           14.9,
           13.1,
           1419,
           0.3,
           22
          ],
          [
           16,
           13.2,
           1028,
           0.4,
           24
          ],
          [
           16.4,
           8.7,
           1474,
           -0.2,
           22
          ],
          [
           20.3,
           19,
           1324,
           0.7,
           22
          ],
          [
           18.8,
           7.2,
           960,
           -0.9,
           21
          ],
          [
           19.3,
           5.9,
           381,
           -0.4,
           23
          ],
          [
           4.8,
           -3.2,
           9,
           0,
           23
          ],
          [
           14.8,
           7.2,
           1371,
           0,
           20
          ],
          [
           13.6,
           13.8,
           774,
           0,
           20
          ],
          [
           21.8,
           13,
           1954,
           0.2,
           23
          ],
          [
           13.4,
           13.6,
           447,
           0.3,
           20
          ],
          [
           21.7,
           9.9,
           1158,
           -0.3,
           21
          ],
          [
           16.4,
           8.7,
           558,
           -0.6,
           22
          ],
          [
           15.5,
           9.8,
           141,
           -0.1,
           22
          ],
          [
           22.6,
           10.9,
           1406,
           -0.6,
           20
          ],
          [
           13.4,
           15.7,
           1442,
           1.4,
           24
          ],
          [
           24.1,
           14.8,
           1134,
           -0.4,
           21
          ],
          [
           14.6,
           9.1,
           1605,
           -0.1,
           21
          ],
          [
           19.1,
           14.9,
           1000,
           -0.3,
           21
          ],
          [
           21.1,
           14,
           1368,
           0.2,
           23
          ],
          [
           16.8,
           10.7,
           1614,
           0.9,
           23
          ],
          [
           17.1,
           10.9,
           1263,
           -0.2,
           22
          ],
          [
           17.2,
           7.8,
           458,
           -0.3,
           20
          ],
          [
           19.8,
           8.2,
           625,
           -0.1,
           20
          ],
          [
           16.6,
           15,
           446,
           0.4,
           24
          ],
          [
           27.8,
           11.4,
           135,
           -0.2,
           24
          ]
         ],
         "hoverlabel": {
          "namelength": 0
         },
         "hovertemplate": "<b>%{hovertext}</b><br><br>neural=%{marker.color}<br>WS=%{x}<br>VORP=%{customdata[3]}<br>MP=%{customdata[2]}<br>USG%=%{customdata[0]}<br>PER=%{customdata[1]}<br>Age=%{customdata[4]}",
         "hovertext": [
          "Kadeem Allen",
          "Ike Anigbogu",
          "OG Anunoby",
          "Dwayne Bacon",
          "Lonzo Ball",
          "Jordan Bell",
          "Jaron Blossomgame",
          "Jonah Bolden",
          "Tony Bradley",
          "Dillon Brooks",
          "Sterling Brown",
          "Zach Collins",
          "Tyler Dorsey",
          "Tyler Dorsey",
          "Damyean Dotson",
          "Jawun Evans",
          "Jawun Evans",
          "Terrance Ferguson",
          "Markelle Fultz",
          "Harry Giles",
          "Josh Hart",
          "Isaiah Hartenstein",
          "Jonathan Isaac",
          "Wesley Iwundu",
          "Frank Jackson",
          "Josh Jackson",
          "Justin Jackson",
          "Justin Jackson",
          "Luke Kennard",
          "T.J. Leaf",
          "Tyler Lydon",
          "Frank Mason",
          "Malik Monk",
          "Monte Morris",
          "Frank Ntilikina",
          "Semi Ojeleye",
          "Justin Patton",
          "Ivan Rabb",
          "Davon Reed",
          "Dennis Smith",
          "Dennis Smith",
          "Edmond Sumner",
          "Caleb Swanigan",
          "Caleb Swanigan",
          "Sindarius Thornwell",
          "Derrick White",
          "D.J. Wilson",
          "Wade Baldwin",
          "Malik Beasley",
          "DeAndre' Bembry",
          "Dragan Bender",
          "Joel Bolomboy",
          "Malcolm Brogdon",
          "Jaylen Brown",
          "Marquese Chriss",
          "Deyonta Davis",
          "Cheick Diallo",
          "Kris Dunn",
          "Henry Ellenson",
          "Daniel Hamilton",
          "Buddy Hield",
          "Brandon Ingram",
          "Damian Jones",
          "Furkan Korkmaz",
          "Jake Layman",
          "Caris LeVert",
          "Thon Maker",
          "Patrick McCaw",
          "Dejounte Murray",
          "Abdel Nader",
          "Georges Niang",
          "Chinanu Onuaku",
          "Marcus Paige",
          "Zhou Qi",
          "Pascal Siakam",
          "Tyler Ulis",
          "Denzel Valentine",
          "Tyrone Wallace",
          "Taurean Waller-Prince",
          "Isaiah Whitehead",
          "Guerschon Yabusele",
          "Paul Zipser",
          "Ante Žižić",
          "Ivica Zubac",
          "Willie Cauley-Stein",
          "Rakeem Christmas",
          "Pat Connaughton",
          "Sam Dekker",
          "Jerian Grant",
          "Andrew Harrison",
          "Willy Hernangomez",
          "Mario Hezonja",
          "Darrun Hilliard",
          "R.J. Hunter",
          "Stanley Johnson",
          "Tyus Jones",
          "Frank Kaminsky",
          "Kevon Looney",
          "Trey Lyles",
          "Jarell Martin",
          "Jordan Mickey",
          "Emmanuel Mudiay",
          "Larry Nance",
          "Jahlil Okafor",
          "Kelly Oubre",
          "Bobby Portis",
          "Norman Powell",
          "Josh Richardson",
          "Terry Rozier",
          "Rashad Vaughn",
          "Justise Winslow",
          "Delon Wright",
          "Joe Young"
         ],
         "legendgroup": "neural=0",
         "marker": {
          "color": [
           0,
           0,
           0,
           0,
           0,
           0,
           0,
           0,
           0,
           0,
           0,
           0,
           0,
           0,
           0,
           0,
           0,
           0,
           0,
           0,
           0,
           0,
           0,
           0,
           0,
           0,
           0,
           0,
           0,
           0,
           0,
           0,
           0,
           0,
           0,
           0,
           0,
           0,
           0,
           0,
           0,
           0,
           0,
           0,
           0,
           0,
           0,
           0,
           0,
           0,
           0,
           0,
           0,
           0,
           0,
           0,
           0,
           0,
           0,
           0,
           0,
           0,
           0,
           0,
           0,
           0,
           0,
           0,
           0,
           0,
           0,
           0,
           0,
           0,
           0,
           0,
           0,
           0,
           0,
           0,
           0,
           0,
           0,
           0,
           0,
           0,
           0,
           0,
           0,
           0,
           0,
           0,
           0,
           0,
           0,
           0,
           0,
           0,
           0,
           0,
           0,
           0,
           0,
           0,
           0,
           0,
           0,
           0,
           0,
           0,
           0,
           0,
           0
          ],
          "coloraxis": "coloraxis",
          "line": {
           "color": "DarkSlateGrey",
           "width": 1
          },
          "size": 10,
          "symbol": "diamond"
         },
         "mode": "markers",
         "name": "neural=0",
         "scene": "scene",
         "showlegend": true,
         "type": "scatter3d",
         "x": [
          1,
          -0.1,
          2,
          1.2,
          1.6,
          1.6,
          0.3,
          1.4,
          0.1,
          0,
          2.1,
          2.9,
          -0.1,
          0.7,
          1.5,
          -0.2,
          0,
          2.8,
          0.3,
          1,
          2.1,
          0.5,
          4,
          1.9,
          0.4,
          -1.7,
          1.6,
          1.3,
          2.5,
          1.6,
          0.2,
          0.3,
          0.3,
          6.2,
          -0.8,
          0.7,
          0,
          2.1,
          0.1,
          0.2,
          -0.2,
          0.1,
          -0.3,
          0,
          0,
          3.6,
          1.7,
          0.3,
          0.3,
          -0.4,
          0.1,
          0.1,
          2.7,
          4.5,
          0.7,
          2.7,
          1.9,
          0.9,
          0.1,
          0.1,
          2.8,
          2.8,
          0.1,
          0,
          -0.1,
          2.3,
          1.5,
          0.6,
          3.2,
          -0.1,
          0,
          -0.1,
          0,
          -0.3,
          4.7,
          -0.2,
          2.5,
          0.7,
          2,
          -0.1,
          0.6,
          -0.6,
          1,
          1,
          2.9,
          0.5,
          0.6,
          3.1,
          2.5,
          1.6,
          3.4,
          -0.7,
          -0.2,
          0,
          0.4,
          1.5,
          2.3,
          1.4,
          0.8,
          0.6,
          0.1,
          0.2,
          3.5,
          1.2,
          2,
          2.4,
          2.8,
          2.2,
          1.4,
          0,
          -0.1,
          1.1,
          -0.1
         ],
         "y": [
          0.1,
          0,
          0.3,
          -0.3,
          0.9,
          0.3,
          -0.3,
          0.5,
          0,
          -0.3,
          0.1,
          0.7,
          -0.3,
          0,
          -0.2,
          -0.1,
          0,
          0,
          -0.1,
          0,
          0.6,
          0.1,
          1.1,
          -0.2,
          -0.9,
          -1.4,
          0.1,
          0.1,
          0.2,
          0.1,
          0,
          -0.3,
          -0.6,
          1.1,
          -0.8,
          -0.3,
          0,
          0.2,
          0,
          -0.1,
          -0.1,
          -0.1,
          -0.3,
          0,
          -0.2,
          1.3,
          0.1,
          0,
          -0.5,
          -0.3,
          -0.4,
          -0.1,
          0.2,
          1,
          0,
          0.3,
          -0.2,
          0.7,
          -0.4,
          0,
          0.9,
          0.4,
          -0.1,
          -0.1,
          -0.1,
          0.7,
          -0.2,
          -0.3,
          1.4,
          -0.5,
          0,
          -0.1,
          0,
          -0.2,
          1.7,
          -1.3,
          0.8,
          0,
          0.8,
          -0.2,
          0.1,
          -0.8,
          0.1,
          0,
          0.3,
          -0.1,
          0,
          0.3,
          0.4,
          -0.2,
          0.7,
          -0.9,
          -0.4,
          0,
          0,
          0,
          0.2,
          0.3,
          -0.3,
          -0.6,
          -0.1,
          -0.6,
          1.4,
          -0.4,
          -0.1,
          -0.3,
          0.2,
          0.9,
          -0.2,
          -0.3,
          -0.1,
          0.4,
          -0.2
         ],
         "z": [
          416,
          6,
          1352,
          759,
          1423,
          788,
          439,
          639,
          36,
          330,
          1034,
          1356,
          251,
          447,
          2004,
          64,
          1,
          1931,
          427,
          820,
          1715,
          221,
          1996,
          1233,
          1169,
          1988,
          1083,
          531,
          1437,
          522,
          94,
          435,
          1258,
          1970,
          904,
          594,
          21,
          721,
          47,
          908,
          600,
          210,
          145,
          33,
          313,
          1728,
          882,
          80,
          583,
          455,
          2069,
          38,
          1436,
          2152,
          1527,
          943,
          581,
          1525,
          329,
          28,
          2024,
          1975,
          89,
          80,
          160,
          1864,
          1238,
          961,
          1743,
          522,
          32,
          22,
          28,
          124,
          1679,
          1658,
          2095,
          851,
          2464,
          180,
          235,
          824,
          214,
          410,
          1421,
          219,
          316,
          1419,
          1028,
          1474,
          1324,
          960,
          381,
          9,
          1371,
          774,
          1954,
          447,
          1158,
          558,
          141,
          1406,
          1442,
          1134,
          1605,
          1000,
          1368,
          1614,
          1263,
          458,
          625,
          446,
          135
         ]
        }
       ],
       "layout": {
        "coloraxis": {
         "colorbar": {
          "title": {
           "text": "neural"
          }
         },
         "colorscale": [
          [
           0,
           "#0d0887"
          ],
          [
           0.1111111111111111,
           "#46039f"
          ],
          [
           0.2222222222222222,
           "#7201a8"
          ],
          [
           0.3333333333333333,
           "#9c179e"
          ],
          [
           0.4444444444444444,
           "#bd3786"
          ],
          [
           0.5555555555555556,
           "#d8576b"
          ],
          [
           0.6666666666666666,
           "#ed7953"
          ],
          [
           0.7777777777777778,
           "#fb9f3a"
          ],
          [
           0.8888888888888888,
           "#fdca26"
          ],
          [
           1,
           "#f0f921"
          ]
         ]
        },
        "height": 600,
        "legend": {
         "orientation": "h",
         "tracegroupgap": 0
        },
        "margin": {
         "t": 60
        },
        "scene": {
         "domain": {
          "x": [
           0,
           0.98
          ],
          "y": [
           0,
           1
          ]
         },
         "xaxis": {
          "title": {
           "text": "WS"
          }
         },
         "yaxis": {
          "title": {
           "text": "VORP"
          }
         },
         "zaxis": {
          "title": {
           "text": "MP"
          }
         }
        },
        "template": {
         "data": {
          "bar": [
           {
            "error_x": {
             "color": "#2a3f5f"
            },
            "error_y": {
             "color": "#2a3f5f"
            },
            "marker": {
             "line": {
              "color": "#E5ECF6",
              "width": 0.5
             }
            },
            "type": "bar"
           }
          ],
          "barpolar": [
           {
            "marker": {
             "line": {
              "color": "#E5ECF6",
              "width": 0.5
             }
            },
            "type": "barpolar"
           }
          ],
          "carpet": [
           {
            "aaxis": {
             "endlinecolor": "#2a3f5f",
             "gridcolor": "white",
             "linecolor": "white",
             "minorgridcolor": "white",
             "startlinecolor": "#2a3f5f"
            },
            "baxis": {
             "endlinecolor": "#2a3f5f",
             "gridcolor": "white",
             "linecolor": "white",
             "minorgridcolor": "white",
             "startlinecolor": "#2a3f5f"
            },
            "type": "carpet"
           }
          ],
          "choropleth": [
           {
            "colorbar": {
             "outlinewidth": 0,
             "ticks": ""
            },
            "type": "choropleth"
           }
          ],
          "contour": [
           {
            "colorbar": {
             "outlinewidth": 0,
             "ticks": ""
            },
            "colorscale": [
             [
              0,
              "#0d0887"
             ],
             [
              0.1111111111111111,
              "#46039f"
             ],
             [
              0.2222222222222222,
              "#7201a8"
             ],
             [
              0.3333333333333333,
              "#9c179e"
             ],
             [
              0.4444444444444444,
              "#bd3786"
             ],
             [
              0.5555555555555556,
              "#d8576b"
             ],
             [
              0.6666666666666666,
              "#ed7953"
             ],
             [
              0.7777777777777778,
              "#fb9f3a"
             ],
             [
              0.8888888888888888,
              "#fdca26"
             ],
             [
              1,
              "#f0f921"
             ]
            ],
            "type": "contour"
           }
          ],
          "contourcarpet": [
           {
            "colorbar": {
             "outlinewidth": 0,
             "ticks": ""
            },
            "type": "contourcarpet"
           }
          ],
          "heatmap": [
           {
            "colorbar": {
             "outlinewidth": 0,
             "ticks": ""
            },
            "colorscale": [
             [
              0,
              "#0d0887"
             ],
             [
              0.1111111111111111,
              "#46039f"
             ],
             [
              0.2222222222222222,
              "#7201a8"
             ],
             [
              0.3333333333333333,
              "#9c179e"
             ],
             [
              0.4444444444444444,
              "#bd3786"
             ],
             [
              0.5555555555555556,
              "#d8576b"
             ],
             [
              0.6666666666666666,
              "#ed7953"
             ],
             [
              0.7777777777777778,
              "#fb9f3a"
             ],
             [
              0.8888888888888888,
              "#fdca26"
             ],
             [
              1,
              "#f0f921"
             ]
            ],
            "type": "heatmap"
           }
          ],
          "heatmapgl": [
           {
            "colorbar": {
             "outlinewidth": 0,
             "ticks": ""
            },
            "colorscale": [
             [
              0,
              "#0d0887"
             ],
             [
              0.1111111111111111,
              "#46039f"
             ],
             [
              0.2222222222222222,
              "#7201a8"
             ],
             [
              0.3333333333333333,
              "#9c179e"
             ],
             [
              0.4444444444444444,
              "#bd3786"
             ],
             [
              0.5555555555555556,
              "#d8576b"
             ],
             [
              0.6666666666666666,
              "#ed7953"
             ],
             [
              0.7777777777777778,
              "#fb9f3a"
             ],
             [
              0.8888888888888888,
              "#fdca26"
             ],
             [
              1,
              "#f0f921"
             ]
            ],
            "type": "heatmapgl"
           }
          ],
          "histogram": [
           {
            "marker": {
             "colorbar": {
              "outlinewidth": 0,
              "ticks": ""
             }
            },
            "type": "histogram"
           }
          ],
          "histogram2d": [
           {
            "colorbar": {
             "outlinewidth": 0,
             "ticks": ""
            },
            "colorscale": [
             [
              0,
              "#0d0887"
             ],
             [
              0.1111111111111111,
              "#46039f"
             ],
             [
              0.2222222222222222,
              "#7201a8"
             ],
             [
              0.3333333333333333,
              "#9c179e"
             ],
             [
              0.4444444444444444,
              "#bd3786"
             ],
             [
              0.5555555555555556,
              "#d8576b"
             ],
             [
              0.6666666666666666,
              "#ed7953"
             ],
             [
              0.7777777777777778,
              "#fb9f3a"
             ],
             [
              0.8888888888888888,
              "#fdca26"
             ],
             [
              1,
              "#f0f921"
             ]
            ],
            "type": "histogram2d"
           }
          ],
          "histogram2dcontour": [
           {
            "colorbar": {
             "outlinewidth": 0,
             "ticks": ""
            },
            "colorscale": [
             [
              0,
              "#0d0887"
             ],
             [
              0.1111111111111111,
              "#46039f"
             ],
             [
              0.2222222222222222,
              "#7201a8"
             ],
             [
              0.3333333333333333,
              "#9c179e"
             ],
             [
              0.4444444444444444,
              "#bd3786"
             ],
             [
              0.5555555555555556,
              "#d8576b"
             ],
             [
              0.6666666666666666,
              "#ed7953"
             ],
             [
              0.7777777777777778,
              "#fb9f3a"
             ],
             [
              0.8888888888888888,
              "#fdca26"
             ],
             [
              1,
              "#f0f921"
             ]
            ],
            "type": "histogram2dcontour"
           }
          ],
          "mesh3d": [
           {
            "colorbar": {
             "outlinewidth": 0,
             "ticks": ""
            },
            "type": "mesh3d"
           }
          ],
          "parcoords": [
           {
            "line": {
             "colorbar": {
              "outlinewidth": 0,
              "ticks": ""
             }
            },
            "type": "parcoords"
           }
          ],
          "scatter": [
           {
            "marker": {
             "colorbar": {
              "outlinewidth": 0,
              "ticks": ""
             }
            },
            "type": "scatter"
           }
          ],
          "scatter3d": [
           {
            "line": {
             "colorbar": {
              "outlinewidth": 0,
              "ticks": ""
             }
            },
            "marker": {
             "colorbar": {
              "outlinewidth": 0,
              "ticks": ""
             }
            },
            "type": "scatter3d"
           }
          ],
          "scattercarpet": [
           {
            "marker": {
             "colorbar": {
              "outlinewidth": 0,
              "ticks": ""
             }
            },
            "type": "scattercarpet"
           }
          ],
          "scattergeo": [
           {
            "marker": {
             "colorbar": {
              "outlinewidth": 0,
              "ticks": ""
             }
            },
            "type": "scattergeo"
           }
          ],
          "scattergl": [
           {
            "marker": {
             "colorbar": {
              "outlinewidth": 0,
              "ticks": ""
             }
            },
            "type": "scattergl"
           }
          ],
          "scattermapbox": [
           {
            "marker": {
             "colorbar": {
              "outlinewidth": 0,
              "ticks": ""
             }
            },
            "type": "scattermapbox"
           }
          ],
          "scatterpolar": [
           {
            "marker": {
             "colorbar": {
              "outlinewidth": 0,
              "ticks": ""
             }
            },
            "type": "scatterpolar"
           }
          ],
          "scatterpolargl": [
           {
            "marker": {
             "colorbar": {
              "outlinewidth": 0,
              "ticks": ""
             }
            },
            "type": "scatterpolargl"
           }
          ],
          "scatterternary": [
           {
            "marker": {
             "colorbar": {
              "outlinewidth": 0,
              "ticks": ""
             }
            },
            "type": "scatterternary"
           }
          ],
          "surface": [
           {
            "colorbar": {
             "outlinewidth": 0,
             "ticks": ""
            },
            "colorscale": [
             [
              0,
              "#0d0887"
             ],
             [
              0.1111111111111111,
              "#46039f"
             ],
             [
              0.2222222222222222,
              "#7201a8"
             ],
             [
              0.3333333333333333,
              "#9c179e"
             ],
             [
              0.4444444444444444,
              "#bd3786"
             ],
             [
              0.5555555555555556,
              "#d8576b"
             ],
             [
              0.6666666666666666,
              "#ed7953"
             ],
             [
              0.7777777777777778,
              "#fb9f3a"
             ],
             [
              0.8888888888888888,
              "#fdca26"
             ],
             [
              1,
              "#f0f921"
             ]
            ],
            "type": "surface"
           }
          ],
          "table": [
           {
            "cells": {
             "fill": {
              "color": "#EBF0F8"
             },
             "line": {
              "color": "white"
             }
            },
            "header": {
             "fill": {
              "color": "#C8D4E3"
             },
             "line": {
              "color": "white"
             }
            },
            "type": "table"
           }
          ]
         },
         "layout": {
          "annotationdefaults": {
           "arrowcolor": "#2a3f5f",
           "arrowhead": 0,
           "arrowwidth": 1
          },
          "colorscale": {
           "diverging": [
            [
             0,
             "#8e0152"
            ],
            [
             0.1,
             "#c51b7d"
            ],
            [
             0.2,
             "#de77ae"
            ],
            [
             0.3,
             "#f1b6da"
            ],
            [
             0.4,
             "#fde0ef"
            ],
            [
             0.5,
             "#f7f7f7"
            ],
            [
             0.6,
             "#e6f5d0"
            ],
            [
             0.7,
             "#b8e186"
            ],
            [
             0.8,
             "#7fbc41"
            ],
            [
             0.9,
             "#4d9221"
            ],
            [
             1,
             "#276419"
            ]
           ],
           "sequential": [
            [
             0,
             "#0d0887"
            ],
            [
             0.1111111111111111,
             "#46039f"
            ],
            [
             0.2222222222222222,
             "#7201a8"
            ],
            [
             0.3333333333333333,
             "#9c179e"
            ],
            [
             0.4444444444444444,
             "#bd3786"
            ],
            [
             0.5555555555555556,
             "#d8576b"
            ],
            [
             0.6666666666666666,
             "#ed7953"
            ],
            [
             0.7777777777777778,
             "#fb9f3a"
            ],
            [
             0.8888888888888888,
             "#fdca26"
            ],
            [
             1,
             "#f0f921"
            ]
           ],
           "sequentialminus": [
            [
             0,
             "#0d0887"
            ],
            [
             0.1111111111111111,
             "#46039f"
            ],
            [
             0.2222222222222222,
             "#7201a8"
            ],
            [
             0.3333333333333333,
             "#9c179e"
            ],
            [
             0.4444444444444444,
             "#bd3786"
            ],
            [
             0.5555555555555556,
             "#d8576b"
            ],
            [
             0.6666666666666666,
             "#ed7953"
            ],
            [
             0.7777777777777778,
             "#fb9f3a"
            ],
            [
             0.8888888888888888,
             "#fdca26"
            ],
            [
             1,
             "#f0f921"
            ]
           ]
          },
          "colorway": [
           "#636efa",
           "#EF553B",
           "#00cc96",
           "#ab63fa",
           "#FFA15A",
           "#19d3f3",
           "#FF6692",
           "#B6E880",
           "#FF97FF",
           "#FECB52"
          ],
          "font": {
           "color": "#2a3f5f"
          },
          "geo": {
           "bgcolor": "white",
           "lakecolor": "white",
           "landcolor": "#E5ECF6",
           "showlakes": true,
           "showland": true,
           "subunitcolor": "white"
          },
          "hoverlabel": {
           "align": "left"
          },
          "hovermode": "closest",
          "mapbox": {
           "style": "light"
          },
          "paper_bgcolor": "white",
          "plot_bgcolor": "#E5ECF6",
          "polar": {
           "angularaxis": {
            "gridcolor": "white",
            "linecolor": "white",
            "ticks": ""
           },
           "bgcolor": "#E5ECF6",
           "radialaxis": {
            "gridcolor": "white",
            "linecolor": "white",
            "ticks": ""
           }
          },
          "scene": {
           "xaxis": {
            "backgroundcolor": "#E5ECF6",
            "gridcolor": "white",
            "gridwidth": 2,
            "linecolor": "white",
            "showbackground": true,
            "ticks": "",
            "zerolinecolor": "white"
           },
           "yaxis": {
            "backgroundcolor": "#E5ECF6",
            "gridcolor": "white",
            "gridwidth": 2,
            "linecolor": "white",
            "showbackground": true,
            "ticks": "",
            "zerolinecolor": "white"
           },
           "zaxis": {
            "backgroundcolor": "#E5ECF6",
            "gridcolor": "white",
            "gridwidth": 2,
            "linecolor": "white",
            "showbackground": true,
            "ticks": "",
            "zerolinecolor": "white"
           }
          },
          "shapedefaults": {
           "line": {
            "color": "#2a3f5f"
           }
          },
          "ternary": {
           "aaxis": {
            "gridcolor": "white",
            "linecolor": "white",
            "ticks": ""
           },
           "baxis": {
            "gridcolor": "white",
            "linecolor": "white",
            "ticks": ""
           },
           "bgcolor": "#E5ECF6",
           "caxis": {
            "gridcolor": "white",
            "linecolor": "white",
            "ticks": ""
           }
          },
          "title": {
           "x": 0.05
          },
          "xaxis": {
           "automargin": true,
           "gridcolor": "white",
           "linecolor": "white",
           "ticks": "",
           "zerolinecolor": "white",
           "zerolinewidth": 2
          },
          "yaxis": {
           "automargin": true,
           "gridcolor": "white",
           "linecolor": "white",
           "ticks": "",
           "zerolinecolor": "white",
           "zerolinewidth": 2
          }
         }
        }
       }
      },
      "text/html": [
       "<div>\n",
       "        \n",
       "        \n",
       "            <div id=\"f4ae173e-2693-4c5c-8119-9448f83d4dca\" class=\"plotly-graph-div\" style=\"height:600px; width:100%;\"></div>\n",
       "            <script type=\"text/javascript\">\n",
       "                require([\"plotly\"], function(Plotly) {\n",
       "                    window.PLOTLYENV=window.PLOTLYENV || {};\n",
       "                    \n",
       "                if (document.getElementById(\"f4ae173e-2693-4c5c-8119-9448f83d4dca\")) {\n",
       "                    Plotly.newPlot(\n",
       "                        'f4ae173e-2693-4c5c-8119-9448f83d4dca',\n",
       "                        [{\"customdata\": [[15.8, 17.9, 1913.0, 2.4, 21.0], [15.9, 18.5, 2096.0, 2.4, 20.0], [24.5, 18.1, 2546.0, 2.0, 21.0], [23.8, 14.0, 2314.0, 0.2, 23.0], [25.1, 17.1, 1682.0, 0.0, 21.0], [31.6, 17.2, 2598.0, 1.7, 22.0], [22.1, 15.1, 2455.0, 0.8, 20.0], [22.8, 16.1, 2565.0, 1.2, 20.0], [22.1, 17.5, 1810.0, 0.8, 21.0], [22.3, 20.0, 2732.0, 4.6, 21.0], [28.6, 14.6, 2730.0, -0.2, 20.0], [17.6, 19.2, 1064.0, 0.8, 23.0], [18.7, 13.7, 1761.0, 0.4, 22.0], [18.6, 18.6, 1193.0, 1.1, 23.0], [24.3, 17.4, 2164.0, 1.2, 21.0], [26.6, 15.3, 1811.0, 0.7, 20.0], [19.5, 18.5, 2541.0, 2.8, 20.0]], \"hoverlabel\": {\"namelength\": 0}, \"hovertemplate\": \"<b>%{hovertext}</b><br><br>neural=%{marker.color}<br>WS=%{x}<br>VORP=%{customdata[3]}<br>MP=%{customdata[2]}<br>USG%=%{customdata[0]}<br>PER=%{customdata[1]}<br>Age=%{customdata[4]}\", \"hovertext\": [\"Bam Adebayo\", \"Jarrett Allen\", \"De'Aaron Fox\", \"Kyle Kuzma\", \"Lauri Markkanen\", \"Donovan Mitchell\", \"Jayson Tatum\", \"Jamal Murray\", \"Domantas Sabonis\", \"Ben Simmons\", \"Devin Booker\", \"Montrezl Harrell\", \"Rondae Hollis-Jefferson\", \"Richaun Holmes\", \"Kristaps Porzingis\", \"D'Angelo Russell\", \"Myles Turner\"], \"legendgroup\": \"neural=1\", \"marker\": {\"color\": [1, 1, 1, 1, 1, 1, 1, 1, 1, 1, 1, 1, 1, 1, 1, 1, 1], \"coloraxis\": \"coloraxis\", \"line\": {\"color\": \"DarkSlateGrey\", \"width\": 1}, \"size\": 10, \"symbol\": \"circle\"}, \"mode\": \"markers\", \"name\": \"neural=1\", \"scene\": \"scene\", \"showlegend\": true, \"type\": \"scatter3d\", \"x\": [6.8, 7.6, 5.6, 3.1, 2.7, 5.0, 5.0, 5.5, 4.7, 9.2, 2.0, 4.1, 2.6, 3.8, 4.5, 1.3, 8.0], \"y\": [2.4, 2.4, 2.0, 0.2, 0.0, 1.7, 0.8, 1.2, 0.8, 4.6, -0.2, 0.8, 0.4, 1.1, 1.2, 0.7, 2.8], \"z\": [1913, 2096, 2546, 2314, 1682, 2598, 2455, 2565, 1810, 2732, 2730, 1064, 1761, 1193, 2164, 1811, 2541]}, {\"customdata\": [[19.6, 16.2, 416.0, 0.1, 26.0], [29.1, -6.0, 6.0, 0.0, 20.0], [15.5, 9.8, 1352.0, 0.3, 21.0], [16.8, 11.7, 759.0, -0.3, 23.0], [16.9, 11.7, 1423.0, 0.9, 21.0], [13.7, 12.9, 788.0, 0.3, 24.0], [12.2, 10.2, 439.0, -0.3, 25.0], [13.8, 12.7, 639.0, 0.5, 23.0], [23.6, 19.6, 36.0, 0.0, 21.0], [20.9, 7.6, 330.0, -0.3, 23.0], [15.2, 10.9, 1034.0, 0.1, 23.0], [16.6, 13.5, 1356.0, 0.7, 21.0], [17.9, 7.8, 251.0, -0.3, 22.0], [20.7, 13.1, 447.0, 0.0, 22.0], [17.3, 10.8, 2004.0, -0.2, 24.0], [12.7, 0.7, 64.0, -0.1, 22.0], [40.7, -38.1, 1.0, 0.0, 22.0], [10.6, 6.4, 1931.0, 0.0, 20.0], [19.3, 10.5, 427.0, -0.1, 20.0], [23.2, 14.4, 820.0, 0.0, 20.0], [13.5, 9.3, 1715.0, 0.6, 23.0], [11.8, 10.0, 221.0, 0.1, 20.0], [16.3, 13.0, 1996.0, 1.1, 21.0], [12.8, 8.7, 1233.0, -0.2, 24.0], [18.5, 9.4, 1169.0, -0.9, 20.0], [23.9, 10.6, 1988.0, -1.4, 21.0], [12.9, 10.1, 1083.0, 0.1, 23.0], [17.0, 13.9, 531.0, 0.1, 23.0], [18.1, 11.9, 1437.0, 0.2, 22.0], [17.5, 16.9, 522.0, 0.1, 21.0], [10.6, 9.3, 94.0, 0.0, 22.0], [21.8, 12.4, 435.0, -0.3, 24.0], [24.6, 11.8, 1258.0, -0.6, 20.0], [17.1, 16.2, 1970.0, 1.1, 23.0], [16.6, 6.0, 904.0, -0.8, 20.0], [14.1, 8.5, 594.0, -0.3, 24.0], [15.7, 10.5, 21.0, 0.0, 21.0], [17.2, 16.1, 721.0, 0.2, 21.0], [12.1, 8.1, 47.0, 0.0, 23.0], [23.3, 11.5, 908.0, -0.1, 21.0], [27.0, 13.5, 600.0, -0.1, 21.0], [17.6, 7.6, 210.0, -0.1, 23.0], [18.4, 3.1, 145.0, -0.3, 21.0], [14.9, 11.7, 33.0, 0.0, 21.0], [11.3, 5.2, 313.0, -0.2, 24.0], [17.7, 14.8, 1728.0, 1.3, 24.0], [14.4, 10.3, 882.0, 0.1, 22.0], [16.1, 16.6, 80.0, 0.0, 21.0], [16.2, 9.0, 583.0, -0.5, 21.0], [18.2, 7.6, 455.0, -0.3, 23.0], [12.7, 7.1, 2069.0, -0.4, 20.0], [12.6, 11.7, 38.0, -0.1, 24.0], [19.1, 14.3, 1436.0, 0.2, 25.0], [21.4, 13.6, 2152.0, 1.0, 21.0], [18.1, 11.1, 1527.0, 0.0, 20.0], [15.3, 16.6, 943.0, 0.3, 21.0], [17.4, 17.0, 581.0, -0.2, 21.0], [24.7, 14.5, 1525.0, 0.7, 23.0], [23.8, 10.5, 329.0, -0.4, 21.0], [19.9, 18.2, 28.0, 0.0, 22.0], [24.3, 16.1, 2024.0, 0.9, 25.0], [22.2, 13.8, 1975.0, 0.4, 20.0], [13.9, 6.8, 89.0, -0.1, 22.0], [16.9, 3.4, 80.0, -0.1, 20.0], [14.6, 4.9, 160.0, -0.1, 23.0], [22.5, 14.2, 1864.0, 0.7, 23.0], [14.6, 10.2, 1238.0, -0.2, 20.0], [12.8, 7.4, 961.0, -0.3, 22.0], [20.7, 15.1, 1743.0, 1.4, 21.0], [17.1, 5.1, 522.0, -0.5, 24.0], [20.9, 9.2, 32.0, 0.0, 24.0], [16.1, -3.2, 22.0, -0.1, 21.0], [23.0, 9.1, 28.0, 0.0, 24.0], [16.8, 1.9, 124.0, -0.2, 22.0], [15.7, 14.5, 1679.0, 1.7, 23.0], [18.5, 10.1, 1658.0, -1.3, 22.0], [17.5, 12.1, 2095.0, 0.8, 24.0], [16.6, 10.1, 851.0, 0.0, 23.0], [22.1, 12.8, 2464.0, 0.8, 23.0], [28.5, 11.5, 180.0, -0.2, 22.0], [15.7, 12.3, 235.0, 0.1, 22.0], [15.2, 5.2, 824.0, -0.8, 23.0], [18.8, 24.2, 214.0, 0.1, 21.0], [17.6, 15.3, 410.0, 0.0, 20.0], [19.7, 16.3, 1421.0, 0.3, 23.0], [13.1, 10.4, 219.0, -0.1, 25.0], [13.0, 11.8, 316.0, 0.0, 24.0], [14.9, 13.1, 1419.0, 0.3, 22.0], [16.0, 13.2, 1028.0, 0.4, 24.0], [16.4, 8.7, 1474.0, -0.2, 22.0], [20.3, 19.0, 1324.0, 0.7, 22.0], [18.8, 7.2, 960.0, -0.9, 21.0], [19.3, 5.9, 381.0, -0.4, 23.0], [4.8, -3.2, 9.0, 0.0, 23.0], [14.8, 7.2, 1371.0, 0.0, 20.0], [13.6, 13.8, 774.0, 0.0, 20.0], [21.8, 13.0, 1954.0, 0.2, 23.0], [13.4, 13.6, 447.0, 0.3, 20.0], [21.7, 9.9, 1158.0, -0.3, 21.0], [16.4, 8.7, 558.0, -0.6, 22.0], [15.5, 9.8, 141.0, -0.1, 22.0], [22.6, 10.9, 1406.0, -0.6, 20.0], [13.4, 15.7, 1442.0, 1.4, 24.0], [24.1, 14.8, 1134.0, -0.4, 21.0], [14.6, 9.1, 1605.0, -0.1, 21.0], [19.1, 14.9, 1000.0, -0.3, 21.0], [21.1, 14.0, 1368.0, 0.2, 23.0], [16.8, 10.7, 1614.0, 0.9, 23.0], [17.1, 10.9, 1263.0, -0.2, 22.0], [17.2, 7.8, 458.0, -0.3, 20.0], [19.8, 8.2, 625.0, -0.1, 20.0], [16.6, 15.0, 446.0, 0.4, 24.0], [27.8, 11.4, 135.0, -0.2, 24.0]], \"hoverlabel\": {\"namelength\": 0}, \"hovertemplate\": \"<b>%{hovertext}</b><br><br>neural=%{marker.color}<br>WS=%{x}<br>VORP=%{customdata[3]}<br>MP=%{customdata[2]}<br>USG%=%{customdata[0]}<br>PER=%{customdata[1]}<br>Age=%{customdata[4]}\", \"hovertext\": [\"Kadeem Allen\", \"Ike Anigbogu\", \"OG Anunoby\", \"Dwayne Bacon\", \"Lonzo Ball\", \"Jordan Bell\", \"Jaron Blossomgame\", \"Jonah Bolden\", \"Tony Bradley\", \"Dillon Brooks\", \"Sterling Brown\", \"Zach Collins\", \"Tyler Dorsey\", \"Tyler Dorsey\", \"Damyean Dotson\", \"Jawun Evans\", \"Jawun Evans\", \"Terrance Ferguson\", \"Markelle Fultz\", \"Harry Giles\", \"Josh Hart\", \"Isaiah Hartenstein\", \"Jonathan Isaac\", \"Wesley Iwundu\", \"Frank Jackson\", \"Josh Jackson\", \"Justin Jackson\", \"Justin Jackson\", \"Luke Kennard\", \"T.J. Leaf\", \"Tyler Lydon\", \"Frank Mason\", \"Malik Monk\", \"Monte Morris\", \"Frank Ntilikina\", \"Semi Ojeleye\", \"Justin Patton\", \"Ivan Rabb\", \"Davon Reed\", \"Dennis Smith\", \"Dennis Smith\", \"Edmond Sumner\", \"Caleb Swanigan\", \"Caleb Swanigan\", \"Sindarius Thornwell\", \"Derrick White\", \"D.J. Wilson\", \"Wade Baldwin\", \"Malik Beasley\", \"DeAndre' Bembry\", \"Dragan Bender\", \"Joel Bolomboy\", \"Malcolm Brogdon\", \"Jaylen Brown\", \"Marquese Chriss\", \"Deyonta Davis\", \"Cheick Diallo\", \"Kris Dunn\", \"Henry Ellenson\", \"Daniel Hamilton\", \"Buddy Hield\", \"Brandon Ingram\", \"Damian Jones\", \"Furkan Korkmaz\", \"Jake Layman\", \"Caris LeVert\", \"Thon Maker\", \"Patrick McCaw\", \"Dejounte Murray\", \"Abdel Nader\", \"Georges Niang\", \"Chinanu Onuaku\", \"Marcus Paige\", \"Zhou Qi\", \"Pascal Siakam\", \"Tyler Ulis\", \"Denzel Valentine\", \"Tyrone Wallace\", \"Taurean Waller-Prince\", \"Isaiah Whitehead\", \"Guerschon Yabusele\", \"Paul Zipser\", \"Ante \\u017di\\u017ei\\u0107\", \"Ivica Zubac\", \"Willie Cauley-Stein\", \"Rakeem Christmas\", \"Pat Connaughton\", \"Sam Dekker\", \"Jerian Grant\", \"Andrew Harrison\", \"Willy Hernangomez\", \"Mario Hezonja\", \"Darrun Hilliard\", \"R.J. Hunter\", \"Stanley Johnson\", \"Tyus Jones\", \"Frank Kaminsky\", \"Kevon Looney\", \"Trey Lyles\", \"Jarell Martin\", \"Jordan Mickey\", \"Emmanuel Mudiay\", \"Larry Nance\", \"Jahlil Okafor\", \"Kelly Oubre\", \"Bobby Portis\", \"Norman Powell\", \"Josh Richardson\", \"Terry Rozier\", \"Rashad Vaughn\", \"Justise Winslow\", \"Delon Wright\", \"Joe Young\"], \"legendgroup\": \"neural=0\", \"marker\": {\"color\": [0, 0, 0, 0, 0, 0, 0, 0, 0, 0, 0, 0, 0, 0, 0, 0, 0, 0, 0, 0, 0, 0, 0, 0, 0, 0, 0, 0, 0, 0, 0, 0, 0, 0, 0, 0, 0, 0, 0, 0, 0, 0, 0, 0, 0, 0, 0, 0, 0, 0, 0, 0, 0, 0, 0, 0, 0, 0, 0, 0, 0, 0, 0, 0, 0, 0, 0, 0, 0, 0, 0, 0, 0, 0, 0, 0, 0, 0, 0, 0, 0, 0, 0, 0, 0, 0, 0, 0, 0, 0, 0, 0, 0, 0, 0, 0, 0, 0, 0, 0, 0, 0, 0, 0, 0, 0, 0, 0, 0, 0, 0, 0, 0], \"coloraxis\": \"coloraxis\", \"line\": {\"color\": \"DarkSlateGrey\", \"width\": 1}, \"size\": 10, \"symbol\": \"diamond\"}, \"mode\": \"markers\", \"name\": \"neural=0\", \"scene\": \"scene\", \"showlegend\": true, \"type\": \"scatter3d\", \"x\": [1.0, -0.1, 2.0, 1.2, 1.6, 1.6, 0.3, 1.4, 0.1, 0.0, 2.1, 2.9, -0.1, 0.7, 1.5, -0.2, 0.0, 2.8, 0.3, 1.0, 2.1, 0.5, 4.0, 1.9, 0.4, -1.7, 1.6, 1.3, 2.5, 1.6, 0.2, 0.3, 0.3, 6.2, -0.8, 0.7, 0.0, 2.1, 0.1, 0.2, -0.2, 0.1, -0.3, 0.0, 0.0, 3.6, 1.7, 0.3, 0.3, -0.4, 0.1, 0.1, 2.7, 4.5, 0.7, 2.7, 1.9, 0.9, 0.1, 0.1, 2.8, 2.8, 0.1, 0.0, -0.1, 2.3, 1.5, 0.6, 3.2, -0.1, 0.0, -0.1, 0.0, -0.3, 4.7, -0.2, 2.5, 0.7, 2.0, -0.1, 0.6, -0.6, 1.0, 1.0, 2.9, 0.5, 0.6, 3.1, 2.5, 1.6, 3.4, -0.7, -0.2, 0.0, 0.4, 1.5, 2.3, 1.4, 0.8, 0.6, 0.1, 0.2, 3.5, 1.2, 2.0, 2.4, 2.8, 2.2, 1.4, 0.0, -0.1, 1.1, -0.1], \"y\": [0.1, 0.0, 0.3, -0.3, 0.9, 0.3, -0.3, 0.5, 0.0, -0.3, 0.1, 0.7, -0.3, 0.0, -0.2, -0.1, 0.0, 0.0, -0.1, 0.0, 0.6, 0.1, 1.1, -0.2, -0.9, -1.4, 0.1, 0.1, 0.2, 0.1, 0.0, -0.3, -0.6, 1.1, -0.8, -0.3, 0.0, 0.2, 0.0, -0.1, -0.1, -0.1, -0.3, 0.0, -0.2, 1.3, 0.1, 0.0, -0.5, -0.3, -0.4, -0.1, 0.2, 1.0, 0.0, 0.3, -0.2, 0.7, -0.4, 0.0, 0.9, 0.4, -0.1, -0.1, -0.1, 0.7, -0.2, -0.3, 1.4, -0.5, 0.0, -0.1, 0.0, -0.2, 1.7, -1.3, 0.8, 0.0, 0.8, -0.2, 0.1, -0.8, 0.1, 0.0, 0.3, -0.1, 0.0, 0.3, 0.4, -0.2, 0.7, -0.9, -0.4, 0.0, 0.0, 0.0, 0.2, 0.3, -0.3, -0.6, -0.1, -0.6, 1.4, -0.4, -0.1, -0.3, 0.2, 0.9, -0.2, -0.3, -0.1, 0.4, -0.2], \"z\": [416, 6, 1352, 759, 1423, 788, 439, 639, 36, 330, 1034, 1356, 251, 447, 2004, 64, 1, 1931, 427, 820, 1715, 221, 1996, 1233, 1169, 1988, 1083, 531, 1437, 522, 94, 435, 1258, 1970, 904, 594, 21, 721, 47, 908, 600, 210, 145, 33, 313, 1728, 882, 80, 583, 455, 2069, 38, 1436, 2152, 1527, 943, 581, 1525, 329, 28, 2024, 1975, 89, 80, 160, 1864, 1238, 961, 1743, 522, 32, 22, 28, 124, 1679, 1658, 2095, 851, 2464, 180, 235, 824, 214, 410, 1421, 219, 316, 1419, 1028, 1474, 1324, 960, 381, 9, 1371, 774, 1954, 447, 1158, 558, 141, 1406, 1442, 1134, 1605, 1000, 1368, 1614, 1263, 458, 625, 446, 135]}],\n",
       "                        {\"coloraxis\": {\"colorbar\": {\"title\": {\"text\": \"neural\"}}, \"colorscale\": [[0.0, \"#0d0887\"], [0.1111111111111111, \"#46039f\"], [0.2222222222222222, \"#7201a8\"], [0.3333333333333333, \"#9c179e\"], [0.4444444444444444, \"#bd3786\"], [0.5555555555555556, \"#d8576b\"], [0.6666666666666666, \"#ed7953\"], [0.7777777777777778, \"#fb9f3a\"], [0.8888888888888888, \"#fdca26\"], [1.0, \"#f0f921\"]]}, \"height\": 600, \"legend\": {\"orientation\": \"h\", \"tracegroupgap\": 0}, \"margin\": {\"t\": 60}, \"scene\": {\"domain\": {\"x\": [0.0, 0.98], \"y\": [0.0, 1.0]}, \"xaxis\": {\"title\": {\"text\": \"WS\"}}, \"yaxis\": {\"title\": {\"text\": \"VORP\"}}, \"zaxis\": {\"title\": {\"text\": \"MP\"}}}, \"template\": {\"data\": {\"bar\": [{\"error_x\": {\"color\": \"#2a3f5f\"}, \"error_y\": {\"color\": \"#2a3f5f\"}, \"marker\": {\"line\": {\"color\": \"#E5ECF6\", \"width\": 0.5}}, \"type\": \"bar\"}], \"barpolar\": [{\"marker\": {\"line\": {\"color\": \"#E5ECF6\", \"width\": 0.5}}, \"type\": \"barpolar\"}], \"carpet\": [{\"aaxis\": {\"endlinecolor\": \"#2a3f5f\", \"gridcolor\": \"white\", \"linecolor\": \"white\", \"minorgridcolor\": \"white\", \"startlinecolor\": \"#2a3f5f\"}, \"baxis\": {\"endlinecolor\": \"#2a3f5f\", \"gridcolor\": \"white\", \"linecolor\": \"white\", \"minorgridcolor\": \"white\", \"startlinecolor\": \"#2a3f5f\"}, \"type\": \"carpet\"}], \"choropleth\": [{\"colorbar\": {\"outlinewidth\": 0, \"ticks\": \"\"}, \"type\": \"choropleth\"}], \"contour\": [{\"colorbar\": {\"outlinewidth\": 0, \"ticks\": \"\"}, \"colorscale\": [[0.0, \"#0d0887\"], [0.1111111111111111, \"#46039f\"], [0.2222222222222222, \"#7201a8\"], [0.3333333333333333, \"#9c179e\"], [0.4444444444444444, \"#bd3786\"], [0.5555555555555556, \"#d8576b\"], [0.6666666666666666, \"#ed7953\"], [0.7777777777777778, \"#fb9f3a\"], [0.8888888888888888, \"#fdca26\"], [1.0, \"#f0f921\"]], \"type\": \"contour\"}], \"contourcarpet\": [{\"colorbar\": {\"outlinewidth\": 0, \"ticks\": \"\"}, \"type\": \"contourcarpet\"}], \"heatmap\": [{\"colorbar\": {\"outlinewidth\": 0, \"ticks\": \"\"}, \"colorscale\": [[0.0, \"#0d0887\"], [0.1111111111111111, \"#46039f\"], [0.2222222222222222, \"#7201a8\"], [0.3333333333333333, \"#9c179e\"], [0.4444444444444444, \"#bd3786\"], [0.5555555555555556, \"#d8576b\"], [0.6666666666666666, \"#ed7953\"], [0.7777777777777778, \"#fb9f3a\"], [0.8888888888888888, \"#fdca26\"], [1.0, \"#f0f921\"]], \"type\": \"heatmap\"}], \"heatmapgl\": [{\"colorbar\": {\"outlinewidth\": 0, \"ticks\": \"\"}, \"colorscale\": [[0.0, \"#0d0887\"], [0.1111111111111111, \"#46039f\"], [0.2222222222222222, \"#7201a8\"], [0.3333333333333333, \"#9c179e\"], [0.4444444444444444, \"#bd3786\"], [0.5555555555555556, \"#d8576b\"], [0.6666666666666666, \"#ed7953\"], [0.7777777777777778, \"#fb9f3a\"], [0.8888888888888888, \"#fdca26\"], [1.0, \"#f0f921\"]], \"type\": \"heatmapgl\"}], \"histogram\": [{\"marker\": {\"colorbar\": {\"outlinewidth\": 0, \"ticks\": \"\"}}, \"type\": \"histogram\"}], \"histogram2d\": [{\"colorbar\": {\"outlinewidth\": 0, \"ticks\": \"\"}, \"colorscale\": [[0.0, \"#0d0887\"], [0.1111111111111111, \"#46039f\"], [0.2222222222222222, \"#7201a8\"], [0.3333333333333333, \"#9c179e\"], [0.4444444444444444, \"#bd3786\"], [0.5555555555555556, \"#d8576b\"], [0.6666666666666666, \"#ed7953\"], [0.7777777777777778, \"#fb9f3a\"], [0.8888888888888888, \"#fdca26\"], [1.0, \"#f0f921\"]], \"type\": \"histogram2d\"}], \"histogram2dcontour\": [{\"colorbar\": {\"outlinewidth\": 0, \"ticks\": \"\"}, \"colorscale\": [[0.0, \"#0d0887\"], [0.1111111111111111, \"#46039f\"], [0.2222222222222222, \"#7201a8\"], [0.3333333333333333, \"#9c179e\"], [0.4444444444444444, \"#bd3786\"], [0.5555555555555556, \"#d8576b\"], [0.6666666666666666, \"#ed7953\"], [0.7777777777777778, \"#fb9f3a\"], [0.8888888888888888, \"#fdca26\"], [1.0, \"#f0f921\"]], \"type\": \"histogram2dcontour\"}], \"mesh3d\": [{\"colorbar\": {\"outlinewidth\": 0, \"ticks\": \"\"}, \"type\": \"mesh3d\"}], \"parcoords\": [{\"line\": {\"colorbar\": {\"outlinewidth\": 0, \"ticks\": \"\"}}, \"type\": \"parcoords\"}], \"scatter\": [{\"marker\": {\"colorbar\": {\"outlinewidth\": 0, \"ticks\": \"\"}}, \"type\": \"scatter\"}], \"scatter3d\": [{\"line\": {\"colorbar\": {\"outlinewidth\": 0, \"ticks\": \"\"}}, \"marker\": {\"colorbar\": {\"outlinewidth\": 0, \"ticks\": \"\"}}, \"type\": \"scatter3d\"}], \"scattercarpet\": [{\"marker\": {\"colorbar\": {\"outlinewidth\": 0, \"ticks\": \"\"}}, \"type\": \"scattercarpet\"}], \"scattergeo\": [{\"marker\": {\"colorbar\": {\"outlinewidth\": 0, \"ticks\": \"\"}}, \"type\": \"scattergeo\"}], \"scattergl\": [{\"marker\": {\"colorbar\": {\"outlinewidth\": 0, \"ticks\": \"\"}}, \"type\": \"scattergl\"}], \"scattermapbox\": [{\"marker\": {\"colorbar\": {\"outlinewidth\": 0, \"ticks\": \"\"}}, \"type\": \"scattermapbox\"}], \"scatterpolar\": [{\"marker\": {\"colorbar\": {\"outlinewidth\": 0, \"ticks\": \"\"}}, \"type\": \"scatterpolar\"}], \"scatterpolargl\": [{\"marker\": {\"colorbar\": {\"outlinewidth\": 0, \"ticks\": \"\"}}, \"type\": \"scatterpolargl\"}], \"scatterternary\": [{\"marker\": {\"colorbar\": {\"outlinewidth\": 0, \"ticks\": \"\"}}, \"type\": \"scatterternary\"}], \"surface\": [{\"colorbar\": {\"outlinewidth\": 0, \"ticks\": \"\"}, \"colorscale\": [[0.0, \"#0d0887\"], [0.1111111111111111, \"#46039f\"], [0.2222222222222222, \"#7201a8\"], [0.3333333333333333, \"#9c179e\"], [0.4444444444444444, \"#bd3786\"], [0.5555555555555556, \"#d8576b\"], [0.6666666666666666, \"#ed7953\"], [0.7777777777777778, \"#fb9f3a\"], [0.8888888888888888, \"#fdca26\"], [1.0, \"#f0f921\"]], \"type\": \"surface\"}], \"table\": [{\"cells\": {\"fill\": {\"color\": \"#EBF0F8\"}, \"line\": {\"color\": \"white\"}}, \"header\": {\"fill\": {\"color\": \"#C8D4E3\"}, \"line\": {\"color\": \"white\"}}, \"type\": \"table\"}]}, \"layout\": {\"annotationdefaults\": {\"arrowcolor\": \"#2a3f5f\", \"arrowhead\": 0, \"arrowwidth\": 1}, \"colorscale\": {\"diverging\": [[0, \"#8e0152\"], [0.1, \"#c51b7d\"], [0.2, \"#de77ae\"], [0.3, \"#f1b6da\"], [0.4, \"#fde0ef\"], [0.5, \"#f7f7f7\"], [0.6, \"#e6f5d0\"], [0.7, \"#b8e186\"], [0.8, \"#7fbc41\"], [0.9, \"#4d9221\"], [1, \"#276419\"]], \"sequential\": [[0.0, \"#0d0887\"], [0.1111111111111111, \"#46039f\"], [0.2222222222222222, \"#7201a8\"], [0.3333333333333333, \"#9c179e\"], [0.4444444444444444, \"#bd3786\"], [0.5555555555555556, \"#d8576b\"], [0.6666666666666666, \"#ed7953\"], [0.7777777777777778, \"#fb9f3a\"], [0.8888888888888888, \"#fdca26\"], [1.0, \"#f0f921\"]], \"sequentialminus\": [[0.0, \"#0d0887\"], [0.1111111111111111, \"#46039f\"], [0.2222222222222222, \"#7201a8\"], [0.3333333333333333, \"#9c179e\"], [0.4444444444444444, \"#bd3786\"], [0.5555555555555556, \"#d8576b\"], [0.6666666666666666, \"#ed7953\"], [0.7777777777777778, \"#fb9f3a\"], [0.8888888888888888, \"#fdca26\"], [1.0, \"#f0f921\"]]}, \"colorway\": [\"#636efa\", \"#EF553B\", \"#00cc96\", \"#ab63fa\", \"#FFA15A\", \"#19d3f3\", \"#FF6692\", \"#B6E880\", \"#FF97FF\", \"#FECB52\"], \"font\": {\"color\": \"#2a3f5f\"}, \"geo\": {\"bgcolor\": \"white\", \"lakecolor\": \"white\", \"landcolor\": \"#E5ECF6\", \"showlakes\": true, \"showland\": true, \"subunitcolor\": \"white\"}, \"hoverlabel\": {\"align\": \"left\"}, \"hovermode\": \"closest\", \"mapbox\": {\"style\": \"light\"}, \"paper_bgcolor\": \"white\", \"plot_bgcolor\": \"#E5ECF6\", \"polar\": {\"angularaxis\": {\"gridcolor\": \"white\", \"linecolor\": \"white\", \"ticks\": \"\"}, \"bgcolor\": \"#E5ECF6\", \"radialaxis\": {\"gridcolor\": \"white\", \"linecolor\": \"white\", \"ticks\": \"\"}}, \"scene\": {\"xaxis\": {\"backgroundcolor\": \"#E5ECF6\", \"gridcolor\": \"white\", \"gridwidth\": 2, \"linecolor\": \"white\", \"showbackground\": true, \"ticks\": \"\", \"zerolinecolor\": \"white\"}, \"yaxis\": {\"backgroundcolor\": \"#E5ECF6\", \"gridcolor\": \"white\", \"gridwidth\": 2, \"linecolor\": \"white\", \"showbackground\": true, \"ticks\": \"\", \"zerolinecolor\": \"white\"}, \"zaxis\": {\"backgroundcolor\": \"#E5ECF6\", \"gridcolor\": \"white\", \"gridwidth\": 2, \"linecolor\": \"white\", \"showbackground\": true, \"ticks\": \"\", \"zerolinecolor\": \"white\"}}, \"shapedefaults\": {\"line\": {\"color\": \"#2a3f5f\"}}, \"ternary\": {\"aaxis\": {\"gridcolor\": \"white\", \"linecolor\": \"white\", \"ticks\": \"\"}, \"baxis\": {\"gridcolor\": \"white\", \"linecolor\": \"white\", \"ticks\": \"\"}, \"bgcolor\": \"#E5ECF6\", \"caxis\": {\"gridcolor\": \"white\", \"linecolor\": \"white\", \"ticks\": \"\"}}, \"title\": {\"x\": 0.05}, \"xaxis\": {\"automargin\": true, \"gridcolor\": \"white\", \"linecolor\": \"white\", \"ticks\": \"\", \"zerolinecolor\": \"white\", \"zerolinewidth\": 2}, \"yaxis\": {\"automargin\": true, \"gridcolor\": \"white\", \"linecolor\": \"white\", \"ticks\": \"\", \"zerolinecolor\": \"white\", \"zerolinewidth\": 2}}}},\n",
       "                        {\"responsive\": true}\n",
       "                    ).then(function(){\n",
       "                            \n",
       "var gd = document.getElementById('f4ae173e-2693-4c5c-8119-9448f83d4dca');\n",
       "var x = new MutationObserver(function (mutations, observer) {{\n",
       "        var display = window.getComputedStyle(gd).display;\n",
       "        if (!display || display === 'none') {{\n",
       "            console.log([gd, 'removed!']);\n",
       "            Plotly.purge(gd);\n",
       "            observer.disconnect();\n",
       "        }}\n",
       "}});\n",
       "\n",
       "// Listen for the removal of the full notebook cells\n",
       "var notebookContainer = gd.closest('#notebook-container');\n",
       "if (notebookContainer) {{\n",
       "    x.observe(notebookContainer, {childList: true});\n",
       "}}\n",
       "\n",
       "// Listen for the clearing of the current output cell\n",
       "var outputEl = gd.closest('.output');\n",
       "if (outputEl) {{\n",
       "    x.observe(outputEl, {childList: true});\n",
       "}}\n",
       "\n",
       "                        })\n",
       "                };\n",
       "                });\n",
       "            </script>\n",
       "        </div>"
      ]
     },
     "metadata": {},
     "output_type": "display_data"
    },
    {
     "data": {
      "text/plain": [
       "'html_files/aggregated_nn_ws_vorp_MP.html'"
      ]
     },
     "execution_count": 180,
     "metadata": {},
     "output_type": "execute_result"
    }
   ],
   "source": [
    "fig = px.scatter_3d(test_master_w_predictions, x='WS', y='VORP', z='MP',\n",
    "            color='neural', \n",
    "            hover_name='Player_name', \n",
    "            hover_data=['USG%', 'PER', 'MP', 'VORP', 'Age'], \n",
    "            symbol='neural')\n",
    "fig.update_traces(marker=dict(size=10,\n",
    "                              line=dict(width=1,\n",
    "                                        color='DarkSlateGrey')),\n",
    "                  selector=dict(mode='markers'))\n",
    "\n",
    "# fig.update_layout(scene=dict(xaxis=dict(range=[-15,10],),))\n",
    "fig.update_layout(legend_orientation=\"h\")\n",
    "fig.show()\n",
    "plotly.offline.plot(fig, filename='html_files/aggregated_nn_ws_vorp_MP.html')"
   ]
  },
  {
   "cell_type": "code",
   "execution_count": 185,
   "metadata": {},
   "outputs": [
    {
     "data": {
      "application/vnd.plotly.v1+json": {
       "config": {
        "plotlyServerURL": "https://plot.ly"
       },
       "data": [
        {
         "customdata": [
          [
           15.8,
           17.9,
           1913,
           2.4,
           21
          ],
          [
           15.9,
           18.5,
           2096,
           2.4,
           20
          ],
          [
           24.5,
           18.1,
           2546,
           2,
           21
          ],
          [
           23.8,
           14,
           2314,
           0.2,
           23
          ],
          [
           25.1,
           17.1,
           1682,
           0,
           21
          ],
          [
           31.6,
           17.2,
           2598,
           1.7,
           22
          ],
          [
           22.1,
           15.1,
           2455,
           0.8,
           20
          ],
          [
           22.8,
           16.1,
           2565,
           1.2,
           20
          ],
          [
           22.1,
           17.5,
           1810,
           0.8,
           21
          ],
          [
           22.3,
           20,
           2732,
           4.6,
           21
          ],
          [
           28.6,
           14.6,
           2730,
           -0.2,
           20
          ],
          [
           17.6,
           19.2,
           1064,
           0.8,
           23
          ],
          [
           18.7,
           13.7,
           1761,
           0.4,
           22
          ],
          [
           18.6,
           18.6,
           1193,
           1.1,
           23
          ],
          [
           24.3,
           17.4,
           2164,
           1.2,
           21
          ],
          [
           26.6,
           15.3,
           1811,
           0.7,
           20
          ],
          [
           19.5,
           18.5,
           2541,
           2.8,
           20
          ]
         ],
         "hoverlabel": {
          "namelength": 0
         },
         "hovertemplate": "<b>%{hovertext}</b><br><br>neural=%{marker.color}<br>WS=%{x}<br>VORP=%{customdata[3]}<br>RPG=%{z}<br>USG%=%{customdata[0]}<br>PER=%{customdata[1]}<br>MP=%{customdata[2]}<br>Age=%{customdata[4]}",
         "hovertext": [
          "Bam Adebayo",
          "Jarrett Allen",
          "De'Aaron Fox",
          "Kyle Kuzma",
          "Lauri Markkanen",
          "Donovan Mitchell",
          "Jayson Tatum",
          "Jamal Murray",
          "Domantas Sabonis",
          "Ben Simmons",
          "Devin Booker",
          "Montrezl Harrell",
          "Rondae Hollis-Jefferson",
          "Richaun Holmes",
          "Kristaps Porzingis",
          "D'Angelo Russell",
          "Myles Turner"
         ],
         "legendgroup": "neural=1",
         "marker": {
          "color": [
           1,
           1,
           1,
           1,
           1,
           1,
           1,
           1,
           1,
           1,
           1,
           1,
           1,
           1,
           1,
           1,
           1
          ],
          "coloraxis": "coloraxis",
          "line": {
           "color": "DarkSlateGrey",
           "width": 1
          },
          "size": 10,
          "symbol": "circle"
         },
         "mode": "markers",
         "name": "neural=1",
         "scene": "scene",
         "showlegend": true,
         "type": "scatter3d",
         "x": [
          6.8,
          7.6,
          5.6,
          3.1,
          2.7,
          5,
          5,
          5.5,
          4.7,
          9.2,
          2,
          4.1,
          2.6,
          3.8,
          4.5,
          1.3,
          8
         ],
         "y": [
          2.4,
          2.4,
          2,
          0.2,
          0,
          1.7,
          0.8,
          1.2,
          0.8,
          4.6,
          -0.2,
          0.8,
          0.4,
          1.1,
          1.2,
          0.7,
          2.8
         ],
         "z": [
          6.5,
          7,
          3.3,
          5.9,
          8.2,
          3.9,
          5.5,
          3.5,
          6.8,
          8.5,
          3.5,
          4.4,
          5.9,
          4.4,
          7.1,
          3.7,
          6.7
         ]
        },
        {
         "customdata": [
          [
           19.6,
           16.2,
           416,
           0.1,
           26
          ],
          [
           29.1,
           -6,
           6,
           0,
           20
          ],
          [
           15.5,
           9.8,
           1352,
           0.3,
           21
          ],
          [
           16.8,
           11.7,
           759,
           -0.3,
           23
          ],
          [
           16.9,
           11.7,
           1423,
           0.9,
           21
          ],
          [
           13.7,
           12.9,
           788,
           0.3,
           24
          ],
          [
           12.2,
           10.2,
           439,
           -0.3,
           25
          ],
          [
           13.8,
           12.7,
           639,
           0.5,
           23
          ],
          [
           23.6,
           19.6,
           36,
           0,
           21
          ],
          [
           20.9,
           7.6,
           330,
           -0.3,
           23
          ],
          [
           15.2,
           10.9,
           1034,
           0.1,
           23
          ],
          [
           16.6,
           13.5,
           1356,
           0.7,
           21
          ],
          [
           17.9,
           7.8,
           251,
           -0.3,
           22
          ],
          [
           20.7,
           13.1,
           447,
           0,
           22
          ],
          [
           17.3,
           10.8,
           2004,
           -0.2,
           24
          ],
          [
           12.7,
           0.7,
           64,
           -0.1,
           22
          ],
          [
           40.7,
           -38.1,
           1,
           0,
           22
          ],
          [
           10.6,
           6.4,
           1931,
           0,
           20
          ],
          [
           19.3,
           10.5,
           427,
           -0.1,
           20
          ],
          [
           23.2,
           14.4,
           820,
           0,
           20
          ],
          [
           13.5,
           9.3,
           1715,
           0.6,
           23
          ],
          [
           11.8,
           10,
           221,
           0.1,
           20
          ],
          [
           16.3,
           13,
           1996,
           1.1,
           21
          ],
          [
           12.8,
           8.7,
           1233,
           -0.2,
           24
          ],
          [
           18.5,
           9.4,
           1169,
           -0.9,
           20
          ],
          [
           23.9,
           10.6,
           1988,
           -1.4,
           21
          ],
          [
           12.9,
           10.1,
           1083,
           0.1,
           23
          ],
          [
           17,
           13.9,
           531,
           0.1,
           23
          ],
          [
           18.1,
           11.9,
           1437,
           0.2,
           22
          ],
          [
           17.5,
           16.9,
           522,
           0.1,
           21
          ],
          [
           10.6,
           9.3,
           94,
           0,
           22
          ],
          [
           21.8,
           12.4,
           435,
           -0.3,
           24
          ],
          [
           24.6,
           11.8,
           1258,
           -0.6,
           20
          ],
          [
           17.1,
           16.2,
           1970,
           1.1,
           23
          ],
          [
           16.6,
           6,
           904,
           -0.8,
           20
          ],
          [
           14.1,
           8.5,
           594,
           -0.3,
           24
          ],
          [
           15.7,
           10.5,
           21,
           0,
           21
          ],
          [
           17.2,
           16.1,
           721,
           0.2,
           21
          ],
          [
           12.1,
           8.1,
           47,
           0,
           23
          ],
          [
           23.3,
           11.5,
           908,
           -0.1,
           21
          ],
          [
           27,
           13.5,
           600,
           -0.1,
           21
          ],
          [
           17.6,
           7.6,
           210,
           -0.1,
           23
          ],
          [
           18.4,
           3.1,
           145,
           -0.3,
           21
          ],
          [
           14.9,
           11.7,
           33,
           0,
           21
          ],
          [
           11.3,
           5.2,
           313,
           -0.2,
           24
          ],
          [
           17.7,
           14.8,
           1728,
           1.3,
           24
          ],
          [
           14.4,
           10.3,
           882,
           0.1,
           22
          ],
          [
           16.1,
           16.6,
           80,
           0,
           21
          ],
          [
           16.2,
           9,
           583,
           -0.5,
           21
          ],
          [
           18.2,
           7.6,
           455,
           -0.3,
           23
          ],
          [
           12.7,
           7.1,
           2069,
           -0.4,
           20
          ],
          [
           12.6,
           11.7,
           38,
           -0.1,
           24
          ],
          [
           19.1,
           14.3,
           1436,
           0.2,
           25
          ],
          [
           21.4,
           13.6,
           2152,
           1,
           21
          ],
          [
           18.1,
           11.1,
           1527,
           0,
           20
          ],
          [
           15.3,
           16.6,
           943,
           0.3,
           21
          ],
          [
           17.4,
           17,
           581,
           -0.2,
           21
          ],
          [
           24.7,
           14.5,
           1525,
           0.7,
           23
          ],
          [
           23.8,
           10.5,
           329,
           -0.4,
           21
          ],
          [
           19.9,
           18.2,
           28,
           0,
           22
          ],
          [
           24.3,
           16.1,
           2024,
           0.9,
           25
          ],
          [
           22.2,
           13.8,
           1975,
           0.4,
           20
          ],
          [
           13.9,
           6.8,
           89,
           -0.1,
           22
          ],
          [
           16.9,
           3.4,
           80,
           -0.1,
           20
          ],
          [
           14.6,
           4.9,
           160,
           -0.1,
           23
          ],
          [
           22.5,
           14.2,
           1864,
           0.7,
           23
          ],
          [
           14.6,
           10.2,
           1238,
           -0.2,
           20
          ],
          [
           12.8,
           7.4,
           961,
           -0.3,
           22
          ],
          [
           20.7,
           15.1,
           1743,
           1.4,
           21
          ],
          [
           17.1,
           5.1,
           522,
           -0.5,
           24
          ],
          [
           20.9,
           9.2,
           32,
           0,
           24
          ],
          [
           16.1,
           -3.2,
           22,
           -0.1,
           21
          ],
          [
           23,
           9.1,
           28,
           0,
           24
          ],
          [
           16.8,
           1.9,
           124,
           -0.2,
           22
          ],
          [
           15.7,
           14.5,
           1679,
           1.7,
           23
          ],
          [
           18.5,
           10.1,
           1658,
           -1.3,
           22
          ],
          [
           17.5,
           12.1,
           2095,
           0.8,
           24
          ],
          [
           16.6,
           10.1,
           851,
           0,
           23
          ],
          [
           22.1,
           12.8,
           2464,
           0.8,
           23
          ],
          [
           28.5,
           11.5,
           180,
           -0.2,
           22
          ],
          [
           15.7,
           12.3,
           235,
           0.1,
           22
          ],
          [
           15.2,
           5.2,
           824,
           -0.8,
           23
          ],
          [
           18.8,
           24.2,
           214,
           0.1,
           21
          ],
          [
           17.6,
           15.3,
           410,
           0,
           20
          ],
          [
           19.7,
           16.3,
           1421,
           0.3,
           23
          ],
          [
           13.1,
           10.4,
           219,
           -0.1,
           25
          ],
          [
           13,
           11.8,
           316,
           0,
           24
          ],
          [
           14.9,
           13.1,
           1419,
           0.3,
           22
          ],
          [
           16,
           13.2,
           1028,
           0.4,
           24
          ],
          [
           16.4,
           8.7,
           1474,
           -0.2,
           22
          ],
          [
           20.3,
           19,
           1324,
           0.7,
           22
          ],
          [
           18.8,
           7.2,
           960,
           -0.9,
           21
          ],
          [
           19.3,
           5.9,
           381,
           -0.4,
           23
          ],
          [
           4.8,
           -3.2,
           9,
           0,
           23
          ],
          [
           14.8,
           7.2,
           1371,
           0,
           20
          ],
          [
           13.6,
           13.8,
           774,
           0,
           20
          ],
          [
           21.8,
           13,
           1954,
           0.2,
           23
          ],
          [
           13.4,
           13.6,
           447,
           0.3,
           20
          ],
          [
           21.7,
           9.9,
           1158,
           -0.3,
           21
          ],
          [
           16.4,
           8.7,
           558,
           -0.6,
           22
          ],
          [
           15.5,
           9.8,
           141,
           -0.1,
           22
          ],
          [
           22.6,
           10.9,
           1406,
           -0.6,
           20
          ],
          [
           13.4,
           15.7,
           1442,
           1.4,
           24
          ],
          [
           24.1,
           14.8,
           1134,
           -0.4,
           21
          ],
          [
           14.6,
           9.1,
           1605,
           -0.1,
           21
          ],
          [
           19.1,
           14.9,
           1000,
           -0.3,
           21
          ],
          [
           21.1,
           14,
           1368,
           0.2,
           23
          ],
          [
           16.8,
           10.7,
           1614,
           0.9,
           23
          ],
          [
           17.1,
           10.9,
           1263,
           -0.2,
           22
          ],
          [
           17.2,
           7.8,
           458,
           -0.3,
           20
          ],
          [
           19.8,
           8.2,
           625,
           -0.1,
           20
          ],
          [
           16.6,
           15,
           446,
           0.4,
           24
          ],
          [
           27.8,
           11.4,
           135,
           -0.2,
           24
          ]
         ],
         "hoverlabel": {
          "namelength": 0
         },
         "hovertemplate": "<b>%{hovertext}</b><br><br>neural=%{marker.color}<br>WS=%{x}<br>VORP=%{customdata[3]}<br>RPG=%{z}<br>USG%=%{customdata[0]}<br>PER=%{customdata[1]}<br>MP=%{customdata[2]}<br>Age=%{customdata[4]}",
         "hovertext": [
          "Kadeem Allen",
          "Ike Anigbogu",
          "OG Anunoby",
          "Dwayne Bacon",
          "Lonzo Ball",
          "Jordan Bell",
          "Jaron Blossomgame",
          "Jonah Bolden",
          "Tony Bradley",
          "Dillon Brooks",
          "Sterling Brown",
          "Zach Collins",
          "Tyler Dorsey",
          "Tyler Dorsey",
          "Damyean Dotson",
          "Jawun Evans",
          "Jawun Evans",
          "Terrance Ferguson",
          "Markelle Fultz",
          "Harry Giles",
          "Josh Hart",
          "Isaiah Hartenstein",
          "Jonathan Isaac",
          "Wesley Iwundu",
          "Frank Jackson",
          "Josh Jackson",
          "Justin Jackson",
          "Justin Jackson",
          "Luke Kennard",
          "T.J. Leaf",
          "Tyler Lydon",
          "Frank Mason",
          "Malik Monk",
          "Monte Morris",
          "Frank Ntilikina",
          "Semi Ojeleye",
          "Justin Patton",
          "Ivan Rabb",
          "Davon Reed",
          "Dennis Smith",
          "Dennis Smith",
          "Edmond Sumner",
          "Caleb Swanigan",
          "Caleb Swanigan",
          "Sindarius Thornwell",
          "Derrick White",
          "D.J. Wilson",
          "Wade Baldwin",
          "Malik Beasley",
          "DeAndre' Bembry",
          "Dragan Bender",
          "Joel Bolomboy",
          "Malcolm Brogdon",
          "Jaylen Brown",
          "Marquese Chriss",
          "Deyonta Davis",
          "Cheick Diallo",
          "Kris Dunn",
          "Henry Ellenson",
          "Daniel Hamilton",
          "Buddy Hield",
          "Brandon Ingram",
          "Damian Jones",
          "Furkan Korkmaz",
          "Jake Layman",
          "Caris LeVert",
          "Thon Maker",
          "Patrick McCaw",
          "Dejounte Murray",
          "Abdel Nader",
          "Georges Niang",
          "Chinanu Onuaku",
          "Marcus Paige",
          "Zhou Qi",
          "Pascal Siakam",
          "Tyler Ulis",
          "Denzel Valentine",
          "Tyrone Wallace",
          "Taurean Waller-Prince",
          "Isaiah Whitehead",
          "Guerschon Yabusele",
          "Paul Zipser",
          "Ante Žižić",
          "Ivica Zubac",
          "Willie Cauley-Stein",
          "Rakeem Christmas",
          "Pat Connaughton",
          "Sam Dekker",
          "Jerian Grant",
          "Andrew Harrison",
          "Willy Hernangomez",
          "Mario Hezonja",
          "Darrun Hilliard",
          "R.J. Hunter",
          "Stanley Johnson",
          "Tyus Jones",
          "Frank Kaminsky",
          "Kevon Looney",
          "Trey Lyles",
          "Jarell Martin",
          "Jordan Mickey",
          "Emmanuel Mudiay",
          "Larry Nance",
          "Jahlil Okafor",
          "Kelly Oubre",
          "Bobby Portis",
          "Norman Powell",
          "Josh Richardson",
          "Terry Rozier",
          "Rashad Vaughn",
          "Justise Winslow",
          "Delon Wright",
          "Joe Young"
         ],
         "legendgroup": "neural=0",
         "marker": {
          "color": [
           0,
           0,
           0,
           0,
           0,
           0,
           0,
           0,
           0,
           0,
           0,
           0,
           0,
           0,
           0,
           0,
           0,
           0,
           0,
           0,
           0,
           0,
           0,
           0,
           0,
           0,
           0,
           0,
           0,
           0,
           0,
           0,
           0,
           0,
           0,
           0,
           0,
           0,
           0,
           0,
           0,
           0,
           0,
           0,
           0,
           0,
           0,
           0,
           0,
           0,
           0,
           0,
           0,
           0,
           0,
           0,
           0,
           0,
           0,
           0,
           0,
           0,
           0,
           0,
           0,
           0,
           0,
           0,
           0,
           0,
           0,
           0,
           0,
           0,
           0,
           0,
           0,
           0,
           0,
           0,
           0,
           0,
           0,
           0,
           0,
           0,
           0,
           0,
           0,
           0,
           0,
           0,
           0,
           0,
           0,
           0,
           0,
           0,
           0,
           0,
           0,
           0,
           0,
           0,
           0,
           0,
           0,
           0,
           0,
           0,
           0,
           0,
           0
          ],
          "coloraxis": "coloraxis",
          "line": {
           "color": "DarkSlateGrey",
           "width": 1
          },
          "size": 10,
          "symbol": "diamond"
         },
         "mode": "markers",
         "name": "neural=0",
         "scene": "scene",
         "showlegend": true,
         "type": "scatter3d",
         "x": [
          1,
          -0.1,
          2,
          1.2,
          1.6,
          1.6,
          0.3,
          1.4,
          0.1,
          0,
          2.1,
          2.9,
          -0.1,
          0.7,
          1.5,
          -0.2,
          0,
          2.8,
          0.3,
          1,
          2.1,
          0.5,
          4,
          1.9,
          0.4,
          -1.7,
          1.6,
          1.3,
          2.5,
          1.6,
          0.2,
          0.3,
          0.3,
          6.2,
          -0.8,
          0.7,
          0,
          2.1,
          0.1,
          0.2,
          -0.2,
          0.1,
          -0.3,
          0,
          0,
          3.6,
          1.7,
          0.3,
          0.3,
          -0.4,
          0.1,
          0.1,
          2.7,
          4.5,
          0.7,
          2.7,
          1.9,
          0.9,
          0.1,
          0.1,
          2.8,
          2.8,
          0.1,
          0,
          -0.1,
          2.3,
          1.5,
          0.6,
          3.2,
          -0.1,
          0,
          -0.1,
          0,
          -0.3,
          4.7,
          -0.2,
          2.5,
          0.7,
          2,
          -0.1,
          0.6,
          -0.6,
          1,
          1,
          2.9,
          0.5,
          0.6,
          3.1,
          2.5,
          1.6,
          3.4,
          -0.7,
          -0.2,
          0,
          0.4,
          1.5,
          2.3,
          1.4,
          0.8,
          0.6,
          0.1,
          0.2,
          3.5,
          1.2,
          2,
          2.4,
          2.8,
          2.2,
          1.4,
          0,
          -0.1,
          1.1,
          -0.1
         ],
         "y": [
          0.1,
          0,
          0.3,
          -0.3,
          0.9,
          0.3,
          -0.3,
          0.5,
          0,
          -0.3,
          0.1,
          0.7,
          -0.3,
          0,
          -0.2,
          -0.1,
          0,
          0,
          -0.1,
          0,
          0.6,
          0.1,
          1.1,
          -0.2,
          -0.9,
          -1.4,
          0.1,
          0.1,
          0.2,
          0.1,
          0,
          -0.3,
          -0.6,
          1.1,
          -0.8,
          -0.3,
          0,
          0.2,
          0,
          -0.1,
          -0.1,
          -0.1,
          -0.3,
          0,
          -0.2,
          1.3,
          0.1,
          0,
          -0.5,
          -0.3,
          -0.4,
          -0.1,
          0.2,
          1,
          0,
          0.3,
          -0.2,
          0.7,
          -0.4,
          0,
          0.9,
          0.4,
          -0.1,
          -0.1,
          -0.1,
          0.7,
          -0.2,
          -0.3,
          1.4,
          -0.5,
          0,
          -0.1,
          0,
          -0.2,
          1.7,
          -1.3,
          0.8,
          0,
          0.8,
          -0.2,
          0.1,
          -0.8,
          0.1,
          0,
          0.3,
          -0.1,
          0,
          0.3,
          0.4,
          -0.2,
          0.7,
          -0.9,
          -0.4,
          0,
          0,
          0,
          0.2,
          0.3,
          -0.3,
          -0.6,
          -0.1,
          -0.6,
          1.4,
          -0.4,
          -0.1,
          -0.3,
          0.2,
          0.9,
          -0.2,
          -0.3,
          -0.1,
          0.4,
          -0.2
         ],
         "z": [
          1.7,
          0.9,
          2.7,
          2.2,
          6.2,
          3.1,
          3.6,
          3.8,
          2.2,
          2.9,
          2.9,
          3.8,
          2.3,
          2.3,
          3,
          1.7,
          1.7,
          1.4,
          3.4,
          3.8,
          3.9,
          1.7,
          5,
          2.5,
          2.2,
          4.5,
          2.7,
          2.7,
          2.6,
          1.9,
          0.7,
          1.9,
          1.5,
          2.3,
          2.2,
          1.9,
          1.5,
          4.3,
          1.5,
          3.4,
          3.4,
          1,
          2.5,
          2.5,
          1.3,
          3.3,
          3.3,
          1.2,
          1.7,
          3.3,
          3.8,
          1.5,
          3.5,
          4,
          4.5,
          3.2,
          4.6,
          3.3,
          2.5,
          2.1,
          4,
          4.7,
          2.3,
          1.9,
          1.8,
          3.6,
          2.8,
          1.5,
          4.2,
          1.7,
          1.2,
          2.3,
          0.8,
          1.2,
          5.1,
          1.7,
          4.1,
          2.2,
          3.8,
          2.4,
          1.4,
          2.6,
          4.2,
          4.6,
          6.4,
          1.9,
          2.3,
          3,
          1.9,
          2,
          5.6,
          3,
          0.9,
          1,
          3.4,
          1.5,
          4,
          3.8,
          3.9,
          3.5,
          2,
          3.1,
          6.5,
          5.1,
          3.7,
          6.2,
          2.1,
          3.2,
          3.6,
          1.1,
          5.3,
          2.8,
          1
         ]
        }
       ],
       "layout": {
        "coloraxis": {
         "colorbar": {
          "title": {
           "text": "neural"
          }
         },
         "colorscale": [
          [
           0,
           "#0d0887"
          ],
          [
           0.1111111111111111,
           "#46039f"
          ],
          [
           0.2222222222222222,
           "#7201a8"
          ],
          [
           0.3333333333333333,
           "#9c179e"
          ],
          [
           0.4444444444444444,
           "#bd3786"
          ],
          [
           0.5555555555555556,
           "#d8576b"
          ],
          [
           0.6666666666666666,
           "#ed7953"
          ],
          [
           0.7777777777777778,
           "#fb9f3a"
          ],
          [
           0.8888888888888888,
           "#fdca26"
          ],
          [
           1,
           "#f0f921"
          ]
         ]
        },
        "height": 600,
        "legend": {
         "orientation": "h",
         "tracegroupgap": 0
        },
        "margin": {
         "t": 60
        },
        "scene": {
         "domain": {
          "x": [
           0,
           0.98
          ],
          "y": [
           0,
           1
          ]
         },
         "xaxis": {
          "title": {
           "text": "WS"
          }
         },
         "yaxis": {
          "title": {
           "text": "VORP"
          }
         },
         "zaxis": {
          "title": {
           "text": "RPG"
          }
         }
        },
        "template": {
         "data": {
          "bar": [
           {
            "error_x": {
             "color": "#2a3f5f"
            },
            "error_y": {
             "color": "#2a3f5f"
            },
            "marker": {
             "line": {
              "color": "#E5ECF6",
              "width": 0.5
             }
            },
            "type": "bar"
           }
          ],
          "barpolar": [
           {
            "marker": {
             "line": {
              "color": "#E5ECF6",
              "width": 0.5
             }
            },
            "type": "barpolar"
           }
          ],
          "carpet": [
           {
            "aaxis": {
             "endlinecolor": "#2a3f5f",
             "gridcolor": "white",
             "linecolor": "white",
             "minorgridcolor": "white",
             "startlinecolor": "#2a3f5f"
            },
            "baxis": {
             "endlinecolor": "#2a3f5f",
             "gridcolor": "white",
             "linecolor": "white",
             "minorgridcolor": "white",
             "startlinecolor": "#2a3f5f"
            },
            "type": "carpet"
           }
          ],
          "choropleth": [
           {
            "colorbar": {
             "outlinewidth": 0,
             "ticks": ""
            },
            "type": "choropleth"
           }
          ],
          "contour": [
           {
            "colorbar": {
             "outlinewidth": 0,
             "ticks": ""
            },
            "colorscale": [
             [
              0,
              "#0d0887"
             ],
             [
              0.1111111111111111,
              "#46039f"
             ],
             [
              0.2222222222222222,
              "#7201a8"
             ],
             [
              0.3333333333333333,
              "#9c179e"
             ],
             [
              0.4444444444444444,
              "#bd3786"
             ],
             [
              0.5555555555555556,
              "#d8576b"
             ],
             [
              0.6666666666666666,
              "#ed7953"
             ],
             [
              0.7777777777777778,
              "#fb9f3a"
             ],
             [
              0.8888888888888888,
              "#fdca26"
             ],
             [
              1,
              "#f0f921"
             ]
            ],
            "type": "contour"
           }
          ],
          "contourcarpet": [
           {
            "colorbar": {
             "outlinewidth": 0,
             "ticks": ""
            },
            "type": "contourcarpet"
           }
          ],
          "heatmap": [
           {
            "colorbar": {
             "outlinewidth": 0,
             "ticks": ""
            },
            "colorscale": [
             [
              0,
              "#0d0887"
             ],
             [
              0.1111111111111111,
              "#46039f"
             ],
             [
              0.2222222222222222,
              "#7201a8"
             ],
             [
              0.3333333333333333,
              "#9c179e"
             ],
             [
              0.4444444444444444,
              "#bd3786"
             ],
             [
              0.5555555555555556,
              "#d8576b"
             ],
             [
              0.6666666666666666,
              "#ed7953"
             ],
             [
              0.7777777777777778,
              "#fb9f3a"
             ],
             [
              0.8888888888888888,
              "#fdca26"
             ],
             [
              1,
              "#f0f921"
             ]
            ],
            "type": "heatmap"
           }
          ],
          "heatmapgl": [
           {
            "colorbar": {
             "outlinewidth": 0,
             "ticks": ""
            },
            "colorscale": [
             [
              0,
              "#0d0887"
             ],
             [
              0.1111111111111111,
              "#46039f"
             ],
             [
              0.2222222222222222,
              "#7201a8"
             ],
             [
              0.3333333333333333,
              "#9c179e"
             ],
             [
              0.4444444444444444,
              "#bd3786"
             ],
             [
              0.5555555555555556,
              "#d8576b"
             ],
             [
              0.6666666666666666,
              "#ed7953"
             ],
             [
              0.7777777777777778,
              "#fb9f3a"
             ],
             [
              0.8888888888888888,
              "#fdca26"
             ],
             [
              1,
              "#f0f921"
             ]
            ],
            "type": "heatmapgl"
           }
          ],
          "histogram": [
           {
            "marker": {
             "colorbar": {
              "outlinewidth": 0,
              "ticks": ""
             }
            },
            "type": "histogram"
           }
          ],
          "histogram2d": [
           {
            "colorbar": {
             "outlinewidth": 0,
             "ticks": ""
            },
            "colorscale": [
             [
              0,
              "#0d0887"
             ],
             [
              0.1111111111111111,
              "#46039f"
             ],
             [
              0.2222222222222222,
              "#7201a8"
             ],
             [
              0.3333333333333333,
              "#9c179e"
             ],
             [
              0.4444444444444444,
              "#bd3786"
             ],
             [
              0.5555555555555556,
              "#d8576b"
             ],
             [
              0.6666666666666666,
              "#ed7953"
             ],
             [
              0.7777777777777778,
              "#fb9f3a"
             ],
             [
              0.8888888888888888,
              "#fdca26"
             ],
             [
              1,
              "#f0f921"
             ]
            ],
            "type": "histogram2d"
           }
          ],
          "histogram2dcontour": [
           {
            "colorbar": {
             "outlinewidth": 0,
             "ticks": ""
            },
            "colorscale": [
             [
              0,
              "#0d0887"
             ],
             [
              0.1111111111111111,
              "#46039f"
             ],
             [
              0.2222222222222222,
              "#7201a8"
             ],
             [
              0.3333333333333333,
              "#9c179e"
             ],
             [
              0.4444444444444444,
              "#bd3786"
             ],
             [
              0.5555555555555556,
              "#d8576b"
             ],
             [
              0.6666666666666666,
              "#ed7953"
             ],
             [
              0.7777777777777778,
              "#fb9f3a"
             ],
             [
              0.8888888888888888,
              "#fdca26"
             ],
             [
              1,
              "#f0f921"
             ]
            ],
            "type": "histogram2dcontour"
           }
          ],
          "mesh3d": [
           {
            "colorbar": {
             "outlinewidth": 0,
             "ticks": ""
            },
            "type": "mesh3d"
           }
          ],
          "parcoords": [
           {
            "line": {
             "colorbar": {
              "outlinewidth": 0,
              "ticks": ""
             }
            },
            "type": "parcoords"
           }
          ],
          "scatter": [
           {
            "marker": {
             "colorbar": {
              "outlinewidth": 0,
              "ticks": ""
             }
            },
            "type": "scatter"
           }
          ],
          "scatter3d": [
           {
            "line": {
             "colorbar": {
              "outlinewidth": 0,
              "ticks": ""
             }
            },
            "marker": {
             "colorbar": {
              "outlinewidth": 0,
              "ticks": ""
             }
            },
            "type": "scatter3d"
           }
          ],
          "scattercarpet": [
           {
            "marker": {
             "colorbar": {
              "outlinewidth": 0,
              "ticks": ""
             }
            },
            "type": "scattercarpet"
           }
          ],
          "scattergeo": [
           {
            "marker": {
             "colorbar": {
              "outlinewidth": 0,
              "ticks": ""
             }
            },
            "type": "scattergeo"
           }
          ],
          "scattergl": [
           {
            "marker": {
             "colorbar": {
              "outlinewidth": 0,
              "ticks": ""
             }
            },
            "type": "scattergl"
           }
          ],
          "scattermapbox": [
           {
            "marker": {
             "colorbar": {
              "outlinewidth": 0,
              "ticks": ""
             }
            },
            "type": "scattermapbox"
           }
          ],
          "scatterpolar": [
           {
            "marker": {
             "colorbar": {
              "outlinewidth": 0,
              "ticks": ""
             }
            },
            "type": "scatterpolar"
           }
          ],
          "scatterpolargl": [
           {
            "marker": {
             "colorbar": {
              "outlinewidth": 0,
              "ticks": ""
             }
            },
            "type": "scatterpolargl"
           }
          ],
          "scatterternary": [
           {
            "marker": {
             "colorbar": {
              "outlinewidth": 0,
              "ticks": ""
             }
            },
            "type": "scatterternary"
           }
          ],
          "surface": [
           {
            "colorbar": {
             "outlinewidth": 0,
             "ticks": ""
            },
            "colorscale": [
             [
              0,
              "#0d0887"
             ],
             [
              0.1111111111111111,
              "#46039f"
             ],
             [
              0.2222222222222222,
              "#7201a8"
             ],
             [
              0.3333333333333333,
              "#9c179e"
             ],
             [
              0.4444444444444444,
              "#bd3786"
             ],
             [
              0.5555555555555556,
              "#d8576b"
             ],
             [
              0.6666666666666666,
              "#ed7953"
             ],
             [
              0.7777777777777778,
              "#fb9f3a"
             ],
             [
              0.8888888888888888,
              "#fdca26"
             ],
             [
              1,
              "#f0f921"
             ]
            ],
            "type": "surface"
           }
          ],
          "table": [
           {
            "cells": {
             "fill": {
              "color": "#EBF0F8"
             },
             "line": {
              "color": "white"
             }
            },
            "header": {
             "fill": {
              "color": "#C8D4E3"
             },
             "line": {
              "color": "white"
             }
            },
            "type": "table"
           }
          ]
         },
         "layout": {
          "annotationdefaults": {
           "arrowcolor": "#2a3f5f",
           "arrowhead": 0,
           "arrowwidth": 1
          },
          "colorscale": {
           "diverging": [
            [
             0,
             "#8e0152"
            ],
            [
             0.1,
             "#c51b7d"
            ],
            [
             0.2,
             "#de77ae"
            ],
            [
             0.3,
             "#f1b6da"
            ],
            [
             0.4,
             "#fde0ef"
            ],
            [
             0.5,
             "#f7f7f7"
            ],
            [
             0.6,
             "#e6f5d0"
            ],
            [
             0.7,
             "#b8e186"
            ],
            [
             0.8,
             "#7fbc41"
            ],
            [
             0.9,
             "#4d9221"
            ],
            [
             1,
             "#276419"
            ]
           ],
           "sequential": [
            [
             0,
             "#0d0887"
            ],
            [
             0.1111111111111111,
             "#46039f"
            ],
            [
             0.2222222222222222,
             "#7201a8"
            ],
            [
             0.3333333333333333,
             "#9c179e"
            ],
            [
             0.4444444444444444,
             "#bd3786"
            ],
            [
             0.5555555555555556,
             "#d8576b"
            ],
            [
             0.6666666666666666,
             "#ed7953"
            ],
            [
             0.7777777777777778,
             "#fb9f3a"
            ],
            [
             0.8888888888888888,
             "#fdca26"
            ],
            [
             1,
             "#f0f921"
            ]
           ],
           "sequentialminus": [
            [
             0,
             "#0d0887"
            ],
            [
             0.1111111111111111,
             "#46039f"
            ],
            [
             0.2222222222222222,
             "#7201a8"
            ],
            [
             0.3333333333333333,
             "#9c179e"
            ],
            [
             0.4444444444444444,
             "#bd3786"
            ],
            [
             0.5555555555555556,
             "#d8576b"
            ],
            [
             0.6666666666666666,
             "#ed7953"
            ],
            [
             0.7777777777777778,
             "#fb9f3a"
            ],
            [
             0.8888888888888888,
             "#fdca26"
            ],
            [
             1,
             "#f0f921"
            ]
           ]
          },
          "colorway": [
           "#636efa",
           "#EF553B",
           "#00cc96",
           "#ab63fa",
           "#FFA15A",
           "#19d3f3",
           "#FF6692",
           "#B6E880",
           "#FF97FF",
           "#FECB52"
          ],
          "font": {
           "color": "#2a3f5f"
          },
          "geo": {
           "bgcolor": "white",
           "lakecolor": "white",
           "landcolor": "#E5ECF6",
           "showlakes": true,
           "showland": true,
           "subunitcolor": "white"
          },
          "hoverlabel": {
           "align": "left"
          },
          "hovermode": "closest",
          "mapbox": {
           "style": "light"
          },
          "paper_bgcolor": "white",
          "plot_bgcolor": "#E5ECF6",
          "polar": {
           "angularaxis": {
            "gridcolor": "white",
            "linecolor": "white",
            "ticks": ""
           },
           "bgcolor": "#E5ECF6",
           "radialaxis": {
            "gridcolor": "white",
            "linecolor": "white",
            "ticks": ""
           }
          },
          "scene": {
           "xaxis": {
            "backgroundcolor": "#E5ECF6",
            "gridcolor": "white",
            "gridwidth": 2,
            "linecolor": "white",
            "showbackground": true,
            "ticks": "",
            "zerolinecolor": "white"
           },
           "yaxis": {
            "backgroundcolor": "#E5ECF6",
            "gridcolor": "white",
            "gridwidth": 2,
            "linecolor": "white",
            "showbackground": true,
            "ticks": "",
            "zerolinecolor": "white"
           },
           "zaxis": {
            "backgroundcolor": "#E5ECF6",
            "gridcolor": "white",
            "gridwidth": 2,
            "linecolor": "white",
            "showbackground": true,
            "ticks": "",
            "zerolinecolor": "white"
           }
          },
          "shapedefaults": {
           "line": {
            "color": "#2a3f5f"
           }
          },
          "ternary": {
           "aaxis": {
            "gridcolor": "white",
            "linecolor": "white",
            "ticks": ""
           },
           "baxis": {
            "gridcolor": "white",
            "linecolor": "white",
            "ticks": ""
           },
           "bgcolor": "#E5ECF6",
           "caxis": {
            "gridcolor": "white",
            "linecolor": "white",
            "ticks": ""
           }
          },
          "title": {
           "x": 0.05
          },
          "xaxis": {
           "automargin": true,
           "gridcolor": "white",
           "linecolor": "white",
           "ticks": "",
           "zerolinecolor": "white",
           "zerolinewidth": 2
          },
          "yaxis": {
           "automargin": true,
           "gridcolor": "white",
           "linecolor": "white",
           "ticks": "",
           "zerolinecolor": "white",
           "zerolinewidth": 2
          }
         }
        }
       }
      },
      "text/html": [
       "<div>\n",
       "        \n",
       "        \n",
       "            <div id=\"d7b0ec23-512a-47ea-8389-5d1d15a66aa1\" class=\"plotly-graph-div\" style=\"height:600px; width:100%;\"></div>\n",
       "            <script type=\"text/javascript\">\n",
       "                require([\"plotly\"], function(Plotly) {\n",
       "                    window.PLOTLYENV=window.PLOTLYENV || {};\n",
       "                    \n",
       "                if (document.getElementById(\"d7b0ec23-512a-47ea-8389-5d1d15a66aa1\")) {\n",
       "                    Plotly.newPlot(\n",
       "                        'd7b0ec23-512a-47ea-8389-5d1d15a66aa1',\n",
       "                        [{\"customdata\": [[15.8, 17.9, 1913.0, 2.4, 21.0], [15.9, 18.5, 2096.0, 2.4, 20.0], [24.5, 18.1, 2546.0, 2.0, 21.0], [23.8, 14.0, 2314.0, 0.2, 23.0], [25.1, 17.1, 1682.0, 0.0, 21.0], [31.6, 17.2, 2598.0, 1.7, 22.0], [22.1, 15.1, 2455.0, 0.8, 20.0], [22.8, 16.1, 2565.0, 1.2, 20.0], [22.1, 17.5, 1810.0, 0.8, 21.0], [22.3, 20.0, 2732.0, 4.6, 21.0], [28.6, 14.6, 2730.0, -0.2, 20.0], [17.6, 19.2, 1064.0, 0.8, 23.0], [18.7, 13.7, 1761.0, 0.4, 22.0], [18.6, 18.6, 1193.0, 1.1, 23.0], [24.3, 17.4, 2164.0, 1.2, 21.0], [26.6, 15.3, 1811.0, 0.7, 20.0], [19.5, 18.5, 2541.0, 2.8, 20.0]], \"hoverlabel\": {\"namelength\": 0}, \"hovertemplate\": \"<b>%{hovertext}</b><br><br>neural=%{marker.color}<br>WS=%{x}<br>VORP=%{customdata[3]}<br>RPG=%{z}<br>USG%=%{customdata[0]}<br>PER=%{customdata[1]}<br>MP=%{customdata[2]}<br>Age=%{customdata[4]}\", \"hovertext\": [\"Bam Adebayo\", \"Jarrett Allen\", \"De'Aaron Fox\", \"Kyle Kuzma\", \"Lauri Markkanen\", \"Donovan Mitchell\", \"Jayson Tatum\", \"Jamal Murray\", \"Domantas Sabonis\", \"Ben Simmons\", \"Devin Booker\", \"Montrezl Harrell\", \"Rondae Hollis-Jefferson\", \"Richaun Holmes\", \"Kristaps Porzingis\", \"D'Angelo Russell\", \"Myles Turner\"], \"legendgroup\": \"neural=1\", \"marker\": {\"color\": [1, 1, 1, 1, 1, 1, 1, 1, 1, 1, 1, 1, 1, 1, 1, 1, 1], \"coloraxis\": \"coloraxis\", \"line\": {\"color\": \"DarkSlateGrey\", \"width\": 1}, \"size\": 10, \"symbol\": \"circle\"}, \"mode\": \"markers\", \"name\": \"neural=1\", \"scene\": \"scene\", \"showlegend\": true, \"type\": \"scatter3d\", \"x\": [6.8, 7.6, 5.6, 3.1, 2.7, 5.0, 5.0, 5.5, 4.7, 9.2, 2.0, 4.1, 2.6, 3.8, 4.5, 1.3, 8.0], \"y\": [2.4, 2.4, 2.0, 0.2, 0.0, 1.7, 0.8, 1.2, 0.8, 4.6, -0.2, 0.8, 0.4, 1.1, 1.2, 0.7, 2.8], \"z\": [6.5, 7.0, 3.3, 5.9, 8.2, 3.9, 5.5, 3.5, 6.8, 8.5, 3.5, 4.4, 5.9, 4.4, 7.1, 3.7, 6.7]}, {\"customdata\": [[19.6, 16.2, 416.0, 0.1, 26.0], [29.1, -6.0, 6.0, 0.0, 20.0], [15.5, 9.8, 1352.0, 0.3, 21.0], [16.8, 11.7, 759.0, -0.3, 23.0], [16.9, 11.7, 1423.0, 0.9, 21.0], [13.7, 12.9, 788.0, 0.3, 24.0], [12.2, 10.2, 439.0, -0.3, 25.0], [13.8, 12.7, 639.0, 0.5, 23.0], [23.6, 19.6, 36.0, 0.0, 21.0], [20.9, 7.6, 330.0, -0.3, 23.0], [15.2, 10.9, 1034.0, 0.1, 23.0], [16.6, 13.5, 1356.0, 0.7, 21.0], [17.9, 7.8, 251.0, -0.3, 22.0], [20.7, 13.1, 447.0, 0.0, 22.0], [17.3, 10.8, 2004.0, -0.2, 24.0], [12.7, 0.7, 64.0, -0.1, 22.0], [40.7, -38.1, 1.0, 0.0, 22.0], [10.6, 6.4, 1931.0, 0.0, 20.0], [19.3, 10.5, 427.0, -0.1, 20.0], [23.2, 14.4, 820.0, 0.0, 20.0], [13.5, 9.3, 1715.0, 0.6, 23.0], [11.8, 10.0, 221.0, 0.1, 20.0], [16.3, 13.0, 1996.0, 1.1, 21.0], [12.8, 8.7, 1233.0, -0.2, 24.0], [18.5, 9.4, 1169.0, -0.9, 20.0], [23.9, 10.6, 1988.0, -1.4, 21.0], [12.9, 10.1, 1083.0, 0.1, 23.0], [17.0, 13.9, 531.0, 0.1, 23.0], [18.1, 11.9, 1437.0, 0.2, 22.0], [17.5, 16.9, 522.0, 0.1, 21.0], [10.6, 9.3, 94.0, 0.0, 22.0], [21.8, 12.4, 435.0, -0.3, 24.0], [24.6, 11.8, 1258.0, -0.6, 20.0], [17.1, 16.2, 1970.0, 1.1, 23.0], [16.6, 6.0, 904.0, -0.8, 20.0], [14.1, 8.5, 594.0, -0.3, 24.0], [15.7, 10.5, 21.0, 0.0, 21.0], [17.2, 16.1, 721.0, 0.2, 21.0], [12.1, 8.1, 47.0, 0.0, 23.0], [23.3, 11.5, 908.0, -0.1, 21.0], [27.0, 13.5, 600.0, -0.1, 21.0], [17.6, 7.6, 210.0, -0.1, 23.0], [18.4, 3.1, 145.0, -0.3, 21.0], [14.9, 11.7, 33.0, 0.0, 21.0], [11.3, 5.2, 313.0, -0.2, 24.0], [17.7, 14.8, 1728.0, 1.3, 24.0], [14.4, 10.3, 882.0, 0.1, 22.0], [16.1, 16.6, 80.0, 0.0, 21.0], [16.2, 9.0, 583.0, -0.5, 21.0], [18.2, 7.6, 455.0, -0.3, 23.0], [12.7, 7.1, 2069.0, -0.4, 20.0], [12.6, 11.7, 38.0, -0.1, 24.0], [19.1, 14.3, 1436.0, 0.2, 25.0], [21.4, 13.6, 2152.0, 1.0, 21.0], [18.1, 11.1, 1527.0, 0.0, 20.0], [15.3, 16.6, 943.0, 0.3, 21.0], [17.4, 17.0, 581.0, -0.2, 21.0], [24.7, 14.5, 1525.0, 0.7, 23.0], [23.8, 10.5, 329.0, -0.4, 21.0], [19.9, 18.2, 28.0, 0.0, 22.0], [24.3, 16.1, 2024.0, 0.9, 25.0], [22.2, 13.8, 1975.0, 0.4, 20.0], [13.9, 6.8, 89.0, -0.1, 22.0], [16.9, 3.4, 80.0, -0.1, 20.0], [14.6, 4.9, 160.0, -0.1, 23.0], [22.5, 14.2, 1864.0, 0.7, 23.0], [14.6, 10.2, 1238.0, -0.2, 20.0], [12.8, 7.4, 961.0, -0.3, 22.0], [20.7, 15.1, 1743.0, 1.4, 21.0], [17.1, 5.1, 522.0, -0.5, 24.0], [20.9, 9.2, 32.0, 0.0, 24.0], [16.1, -3.2, 22.0, -0.1, 21.0], [23.0, 9.1, 28.0, 0.0, 24.0], [16.8, 1.9, 124.0, -0.2, 22.0], [15.7, 14.5, 1679.0, 1.7, 23.0], [18.5, 10.1, 1658.0, -1.3, 22.0], [17.5, 12.1, 2095.0, 0.8, 24.0], [16.6, 10.1, 851.0, 0.0, 23.0], [22.1, 12.8, 2464.0, 0.8, 23.0], [28.5, 11.5, 180.0, -0.2, 22.0], [15.7, 12.3, 235.0, 0.1, 22.0], [15.2, 5.2, 824.0, -0.8, 23.0], [18.8, 24.2, 214.0, 0.1, 21.0], [17.6, 15.3, 410.0, 0.0, 20.0], [19.7, 16.3, 1421.0, 0.3, 23.0], [13.1, 10.4, 219.0, -0.1, 25.0], [13.0, 11.8, 316.0, 0.0, 24.0], [14.9, 13.1, 1419.0, 0.3, 22.0], [16.0, 13.2, 1028.0, 0.4, 24.0], [16.4, 8.7, 1474.0, -0.2, 22.0], [20.3, 19.0, 1324.0, 0.7, 22.0], [18.8, 7.2, 960.0, -0.9, 21.0], [19.3, 5.9, 381.0, -0.4, 23.0], [4.8, -3.2, 9.0, 0.0, 23.0], [14.8, 7.2, 1371.0, 0.0, 20.0], [13.6, 13.8, 774.0, 0.0, 20.0], [21.8, 13.0, 1954.0, 0.2, 23.0], [13.4, 13.6, 447.0, 0.3, 20.0], [21.7, 9.9, 1158.0, -0.3, 21.0], [16.4, 8.7, 558.0, -0.6, 22.0], [15.5, 9.8, 141.0, -0.1, 22.0], [22.6, 10.9, 1406.0, -0.6, 20.0], [13.4, 15.7, 1442.0, 1.4, 24.0], [24.1, 14.8, 1134.0, -0.4, 21.0], [14.6, 9.1, 1605.0, -0.1, 21.0], [19.1, 14.9, 1000.0, -0.3, 21.0], [21.1, 14.0, 1368.0, 0.2, 23.0], [16.8, 10.7, 1614.0, 0.9, 23.0], [17.1, 10.9, 1263.0, -0.2, 22.0], [17.2, 7.8, 458.0, -0.3, 20.0], [19.8, 8.2, 625.0, -0.1, 20.0], [16.6, 15.0, 446.0, 0.4, 24.0], [27.8, 11.4, 135.0, -0.2, 24.0]], \"hoverlabel\": {\"namelength\": 0}, \"hovertemplate\": \"<b>%{hovertext}</b><br><br>neural=%{marker.color}<br>WS=%{x}<br>VORP=%{customdata[3]}<br>RPG=%{z}<br>USG%=%{customdata[0]}<br>PER=%{customdata[1]}<br>MP=%{customdata[2]}<br>Age=%{customdata[4]}\", \"hovertext\": [\"Kadeem Allen\", \"Ike Anigbogu\", \"OG Anunoby\", \"Dwayne Bacon\", \"Lonzo Ball\", \"Jordan Bell\", \"Jaron Blossomgame\", \"Jonah Bolden\", \"Tony Bradley\", \"Dillon Brooks\", \"Sterling Brown\", \"Zach Collins\", \"Tyler Dorsey\", \"Tyler Dorsey\", \"Damyean Dotson\", \"Jawun Evans\", \"Jawun Evans\", \"Terrance Ferguson\", \"Markelle Fultz\", \"Harry Giles\", \"Josh Hart\", \"Isaiah Hartenstein\", \"Jonathan Isaac\", \"Wesley Iwundu\", \"Frank Jackson\", \"Josh Jackson\", \"Justin Jackson\", \"Justin Jackson\", \"Luke Kennard\", \"T.J. Leaf\", \"Tyler Lydon\", \"Frank Mason\", \"Malik Monk\", \"Monte Morris\", \"Frank Ntilikina\", \"Semi Ojeleye\", \"Justin Patton\", \"Ivan Rabb\", \"Davon Reed\", \"Dennis Smith\", \"Dennis Smith\", \"Edmond Sumner\", \"Caleb Swanigan\", \"Caleb Swanigan\", \"Sindarius Thornwell\", \"Derrick White\", \"D.J. Wilson\", \"Wade Baldwin\", \"Malik Beasley\", \"DeAndre' Bembry\", \"Dragan Bender\", \"Joel Bolomboy\", \"Malcolm Brogdon\", \"Jaylen Brown\", \"Marquese Chriss\", \"Deyonta Davis\", \"Cheick Diallo\", \"Kris Dunn\", \"Henry Ellenson\", \"Daniel Hamilton\", \"Buddy Hield\", \"Brandon Ingram\", \"Damian Jones\", \"Furkan Korkmaz\", \"Jake Layman\", \"Caris LeVert\", \"Thon Maker\", \"Patrick McCaw\", \"Dejounte Murray\", \"Abdel Nader\", \"Georges Niang\", \"Chinanu Onuaku\", \"Marcus Paige\", \"Zhou Qi\", \"Pascal Siakam\", \"Tyler Ulis\", \"Denzel Valentine\", \"Tyrone Wallace\", \"Taurean Waller-Prince\", \"Isaiah Whitehead\", \"Guerschon Yabusele\", \"Paul Zipser\", \"Ante \\u017di\\u017ei\\u0107\", \"Ivica Zubac\", \"Willie Cauley-Stein\", \"Rakeem Christmas\", \"Pat Connaughton\", \"Sam Dekker\", \"Jerian Grant\", \"Andrew Harrison\", \"Willy Hernangomez\", \"Mario Hezonja\", \"Darrun Hilliard\", \"R.J. Hunter\", \"Stanley Johnson\", \"Tyus Jones\", \"Frank Kaminsky\", \"Kevon Looney\", \"Trey Lyles\", \"Jarell Martin\", \"Jordan Mickey\", \"Emmanuel Mudiay\", \"Larry Nance\", \"Jahlil Okafor\", \"Kelly Oubre\", \"Bobby Portis\", \"Norman Powell\", \"Josh Richardson\", \"Terry Rozier\", \"Rashad Vaughn\", \"Justise Winslow\", \"Delon Wright\", \"Joe Young\"], \"legendgroup\": \"neural=0\", \"marker\": {\"color\": [0, 0, 0, 0, 0, 0, 0, 0, 0, 0, 0, 0, 0, 0, 0, 0, 0, 0, 0, 0, 0, 0, 0, 0, 0, 0, 0, 0, 0, 0, 0, 0, 0, 0, 0, 0, 0, 0, 0, 0, 0, 0, 0, 0, 0, 0, 0, 0, 0, 0, 0, 0, 0, 0, 0, 0, 0, 0, 0, 0, 0, 0, 0, 0, 0, 0, 0, 0, 0, 0, 0, 0, 0, 0, 0, 0, 0, 0, 0, 0, 0, 0, 0, 0, 0, 0, 0, 0, 0, 0, 0, 0, 0, 0, 0, 0, 0, 0, 0, 0, 0, 0, 0, 0, 0, 0, 0, 0, 0, 0, 0, 0, 0], \"coloraxis\": \"coloraxis\", \"line\": {\"color\": \"DarkSlateGrey\", \"width\": 1}, \"size\": 10, \"symbol\": \"diamond\"}, \"mode\": \"markers\", \"name\": \"neural=0\", \"scene\": \"scene\", \"showlegend\": true, \"type\": \"scatter3d\", \"x\": [1.0, -0.1, 2.0, 1.2, 1.6, 1.6, 0.3, 1.4, 0.1, 0.0, 2.1, 2.9, -0.1, 0.7, 1.5, -0.2, 0.0, 2.8, 0.3, 1.0, 2.1, 0.5, 4.0, 1.9, 0.4, -1.7, 1.6, 1.3, 2.5, 1.6, 0.2, 0.3, 0.3, 6.2, -0.8, 0.7, 0.0, 2.1, 0.1, 0.2, -0.2, 0.1, -0.3, 0.0, 0.0, 3.6, 1.7, 0.3, 0.3, -0.4, 0.1, 0.1, 2.7, 4.5, 0.7, 2.7, 1.9, 0.9, 0.1, 0.1, 2.8, 2.8, 0.1, 0.0, -0.1, 2.3, 1.5, 0.6, 3.2, -0.1, 0.0, -0.1, 0.0, -0.3, 4.7, -0.2, 2.5, 0.7, 2.0, -0.1, 0.6, -0.6, 1.0, 1.0, 2.9, 0.5, 0.6, 3.1, 2.5, 1.6, 3.4, -0.7, -0.2, 0.0, 0.4, 1.5, 2.3, 1.4, 0.8, 0.6, 0.1, 0.2, 3.5, 1.2, 2.0, 2.4, 2.8, 2.2, 1.4, 0.0, -0.1, 1.1, -0.1], \"y\": [0.1, 0.0, 0.3, -0.3, 0.9, 0.3, -0.3, 0.5, 0.0, -0.3, 0.1, 0.7, -0.3, 0.0, -0.2, -0.1, 0.0, 0.0, -0.1, 0.0, 0.6, 0.1, 1.1, -0.2, -0.9, -1.4, 0.1, 0.1, 0.2, 0.1, 0.0, -0.3, -0.6, 1.1, -0.8, -0.3, 0.0, 0.2, 0.0, -0.1, -0.1, -0.1, -0.3, 0.0, -0.2, 1.3, 0.1, 0.0, -0.5, -0.3, -0.4, -0.1, 0.2, 1.0, 0.0, 0.3, -0.2, 0.7, -0.4, 0.0, 0.9, 0.4, -0.1, -0.1, -0.1, 0.7, -0.2, -0.3, 1.4, -0.5, 0.0, -0.1, 0.0, -0.2, 1.7, -1.3, 0.8, 0.0, 0.8, -0.2, 0.1, -0.8, 0.1, 0.0, 0.3, -0.1, 0.0, 0.3, 0.4, -0.2, 0.7, -0.9, -0.4, 0.0, 0.0, 0.0, 0.2, 0.3, -0.3, -0.6, -0.1, -0.6, 1.4, -0.4, -0.1, -0.3, 0.2, 0.9, -0.2, -0.3, -0.1, 0.4, -0.2], \"z\": [1.7, 0.9, 2.7, 2.2, 6.2, 3.1, 3.6, 3.8, 2.2, 2.9, 2.9, 3.8, 2.3, 2.3, 3.0, 1.7, 1.7, 1.4, 3.4, 3.8, 3.9, 1.7, 5.0, 2.5, 2.2, 4.5, 2.7, 2.7, 2.6, 1.9, 0.7, 1.9, 1.5, 2.3, 2.2, 1.9, 1.5, 4.3, 1.5, 3.4, 3.4, 1.0, 2.5, 2.5, 1.3, 3.3, 3.3, 1.2, 1.7, 3.3, 3.8, 1.5, 3.5, 4.0, 4.5, 3.2, 4.6, 3.3, 2.5, 2.1, 4.0, 4.7, 2.3, 1.9, 1.8, 3.6, 2.8, 1.5, 4.2, 1.7, 1.2, 2.3, 0.8, 1.2, 5.1, 1.7, 4.1, 2.2, 3.8, 2.4, 1.4, 2.6, 4.2, 4.6, 6.4, 1.9, 2.3, 3.0, 1.9, 2.0, 5.6, 3.0, 0.9, 1.0, 3.4, 1.5, 4.0, 3.8, 3.9, 3.5, 2.0, 3.1, 6.5, 5.1, 3.7, 6.2, 2.1, 3.2, 3.6, 1.1, 5.3, 2.8, 1.0]}],\n",
       "                        {\"coloraxis\": {\"colorbar\": {\"title\": {\"text\": \"neural\"}}, \"colorscale\": [[0.0, \"#0d0887\"], [0.1111111111111111, \"#46039f\"], [0.2222222222222222, \"#7201a8\"], [0.3333333333333333, \"#9c179e\"], [0.4444444444444444, \"#bd3786\"], [0.5555555555555556, \"#d8576b\"], [0.6666666666666666, \"#ed7953\"], [0.7777777777777778, \"#fb9f3a\"], [0.8888888888888888, \"#fdca26\"], [1.0, \"#f0f921\"]]}, \"height\": 600, \"legend\": {\"orientation\": \"h\", \"tracegroupgap\": 0}, \"margin\": {\"t\": 60}, \"scene\": {\"domain\": {\"x\": [0.0, 0.98], \"y\": [0.0, 1.0]}, \"xaxis\": {\"title\": {\"text\": \"WS\"}}, \"yaxis\": {\"title\": {\"text\": \"VORP\"}}, \"zaxis\": {\"title\": {\"text\": \"RPG\"}}}, \"template\": {\"data\": {\"bar\": [{\"error_x\": {\"color\": \"#2a3f5f\"}, \"error_y\": {\"color\": \"#2a3f5f\"}, \"marker\": {\"line\": {\"color\": \"#E5ECF6\", \"width\": 0.5}}, \"type\": \"bar\"}], \"barpolar\": [{\"marker\": {\"line\": {\"color\": \"#E5ECF6\", \"width\": 0.5}}, \"type\": \"barpolar\"}], \"carpet\": [{\"aaxis\": {\"endlinecolor\": \"#2a3f5f\", \"gridcolor\": \"white\", \"linecolor\": \"white\", \"minorgridcolor\": \"white\", \"startlinecolor\": \"#2a3f5f\"}, \"baxis\": {\"endlinecolor\": \"#2a3f5f\", \"gridcolor\": \"white\", \"linecolor\": \"white\", \"minorgridcolor\": \"white\", \"startlinecolor\": \"#2a3f5f\"}, \"type\": \"carpet\"}], \"choropleth\": [{\"colorbar\": {\"outlinewidth\": 0, \"ticks\": \"\"}, \"type\": \"choropleth\"}], \"contour\": [{\"colorbar\": {\"outlinewidth\": 0, \"ticks\": \"\"}, \"colorscale\": [[0.0, \"#0d0887\"], [0.1111111111111111, \"#46039f\"], [0.2222222222222222, \"#7201a8\"], [0.3333333333333333, \"#9c179e\"], [0.4444444444444444, \"#bd3786\"], [0.5555555555555556, \"#d8576b\"], [0.6666666666666666, \"#ed7953\"], [0.7777777777777778, \"#fb9f3a\"], [0.8888888888888888, \"#fdca26\"], [1.0, \"#f0f921\"]], \"type\": \"contour\"}], \"contourcarpet\": [{\"colorbar\": {\"outlinewidth\": 0, \"ticks\": \"\"}, \"type\": \"contourcarpet\"}], \"heatmap\": [{\"colorbar\": {\"outlinewidth\": 0, \"ticks\": \"\"}, \"colorscale\": [[0.0, \"#0d0887\"], [0.1111111111111111, \"#46039f\"], [0.2222222222222222, \"#7201a8\"], [0.3333333333333333, \"#9c179e\"], [0.4444444444444444, \"#bd3786\"], [0.5555555555555556, \"#d8576b\"], [0.6666666666666666, \"#ed7953\"], [0.7777777777777778, \"#fb9f3a\"], [0.8888888888888888, \"#fdca26\"], [1.0, \"#f0f921\"]], \"type\": \"heatmap\"}], \"heatmapgl\": [{\"colorbar\": {\"outlinewidth\": 0, \"ticks\": \"\"}, \"colorscale\": [[0.0, \"#0d0887\"], [0.1111111111111111, \"#46039f\"], [0.2222222222222222, \"#7201a8\"], [0.3333333333333333, \"#9c179e\"], [0.4444444444444444, \"#bd3786\"], [0.5555555555555556, \"#d8576b\"], [0.6666666666666666, \"#ed7953\"], [0.7777777777777778, \"#fb9f3a\"], [0.8888888888888888, \"#fdca26\"], [1.0, \"#f0f921\"]], \"type\": \"heatmapgl\"}], \"histogram\": [{\"marker\": {\"colorbar\": {\"outlinewidth\": 0, \"ticks\": \"\"}}, \"type\": \"histogram\"}], \"histogram2d\": [{\"colorbar\": {\"outlinewidth\": 0, \"ticks\": \"\"}, \"colorscale\": [[0.0, \"#0d0887\"], [0.1111111111111111, \"#46039f\"], [0.2222222222222222, \"#7201a8\"], [0.3333333333333333, \"#9c179e\"], [0.4444444444444444, \"#bd3786\"], [0.5555555555555556, \"#d8576b\"], [0.6666666666666666, \"#ed7953\"], [0.7777777777777778, \"#fb9f3a\"], [0.8888888888888888, \"#fdca26\"], [1.0, \"#f0f921\"]], \"type\": \"histogram2d\"}], \"histogram2dcontour\": [{\"colorbar\": {\"outlinewidth\": 0, \"ticks\": \"\"}, \"colorscale\": [[0.0, \"#0d0887\"], [0.1111111111111111, \"#46039f\"], [0.2222222222222222, \"#7201a8\"], [0.3333333333333333, \"#9c179e\"], [0.4444444444444444, \"#bd3786\"], [0.5555555555555556, \"#d8576b\"], [0.6666666666666666, \"#ed7953\"], [0.7777777777777778, \"#fb9f3a\"], [0.8888888888888888, \"#fdca26\"], [1.0, \"#f0f921\"]], \"type\": \"histogram2dcontour\"}], \"mesh3d\": [{\"colorbar\": {\"outlinewidth\": 0, \"ticks\": \"\"}, \"type\": \"mesh3d\"}], \"parcoords\": [{\"line\": {\"colorbar\": {\"outlinewidth\": 0, \"ticks\": \"\"}}, \"type\": \"parcoords\"}], \"scatter\": [{\"marker\": {\"colorbar\": {\"outlinewidth\": 0, \"ticks\": \"\"}}, \"type\": \"scatter\"}], \"scatter3d\": [{\"line\": {\"colorbar\": {\"outlinewidth\": 0, \"ticks\": \"\"}}, \"marker\": {\"colorbar\": {\"outlinewidth\": 0, \"ticks\": \"\"}}, \"type\": \"scatter3d\"}], \"scattercarpet\": [{\"marker\": {\"colorbar\": {\"outlinewidth\": 0, \"ticks\": \"\"}}, \"type\": \"scattercarpet\"}], \"scattergeo\": [{\"marker\": {\"colorbar\": {\"outlinewidth\": 0, \"ticks\": \"\"}}, \"type\": \"scattergeo\"}], \"scattergl\": [{\"marker\": {\"colorbar\": {\"outlinewidth\": 0, \"ticks\": \"\"}}, \"type\": \"scattergl\"}], \"scattermapbox\": [{\"marker\": {\"colorbar\": {\"outlinewidth\": 0, \"ticks\": \"\"}}, \"type\": \"scattermapbox\"}], \"scatterpolar\": [{\"marker\": {\"colorbar\": {\"outlinewidth\": 0, \"ticks\": \"\"}}, \"type\": \"scatterpolar\"}], \"scatterpolargl\": [{\"marker\": {\"colorbar\": {\"outlinewidth\": 0, \"ticks\": \"\"}}, \"type\": \"scatterpolargl\"}], \"scatterternary\": [{\"marker\": {\"colorbar\": {\"outlinewidth\": 0, \"ticks\": \"\"}}, \"type\": \"scatterternary\"}], \"surface\": [{\"colorbar\": {\"outlinewidth\": 0, \"ticks\": \"\"}, \"colorscale\": [[0.0, \"#0d0887\"], [0.1111111111111111, \"#46039f\"], [0.2222222222222222, \"#7201a8\"], [0.3333333333333333, \"#9c179e\"], [0.4444444444444444, \"#bd3786\"], [0.5555555555555556, \"#d8576b\"], [0.6666666666666666, \"#ed7953\"], [0.7777777777777778, \"#fb9f3a\"], [0.8888888888888888, \"#fdca26\"], [1.0, \"#f0f921\"]], \"type\": \"surface\"}], \"table\": [{\"cells\": {\"fill\": {\"color\": \"#EBF0F8\"}, \"line\": {\"color\": \"white\"}}, \"header\": {\"fill\": {\"color\": \"#C8D4E3\"}, \"line\": {\"color\": \"white\"}}, \"type\": \"table\"}]}, \"layout\": {\"annotationdefaults\": {\"arrowcolor\": \"#2a3f5f\", \"arrowhead\": 0, \"arrowwidth\": 1}, \"colorscale\": {\"diverging\": [[0, \"#8e0152\"], [0.1, \"#c51b7d\"], [0.2, \"#de77ae\"], [0.3, \"#f1b6da\"], [0.4, \"#fde0ef\"], [0.5, \"#f7f7f7\"], [0.6, \"#e6f5d0\"], [0.7, \"#b8e186\"], [0.8, \"#7fbc41\"], [0.9, \"#4d9221\"], [1, \"#276419\"]], \"sequential\": [[0.0, \"#0d0887\"], [0.1111111111111111, \"#46039f\"], [0.2222222222222222, \"#7201a8\"], [0.3333333333333333, \"#9c179e\"], [0.4444444444444444, \"#bd3786\"], [0.5555555555555556, \"#d8576b\"], [0.6666666666666666, \"#ed7953\"], [0.7777777777777778, \"#fb9f3a\"], [0.8888888888888888, \"#fdca26\"], [1.0, \"#f0f921\"]], \"sequentialminus\": [[0.0, \"#0d0887\"], [0.1111111111111111, \"#46039f\"], [0.2222222222222222, \"#7201a8\"], [0.3333333333333333, \"#9c179e\"], [0.4444444444444444, \"#bd3786\"], [0.5555555555555556, \"#d8576b\"], [0.6666666666666666, \"#ed7953\"], [0.7777777777777778, \"#fb9f3a\"], [0.8888888888888888, \"#fdca26\"], [1.0, \"#f0f921\"]]}, \"colorway\": [\"#636efa\", \"#EF553B\", \"#00cc96\", \"#ab63fa\", \"#FFA15A\", \"#19d3f3\", \"#FF6692\", \"#B6E880\", \"#FF97FF\", \"#FECB52\"], \"font\": {\"color\": \"#2a3f5f\"}, \"geo\": {\"bgcolor\": \"white\", \"lakecolor\": \"white\", \"landcolor\": \"#E5ECF6\", \"showlakes\": true, \"showland\": true, \"subunitcolor\": \"white\"}, \"hoverlabel\": {\"align\": \"left\"}, \"hovermode\": \"closest\", \"mapbox\": {\"style\": \"light\"}, \"paper_bgcolor\": \"white\", \"plot_bgcolor\": \"#E5ECF6\", \"polar\": {\"angularaxis\": {\"gridcolor\": \"white\", \"linecolor\": \"white\", \"ticks\": \"\"}, \"bgcolor\": \"#E5ECF6\", \"radialaxis\": {\"gridcolor\": \"white\", \"linecolor\": \"white\", \"ticks\": \"\"}}, \"scene\": {\"xaxis\": {\"backgroundcolor\": \"#E5ECF6\", \"gridcolor\": \"white\", \"gridwidth\": 2, \"linecolor\": \"white\", \"showbackground\": true, \"ticks\": \"\", \"zerolinecolor\": \"white\"}, \"yaxis\": {\"backgroundcolor\": \"#E5ECF6\", \"gridcolor\": \"white\", \"gridwidth\": 2, \"linecolor\": \"white\", \"showbackground\": true, \"ticks\": \"\", \"zerolinecolor\": \"white\"}, \"zaxis\": {\"backgroundcolor\": \"#E5ECF6\", \"gridcolor\": \"white\", \"gridwidth\": 2, \"linecolor\": \"white\", \"showbackground\": true, \"ticks\": \"\", \"zerolinecolor\": \"white\"}}, \"shapedefaults\": {\"line\": {\"color\": \"#2a3f5f\"}}, \"ternary\": {\"aaxis\": {\"gridcolor\": \"white\", \"linecolor\": \"white\", \"ticks\": \"\"}, \"baxis\": {\"gridcolor\": \"white\", \"linecolor\": \"white\", \"ticks\": \"\"}, \"bgcolor\": \"#E5ECF6\", \"caxis\": {\"gridcolor\": \"white\", \"linecolor\": \"white\", \"ticks\": \"\"}}, \"title\": {\"x\": 0.05}, \"xaxis\": {\"automargin\": true, \"gridcolor\": \"white\", \"linecolor\": \"white\", \"ticks\": \"\", \"zerolinecolor\": \"white\", \"zerolinewidth\": 2}, \"yaxis\": {\"automargin\": true, \"gridcolor\": \"white\", \"linecolor\": \"white\", \"ticks\": \"\", \"zerolinecolor\": \"white\", \"zerolinewidth\": 2}}}},\n",
       "                        {\"responsive\": true}\n",
       "                    ).then(function(){\n",
       "                            \n",
       "var gd = document.getElementById('d7b0ec23-512a-47ea-8389-5d1d15a66aa1');\n",
       "var x = new MutationObserver(function (mutations, observer) {{\n",
       "        var display = window.getComputedStyle(gd).display;\n",
       "        if (!display || display === 'none') {{\n",
       "            console.log([gd, 'removed!']);\n",
       "            Plotly.purge(gd);\n",
       "            observer.disconnect();\n",
       "        }}\n",
       "}});\n",
       "\n",
       "// Listen for the removal of the full notebook cells\n",
       "var notebookContainer = gd.closest('#notebook-container');\n",
       "if (notebookContainer) {{\n",
       "    x.observe(notebookContainer, {childList: true});\n",
       "}}\n",
       "\n",
       "// Listen for the clearing of the current output cell\n",
       "var outputEl = gd.closest('.output');\n",
       "if (outputEl) {{\n",
       "    x.observe(outputEl, {childList: true});\n",
       "}}\n",
       "\n",
       "                        })\n",
       "                };\n",
       "                });\n",
       "            </script>\n",
       "        </div>"
      ]
     },
     "metadata": {},
     "output_type": "display_data"
    }
   ],
   "source": [
    "fig = px.scatter_3d(test_master_w_predictions, x='WS', y='VORP', z='RPG',\n",
    "            color='neural', \n",
    "            hover_name='Player_name', \n",
    "            hover_data=['USG%', 'PER', 'MP', 'VORP', 'Age'], \n",
    "            symbol='neural')\n",
    "fig.update_traces(marker=dict(size=10,\n",
    "                              line=dict(width=1,\n",
    "                                        color='DarkSlateGrey')),\n",
    "                  selector=dict(mode='markers'))\n",
    "\n",
    "# fig.update_layout(scene=dict(xaxis=dict(range=[-15,10],),))\n",
    "fig.update_layout(legend_orientation=\"h\")\n",
    "fig.show()\n",
    "# plotly.offline.plot(fig, filename='html_files/aggregated_nn_ws_vorp_MP.html')"
   ]
  },
  {
   "cell_type": "code",
   "execution_count": 181,
   "metadata": {},
   "outputs": [
    {
     "data": {
      "application/vnd.plotly.v1+json": {
       "config": {
        "plotlyServerURL": "https://plot.ly"
       },
       "data": [
        {
         "customdata": [
          [
           15.8,
           17.9,
           1913,
           2.4,
           21
          ],
          [
           15.9,
           18.5,
           2096,
           2.4,
           20
          ],
          [
           24.5,
           18.1,
           2546,
           2,
           21
          ],
          [
           23.8,
           14,
           2314,
           0.2,
           23
          ],
          [
           25.1,
           17.1,
           1682,
           0,
           21
          ],
          [
           31.6,
           17.2,
           2598,
           1.7,
           22
          ],
          [
           22.1,
           15.1,
           2455,
           0.8,
           20
          ],
          [
           22.8,
           16.1,
           2565,
           1.2,
           20
          ],
          [
           22.1,
           17.5,
           1810,
           0.8,
           21
          ],
          [
           22.3,
           20,
           2732,
           4.6,
           21
          ],
          [
           28.6,
           14.6,
           2730,
           -0.2,
           20
          ],
          [
           17.6,
           19.2,
           1064,
           0.8,
           23
          ],
          [
           18.7,
           13.7,
           1761,
           0.4,
           22
          ],
          [
           18.6,
           18.6,
           1193,
           1.1,
           23
          ],
          [
           24.3,
           17.4,
           2164,
           1.2,
           21
          ],
          [
           26.6,
           15.3,
           1811,
           0.7,
           20
          ],
          [
           19.5,
           18.5,
           2541,
           2.8,
           20
          ]
         ],
         "hoverlabel": {
          "namelength": 0
         },
         "hovertemplate": "<b>%{hovertext}</b><br><br>neural=%{marker.color}<br>VORP=%{customdata[3]}<br>WS=%{y}<br>USG%=%{customdata[0]}<br>PER=%{customdata[1]}<br>MP=%{customdata[2]}<br>Age=%{customdata[4]}",
         "hovertext": [
          "Bam Adebayo",
          "Jarrett Allen",
          "De'Aaron Fox",
          "Kyle Kuzma",
          "Lauri Markkanen",
          "Donovan Mitchell",
          "Jayson Tatum",
          "Jamal Murray",
          "Domantas Sabonis",
          "Ben Simmons",
          "Devin Booker",
          "Montrezl Harrell",
          "Rondae Hollis-Jefferson",
          "Richaun Holmes",
          "Kristaps Porzingis",
          "D'Angelo Russell",
          "Myles Turner"
         ],
         "legendgroup": "neural=1",
         "marker": {
          "color": [
           1,
           1,
           1,
           1,
           1,
           1,
           1,
           1,
           1,
           1,
           1,
           1,
           1,
           1,
           1,
           1,
           1
          ],
          "coloraxis": "coloraxis",
          "line": {
           "color": "DarkSlateGrey",
           "width": 1
          },
          "size": 10,
          "symbol": "circle"
         },
         "mode": "markers",
         "name": "neural=1",
         "showlegend": true,
         "type": "scatter",
         "x": [
          2.4,
          2.4,
          2,
          0.2,
          0,
          1.7,
          0.8,
          1.2,
          0.8,
          4.6,
          -0.2,
          0.8,
          0.4,
          1.1,
          1.2,
          0.7,
          2.8
         ],
         "xaxis": "x",
         "y": [
          6.8,
          7.6,
          5.6,
          3.1,
          2.7,
          5,
          5,
          5.5,
          4.7,
          9.2,
          2,
          4.1,
          2.6,
          3.8,
          4.5,
          1.3,
          8
         ],
         "yaxis": "y"
        },
        {
         "customdata": [
          [
           19.6,
           16.2,
           416,
           0.1,
           26
          ],
          [
           29.1,
           -6,
           6,
           0,
           20
          ],
          [
           15.5,
           9.8,
           1352,
           0.3,
           21
          ],
          [
           16.8,
           11.7,
           759,
           -0.3,
           23
          ],
          [
           16.9,
           11.7,
           1423,
           0.9,
           21
          ],
          [
           13.7,
           12.9,
           788,
           0.3,
           24
          ],
          [
           12.2,
           10.2,
           439,
           -0.3,
           25
          ],
          [
           13.8,
           12.7,
           639,
           0.5,
           23
          ],
          [
           23.6,
           19.6,
           36,
           0,
           21
          ],
          [
           20.9,
           7.6,
           330,
           -0.3,
           23
          ],
          [
           15.2,
           10.9,
           1034,
           0.1,
           23
          ],
          [
           16.6,
           13.5,
           1356,
           0.7,
           21
          ],
          [
           17.9,
           7.8,
           251,
           -0.3,
           22
          ],
          [
           20.7,
           13.1,
           447,
           0,
           22
          ],
          [
           17.3,
           10.8,
           2004,
           -0.2,
           24
          ],
          [
           12.7,
           0.7,
           64,
           -0.1,
           22
          ],
          [
           40.7,
           -38.1,
           1,
           0,
           22
          ],
          [
           10.6,
           6.4,
           1931,
           0,
           20
          ],
          [
           19.3,
           10.5,
           427,
           -0.1,
           20
          ],
          [
           23.2,
           14.4,
           820,
           0,
           20
          ],
          [
           13.5,
           9.3,
           1715,
           0.6,
           23
          ],
          [
           11.8,
           10,
           221,
           0.1,
           20
          ],
          [
           16.3,
           13,
           1996,
           1.1,
           21
          ],
          [
           12.8,
           8.7,
           1233,
           -0.2,
           24
          ],
          [
           18.5,
           9.4,
           1169,
           -0.9,
           20
          ],
          [
           23.9,
           10.6,
           1988,
           -1.4,
           21
          ],
          [
           12.9,
           10.1,
           1083,
           0.1,
           23
          ],
          [
           17,
           13.9,
           531,
           0.1,
           23
          ],
          [
           18.1,
           11.9,
           1437,
           0.2,
           22
          ],
          [
           17.5,
           16.9,
           522,
           0.1,
           21
          ],
          [
           10.6,
           9.3,
           94,
           0,
           22
          ],
          [
           21.8,
           12.4,
           435,
           -0.3,
           24
          ],
          [
           24.6,
           11.8,
           1258,
           -0.6,
           20
          ],
          [
           17.1,
           16.2,
           1970,
           1.1,
           23
          ],
          [
           16.6,
           6,
           904,
           -0.8,
           20
          ],
          [
           14.1,
           8.5,
           594,
           -0.3,
           24
          ],
          [
           15.7,
           10.5,
           21,
           0,
           21
          ],
          [
           17.2,
           16.1,
           721,
           0.2,
           21
          ],
          [
           12.1,
           8.1,
           47,
           0,
           23
          ],
          [
           23.3,
           11.5,
           908,
           -0.1,
           21
          ],
          [
           27,
           13.5,
           600,
           -0.1,
           21
          ],
          [
           17.6,
           7.6,
           210,
           -0.1,
           23
          ],
          [
           18.4,
           3.1,
           145,
           -0.3,
           21
          ],
          [
           14.9,
           11.7,
           33,
           0,
           21
          ],
          [
           11.3,
           5.2,
           313,
           -0.2,
           24
          ],
          [
           17.7,
           14.8,
           1728,
           1.3,
           24
          ],
          [
           14.4,
           10.3,
           882,
           0.1,
           22
          ],
          [
           16.1,
           16.6,
           80,
           0,
           21
          ],
          [
           16.2,
           9,
           583,
           -0.5,
           21
          ],
          [
           18.2,
           7.6,
           455,
           -0.3,
           23
          ],
          [
           12.7,
           7.1,
           2069,
           -0.4,
           20
          ],
          [
           12.6,
           11.7,
           38,
           -0.1,
           24
          ],
          [
           19.1,
           14.3,
           1436,
           0.2,
           25
          ],
          [
           21.4,
           13.6,
           2152,
           1,
           21
          ],
          [
           18.1,
           11.1,
           1527,
           0,
           20
          ],
          [
           15.3,
           16.6,
           943,
           0.3,
           21
          ],
          [
           17.4,
           17,
           581,
           -0.2,
           21
          ],
          [
           24.7,
           14.5,
           1525,
           0.7,
           23
          ],
          [
           23.8,
           10.5,
           329,
           -0.4,
           21
          ],
          [
           19.9,
           18.2,
           28,
           0,
           22
          ],
          [
           24.3,
           16.1,
           2024,
           0.9,
           25
          ],
          [
           22.2,
           13.8,
           1975,
           0.4,
           20
          ],
          [
           13.9,
           6.8,
           89,
           -0.1,
           22
          ],
          [
           16.9,
           3.4,
           80,
           -0.1,
           20
          ],
          [
           14.6,
           4.9,
           160,
           -0.1,
           23
          ],
          [
           22.5,
           14.2,
           1864,
           0.7,
           23
          ],
          [
           14.6,
           10.2,
           1238,
           -0.2,
           20
          ],
          [
           12.8,
           7.4,
           961,
           -0.3,
           22
          ],
          [
           20.7,
           15.1,
           1743,
           1.4,
           21
          ],
          [
           17.1,
           5.1,
           522,
           -0.5,
           24
          ],
          [
           20.9,
           9.2,
           32,
           0,
           24
          ],
          [
           16.1,
           -3.2,
           22,
           -0.1,
           21
          ],
          [
           23,
           9.1,
           28,
           0,
           24
          ],
          [
           16.8,
           1.9,
           124,
           -0.2,
           22
          ],
          [
           15.7,
           14.5,
           1679,
           1.7,
           23
          ],
          [
           18.5,
           10.1,
           1658,
           -1.3,
           22
          ],
          [
           17.5,
           12.1,
           2095,
           0.8,
           24
          ],
          [
           16.6,
           10.1,
           851,
           0,
           23
          ],
          [
           22.1,
           12.8,
           2464,
           0.8,
           23
          ],
          [
           28.5,
           11.5,
           180,
           -0.2,
           22
          ],
          [
           15.7,
           12.3,
           235,
           0.1,
           22
          ],
          [
           15.2,
           5.2,
           824,
           -0.8,
           23
          ],
          [
           18.8,
           24.2,
           214,
           0.1,
           21
          ],
          [
           17.6,
           15.3,
           410,
           0,
           20
          ],
          [
           19.7,
           16.3,
           1421,
           0.3,
           23
          ],
          [
           13.1,
           10.4,
           219,
           -0.1,
           25
          ],
          [
           13,
           11.8,
           316,
           0,
           24
          ],
          [
           14.9,
           13.1,
           1419,
           0.3,
           22
          ],
          [
           16,
           13.2,
           1028,
           0.4,
           24
          ],
          [
           16.4,
           8.7,
           1474,
           -0.2,
           22
          ],
          [
           20.3,
           19,
           1324,
           0.7,
           22
          ],
          [
           18.8,
           7.2,
           960,
           -0.9,
           21
          ],
          [
           19.3,
           5.9,
           381,
           -0.4,
           23
          ],
          [
           4.8,
           -3.2,
           9,
           0,
           23
          ],
          [
           14.8,
           7.2,
           1371,
           0,
           20
          ],
          [
           13.6,
           13.8,
           774,
           0,
           20
          ],
          [
           21.8,
           13,
           1954,
           0.2,
           23
          ],
          [
           13.4,
           13.6,
           447,
           0.3,
           20
          ],
          [
           21.7,
           9.9,
           1158,
           -0.3,
           21
          ],
          [
           16.4,
           8.7,
           558,
           -0.6,
           22
          ],
          [
           15.5,
           9.8,
           141,
           -0.1,
           22
          ],
          [
           22.6,
           10.9,
           1406,
           -0.6,
           20
          ],
          [
           13.4,
           15.7,
           1442,
           1.4,
           24
          ],
          [
           24.1,
           14.8,
           1134,
           -0.4,
           21
          ],
          [
           14.6,
           9.1,
           1605,
           -0.1,
           21
          ],
          [
           19.1,
           14.9,
           1000,
           -0.3,
           21
          ],
          [
           21.1,
           14,
           1368,
           0.2,
           23
          ],
          [
           16.8,
           10.7,
           1614,
           0.9,
           23
          ],
          [
           17.1,
           10.9,
           1263,
           -0.2,
           22
          ],
          [
           17.2,
           7.8,
           458,
           -0.3,
           20
          ],
          [
           19.8,
           8.2,
           625,
           -0.1,
           20
          ],
          [
           16.6,
           15,
           446,
           0.4,
           24
          ],
          [
           27.8,
           11.4,
           135,
           -0.2,
           24
          ]
         ],
         "hoverlabel": {
          "namelength": 0
         },
         "hovertemplate": "<b>%{hovertext}</b><br><br>neural=%{marker.color}<br>VORP=%{customdata[3]}<br>WS=%{y}<br>USG%=%{customdata[0]}<br>PER=%{customdata[1]}<br>MP=%{customdata[2]}<br>Age=%{customdata[4]}",
         "hovertext": [
          "Kadeem Allen",
          "Ike Anigbogu",
          "OG Anunoby",
          "Dwayne Bacon",
          "Lonzo Ball",
          "Jordan Bell",
          "Jaron Blossomgame",
          "Jonah Bolden",
          "Tony Bradley",
          "Dillon Brooks",
          "Sterling Brown",
          "Zach Collins",
          "Tyler Dorsey",
          "Tyler Dorsey",
          "Damyean Dotson",
          "Jawun Evans",
          "Jawun Evans",
          "Terrance Ferguson",
          "Markelle Fultz",
          "Harry Giles",
          "Josh Hart",
          "Isaiah Hartenstein",
          "Jonathan Isaac",
          "Wesley Iwundu",
          "Frank Jackson",
          "Josh Jackson",
          "Justin Jackson",
          "Justin Jackson",
          "Luke Kennard",
          "T.J. Leaf",
          "Tyler Lydon",
          "Frank Mason",
          "Malik Monk",
          "Monte Morris",
          "Frank Ntilikina",
          "Semi Ojeleye",
          "Justin Patton",
          "Ivan Rabb",
          "Davon Reed",
          "Dennis Smith",
          "Dennis Smith",
          "Edmond Sumner",
          "Caleb Swanigan",
          "Caleb Swanigan",
          "Sindarius Thornwell",
          "Derrick White",
          "D.J. Wilson",
          "Wade Baldwin",
          "Malik Beasley",
          "DeAndre' Bembry",
          "Dragan Bender",
          "Joel Bolomboy",
          "Malcolm Brogdon",
          "Jaylen Brown",
          "Marquese Chriss",
          "Deyonta Davis",
          "Cheick Diallo",
          "Kris Dunn",
          "Henry Ellenson",
          "Daniel Hamilton",
          "Buddy Hield",
          "Brandon Ingram",
          "Damian Jones",
          "Furkan Korkmaz",
          "Jake Layman",
          "Caris LeVert",
          "Thon Maker",
          "Patrick McCaw",
          "Dejounte Murray",
          "Abdel Nader",
          "Georges Niang",
          "Chinanu Onuaku",
          "Marcus Paige",
          "Zhou Qi",
          "Pascal Siakam",
          "Tyler Ulis",
          "Denzel Valentine",
          "Tyrone Wallace",
          "Taurean Waller-Prince",
          "Isaiah Whitehead",
          "Guerschon Yabusele",
          "Paul Zipser",
          "Ante Žižić",
          "Ivica Zubac",
          "Willie Cauley-Stein",
          "Rakeem Christmas",
          "Pat Connaughton",
          "Sam Dekker",
          "Jerian Grant",
          "Andrew Harrison",
          "Willy Hernangomez",
          "Mario Hezonja",
          "Darrun Hilliard",
          "R.J. Hunter",
          "Stanley Johnson",
          "Tyus Jones",
          "Frank Kaminsky",
          "Kevon Looney",
          "Trey Lyles",
          "Jarell Martin",
          "Jordan Mickey",
          "Emmanuel Mudiay",
          "Larry Nance",
          "Jahlil Okafor",
          "Kelly Oubre",
          "Bobby Portis",
          "Norman Powell",
          "Josh Richardson",
          "Terry Rozier",
          "Rashad Vaughn",
          "Justise Winslow",
          "Delon Wright",
          "Joe Young"
         ],
         "legendgroup": "neural=0",
         "marker": {
          "color": [
           0,
           0,
           0,
           0,
           0,
           0,
           0,
           0,
           0,
           0,
           0,
           0,
           0,
           0,
           0,
           0,
           0,
           0,
           0,
           0,
           0,
           0,
           0,
           0,
           0,
           0,
           0,
           0,
           0,
           0,
           0,
           0,
           0,
           0,
           0,
           0,
           0,
           0,
           0,
           0,
           0,
           0,
           0,
           0,
           0,
           0,
           0,
           0,
           0,
           0,
           0,
           0,
           0,
           0,
           0,
           0,
           0,
           0,
           0,
           0,
           0,
           0,
           0,
           0,
           0,
           0,
           0,
           0,
           0,
           0,
           0,
           0,
           0,
           0,
           0,
           0,
           0,
           0,
           0,
           0,
           0,
           0,
           0,
           0,
           0,
           0,
           0,
           0,
           0,
           0,
           0,
           0,
           0,
           0,
           0,
           0,
           0,
           0,
           0,
           0,
           0,
           0,
           0,
           0,
           0,
           0,
           0,
           0,
           0,
           0,
           0,
           0,
           0
          ],
          "coloraxis": "coloraxis",
          "line": {
           "color": "DarkSlateGrey",
           "width": 1
          },
          "size": 10,
          "symbol": "diamond"
         },
         "mode": "markers",
         "name": "neural=0",
         "showlegend": true,
         "type": "scatter",
         "x": [
          0.1,
          0,
          0.3,
          -0.3,
          0.9,
          0.3,
          -0.3,
          0.5,
          0,
          -0.3,
          0.1,
          0.7,
          -0.3,
          0,
          -0.2,
          -0.1,
          0,
          0,
          -0.1,
          0,
          0.6,
          0.1,
          1.1,
          -0.2,
          -0.9,
          -1.4,
          0.1,
          0.1,
          0.2,
          0.1,
          0,
          -0.3,
          -0.6,
          1.1,
          -0.8,
          -0.3,
          0,
          0.2,
          0,
          -0.1,
          -0.1,
          -0.1,
          -0.3,
          0,
          -0.2,
          1.3,
          0.1,
          0,
          -0.5,
          -0.3,
          -0.4,
          -0.1,
          0.2,
          1,
          0,
          0.3,
          -0.2,
          0.7,
          -0.4,
          0,
          0.9,
          0.4,
          -0.1,
          -0.1,
          -0.1,
          0.7,
          -0.2,
          -0.3,
          1.4,
          -0.5,
          0,
          -0.1,
          0,
          -0.2,
          1.7,
          -1.3,
          0.8,
          0,
          0.8,
          -0.2,
          0.1,
          -0.8,
          0.1,
          0,
          0.3,
          -0.1,
          0,
          0.3,
          0.4,
          -0.2,
          0.7,
          -0.9,
          -0.4,
          0,
          0,
          0,
          0.2,
          0.3,
          -0.3,
          -0.6,
          -0.1,
          -0.6,
          1.4,
          -0.4,
          -0.1,
          -0.3,
          0.2,
          0.9,
          -0.2,
          -0.3,
          -0.1,
          0.4,
          -0.2
         ],
         "xaxis": "x",
         "y": [
          1,
          -0.1,
          2,
          1.2,
          1.6,
          1.6,
          0.3,
          1.4,
          0.1,
          0,
          2.1,
          2.9,
          -0.1,
          0.7,
          1.5,
          -0.2,
          0,
          2.8,
          0.3,
          1,
          2.1,
          0.5,
          4,
          1.9,
          0.4,
          -1.7,
          1.6,
          1.3,
          2.5,
          1.6,
          0.2,
          0.3,
          0.3,
          6.2,
          -0.8,
          0.7,
          0,
          2.1,
          0.1,
          0.2,
          -0.2,
          0.1,
          -0.3,
          0,
          0,
          3.6,
          1.7,
          0.3,
          0.3,
          -0.4,
          0.1,
          0.1,
          2.7,
          4.5,
          0.7,
          2.7,
          1.9,
          0.9,
          0.1,
          0.1,
          2.8,
          2.8,
          0.1,
          0,
          -0.1,
          2.3,
          1.5,
          0.6,
          3.2,
          -0.1,
          0,
          -0.1,
          0,
          -0.3,
          4.7,
          -0.2,
          2.5,
          0.7,
          2,
          -0.1,
          0.6,
          -0.6,
          1,
          1,
          2.9,
          0.5,
          0.6,
          3.1,
          2.5,
          1.6,
          3.4,
          -0.7,
          -0.2,
          0,
          0.4,
          1.5,
          2.3,
          1.4,
          0.8,
          0.6,
          0.1,
          0.2,
          3.5,
          1.2,
          2,
          2.4,
          2.8,
          2.2,
          1.4,
          0,
          -0.1,
          1.1,
          -0.1
         ],
         "yaxis": "y"
        }
       ],
       "layout": {
        "coloraxis": {
         "colorbar": {
          "title": {
           "text": "neural"
          }
         },
         "colorscale": [
          [
           0,
           "#0d0887"
          ],
          [
           0.1111111111111111,
           "#46039f"
          ],
          [
           0.2222222222222222,
           "#7201a8"
          ],
          [
           0.3333333333333333,
           "#9c179e"
          ],
          [
           0.4444444444444444,
           "#bd3786"
          ],
          [
           0.5555555555555556,
           "#d8576b"
          ],
          [
           0.6666666666666666,
           "#ed7953"
          ],
          [
           0.7777777777777778,
           "#fb9f3a"
          ],
          [
           0.8888888888888888,
           "#fdca26"
          ],
          [
           1,
           "#f0f921"
          ]
         ]
        },
        "height": 600,
        "legend": {
         "orientation": "h",
         "tracegroupgap": 0
        },
        "margin": {
         "t": 60
        },
        "template": {
         "data": {
          "bar": [
           {
            "error_x": {
             "color": "#2a3f5f"
            },
            "error_y": {
             "color": "#2a3f5f"
            },
            "marker": {
             "line": {
              "color": "#E5ECF6",
              "width": 0.5
             }
            },
            "type": "bar"
           }
          ],
          "barpolar": [
           {
            "marker": {
             "line": {
              "color": "#E5ECF6",
              "width": 0.5
             }
            },
            "type": "barpolar"
           }
          ],
          "carpet": [
           {
            "aaxis": {
             "endlinecolor": "#2a3f5f",
             "gridcolor": "white",
             "linecolor": "white",
             "minorgridcolor": "white",
             "startlinecolor": "#2a3f5f"
            },
            "baxis": {
             "endlinecolor": "#2a3f5f",
             "gridcolor": "white",
             "linecolor": "white",
             "minorgridcolor": "white",
             "startlinecolor": "#2a3f5f"
            },
            "type": "carpet"
           }
          ],
          "choropleth": [
           {
            "colorbar": {
             "outlinewidth": 0,
             "ticks": ""
            },
            "type": "choropleth"
           }
          ],
          "contour": [
           {
            "colorbar": {
             "outlinewidth": 0,
             "ticks": ""
            },
            "colorscale": [
             [
              0,
              "#0d0887"
             ],
             [
              0.1111111111111111,
              "#46039f"
             ],
             [
              0.2222222222222222,
              "#7201a8"
             ],
             [
              0.3333333333333333,
              "#9c179e"
             ],
             [
              0.4444444444444444,
              "#bd3786"
             ],
             [
              0.5555555555555556,
              "#d8576b"
             ],
             [
              0.6666666666666666,
              "#ed7953"
             ],
             [
              0.7777777777777778,
              "#fb9f3a"
             ],
             [
              0.8888888888888888,
              "#fdca26"
             ],
             [
              1,
              "#f0f921"
             ]
            ],
            "type": "contour"
           }
          ],
          "contourcarpet": [
           {
            "colorbar": {
             "outlinewidth": 0,
             "ticks": ""
            },
            "type": "contourcarpet"
           }
          ],
          "heatmap": [
           {
            "colorbar": {
             "outlinewidth": 0,
             "ticks": ""
            },
            "colorscale": [
             [
              0,
              "#0d0887"
             ],
             [
              0.1111111111111111,
              "#46039f"
             ],
             [
              0.2222222222222222,
              "#7201a8"
             ],
             [
              0.3333333333333333,
              "#9c179e"
             ],
             [
              0.4444444444444444,
              "#bd3786"
             ],
             [
              0.5555555555555556,
              "#d8576b"
             ],
             [
              0.6666666666666666,
              "#ed7953"
             ],
             [
              0.7777777777777778,
              "#fb9f3a"
             ],
             [
              0.8888888888888888,
              "#fdca26"
             ],
             [
              1,
              "#f0f921"
             ]
            ],
            "type": "heatmap"
           }
          ],
          "heatmapgl": [
           {
            "colorbar": {
             "outlinewidth": 0,
             "ticks": ""
            },
            "colorscale": [
             [
              0,
              "#0d0887"
             ],
             [
              0.1111111111111111,
              "#46039f"
             ],
             [
              0.2222222222222222,
              "#7201a8"
             ],
             [
              0.3333333333333333,
              "#9c179e"
             ],
             [
              0.4444444444444444,
              "#bd3786"
             ],
             [
              0.5555555555555556,
              "#d8576b"
             ],
             [
              0.6666666666666666,
              "#ed7953"
             ],
             [
              0.7777777777777778,
              "#fb9f3a"
             ],
             [
              0.8888888888888888,
              "#fdca26"
             ],
             [
              1,
              "#f0f921"
             ]
            ],
            "type": "heatmapgl"
           }
          ],
          "histogram": [
           {
            "marker": {
             "colorbar": {
              "outlinewidth": 0,
              "ticks": ""
             }
            },
            "type": "histogram"
           }
          ],
          "histogram2d": [
           {
            "colorbar": {
             "outlinewidth": 0,
             "ticks": ""
            },
            "colorscale": [
             [
              0,
              "#0d0887"
             ],
             [
              0.1111111111111111,
              "#46039f"
             ],
             [
              0.2222222222222222,
              "#7201a8"
             ],
             [
              0.3333333333333333,
              "#9c179e"
             ],
             [
              0.4444444444444444,
              "#bd3786"
             ],
             [
              0.5555555555555556,
              "#d8576b"
             ],
             [
              0.6666666666666666,
              "#ed7953"
             ],
             [
              0.7777777777777778,
              "#fb9f3a"
             ],
             [
              0.8888888888888888,
              "#fdca26"
             ],
             [
              1,
              "#f0f921"
             ]
            ],
            "type": "histogram2d"
           }
          ],
          "histogram2dcontour": [
           {
            "colorbar": {
             "outlinewidth": 0,
             "ticks": ""
            },
            "colorscale": [
             [
              0,
              "#0d0887"
             ],
             [
              0.1111111111111111,
              "#46039f"
             ],
             [
              0.2222222222222222,
              "#7201a8"
             ],
             [
              0.3333333333333333,
              "#9c179e"
             ],
             [
              0.4444444444444444,
              "#bd3786"
             ],
             [
              0.5555555555555556,
              "#d8576b"
             ],
             [
              0.6666666666666666,
              "#ed7953"
             ],
             [
              0.7777777777777778,
              "#fb9f3a"
             ],
             [
              0.8888888888888888,
              "#fdca26"
             ],
             [
              1,
              "#f0f921"
             ]
            ],
            "type": "histogram2dcontour"
           }
          ],
          "mesh3d": [
           {
            "colorbar": {
             "outlinewidth": 0,
             "ticks": ""
            },
            "type": "mesh3d"
           }
          ],
          "parcoords": [
           {
            "line": {
             "colorbar": {
              "outlinewidth": 0,
              "ticks": ""
             }
            },
            "type": "parcoords"
           }
          ],
          "scatter": [
           {
            "marker": {
             "colorbar": {
              "outlinewidth": 0,
              "ticks": ""
             }
            },
            "type": "scatter"
           }
          ],
          "scatter3d": [
           {
            "line": {
             "colorbar": {
              "outlinewidth": 0,
              "ticks": ""
             }
            },
            "marker": {
             "colorbar": {
              "outlinewidth": 0,
              "ticks": ""
             }
            },
            "type": "scatter3d"
           }
          ],
          "scattercarpet": [
           {
            "marker": {
             "colorbar": {
              "outlinewidth": 0,
              "ticks": ""
             }
            },
            "type": "scattercarpet"
           }
          ],
          "scattergeo": [
           {
            "marker": {
             "colorbar": {
              "outlinewidth": 0,
              "ticks": ""
             }
            },
            "type": "scattergeo"
           }
          ],
          "scattergl": [
           {
            "marker": {
             "colorbar": {
              "outlinewidth": 0,
              "ticks": ""
             }
            },
            "type": "scattergl"
           }
          ],
          "scattermapbox": [
           {
            "marker": {
             "colorbar": {
              "outlinewidth": 0,
              "ticks": ""
             }
            },
            "type": "scattermapbox"
           }
          ],
          "scatterpolar": [
           {
            "marker": {
             "colorbar": {
              "outlinewidth": 0,
              "ticks": ""
             }
            },
            "type": "scatterpolar"
           }
          ],
          "scatterpolargl": [
           {
            "marker": {
             "colorbar": {
              "outlinewidth": 0,
              "ticks": ""
             }
            },
            "type": "scatterpolargl"
           }
          ],
          "scatterternary": [
           {
            "marker": {
             "colorbar": {
              "outlinewidth": 0,
              "ticks": ""
             }
            },
            "type": "scatterternary"
           }
          ],
          "surface": [
           {
            "colorbar": {
             "outlinewidth": 0,
             "ticks": ""
            },
            "colorscale": [
             [
              0,
              "#0d0887"
             ],
             [
              0.1111111111111111,
              "#46039f"
             ],
             [
              0.2222222222222222,
              "#7201a8"
             ],
             [
              0.3333333333333333,
              "#9c179e"
             ],
             [
              0.4444444444444444,
              "#bd3786"
             ],
             [
              0.5555555555555556,
              "#d8576b"
             ],
             [
              0.6666666666666666,
              "#ed7953"
             ],
             [
              0.7777777777777778,
              "#fb9f3a"
             ],
             [
              0.8888888888888888,
              "#fdca26"
             ],
             [
              1,
              "#f0f921"
             ]
            ],
            "type": "surface"
           }
          ],
          "table": [
           {
            "cells": {
             "fill": {
              "color": "#EBF0F8"
             },
             "line": {
              "color": "white"
             }
            },
            "header": {
             "fill": {
              "color": "#C8D4E3"
             },
             "line": {
              "color": "white"
             }
            },
            "type": "table"
           }
          ]
         },
         "layout": {
          "annotationdefaults": {
           "arrowcolor": "#2a3f5f",
           "arrowhead": 0,
           "arrowwidth": 1
          },
          "colorscale": {
           "diverging": [
            [
             0,
             "#8e0152"
            ],
            [
             0.1,
             "#c51b7d"
            ],
            [
             0.2,
             "#de77ae"
            ],
            [
             0.3,
             "#f1b6da"
            ],
            [
             0.4,
             "#fde0ef"
            ],
            [
             0.5,
             "#f7f7f7"
            ],
            [
             0.6,
             "#e6f5d0"
            ],
            [
             0.7,
             "#b8e186"
            ],
            [
             0.8,
             "#7fbc41"
            ],
            [
             0.9,
             "#4d9221"
            ],
            [
             1,
             "#276419"
            ]
           ],
           "sequential": [
            [
             0,
             "#0d0887"
            ],
            [
             0.1111111111111111,
             "#46039f"
            ],
            [
             0.2222222222222222,
             "#7201a8"
            ],
            [
             0.3333333333333333,
             "#9c179e"
            ],
            [
             0.4444444444444444,
             "#bd3786"
            ],
            [
             0.5555555555555556,
             "#d8576b"
            ],
            [
             0.6666666666666666,
             "#ed7953"
            ],
            [
             0.7777777777777778,
             "#fb9f3a"
            ],
            [
             0.8888888888888888,
             "#fdca26"
            ],
            [
             1,
             "#f0f921"
            ]
           ],
           "sequentialminus": [
            [
             0,
             "#0d0887"
            ],
            [
             0.1111111111111111,
             "#46039f"
            ],
            [
             0.2222222222222222,
             "#7201a8"
            ],
            [
             0.3333333333333333,
             "#9c179e"
            ],
            [
             0.4444444444444444,
             "#bd3786"
            ],
            [
             0.5555555555555556,
             "#d8576b"
            ],
            [
             0.6666666666666666,
             "#ed7953"
            ],
            [
             0.7777777777777778,
             "#fb9f3a"
            ],
            [
             0.8888888888888888,
             "#fdca26"
            ],
            [
             1,
             "#f0f921"
            ]
           ]
          },
          "colorway": [
           "#636efa",
           "#EF553B",
           "#00cc96",
           "#ab63fa",
           "#FFA15A",
           "#19d3f3",
           "#FF6692",
           "#B6E880",
           "#FF97FF",
           "#FECB52"
          ],
          "font": {
           "color": "#2a3f5f"
          },
          "geo": {
           "bgcolor": "white",
           "lakecolor": "white",
           "landcolor": "#E5ECF6",
           "showlakes": true,
           "showland": true,
           "subunitcolor": "white"
          },
          "hoverlabel": {
           "align": "left"
          },
          "hovermode": "closest",
          "mapbox": {
           "style": "light"
          },
          "paper_bgcolor": "white",
          "plot_bgcolor": "#E5ECF6",
          "polar": {
           "angularaxis": {
            "gridcolor": "white",
            "linecolor": "white",
            "ticks": ""
           },
           "bgcolor": "#E5ECF6",
           "radialaxis": {
            "gridcolor": "white",
            "linecolor": "white",
            "ticks": ""
           }
          },
          "scene": {
           "xaxis": {
            "backgroundcolor": "#E5ECF6",
            "gridcolor": "white",
            "gridwidth": 2,
            "linecolor": "white",
            "showbackground": true,
            "ticks": "",
            "zerolinecolor": "white"
           },
           "yaxis": {
            "backgroundcolor": "#E5ECF6",
            "gridcolor": "white",
            "gridwidth": 2,
            "linecolor": "white",
            "showbackground": true,
            "ticks": "",
            "zerolinecolor": "white"
           },
           "zaxis": {
            "backgroundcolor": "#E5ECF6",
            "gridcolor": "white",
            "gridwidth": 2,
            "linecolor": "white",
            "showbackground": true,
            "ticks": "",
            "zerolinecolor": "white"
           }
          },
          "shapedefaults": {
           "line": {
            "color": "#2a3f5f"
           }
          },
          "ternary": {
           "aaxis": {
            "gridcolor": "white",
            "linecolor": "white",
            "ticks": ""
           },
           "baxis": {
            "gridcolor": "white",
            "linecolor": "white",
            "ticks": ""
           },
           "bgcolor": "#E5ECF6",
           "caxis": {
            "gridcolor": "white",
            "linecolor": "white",
            "ticks": ""
           }
          },
          "title": {
           "x": 0.05
          },
          "xaxis": {
           "automargin": true,
           "gridcolor": "white",
           "linecolor": "white",
           "ticks": "",
           "zerolinecolor": "white",
           "zerolinewidth": 2
          },
          "yaxis": {
           "automargin": true,
           "gridcolor": "white",
           "linecolor": "white",
           "ticks": "",
           "zerolinecolor": "white",
           "zerolinewidth": 2
          }
         }
        },
        "xaxis": {
         "anchor": "y",
         "domain": [
          0,
          0.98
         ],
         "title": {
          "text": "VORP"
         }
        },
        "yaxis": {
         "anchor": "x",
         "domain": [
          0,
          1
         ],
         "title": {
          "text": "WS"
         }
        }
       }
      },
      "text/html": [
       "<div>\n",
       "        \n",
       "        \n",
       "            <div id=\"0a54427f-8003-4f77-86e1-ba48e8fd407f\" class=\"plotly-graph-div\" style=\"height:600px; width:100%;\"></div>\n",
       "            <script type=\"text/javascript\">\n",
       "                require([\"plotly\"], function(Plotly) {\n",
       "                    window.PLOTLYENV=window.PLOTLYENV || {};\n",
       "                    \n",
       "                if (document.getElementById(\"0a54427f-8003-4f77-86e1-ba48e8fd407f\")) {\n",
       "                    Plotly.newPlot(\n",
       "                        '0a54427f-8003-4f77-86e1-ba48e8fd407f',\n",
       "                        [{\"customdata\": [[15.8, 17.9, 1913.0, 2.4, 21.0], [15.9, 18.5, 2096.0, 2.4, 20.0], [24.5, 18.1, 2546.0, 2.0, 21.0], [23.8, 14.0, 2314.0, 0.2, 23.0], [25.1, 17.1, 1682.0, 0.0, 21.0], [31.6, 17.2, 2598.0, 1.7, 22.0], [22.1, 15.1, 2455.0, 0.8, 20.0], [22.8, 16.1, 2565.0, 1.2, 20.0], [22.1, 17.5, 1810.0, 0.8, 21.0], [22.3, 20.0, 2732.0, 4.6, 21.0], [28.6, 14.6, 2730.0, -0.2, 20.0], [17.6, 19.2, 1064.0, 0.8, 23.0], [18.7, 13.7, 1761.0, 0.4, 22.0], [18.6, 18.6, 1193.0, 1.1, 23.0], [24.3, 17.4, 2164.0, 1.2, 21.0], [26.6, 15.3, 1811.0, 0.7, 20.0], [19.5, 18.5, 2541.0, 2.8, 20.0]], \"hoverlabel\": {\"namelength\": 0}, \"hovertemplate\": \"<b>%{hovertext}</b><br><br>neural=%{marker.color}<br>VORP=%{customdata[3]}<br>WS=%{y}<br>USG%=%{customdata[0]}<br>PER=%{customdata[1]}<br>MP=%{customdata[2]}<br>Age=%{customdata[4]}\", \"hovertext\": [\"Bam Adebayo\", \"Jarrett Allen\", \"De'Aaron Fox\", \"Kyle Kuzma\", \"Lauri Markkanen\", \"Donovan Mitchell\", \"Jayson Tatum\", \"Jamal Murray\", \"Domantas Sabonis\", \"Ben Simmons\", \"Devin Booker\", \"Montrezl Harrell\", \"Rondae Hollis-Jefferson\", \"Richaun Holmes\", \"Kristaps Porzingis\", \"D'Angelo Russell\", \"Myles Turner\"], \"legendgroup\": \"neural=1\", \"marker\": {\"color\": [1, 1, 1, 1, 1, 1, 1, 1, 1, 1, 1, 1, 1, 1, 1, 1, 1], \"coloraxis\": \"coloraxis\", \"line\": {\"color\": \"DarkSlateGrey\", \"width\": 1}, \"size\": 10, \"symbol\": \"circle\"}, \"mode\": \"markers\", \"name\": \"neural=1\", \"showlegend\": true, \"type\": \"scatter\", \"x\": [2.4, 2.4, 2.0, 0.2, 0.0, 1.7, 0.8, 1.2, 0.8, 4.6, -0.2, 0.8, 0.4, 1.1, 1.2, 0.7, 2.8], \"xaxis\": \"x\", \"y\": [6.8, 7.6, 5.6, 3.1, 2.7, 5.0, 5.0, 5.5, 4.7, 9.2, 2.0, 4.1, 2.6, 3.8, 4.5, 1.3, 8.0], \"yaxis\": \"y\"}, {\"customdata\": [[19.6, 16.2, 416.0, 0.1, 26.0], [29.1, -6.0, 6.0, 0.0, 20.0], [15.5, 9.8, 1352.0, 0.3, 21.0], [16.8, 11.7, 759.0, -0.3, 23.0], [16.9, 11.7, 1423.0, 0.9, 21.0], [13.7, 12.9, 788.0, 0.3, 24.0], [12.2, 10.2, 439.0, -0.3, 25.0], [13.8, 12.7, 639.0, 0.5, 23.0], [23.6, 19.6, 36.0, 0.0, 21.0], [20.9, 7.6, 330.0, -0.3, 23.0], [15.2, 10.9, 1034.0, 0.1, 23.0], [16.6, 13.5, 1356.0, 0.7, 21.0], [17.9, 7.8, 251.0, -0.3, 22.0], [20.7, 13.1, 447.0, 0.0, 22.0], [17.3, 10.8, 2004.0, -0.2, 24.0], [12.7, 0.7, 64.0, -0.1, 22.0], [40.7, -38.1, 1.0, 0.0, 22.0], [10.6, 6.4, 1931.0, 0.0, 20.0], [19.3, 10.5, 427.0, -0.1, 20.0], [23.2, 14.4, 820.0, 0.0, 20.0], [13.5, 9.3, 1715.0, 0.6, 23.0], [11.8, 10.0, 221.0, 0.1, 20.0], [16.3, 13.0, 1996.0, 1.1, 21.0], [12.8, 8.7, 1233.0, -0.2, 24.0], [18.5, 9.4, 1169.0, -0.9, 20.0], [23.9, 10.6, 1988.0, -1.4, 21.0], [12.9, 10.1, 1083.0, 0.1, 23.0], [17.0, 13.9, 531.0, 0.1, 23.0], [18.1, 11.9, 1437.0, 0.2, 22.0], [17.5, 16.9, 522.0, 0.1, 21.0], [10.6, 9.3, 94.0, 0.0, 22.0], [21.8, 12.4, 435.0, -0.3, 24.0], [24.6, 11.8, 1258.0, -0.6, 20.0], [17.1, 16.2, 1970.0, 1.1, 23.0], [16.6, 6.0, 904.0, -0.8, 20.0], [14.1, 8.5, 594.0, -0.3, 24.0], [15.7, 10.5, 21.0, 0.0, 21.0], [17.2, 16.1, 721.0, 0.2, 21.0], [12.1, 8.1, 47.0, 0.0, 23.0], [23.3, 11.5, 908.0, -0.1, 21.0], [27.0, 13.5, 600.0, -0.1, 21.0], [17.6, 7.6, 210.0, -0.1, 23.0], [18.4, 3.1, 145.0, -0.3, 21.0], [14.9, 11.7, 33.0, 0.0, 21.0], [11.3, 5.2, 313.0, -0.2, 24.0], [17.7, 14.8, 1728.0, 1.3, 24.0], [14.4, 10.3, 882.0, 0.1, 22.0], [16.1, 16.6, 80.0, 0.0, 21.0], [16.2, 9.0, 583.0, -0.5, 21.0], [18.2, 7.6, 455.0, -0.3, 23.0], [12.7, 7.1, 2069.0, -0.4, 20.0], [12.6, 11.7, 38.0, -0.1, 24.0], [19.1, 14.3, 1436.0, 0.2, 25.0], [21.4, 13.6, 2152.0, 1.0, 21.0], [18.1, 11.1, 1527.0, 0.0, 20.0], [15.3, 16.6, 943.0, 0.3, 21.0], [17.4, 17.0, 581.0, -0.2, 21.0], [24.7, 14.5, 1525.0, 0.7, 23.0], [23.8, 10.5, 329.0, -0.4, 21.0], [19.9, 18.2, 28.0, 0.0, 22.0], [24.3, 16.1, 2024.0, 0.9, 25.0], [22.2, 13.8, 1975.0, 0.4, 20.0], [13.9, 6.8, 89.0, -0.1, 22.0], [16.9, 3.4, 80.0, -0.1, 20.0], [14.6, 4.9, 160.0, -0.1, 23.0], [22.5, 14.2, 1864.0, 0.7, 23.0], [14.6, 10.2, 1238.0, -0.2, 20.0], [12.8, 7.4, 961.0, -0.3, 22.0], [20.7, 15.1, 1743.0, 1.4, 21.0], [17.1, 5.1, 522.0, -0.5, 24.0], [20.9, 9.2, 32.0, 0.0, 24.0], [16.1, -3.2, 22.0, -0.1, 21.0], [23.0, 9.1, 28.0, 0.0, 24.0], [16.8, 1.9, 124.0, -0.2, 22.0], [15.7, 14.5, 1679.0, 1.7, 23.0], [18.5, 10.1, 1658.0, -1.3, 22.0], [17.5, 12.1, 2095.0, 0.8, 24.0], [16.6, 10.1, 851.0, 0.0, 23.0], [22.1, 12.8, 2464.0, 0.8, 23.0], [28.5, 11.5, 180.0, -0.2, 22.0], [15.7, 12.3, 235.0, 0.1, 22.0], [15.2, 5.2, 824.0, -0.8, 23.0], [18.8, 24.2, 214.0, 0.1, 21.0], [17.6, 15.3, 410.0, 0.0, 20.0], [19.7, 16.3, 1421.0, 0.3, 23.0], [13.1, 10.4, 219.0, -0.1, 25.0], [13.0, 11.8, 316.0, 0.0, 24.0], [14.9, 13.1, 1419.0, 0.3, 22.0], [16.0, 13.2, 1028.0, 0.4, 24.0], [16.4, 8.7, 1474.0, -0.2, 22.0], [20.3, 19.0, 1324.0, 0.7, 22.0], [18.8, 7.2, 960.0, -0.9, 21.0], [19.3, 5.9, 381.0, -0.4, 23.0], [4.8, -3.2, 9.0, 0.0, 23.0], [14.8, 7.2, 1371.0, 0.0, 20.0], [13.6, 13.8, 774.0, 0.0, 20.0], [21.8, 13.0, 1954.0, 0.2, 23.0], [13.4, 13.6, 447.0, 0.3, 20.0], [21.7, 9.9, 1158.0, -0.3, 21.0], [16.4, 8.7, 558.0, -0.6, 22.0], [15.5, 9.8, 141.0, -0.1, 22.0], [22.6, 10.9, 1406.0, -0.6, 20.0], [13.4, 15.7, 1442.0, 1.4, 24.0], [24.1, 14.8, 1134.0, -0.4, 21.0], [14.6, 9.1, 1605.0, -0.1, 21.0], [19.1, 14.9, 1000.0, -0.3, 21.0], [21.1, 14.0, 1368.0, 0.2, 23.0], [16.8, 10.7, 1614.0, 0.9, 23.0], [17.1, 10.9, 1263.0, -0.2, 22.0], [17.2, 7.8, 458.0, -0.3, 20.0], [19.8, 8.2, 625.0, -0.1, 20.0], [16.6, 15.0, 446.0, 0.4, 24.0], [27.8, 11.4, 135.0, -0.2, 24.0]], \"hoverlabel\": {\"namelength\": 0}, \"hovertemplate\": \"<b>%{hovertext}</b><br><br>neural=%{marker.color}<br>VORP=%{customdata[3]}<br>WS=%{y}<br>USG%=%{customdata[0]}<br>PER=%{customdata[1]}<br>MP=%{customdata[2]}<br>Age=%{customdata[4]}\", \"hovertext\": [\"Kadeem Allen\", \"Ike Anigbogu\", \"OG Anunoby\", \"Dwayne Bacon\", \"Lonzo Ball\", \"Jordan Bell\", \"Jaron Blossomgame\", \"Jonah Bolden\", \"Tony Bradley\", \"Dillon Brooks\", \"Sterling Brown\", \"Zach Collins\", \"Tyler Dorsey\", \"Tyler Dorsey\", \"Damyean Dotson\", \"Jawun Evans\", \"Jawun Evans\", \"Terrance Ferguson\", \"Markelle Fultz\", \"Harry Giles\", \"Josh Hart\", \"Isaiah Hartenstein\", \"Jonathan Isaac\", \"Wesley Iwundu\", \"Frank Jackson\", \"Josh Jackson\", \"Justin Jackson\", \"Justin Jackson\", \"Luke Kennard\", \"T.J. Leaf\", \"Tyler Lydon\", \"Frank Mason\", \"Malik Monk\", \"Monte Morris\", \"Frank Ntilikina\", \"Semi Ojeleye\", \"Justin Patton\", \"Ivan Rabb\", \"Davon Reed\", \"Dennis Smith\", \"Dennis Smith\", \"Edmond Sumner\", \"Caleb Swanigan\", \"Caleb Swanigan\", \"Sindarius Thornwell\", \"Derrick White\", \"D.J. Wilson\", \"Wade Baldwin\", \"Malik Beasley\", \"DeAndre' Bembry\", \"Dragan Bender\", \"Joel Bolomboy\", \"Malcolm Brogdon\", \"Jaylen Brown\", \"Marquese Chriss\", \"Deyonta Davis\", \"Cheick Diallo\", \"Kris Dunn\", \"Henry Ellenson\", \"Daniel Hamilton\", \"Buddy Hield\", \"Brandon Ingram\", \"Damian Jones\", \"Furkan Korkmaz\", \"Jake Layman\", \"Caris LeVert\", \"Thon Maker\", \"Patrick McCaw\", \"Dejounte Murray\", \"Abdel Nader\", \"Georges Niang\", \"Chinanu Onuaku\", \"Marcus Paige\", \"Zhou Qi\", \"Pascal Siakam\", \"Tyler Ulis\", \"Denzel Valentine\", \"Tyrone Wallace\", \"Taurean Waller-Prince\", \"Isaiah Whitehead\", \"Guerschon Yabusele\", \"Paul Zipser\", \"Ante \\u017di\\u017ei\\u0107\", \"Ivica Zubac\", \"Willie Cauley-Stein\", \"Rakeem Christmas\", \"Pat Connaughton\", \"Sam Dekker\", \"Jerian Grant\", \"Andrew Harrison\", \"Willy Hernangomez\", \"Mario Hezonja\", \"Darrun Hilliard\", \"R.J. Hunter\", \"Stanley Johnson\", \"Tyus Jones\", \"Frank Kaminsky\", \"Kevon Looney\", \"Trey Lyles\", \"Jarell Martin\", \"Jordan Mickey\", \"Emmanuel Mudiay\", \"Larry Nance\", \"Jahlil Okafor\", \"Kelly Oubre\", \"Bobby Portis\", \"Norman Powell\", \"Josh Richardson\", \"Terry Rozier\", \"Rashad Vaughn\", \"Justise Winslow\", \"Delon Wright\", \"Joe Young\"], \"legendgroup\": \"neural=0\", \"marker\": {\"color\": [0, 0, 0, 0, 0, 0, 0, 0, 0, 0, 0, 0, 0, 0, 0, 0, 0, 0, 0, 0, 0, 0, 0, 0, 0, 0, 0, 0, 0, 0, 0, 0, 0, 0, 0, 0, 0, 0, 0, 0, 0, 0, 0, 0, 0, 0, 0, 0, 0, 0, 0, 0, 0, 0, 0, 0, 0, 0, 0, 0, 0, 0, 0, 0, 0, 0, 0, 0, 0, 0, 0, 0, 0, 0, 0, 0, 0, 0, 0, 0, 0, 0, 0, 0, 0, 0, 0, 0, 0, 0, 0, 0, 0, 0, 0, 0, 0, 0, 0, 0, 0, 0, 0, 0, 0, 0, 0, 0, 0, 0, 0, 0, 0], \"coloraxis\": \"coloraxis\", \"line\": {\"color\": \"DarkSlateGrey\", \"width\": 1}, \"size\": 10, \"symbol\": \"diamond\"}, \"mode\": \"markers\", \"name\": \"neural=0\", \"showlegend\": true, \"type\": \"scatter\", \"x\": [0.1, 0.0, 0.3, -0.3, 0.9, 0.3, -0.3, 0.5, 0.0, -0.3, 0.1, 0.7, -0.3, 0.0, -0.2, -0.1, 0.0, 0.0, -0.1, 0.0, 0.6, 0.1, 1.1, -0.2, -0.9, -1.4, 0.1, 0.1, 0.2, 0.1, 0.0, -0.3, -0.6, 1.1, -0.8, -0.3, 0.0, 0.2, 0.0, -0.1, -0.1, -0.1, -0.3, 0.0, -0.2, 1.3, 0.1, 0.0, -0.5, -0.3, -0.4, -0.1, 0.2, 1.0, 0.0, 0.3, -0.2, 0.7, -0.4, 0.0, 0.9, 0.4, -0.1, -0.1, -0.1, 0.7, -0.2, -0.3, 1.4, -0.5, 0.0, -0.1, 0.0, -0.2, 1.7, -1.3, 0.8, 0.0, 0.8, -0.2, 0.1, -0.8, 0.1, 0.0, 0.3, -0.1, 0.0, 0.3, 0.4, -0.2, 0.7, -0.9, -0.4, 0.0, 0.0, 0.0, 0.2, 0.3, -0.3, -0.6, -0.1, -0.6, 1.4, -0.4, -0.1, -0.3, 0.2, 0.9, -0.2, -0.3, -0.1, 0.4, -0.2], \"xaxis\": \"x\", \"y\": [1.0, -0.1, 2.0, 1.2, 1.6, 1.6, 0.3, 1.4, 0.1, 0.0, 2.1, 2.9, -0.1, 0.7, 1.5, -0.2, 0.0, 2.8, 0.3, 1.0, 2.1, 0.5, 4.0, 1.9, 0.4, -1.7, 1.6, 1.3, 2.5, 1.6, 0.2, 0.3, 0.3, 6.2, -0.8, 0.7, 0.0, 2.1, 0.1, 0.2, -0.2, 0.1, -0.3, 0.0, 0.0, 3.6, 1.7, 0.3, 0.3, -0.4, 0.1, 0.1, 2.7, 4.5, 0.7, 2.7, 1.9, 0.9, 0.1, 0.1, 2.8, 2.8, 0.1, 0.0, -0.1, 2.3, 1.5, 0.6, 3.2, -0.1, 0.0, -0.1, 0.0, -0.3, 4.7, -0.2, 2.5, 0.7, 2.0, -0.1, 0.6, -0.6, 1.0, 1.0, 2.9, 0.5, 0.6, 3.1, 2.5, 1.6, 3.4, -0.7, -0.2, 0.0, 0.4, 1.5, 2.3, 1.4, 0.8, 0.6, 0.1, 0.2, 3.5, 1.2, 2.0, 2.4, 2.8, 2.2, 1.4, 0.0, -0.1, 1.1, -0.1], \"yaxis\": \"y\"}],\n",
       "                        {\"coloraxis\": {\"colorbar\": {\"title\": {\"text\": \"neural\"}}, \"colorscale\": [[0.0, \"#0d0887\"], [0.1111111111111111, \"#46039f\"], [0.2222222222222222, \"#7201a8\"], [0.3333333333333333, \"#9c179e\"], [0.4444444444444444, \"#bd3786\"], [0.5555555555555556, \"#d8576b\"], [0.6666666666666666, \"#ed7953\"], [0.7777777777777778, \"#fb9f3a\"], [0.8888888888888888, \"#fdca26\"], [1.0, \"#f0f921\"]]}, \"height\": 600, \"legend\": {\"orientation\": \"h\", \"tracegroupgap\": 0}, \"margin\": {\"t\": 60}, \"template\": {\"data\": {\"bar\": [{\"error_x\": {\"color\": \"#2a3f5f\"}, \"error_y\": {\"color\": \"#2a3f5f\"}, \"marker\": {\"line\": {\"color\": \"#E5ECF6\", \"width\": 0.5}}, \"type\": \"bar\"}], \"barpolar\": [{\"marker\": {\"line\": {\"color\": \"#E5ECF6\", \"width\": 0.5}}, \"type\": \"barpolar\"}], \"carpet\": [{\"aaxis\": {\"endlinecolor\": \"#2a3f5f\", \"gridcolor\": \"white\", \"linecolor\": \"white\", \"minorgridcolor\": \"white\", \"startlinecolor\": \"#2a3f5f\"}, \"baxis\": {\"endlinecolor\": \"#2a3f5f\", \"gridcolor\": \"white\", \"linecolor\": \"white\", \"minorgridcolor\": \"white\", \"startlinecolor\": \"#2a3f5f\"}, \"type\": \"carpet\"}], \"choropleth\": [{\"colorbar\": {\"outlinewidth\": 0, \"ticks\": \"\"}, \"type\": \"choropleth\"}], \"contour\": [{\"colorbar\": {\"outlinewidth\": 0, \"ticks\": \"\"}, \"colorscale\": [[0.0, \"#0d0887\"], [0.1111111111111111, \"#46039f\"], [0.2222222222222222, \"#7201a8\"], [0.3333333333333333, \"#9c179e\"], [0.4444444444444444, \"#bd3786\"], [0.5555555555555556, \"#d8576b\"], [0.6666666666666666, \"#ed7953\"], [0.7777777777777778, \"#fb9f3a\"], [0.8888888888888888, \"#fdca26\"], [1.0, \"#f0f921\"]], \"type\": \"contour\"}], \"contourcarpet\": [{\"colorbar\": {\"outlinewidth\": 0, \"ticks\": \"\"}, \"type\": \"contourcarpet\"}], \"heatmap\": [{\"colorbar\": {\"outlinewidth\": 0, \"ticks\": \"\"}, \"colorscale\": [[0.0, \"#0d0887\"], [0.1111111111111111, \"#46039f\"], [0.2222222222222222, \"#7201a8\"], [0.3333333333333333, \"#9c179e\"], [0.4444444444444444, \"#bd3786\"], [0.5555555555555556, \"#d8576b\"], [0.6666666666666666, \"#ed7953\"], [0.7777777777777778, \"#fb9f3a\"], [0.8888888888888888, \"#fdca26\"], [1.0, \"#f0f921\"]], \"type\": \"heatmap\"}], \"heatmapgl\": [{\"colorbar\": {\"outlinewidth\": 0, \"ticks\": \"\"}, \"colorscale\": [[0.0, \"#0d0887\"], [0.1111111111111111, \"#46039f\"], [0.2222222222222222, \"#7201a8\"], [0.3333333333333333, \"#9c179e\"], [0.4444444444444444, \"#bd3786\"], [0.5555555555555556, \"#d8576b\"], [0.6666666666666666, \"#ed7953\"], [0.7777777777777778, \"#fb9f3a\"], [0.8888888888888888, \"#fdca26\"], [1.0, \"#f0f921\"]], \"type\": \"heatmapgl\"}], \"histogram\": [{\"marker\": {\"colorbar\": {\"outlinewidth\": 0, \"ticks\": \"\"}}, \"type\": \"histogram\"}], \"histogram2d\": [{\"colorbar\": {\"outlinewidth\": 0, \"ticks\": \"\"}, \"colorscale\": [[0.0, \"#0d0887\"], [0.1111111111111111, \"#46039f\"], [0.2222222222222222, \"#7201a8\"], [0.3333333333333333, \"#9c179e\"], [0.4444444444444444, \"#bd3786\"], [0.5555555555555556, \"#d8576b\"], [0.6666666666666666, \"#ed7953\"], [0.7777777777777778, \"#fb9f3a\"], [0.8888888888888888, \"#fdca26\"], [1.0, \"#f0f921\"]], \"type\": \"histogram2d\"}], \"histogram2dcontour\": [{\"colorbar\": {\"outlinewidth\": 0, \"ticks\": \"\"}, \"colorscale\": [[0.0, \"#0d0887\"], [0.1111111111111111, \"#46039f\"], [0.2222222222222222, \"#7201a8\"], [0.3333333333333333, \"#9c179e\"], [0.4444444444444444, \"#bd3786\"], [0.5555555555555556, \"#d8576b\"], [0.6666666666666666, \"#ed7953\"], [0.7777777777777778, \"#fb9f3a\"], [0.8888888888888888, \"#fdca26\"], [1.0, \"#f0f921\"]], \"type\": \"histogram2dcontour\"}], \"mesh3d\": [{\"colorbar\": {\"outlinewidth\": 0, \"ticks\": \"\"}, \"type\": \"mesh3d\"}], \"parcoords\": [{\"line\": {\"colorbar\": {\"outlinewidth\": 0, \"ticks\": \"\"}}, \"type\": \"parcoords\"}], \"scatter\": [{\"marker\": {\"colorbar\": {\"outlinewidth\": 0, \"ticks\": \"\"}}, \"type\": \"scatter\"}], \"scatter3d\": [{\"line\": {\"colorbar\": {\"outlinewidth\": 0, \"ticks\": \"\"}}, \"marker\": {\"colorbar\": {\"outlinewidth\": 0, \"ticks\": \"\"}}, \"type\": \"scatter3d\"}], \"scattercarpet\": [{\"marker\": {\"colorbar\": {\"outlinewidth\": 0, \"ticks\": \"\"}}, \"type\": \"scattercarpet\"}], \"scattergeo\": [{\"marker\": {\"colorbar\": {\"outlinewidth\": 0, \"ticks\": \"\"}}, \"type\": \"scattergeo\"}], \"scattergl\": [{\"marker\": {\"colorbar\": {\"outlinewidth\": 0, \"ticks\": \"\"}}, \"type\": \"scattergl\"}], \"scattermapbox\": [{\"marker\": {\"colorbar\": {\"outlinewidth\": 0, \"ticks\": \"\"}}, \"type\": \"scattermapbox\"}], \"scatterpolar\": [{\"marker\": {\"colorbar\": {\"outlinewidth\": 0, \"ticks\": \"\"}}, \"type\": \"scatterpolar\"}], \"scatterpolargl\": [{\"marker\": {\"colorbar\": {\"outlinewidth\": 0, \"ticks\": \"\"}}, \"type\": \"scatterpolargl\"}], \"scatterternary\": [{\"marker\": {\"colorbar\": {\"outlinewidth\": 0, \"ticks\": \"\"}}, \"type\": \"scatterternary\"}], \"surface\": [{\"colorbar\": {\"outlinewidth\": 0, \"ticks\": \"\"}, \"colorscale\": [[0.0, \"#0d0887\"], [0.1111111111111111, \"#46039f\"], [0.2222222222222222, \"#7201a8\"], [0.3333333333333333, \"#9c179e\"], [0.4444444444444444, \"#bd3786\"], [0.5555555555555556, \"#d8576b\"], [0.6666666666666666, \"#ed7953\"], [0.7777777777777778, \"#fb9f3a\"], [0.8888888888888888, \"#fdca26\"], [1.0, \"#f0f921\"]], \"type\": \"surface\"}], \"table\": [{\"cells\": {\"fill\": {\"color\": \"#EBF0F8\"}, \"line\": {\"color\": \"white\"}}, \"header\": {\"fill\": {\"color\": \"#C8D4E3\"}, \"line\": {\"color\": \"white\"}}, \"type\": \"table\"}]}, \"layout\": {\"annotationdefaults\": {\"arrowcolor\": \"#2a3f5f\", \"arrowhead\": 0, \"arrowwidth\": 1}, \"colorscale\": {\"diverging\": [[0, \"#8e0152\"], [0.1, \"#c51b7d\"], [0.2, \"#de77ae\"], [0.3, \"#f1b6da\"], [0.4, \"#fde0ef\"], [0.5, \"#f7f7f7\"], [0.6, \"#e6f5d0\"], [0.7, \"#b8e186\"], [0.8, \"#7fbc41\"], [0.9, \"#4d9221\"], [1, \"#276419\"]], \"sequential\": [[0.0, \"#0d0887\"], [0.1111111111111111, \"#46039f\"], [0.2222222222222222, \"#7201a8\"], [0.3333333333333333, \"#9c179e\"], [0.4444444444444444, \"#bd3786\"], [0.5555555555555556, \"#d8576b\"], [0.6666666666666666, \"#ed7953\"], [0.7777777777777778, \"#fb9f3a\"], [0.8888888888888888, \"#fdca26\"], [1.0, \"#f0f921\"]], \"sequentialminus\": [[0.0, \"#0d0887\"], [0.1111111111111111, \"#46039f\"], [0.2222222222222222, \"#7201a8\"], [0.3333333333333333, \"#9c179e\"], [0.4444444444444444, \"#bd3786\"], [0.5555555555555556, \"#d8576b\"], [0.6666666666666666, \"#ed7953\"], [0.7777777777777778, \"#fb9f3a\"], [0.8888888888888888, \"#fdca26\"], [1.0, \"#f0f921\"]]}, \"colorway\": [\"#636efa\", \"#EF553B\", \"#00cc96\", \"#ab63fa\", \"#FFA15A\", \"#19d3f3\", \"#FF6692\", \"#B6E880\", \"#FF97FF\", \"#FECB52\"], \"font\": {\"color\": \"#2a3f5f\"}, \"geo\": {\"bgcolor\": \"white\", \"lakecolor\": \"white\", \"landcolor\": \"#E5ECF6\", \"showlakes\": true, \"showland\": true, \"subunitcolor\": \"white\"}, \"hoverlabel\": {\"align\": \"left\"}, \"hovermode\": \"closest\", \"mapbox\": {\"style\": \"light\"}, \"paper_bgcolor\": \"white\", \"plot_bgcolor\": \"#E5ECF6\", \"polar\": {\"angularaxis\": {\"gridcolor\": \"white\", \"linecolor\": \"white\", \"ticks\": \"\"}, \"bgcolor\": \"#E5ECF6\", \"radialaxis\": {\"gridcolor\": \"white\", \"linecolor\": \"white\", \"ticks\": \"\"}}, \"scene\": {\"xaxis\": {\"backgroundcolor\": \"#E5ECF6\", \"gridcolor\": \"white\", \"gridwidth\": 2, \"linecolor\": \"white\", \"showbackground\": true, \"ticks\": \"\", \"zerolinecolor\": \"white\"}, \"yaxis\": {\"backgroundcolor\": \"#E5ECF6\", \"gridcolor\": \"white\", \"gridwidth\": 2, \"linecolor\": \"white\", \"showbackground\": true, \"ticks\": \"\", \"zerolinecolor\": \"white\"}, \"zaxis\": {\"backgroundcolor\": \"#E5ECF6\", \"gridcolor\": \"white\", \"gridwidth\": 2, \"linecolor\": \"white\", \"showbackground\": true, \"ticks\": \"\", \"zerolinecolor\": \"white\"}}, \"shapedefaults\": {\"line\": {\"color\": \"#2a3f5f\"}}, \"ternary\": {\"aaxis\": {\"gridcolor\": \"white\", \"linecolor\": \"white\", \"ticks\": \"\"}, \"baxis\": {\"gridcolor\": \"white\", \"linecolor\": \"white\", \"ticks\": \"\"}, \"bgcolor\": \"#E5ECF6\", \"caxis\": {\"gridcolor\": \"white\", \"linecolor\": \"white\", \"ticks\": \"\"}}, \"title\": {\"x\": 0.05}, \"xaxis\": {\"automargin\": true, \"gridcolor\": \"white\", \"linecolor\": \"white\", \"ticks\": \"\", \"zerolinecolor\": \"white\", \"zerolinewidth\": 2}, \"yaxis\": {\"automargin\": true, \"gridcolor\": \"white\", \"linecolor\": \"white\", \"ticks\": \"\", \"zerolinecolor\": \"white\", \"zerolinewidth\": 2}}}, \"xaxis\": {\"anchor\": \"y\", \"domain\": [0.0, 0.98], \"title\": {\"text\": \"VORP\"}}, \"yaxis\": {\"anchor\": \"x\", \"domain\": [0.0, 1.0], \"title\": {\"text\": \"WS\"}}},\n",
       "                        {\"responsive\": true}\n",
       "                    ).then(function(){\n",
       "                            \n",
       "var gd = document.getElementById('0a54427f-8003-4f77-86e1-ba48e8fd407f');\n",
       "var x = new MutationObserver(function (mutations, observer) {{\n",
       "        var display = window.getComputedStyle(gd).display;\n",
       "        if (!display || display === 'none') {{\n",
       "            console.log([gd, 'removed!']);\n",
       "            Plotly.purge(gd);\n",
       "            observer.disconnect();\n",
       "        }}\n",
       "}});\n",
       "\n",
       "// Listen for the removal of the full notebook cells\n",
       "var notebookContainer = gd.closest('#notebook-container');\n",
       "if (notebookContainer) {{\n",
       "    x.observe(notebookContainer, {childList: true});\n",
       "}}\n",
       "\n",
       "// Listen for the clearing of the current output cell\n",
       "var outputEl = gd.closest('.output');\n",
       "if (outputEl) {{\n",
       "    x.observe(outputEl, {childList: true});\n",
       "}}\n",
       "\n",
       "                        })\n",
       "                };\n",
       "                });\n",
       "            </script>\n",
       "        </div>"
      ]
     },
     "metadata": {},
     "output_type": "display_data"
    },
    {
     "data": {
      "text/plain": [
       "'html_files/aggregated_ws_vorp.html'"
      ]
     },
     "execution_count": 181,
     "metadata": {},
     "output_type": "execute_result"
    }
   ],
   "source": [
    "fig = px.scatter(test_master_w_predictions, x='VORP', y='WS',\n",
    "            color='neural', hover_name='Player_name', hover_data=['USG%', 'PER', 'MP', 'VORP', 'Age'], \n",
    "#             color_continuous_scale='rdbu',\n",
    "            symbol='neural')\n",
    "fig.update_traces(marker=dict(size=10,\n",
    "                              line=dict(width=1,\n",
    "                                        color='DarkSlateGrey')),\n",
    "                  selector=dict(mode='markers'))\n",
    "# fig.update_xaxes(range=[-2, 7])\n",
    "fig.update_layout(legend_orientation=\"h\")\n",
    "fig.show()\n",
    "plotly.offline.plot(fig, filename='html_files/aggregated_ws_vorp.html')"
   ]
  },
  {
   "cell_type": "code",
   "execution_count": 182,
   "metadata": {},
   "outputs": [
    {
     "data": {
      "application/vnd.plotly.v1+json": {
       "config": {
        "plotlyServerURL": "https://plot.ly"
       },
       "data": [
        {
         "customdata": [
          [
           15.8,
           17.9,
           1913,
           2.4,
           21,
           6.5,
           2.4,
           6.8
          ],
          [
           15.9,
           18.5,
           2096,
           2.4,
           20,
           7,
           2.4,
           7.6
          ],
          [
           24.5,
           18.1,
           2546,
           2,
           21,
           3.3,
           2,
           5.6
          ],
          [
           23.8,
           14,
           2314,
           0.2,
           23,
           5.9,
           0.2,
           3.1
          ],
          [
           25.1,
           17.1,
           1682,
           0,
           21,
           8.2,
           0,
           2.7
          ],
          [
           31.6,
           17.2,
           2598,
           1.7,
           22,
           3.9,
           1.7,
           5
          ],
          [
           22.1,
           15.1,
           2455,
           0.8,
           20,
           5.5,
           0.8,
           5
          ],
          [
           22.8,
           16.1,
           2565,
           1.2,
           20,
           3.5,
           1.2,
           5.5
          ],
          [
           22.1,
           17.5,
           1810,
           0.8,
           21,
           6.8,
           0.8,
           4.7
          ],
          [
           22.3,
           20,
           2732,
           4.6,
           21,
           8.5,
           4.6,
           9.2
          ],
          [
           28.6,
           14.6,
           2730,
           -0.2,
           20,
           3.5,
           -0.2,
           2
          ],
          [
           17.6,
           19.2,
           1064,
           0.8,
           23,
           4.4,
           0.8,
           4.1
          ],
          [
           18.7,
           13.7,
           1761,
           0.4,
           22,
           5.9,
           0.4,
           2.6
          ],
          [
           18.6,
           18.6,
           1193,
           1.1,
           23,
           4.4,
           1.1,
           3.8
          ],
          [
           24.3,
           17.4,
           2164,
           1.2,
           21,
           7.1,
           1.2,
           4.5
          ],
          [
           26.6,
           15.3,
           1811,
           0.7,
           20,
           3.7,
           0.7,
           1.3
          ],
          [
           19.5,
           18.5,
           2541,
           2.8,
           20,
           6.7,
           2.8,
           8
          ]
         ],
         "hoverlabel": {
          "namelength": 0
         },
         "hovertemplate": "<b>%{hovertext}</b><br><br>neural=%{marker.color}<br>TS%=%{x}<br>USG%=%{customdata[0]}<br>PER=%{customdata[1]}<br>MP=%{customdata[2]}<br>VORP=%{customdata[6]}<br>Age=%{customdata[4]}<br>RPG=%{customdata[5]}<br>WS=%{customdata[7]}",
         "hovertext": [
          "Bam Adebayo",
          "Jarrett Allen",
          "De'Aaron Fox",
          "Kyle Kuzma",
          "Lauri Markkanen",
          "Donovan Mitchell",
          "Jayson Tatum",
          "Jamal Murray",
          "Domantas Sabonis",
          "Ben Simmons",
          "Devin Booker",
          "Montrezl Harrell",
          "Rondae Hollis-Jefferson",
          "Richaun Holmes",
          "Kristaps Porzingis",
          "D'Angelo Russell",
          "Myles Turner"
         ],
         "legendgroup": "neural=1",
         "marker": {
          "color": [
           1,
           1,
           1,
           1,
           1,
           1,
           1,
           1,
           1,
           1,
           1,
           1,
           1,
           1,
           1,
           1,
           1
          ],
          "coloraxis": "coloraxis",
          "line": {
           "color": "DarkSlateGrey",
           "width": 1
          },
          "size": 10,
          "symbol": "circle"
         },
         "mode": "markers",
         "name": "neural=1",
         "showlegend": true,
         "type": "scatter",
         "x": [
          0.623,
          0.632,
          0.544,
          0.546,
          0.5529999999999999,
          0.537,
          0.547,
          0.5760000000000001,
          0.5670000000000001,
          0.557,
          0.531,
          0.662,
          0.517,
          0.611,
          0.546,
          0.518,
          0.585
         ],
         "xaxis": "x",
         "y": [
          15.8,
          15.9,
          24.5,
          23.8,
          25.1,
          31.6,
          22.1,
          22.8,
          22.1,
          22.3,
          28.6,
          17.6,
          18.7,
          18.6,
          24.3,
          26.6,
          19.5
         ],
         "yaxis": "y"
        },
        {
         "customdata": [
          [
           19.6,
           16.2,
           416,
           0.1,
           26,
           1.7,
           0.1,
           1
          ],
          [
           29.1,
           -6,
           6,
           0,
           20,
           0.9,
           0,
           -0.1
          ],
          [
           15.5,
           9.8,
           1352,
           0.3,
           21,
           2.7,
           0.3,
           2
          ],
          [
           16.8,
           11.7,
           759,
           -0.3,
           23,
           2.2,
           -0.3,
           1.2
          ],
          [
           16.9,
           11.7,
           1423,
           0.9,
           21,
           6.2,
           0.9,
           1.6
          ],
          [
           13.7,
           12.9,
           788,
           0.3,
           24,
           3.1,
           0.3,
           1.6
          ],
          [
           12.2,
           10.2,
           439,
           -0.3,
           25,
           3.6,
           -0.3,
           0.3
          ],
          [
           13.8,
           12.7,
           639,
           0.5,
           23,
           3.8,
           0.5,
           1.4
          ],
          [
           23.6,
           19.6,
           36,
           0,
           21,
           2.2,
           0,
           0.1
          ],
          [
           20.9,
           7.6,
           330,
           -0.3,
           23,
           2.9,
           -0.3,
           0
          ],
          [
           15.2,
           10.9,
           1034,
           0.1,
           23,
           2.9,
           0.1,
           2.1
          ],
          [
           16.6,
           13.5,
           1356,
           0.7,
           21,
           3.8,
           0.7,
           2.9
          ],
          [
           17.9,
           7.8,
           251,
           -0.3,
           22,
           2.3,
           -0.3,
           -0.1
          ],
          [
           20.7,
           13.1,
           447,
           0,
           22,
           2.3,
           0,
           0.7
          ],
          [
           17.3,
           10.8,
           2004,
           -0.2,
           24,
           3,
           -0.2,
           1.5
          ],
          [
           12.7,
           0.7,
           64,
           -0.1,
           22,
           1.7,
           -0.1,
           -0.2
          ],
          [
           40.7,
           -38.1,
           1,
           0,
           22,
           1.7,
           0,
           0
          ],
          [
           10.6,
           6.4,
           1931,
           0,
           20,
           1.4,
           0,
           2.8
          ],
          [
           19.3,
           10.5,
           427,
           -0.1,
           20,
           3.4,
           -0.1,
           0.3
          ],
          [
           23.2,
           14.4,
           820,
           0,
           20,
           3.8,
           0,
           1
          ],
          [
           13.5,
           9.3,
           1715,
           0.6,
           23,
           3.9,
           0.6,
           2.1
          ],
          [
           11.8,
           10,
           221,
           0.1,
           20,
           1.7,
           0.1,
           0.5
          ],
          [
           16.3,
           13,
           1996,
           1.1,
           21,
           5,
           1.1,
           4
          ],
          [
           12.8,
           8.7,
           1233,
           -0.2,
           24,
           2.5,
           -0.2,
           1.9
          ],
          [
           18.5,
           9.4,
           1169,
           -0.9,
           20,
           2.2,
           -0.9,
           0.4
          ],
          [
           23.9,
           10.6,
           1988,
           -1.4,
           21,
           4.5,
           -1.4,
           -1.7
          ],
          [
           12.9,
           10.1,
           1083,
           0.1,
           23,
           2.7,
           0.1,
           1.6
          ],
          [
           17,
           13.9,
           531,
           0.1,
           23,
           2.7,
           0.1,
           1.3
          ],
          [
           18.1,
           11.9,
           1437,
           0.2,
           22,
           2.6,
           0.2,
           2.5
          ],
          [
           17.5,
           16.9,
           522,
           0.1,
           21,
           1.9,
           0.1,
           1.6
          ],
          [
           10.6,
           9.3,
           94,
           0,
           22,
           0.7,
           0,
           0.2
          ],
          [
           21.8,
           12.4,
           435,
           -0.3,
           24,
           1.9,
           -0.3,
           0.3
          ],
          [
           24.6,
           11.8,
           1258,
           -0.6,
           20,
           1.5,
           -0.6,
           0.3
          ],
          [
           17.1,
           16.2,
           1970,
           1.1,
           23,
           2.3,
           1.1,
           6.2
          ],
          [
           16.6,
           6,
           904,
           -0.8,
           20,
           2.2,
           -0.8,
           -0.8
          ],
          [
           14.1,
           8.5,
           594,
           -0.3,
           24,
           1.9,
           -0.3,
           0.7
          ],
          [
           15.7,
           10.5,
           21,
           0,
           21,
           1.5,
           0,
           0
          ],
          [
           17.2,
           16.1,
           721,
           0.2,
           21,
           4.3,
           0.2,
           2.1
          ],
          [
           12.1,
           8.1,
           47,
           0,
           23,
           1.5,
           0,
           0.1
          ],
          [
           23.3,
           11.5,
           908,
           -0.1,
           21,
           3.4,
           -0.1,
           0.2
          ],
          [
           27,
           13.5,
           600,
           -0.1,
           21,
           3.4,
           -0.1,
           -0.2
          ],
          [
           17.6,
           7.6,
           210,
           -0.1,
           23,
           1,
           -0.1,
           0.1
          ],
          [
           18.4,
           3.1,
           145,
           -0.3,
           21,
           2.5,
           -0.3,
           -0.3
          ],
          [
           14.9,
           11.7,
           33,
           0,
           21,
           2.5,
           0,
           0
          ],
          [
           11.3,
           5.2,
           313,
           -0.2,
           24,
           1.3,
           -0.2,
           0
          ],
          [
           17.7,
           14.8,
           1728,
           1.3,
           24,
           3.3,
           1.3,
           3.6
          ],
          [
           14.4,
           10.3,
           882,
           0.1,
           22,
           3.3,
           0.1,
           1.7
          ],
          [
           16.1,
           16.6,
           80,
           0,
           21,
           1.2,
           0,
           0.3
          ],
          [
           16.2,
           9,
           583,
           -0.5,
           21,
           1.7,
           -0.5,
           0.3
          ],
          [
           18.2,
           7.6,
           455,
           -0.3,
           23,
           3.3,
           -0.3,
           -0.4
          ],
          [
           12.7,
           7.1,
           2069,
           -0.4,
           20,
           3.8,
           -0.4,
           0.1
          ],
          [
           12.6,
           11.7,
           38,
           -0.1,
           24,
           1.5,
           -0.1,
           0.1
          ],
          [
           19.1,
           14.3,
           1436,
           0.2,
           25,
           3.5,
           0.2,
           2.7
          ],
          [
           21.4,
           13.6,
           2152,
           1,
           21,
           4,
           1,
           4.5
          ],
          [
           18.1,
           11.1,
           1527,
           0,
           20,
           4.5,
           0,
           0.7
          ],
          [
           15.3,
           16.6,
           943,
           0.3,
           21,
           3.2,
           0.3,
           2.7
          ],
          [
           17.4,
           17,
           581,
           -0.2,
           21,
           4.6,
           -0.2,
           1.9
          ],
          [
           24.7,
           14.5,
           1525,
           0.7,
           23,
           3.3,
           0.7,
           0.9
          ],
          [
           23.8,
           10.5,
           329,
           -0.4,
           21,
           2.5,
           -0.4,
           0.1
          ],
          [
           19.9,
           18.2,
           28,
           0,
           22,
           2.1,
           0,
           0.1
          ],
          [
           24.3,
           16.1,
           2024,
           0.9,
           25,
           4,
           0.9,
           2.8
          ],
          [
           22.2,
           13.8,
           1975,
           0.4,
           20,
           4.7,
           0.4,
           2.8
          ],
          [
           13.9,
           6.8,
           89,
           -0.1,
           22,
           2.3,
           -0.1,
           0.1
          ],
          [
           16.9,
           3.4,
           80,
           -0.1,
           20,
           1.9,
           -0.1,
           0
          ],
          [
           14.6,
           4.9,
           160,
           -0.1,
           23,
           1.8,
           -0.1,
           -0.1
          ],
          [
           22.5,
           14.2,
           1864,
           0.7,
           23,
           3.6,
           0.7,
           2.3
          ],
          [
           14.6,
           10.2,
           1238,
           -0.2,
           20,
           2.8,
           -0.2,
           1.5
          ],
          [
           12.8,
           7.4,
           961,
           -0.3,
           22,
           1.5,
           -0.3,
           0.6
          ],
          [
           20.7,
           15.1,
           1743,
           1.4,
           21,
           4.2,
           1.4,
           3.2
          ],
          [
           17.1,
           5.1,
           522,
           -0.5,
           24,
           1.7,
           -0.5,
           -0.1
          ],
          [
           20.9,
           9.2,
           32,
           0,
           24,
           1.2,
           0,
           0
          ],
          [
           16.1,
           -3.2,
           22,
           -0.1,
           21,
           2.3,
           -0.1,
           -0.1
          ],
          [
           23,
           9.1,
           28,
           0,
           24,
           0.8,
           0,
           0
          ],
          [
           16.8,
           1.9,
           124,
           -0.2,
           22,
           1.2,
           -0.2,
           -0.3
          ],
          [
           15.7,
           14.5,
           1679,
           1.7,
           23,
           5.1,
           1.7,
           4.7
          ],
          [
           18.5,
           10.1,
           1658,
           -1.3,
           22,
           1.7,
           -1.3,
           -0.2
          ],
          [
           17.5,
           12.1,
           2095,
           0.8,
           24,
           4.1,
           0.8,
           2.5
          ],
          [
           16.6,
           10.1,
           851,
           0,
           23,
           2.2,
           0,
           0.7
          ],
          [
           22.1,
           12.8,
           2464,
           0.8,
           23,
           3.8,
           0.8,
           2
          ],
          [
           28.5,
           11.5,
           180,
           -0.2,
           22,
           2.4,
           -0.2,
           -0.1
          ],
          [
           15.7,
           12.3,
           235,
           0.1,
           22,
           1.4,
           0.1,
           0.6
          ],
          [
           15.2,
           5.2,
           824,
           -0.8,
           23,
           2.6,
           -0.8,
           -0.6
          ],
          [
           18.8,
           24.2,
           214,
           0.1,
           21,
           4.2,
           0.1,
           1
          ],
          [
           17.6,
           15.3,
           410,
           0,
           20,
           4.6,
           0,
           1
          ],
          [
           19.7,
           16.3,
           1421,
           0.3,
           23,
           6.4,
           0.3,
           2.9
          ],
          [
           13.1,
           10.4,
           219,
           -0.1,
           25,
           1.9,
           -0.1,
           0.5
          ],
          [
           13,
           11.8,
           316,
           0,
           24,
           2.3,
           0,
           0.6
          ],
          [
           14.9,
           13.1,
           1419,
           0.3,
           22,
           3,
           0.3,
           3.1
          ],
          [
           16,
           13.2,
           1028,
           0.4,
           24,
           1.9,
           0.4,
           2.5
          ],
          [
           16.4,
           8.7,
           1474,
           -0.2,
           22,
           2,
           -0.2,
           1.6
          ],
          [
           20.3,
           19,
           1324,
           0.7,
           22,
           5.6,
           0.7,
           3.4
          ],
          [
           18.8,
           7.2,
           960,
           -0.9,
           21,
           3,
           -0.9,
           -0.7
          ],
          [
           19.3,
           5.9,
           381,
           -0.4,
           23,
           0.9,
           -0.4,
           -0.2
          ],
          [
           4.8,
           -3.2,
           9,
           0,
           23,
           1,
           0,
           0
          ],
          [
           14.8,
           7.2,
           1371,
           0,
           20,
           3.4,
           0,
           0.4
          ],
          [
           13.6,
           13.8,
           774,
           0,
           20,
           1.5,
           0,
           1.5
          ],
          [
           21.8,
           13,
           1954,
           0.2,
           23,
           4,
           0.2,
           2.3
          ],
          [
           13.4,
           13.6,
           447,
           0.3,
           20,
           3.8,
           0.3,
           1.4
          ],
          [
           21.7,
           9.9,
           1158,
           -0.3,
           21,
           3.9,
           -0.3,
           0.8
          ],
          [
           16.4,
           8.7,
           558,
           -0.6,
           22,
           3.5,
           -0.6,
           0.6
          ],
          [
           15.5,
           9.8,
           141,
           -0.1,
           22,
           2,
           -0.1,
           0.1
          ],
          [
           22.6,
           10.9,
           1406,
           -0.6,
           20,
           3.1,
           -0.6,
           0.2
          ],
          [
           13.4,
           15.7,
           1442,
           1.4,
           24,
           6.5,
           1.4,
           3.5
          ],
          [
           24.1,
           14.8,
           1134,
           -0.4,
           21,
           5.1,
           -0.4,
           1.2
          ],
          [
           14.6,
           9.1,
           1605,
           -0.1,
           21,
           3.7,
           -0.1,
           2
          ],
          [
           19.1,
           14.9,
           1000,
           -0.3,
           21,
           6.2,
           -0.3,
           2.4
          ],
          [
           21.1,
           14,
           1368,
           0.2,
           23,
           2.1,
           0.2,
           2.8
          ],
          [
           16.8,
           10.7,
           1614,
           0.9,
           23,
           3.2,
           0.9,
           2.2
          ],
          [
           17.1,
           10.9,
           1263,
           -0.2,
           22,
           3.6,
           -0.2,
           1.4
          ],
          [
           17.2,
           7.8,
           458,
           -0.3,
           20,
           1.1,
           -0.3,
           0
          ],
          [
           19.8,
           8.2,
           625,
           -0.1,
           20,
           5.3,
           -0.1,
           -0.1
          ],
          [
           16.6,
           15,
           446,
           0.4,
           24,
           2.8,
           0.4,
           1.1
          ],
          [
           27.8,
           11.4,
           135,
           -0.2,
           24,
           1,
           -0.2,
           -0.1
          ]
         ],
         "hoverlabel": {
          "namelength": 0
         },
         "hovertemplate": "<b>%{hovertext}</b><br><br>neural=%{marker.color}<br>TS%=%{x}<br>USG%=%{customdata[0]}<br>PER=%{customdata[1]}<br>MP=%{customdata[2]}<br>VORP=%{customdata[6]}<br>Age=%{customdata[4]}<br>RPG=%{customdata[5]}<br>WS=%{customdata[7]}",
         "hovertext": [
          "Kadeem Allen",
          "Ike Anigbogu",
          "OG Anunoby",
          "Dwayne Bacon",
          "Lonzo Ball",
          "Jordan Bell",
          "Jaron Blossomgame",
          "Jonah Bolden",
          "Tony Bradley",
          "Dillon Brooks",
          "Sterling Brown",
          "Zach Collins",
          "Tyler Dorsey",
          "Tyler Dorsey",
          "Damyean Dotson",
          "Jawun Evans",
          "Jawun Evans",
          "Terrance Ferguson",
          "Markelle Fultz",
          "Harry Giles",
          "Josh Hart",
          "Isaiah Hartenstein",
          "Jonathan Isaac",
          "Wesley Iwundu",
          "Frank Jackson",
          "Josh Jackson",
          "Justin Jackson",
          "Justin Jackson",
          "Luke Kennard",
          "T.J. Leaf",
          "Tyler Lydon",
          "Frank Mason",
          "Malik Monk",
          "Monte Morris",
          "Frank Ntilikina",
          "Semi Ojeleye",
          "Justin Patton",
          "Ivan Rabb",
          "Davon Reed",
          "Dennis Smith",
          "Dennis Smith",
          "Edmond Sumner",
          "Caleb Swanigan",
          "Caleb Swanigan",
          "Sindarius Thornwell",
          "Derrick White",
          "D.J. Wilson",
          "Wade Baldwin",
          "Malik Beasley",
          "DeAndre' Bembry",
          "Dragan Bender",
          "Joel Bolomboy",
          "Malcolm Brogdon",
          "Jaylen Brown",
          "Marquese Chriss",
          "Deyonta Davis",
          "Cheick Diallo",
          "Kris Dunn",
          "Henry Ellenson",
          "Daniel Hamilton",
          "Buddy Hield",
          "Brandon Ingram",
          "Damian Jones",
          "Furkan Korkmaz",
          "Jake Layman",
          "Caris LeVert",
          "Thon Maker",
          "Patrick McCaw",
          "Dejounte Murray",
          "Abdel Nader",
          "Georges Niang",
          "Chinanu Onuaku",
          "Marcus Paige",
          "Zhou Qi",
          "Pascal Siakam",
          "Tyler Ulis",
          "Denzel Valentine",
          "Tyrone Wallace",
          "Taurean Waller-Prince",
          "Isaiah Whitehead",
          "Guerschon Yabusele",
          "Paul Zipser",
          "Ante Žižić",
          "Ivica Zubac",
          "Willie Cauley-Stein",
          "Rakeem Christmas",
          "Pat Connaughton",
          "Sam Dekker",
          "Jerian Grant",
          "Andrew Harrison",
          "Willy Hernangomez",
          "Mario Hezonja",
          "Darrun Hilliard",
          "R.J. Hunter",
          "Stanley Johnson",
          "Tyus Jones",
          "Frank Kaminsky",
          "Kevon Looney",
          "Trey Lyles",
          "Jarell Martin",
          "Jordan Mickey",
          "Emmanuel Mudiay",
          "Larry Nance",
          "Jahlil Okafor",
          "Kelly Oubre",
          "Bobby Portis",
          "Norman Powell",
          "Josh Richardson",
          "Terry Rozier",
          "Rashad Vaughn",
          "Justise Winslow",
          "Delon Wright",
          "Joe Young"
         ],
         "legendgroup": "neural=0",
         "marker": {
          "color": [
           0,
           0,
           0,
           0,
           0,
           0,
           0,
           0,
           0,
           0,
           0,
           0,
           0,
           0,
           0,
           0,
           0,
           0,
           0,
           0,
           0,
           0,
           0,
           0,
           0,
           0,
           0,
           0,
           0,
           0,
           0,
           0,
           0,
           0,
           0,
           0,
           0,
           0,
           0,
           0,
           0,
           0,
           0,
           0,
           0,
           0,
           0,
           0,
           0,
           0,
           0,
           0,
           0,
           0,
           0,
           0,
           0,
           0,
           0,
           0,
           0,
           0,
           0,
           0,
           0,
           0,
           0,
           0,
           0,
           0,
           0,
           0,
           0,
           0,
           0,
           0,
           0,
           0,
           0,
           0,
           0,
           0,
           0,
           0,
           0,
           0,
           0,
           0,
           0,
           0,
           0,
           0,
           0,
           0,
           0,
           0,
           0,
           0,
           0,
           0,
           0,
           0,
           0,
           0,
           0,
           0,
           0,
           0,
           0,
           0,
           0,
           0,
           0
          ],
          "coloraxis": "coloraxis",
          "line": {
           "color": "DarkSlateGrey",
           "width": 1
          },
          "size": 10,
          "symbol": "diamond"
         },
         "mode": "markers",
         "name": "neural=0",
         "showlegend": true,
         "type": "scatter",
         "x": [
          0.574,
          0,
          0.544,
          0.57,
          0.48700000000000004,
          0.531,
          0.51,
          0.595,
          0.504,
          0.499,
          0.563,
          0.562,
          0.44799999999999995,
          0.541,
          0.526,
          0.231,
          0,
          0.5660000000000001,
          0.452,
          0.526,
          0.526,
          0.562,
          0.537,
          0.531,
          0.517,
          0.48700000000000004,
          0.546,
          0.584,
          0.56,
          0.5720000000000001,
          0.595,
          0.502,
          0.518,
          0.5770000000000001,
          0.41700000000000004,
          0.531,
          0.317,
          0.586,
          0.5,
          0.527,
          0.473,
          0.44299999999999995,
          0.37200000000000005,
          0.405,
          0.485,
          0.555,
          0.515,
          0.748,
          0.509,
          0.47700000000000004,
          0.524,
          0.521,
          0.578,
          0.562,
          0.509,
          0.621,
          0.619,
          0.488,
          0.47600000000000003,
          0.545,
          0.557,
          0.536,
          0.517,
          0.386,
          0.35200000000000004,
          0.525,
          0.499,
          0.47700000000000004,
          0.485,
          0.439,
          0.379,
          0.4,
          0.40299999999999997,
          0.295,
          0.5489999999999999,
          0.465,
          0.527,
          0.517,
          0.5489999999999999,
          0.53,
          0.5589999999999999,
          0.445,
          0.746,
          0.557,
          0.5579999999999999,
          0.529,
          0.645,
          0.5489999999999999,
          0.555,
          0.47700000000000004,
          0.564,
          0.45,
          0.45899999999999996,
          0,
          0.436,
          0.523,
          0.502,
          0.5529999999999999,
          0.46399999999999997,
          0.47700000000000004,
          0.473,
          0.483,
          0.5670000000000001,
          0.546,
          0.516,
          0.545,
          0.552,
          0.493,
          0.466,
          0.449,
          0.39899999999999997,
          0.535,
          0.433
         ],
         "xaxis": "x",
         "y": [
          19.6,
          29.1,
          15.5,
          16.8,
          16.9,
          13.7,
          12.2,
          13.8,
          23.6,
          20.9,
          15.2,
          16.6,
          17.9,
          20.7,
          17.3,
          12.7,
          40.7,
          10.6,
          19.3,
          23.2,
          13.5,
          11.8,
          16.3,
          12.8,
          18.5,
          23.9,
          12.9,
          17,
          18.1,
          17.5,
          10.6,
          21.8,
          24.6,
          17.1,
          16.6,
          14.1,
          15.7,
          17.2,
          12.1,
          23.3,
          27,
          17.6,
          18.4,
          14.9,
          11.3,
          17.7,
          14.4,
          16.1,
          16.2,
          18.2,
          12.7,
          12.6,
          19.1,
          21.4,
          18.1,
          15.3,
          17.4,
          24.7,
          23.8,
          19.9,
          24.3,
          22.2,
          13.9,
          16.9,
          14.6,
          22.5,
          14.6,
          12.8,
          20.7,
          17.1,
          20.9,
          16.1,
          23,
          16.8,
          15.7,
          18.5,
          17.5,
          16.6,
          22.1,
          28.5,
          15.7,
          15.2,
          18.8,
          17.6,
          19.7,
          13.1,
          13,
          14.9,
          16,
          16.4,
          20.3,
          18.8,
          19.3,
          4.8,
          14.8,
          13.6,
          21.8,
          13.4,
          21.7,
          16.4,
          15.5,
          22.6,
          13.4,
          24.1,
          14.6,
          19.1,
          21.1,
          16.8,
          17.1,
          17.2,
          19.8,
          16.6,
          27.8
         ],
         "yaxis": "y"
        }
       ],
       "layout": {
        "coloraxis": {
         "colorbar": {
          "title": {
           "text": "neural"
          }
         },
         "colorscale": [
          [
           0,
           "rgb(142,1,82)"
          ],
          [
           0.1,
           "rgb(197,27,125)"
          ],
          [
           0.2,
           "rgb(222,119,174)"
          ],
          [
           0.3,
           "rgb(241,182,218)"
          ],
          [
           0.4,
           "rgb(253,224,239)"
          ],
          [
           0.5,
           "rgb(247,247,247)"
          ],
          [
           0.6,
           "rgb(230,245,208)"
          ],
          [
           0.7,
           "rgb(184,225,134)"
          ],
          [
           0.8,
           "rgb(127,188,65)"
          ],
          [
           0.9,
           "rgb(77,146,33)"
          ],
          [
           1,
           "rgb(39,100,25)"
          ]
         ]
        },
        "height": 600,
        "legend": {
         "orientation": "h",
         "tracegroupgap": 0
        },
        "margin": {
         "t": 60
        },
        "template": {
         "data": {
          "bar": [
           {
            "error_x": {
             "color": "#2a3f5f"
            },
            "error_y": {
             "color": "#2a3f5f"
            },
            "marker": {
             "line": {
              "color": "#E5ECF6",
              "width": 0.5
             }
            },
            "type": "bar"
           }
          ],
          "barpolar": [
           {
            "marker": {
             "line": {
              "color": "#E5ECF6",
              "width": 0.5
             }
            },
            "type": "barpolar"
           }
          ],
          "carpet": [
           {
            "aaxis": {
             "endlinecolor": "#2a3f5f",
             "gridcolor": "white",
             "linecolor": "white",
             "minorgridcolor": "white",
             "startlinecolor": "#2a3f5f"
            },
            "baxis": {
             "endlinecolor": "#2a3f5f",
             "gridcolor": "white",
             "linecolor": "white",
             "minorgridcolor": "white",
             "startlinecolor": "#2a3f5f"
            },
            "type": "carpet"
           }
          ],
          "choropleth": [
           {
            "colorbar": {
             "outlinewidth": 0,
             "ticks": ""
            },
            "type": "choropleth"
           }
          ],
          "contour": [
           {
            "colorbar": {
             "outlinewidth": 0,
             "ticks": ""
            },
            "colorscale": [
             [
              0,
              "#0d0887"
             ],
             [
              0.1111111111111111,
              "#46039f"
             ],
             [
              0.2222222222222222,
              "#7201a8"
             ],
             [
              0.3333333333333333,
              "#9c179e"
             ],
             [
              0.4444444444444444,
              "#bd3786"
             ],
             [
              0.5555555555555556,
              "#d8576b"
             ],
             [
              0.6666666666666666,
              "#ed7953"
             ],
             [
              0.7777777777777778,
              "#fb9f3a"
             ],
             [
              0.8888888888888888,
              "#fdca26"
             ],
             [
              1,
              "#f0f921"
             ]
            ],
            "type": "contour"
           }
          ],
          "contourcarpet": [
           {
            "colorbar": {
             "outlinewidth": 0,
             "ticks": ""
            },
            "type": "contourcarpet"
           }
          ],
          "heatmap": [
           {
            "colorbar": {
             "outlinewidth": 0,
             "ticks": ""
            },
            "colorscale": [
             [
              0,
              "#0d0887"
             ],
             [
              0.1111111111111111,
              "#46039f"
             ],
             [
              0.2222222222222222,
              "#7201a8"
             ],
             [
              0.3333333333333333,
              "#9c179e"
             ],
             [
              0.4444444444444444,
              "#bd3786"
             ],
             [
              0.5555555555555556,
              "#d8576b"
             ],
             [
              0.6666666666666666,
              "#ed7953"
             ],
             [
              0.7777777777777778,
              "#fb9f3a"
             ],
             [
              0.8888888888888888,
              "#fdca26"
             ],
             [
              1,
              "#f0f921"
             ]
            ],
            "type": "heatmap"
           }
          ],
          "heatmapgl": [
           {
            "colorbar": {
             "outlinewidth": 0,
             "ticks": ""
            },
            "colorscale": [
             [
              0,
              "#0d0887"
             ],
             [
              0.1111111111111111,
              "#46039f"
             ],
             [
              0.2222222222222222,
              "#7201a8"
             ],
             [
              0.3333333333333333,
              "#9c179e"
             ],
             [
              0.4444444444444444,
              "#bd3786"
             ],
             [
              0.5555555555555556,
              "#d8576b"
             ],
             [
              0.6666666666666666,
              "#ed7953"
             ],
             [
              0.7777777777777778,
              "#fb9f3a"
             ],
             [
              0.8888888888888888,
              "#fdca26"
             ],
             [
              1,
              "#f0f921"
             ]
            ],
            "type": "heatmapgl"
           }
          ],
          "histogram": [
           {
            "marker": {
             "colorbar": {
              "outlinewidth": 0,
              "ticks": ""
             }
            },
            "type": "histogram"
           }
          ],
          "histogram2d": [
           {
            "colorbar": {
             "outlinewidth": 0,
             "ticks": ""
            },
            "colorscale": [
             [
              0,
              "#0d0887"
             ],
             [
              0.1111111111111111,
              "#46039f"
             ],
             [
              0.2222222222222222,
              "#7201a8"
             ],
             [
              0.3333333333333333,
              "#9c179e"
             ],
             [
              0.4444444444444444,
              "#bd3786"
             ],
             [
              0.5555555555555556,
              "#d8576b"
             ],
             [
              0.6666666666666666,
              "#ed7953"
             ],
             [
              0.7777777777777778,
              "#fb9f3a"
             ],
             [
              0.8888888888888888,
              "#fdca26"
             ],
             [
              1,
              "#f0f921"
             ]
            ],
            "type": "histogram2d"
           }
          ],
          "histogram2dcontour": [
           {
            "colorbar": {
             "outlinewidth": 0,
             "ticks": ""
            },
            "colorscale": [
             [
              0,
              "#0d0887"
             ],
             [
              0.1111111111111111,
              "#46039f"
             ],
             [
              0.2222222222222222,
              "#7201a8"
             ],
             [
              0.3333333333333333,
              "#9c179e"
             ],
             [
              0.4444444444444444,
              "#bd3786"
             ],
             [
              0.5555555555555556,
              "#d8576b"
             ],
             [
              0.6666666666666666,
              "#ed7953"
             ],
             [
              0.7777777777777778,
              "#fb9f3a"
             ],
             [
              0.8888888888888888,
              "#fdca26"
             ],
             [
              1,
              "#f0f921"
             ]
            ],
            "type": "histogram2dcontour"
           }
          ],
          "mesh3d": [
           {
            "colorbar": {
             "outlinewidth": 0,
             "ticks": ""
            },
            "type": "mesh3d"
           }
          ],
          "parcoords": [
           {
            "line": {
             "colorbar": {
              "outlinewidth": 0,
              "ticks": ""
             }
            },
            "type": "parcoords"
           }
          ],
          "scatter": [
           {
            "marker": {
             "colorbar": {
              "outlinewidth": 0,
              "ticks": ""
             }
            },
            "type": "scatter"
           }
          ],
          "scatter3d": [
           {
            "line": {
             "colorbar": {
              "outlinewidth": 0,
              "ticks": ""
             }
            },
            "marker": {
             "colorbar": {
              "outlinewidth": 0,
              "ticks": ""
             }
            },
            "type": "scatter3d"
           }
          ],
          "scattercarpet": [
           {
            "marker": {
             "colorbar": {
              "outlinewidth": 0,
              "ticks": ""
             }
            },
            "type": "scattercarpet"
           }
          ],
          "scattergeo": [
           {
            "marker": {
             "colorbar": {
              "outlinewidth": 0,
              "ticks": ""
             }
            },
            "type": "scattergeo"
           }
          ],
          "scattergl": [
           {
            "marker": {
             "colorbar": {
              "outlinewidth": 0,
              "ticks": ""
             }
            },
            "type": "scattergl"
           }
          ],
          "scattermapbox": [
           {
            "marker": {
             "colorbar": {
              "outlinewidth": 0,
              "ticks": ""
             }
            },
            "type": "scattermapbox"
           }
          ],
          "scatterpolar": [
           {
            "marker": {
             "colorbar": {
              "outlinewidth": 0,
              "ticks": ""
             }
            },
            "type": "scatterpolar"
           }
          ],
          "scatterpolargl": [
           {
            "marker": {
             "colorbar": {
              "outlinewidth": 0,
              "ticks": ""
             }
            },
            "type": "scatterpolargl"
           }
          ],
          "scatterternary": [
           {
            "marker": {
             "colorbar": {
              "outlinewidth": 0,
              "ticks": ""
             }
            },
            "type": "scatterternary"
           }
          ],
          "surface": [
           {
            "colorbar": {
             "outlinewidth": 0,
             "ticks": ""
            },
            "colorscale": [
             [
              0,
              "#0d0887"
             ],
             [
              0.1111111111111111,
              "#46039f"
             ],
             [
              0.2222222222222222,
              "#7201a8"
             ],
             [
              0.3333333333333333,
              "#9c179e"
             ],
             [
              0.4444444444444444,
              "#bd3786"
             ],
             [
              0.5555555555555556,
              "#d8576b"
             ],
             [
              0.6666666666666666,
              "#ed7953"
             ],
             [
              0.7777777777777778,
              "#fb9f3a"
             ],
             [
              0.8888888888888888,
              "#fdca26"
             ],
             [
              1,
              "#f0f921"
             ]
            ],
            "type": "surface"
           }
          ],
          "table": [
           {
            "cells": {
             "fill": {
              "color": "#EBF0F8"
             },
             "line": {
              "color": "white"
             }
            },
            "header": {
             "fill": {
              "color": "#C8D4E3"
             },
             "line": {
              "color": "white"
             }
            },
            "type": "table"
           }
          ]
         },
         "layout": {
          "annotationdefaults": {
           "arrowcolor": "#2a3f5f",
           "arrowhead": 0,
           "arrowwidth": 1
          },
          "colorscale": {
           "diverging": [
            [
             0,
             "#8e0152"
            ],
            [
             0.1,
             "#c51b7d"
            ],
            [
             0.2,
             "#de77ae"
            ],
            [
             0.3,
             "#f1b6da"
            ],
            [
             0.4,
             "#fde0ef"
            ],
            [
             0.5,
             "#f7f7f7"
            ],
            [
             0.6,
             "#e6f5d0"
            ],
            [
             0.7,
             "#b8e186"
            ],
            [
             0.8,
             "#7fbc41"
            ],
            [
             0.9,
             "#4d9221"
            ],
            [
             1,
             "#276419"
            ]
           ],
           "sequential": [
            [
             0,
             "#0d0887"
            ],
            [
             0.1111111111111111,
             "#46039f"
            ],
            [
             0.2222222222222222,
             "#7201a8"
            ],
            [
             0.3333333333333333,
             "#9c179e"
            ],
            [
             0.4444444444444444,
             "#bd3786"
            ],
            [
             0.5555555555555556,
             "#d8576b"
            ],
            [
             0.6666666666666666,
             "#ed7953"
            ],
            [
             0.7777777777777778,
             "#fb9f3a"
            ],
            [
             0.8888888888888888,
             "#fdca26"
            ],
            [
             1,
             "#f0f921"
            ]
           ],
           "sequentialminus": [
            [
             0,
             "#0d0887"
            ],
            [
             0.1111111111111111,
             "#46039f"
            ],
            [
             0.2222222222222222,
             "#7201a8"
            ],
            [
             0.3333333333333333,
             "#9c179e"
            ],
            [
             0.4444444444444444,
             "#bd3786"
            ],
            [
             0.5555555555555556,
             "#d8576b"
            ],
            [
             0.6666666666666666,
             "#ed7953"
            ],
            [
             0.7777777777777778,
             "#fb9f3a"
            ],
            [
             0.8888888888888888,
             "#fdca26"
            ],
            [
             1,
             "#f0f921"
            ]
           ]
          },
          "colorway": [
           "#636efa",
           "#EF553B",
           "#00cc96",
           "#ab63fa",
           "#FFA15A",
           "#19d3f3",
           "#FF6692",
           "#B6E880",
           "#FF97FF",
           "#FECB52"
          ],
          "font": {
           "color": "#2a3f5f"
          },
          "geo": {
           "bgcolor": "white",
           "lakecolor": "white",
           "landcolor": "#E5ECF6",
           "showlakes": true,
           "showland": true,
           "subunitcolor": "white"
          },
          "hoverlabel": {
           "align": "left"
          },
          "hovermode": "closest",
          "mapbox": {
           "style": "light"
          },
          "paper_bgcolor": "white",
          "plot_bgcolor": "#E5ECF6",
          "polar": {
           "angularaxis": {
            "gridcolor": "white",
            "linecolor": "white",
            "ticks": ""
           },
           "bgcolor": "#E5ECF6",
           "radialaxis": {
            "gridcolor": "white",
            "linecolor": "white",
            "ticks": ""
           }
          },
          "scene": {
           "xaxis": {
            "backgroundcolor": "#E5ECF6",
            "gridcolor": "white",
            "gridwidth": 2,
            "linecolor": "white",
            "showbackground": true,
            "ticks": "",
            "zerolinecolor": "white"
           },
           "yaxis": {
            "backgroundcolor": "#E5ECF6",
            "gridcolor": "white",
            "gridwidth": 2,
            "linecolor": "white",
            "showbackground": true,
            "ticks": "",
            "zerolinecolor": "white"
           },
           "zaxis": {
            "backgroundcolor": "#E5ECF6",
            "gridcolor": "white",
            "gridwidth": 2,
            "linecolor": "white",
            "showbackground": true,
            "ticks": "",
            "zerolinecolor": "white"
           }
          },
          "shapedefaults": {
           "line": {
            "color": "#2a3f5f"
           }
          },
          "ternary": {
           "aaxis": {
            "gridcolor": "white",
            "linecolor": "white",
            "ticks": ""
           },
           "baxis": {
            "gridcolor": "white",
            "linecolor": "white",
            "ticks": ""
           },
           "bgcolor": "#E5ECF6",
           "caxis": {
            "gridcolor": "white",
            "linecolor": "white",
            "ticks": ""
           }
          },
          "title": {
           "x": 0.05
          },
          "xaxis": {
           "automargin": true,
           "gridcolor": "white",
           "linecolor": "white",
           "ticks": "",
           "zerolinecolor": "white",
           "zerolinewidth": 2
          },
          "yaxis": {
           "automargin": true,
           "gridcolor": "white",
           "linecolor": "white",
           "ticks": "",
           "zerolinecolor": "white",
           "zerolinewidth": 2
          }
         }
        },
        "xaxis": {
         "anchor": "y",
         "domain": [
          0,
          0.98
         ],
         "title": {
          "text": "TS%"
         }
        },
        "yaxis": {
         "anchor": "x",
         "domain": [
          0,
          1
         ],
         "title": {
          "text": "USG%"
         }
        }
       }
      },
      "text/html": [
       "<div>\n",
       "        \n",
       "        \n",
       "            <div id=\"95a8f6fd-2f47-447b-876f-1b7351a1543b\" class=\"plotly-graph-div\" style=\"height:600px; width:100%;\"></div>\n",
       "            <script type=\"text/javascript\">\n",
       "                require([\"plotly\"], function(Plotly) {\n",
       "                    window.PLOTLYENV=window.PLOTLYENV || {};\n",
       "                    \n",
       "                if (document.getElementById(\"95a8f6fd-2f47-447b-876f-1b7351a1543b\")) {\n",
       "                    Plotly.newPlot(\n",
       "                        '95a8f6fd-2f47-447b-876f-1b7351a1543b',\n",
       "                        [{\"customdata\": [[15.8, 17.9, 1913.0, 2.4, 21.0, 6.5, 2.4, 6.8], [15.9, 18.5, 2096.0, 2.4, 20.0, 7.0, 2.4, 7.6], [24.5, 18.1, 2546.0, 2.0, 21.0, 3.3, 2.0, 5.6], [23.8, 14.0, 2314.0, 0.2, 23.0, 5.9, 0.2, 3.1], [25.1, 17.1, 1682.0, 0.0, 21.0, 8.2, 0.0, 2.7], [31.6, 17.2, 2598.0, 1.7, 22.0, 3.9, 1.7, 5.0], [22.1, 15.1, 2455.0, 0.8, 20.0, 5.5, 0.8, 5.0], [22.8, 16.1, 2565.0, 1.2, 20.0, 3.5, 1.2, 5.5], [22.1, 17.5, 1810.0, 0.8, 21.0, 6.8, 0.8, 4.7], [22.3, 20.0, 2732.0, 4.6, 21.0, 8.5, 4.6, 9.2], [28.6, 14.6, 2730.0, -0.2, 20.0, 3.5, -0.2, 2.0], [17.6, 19.2, 1064.0, 0.8, 23.0, 4.4, 0.8, 4.1], [18.7, 13.7, 1761.0, 0.4, 22.0, 5.9, 0.4, 2.6], [18.6, 18.6, 1193.0, 1.1, 23.0, 4.4, 1.1, 3.8], [24.3, 17.4, 2164.0, 1.2, 21.0, 7.1, 1.2, 4.5], [26.6, 15.3, 1811.0, 0.7, 20.0, 3.7, 0.7, 1.3], [19.5, 18.5, 2541.0, 2.8, 20.0, 6.7, 2.8, 8.0]], \"hoverlabel\": {\"namelength\": 0}, \"hovertemplate\": \"<b>%{hovertext}</b><br><br>neural=%{marker.color}<br>TS%=%{x}<br>USG%=%{customdata[0]}<br>PER=%{customdata[1]}<br>MP=%{customdata[2]}<br>VORP=%{customdata[6]}<br>Age=%{customdata[4]}<br>RPG=%{customdata[5]}<br>WS=%{customdata[7]}\", \"hovertext\": [\"Bam Adebayo\", \"Jarrett Allen\", \"De'Aaron Fox\", \"Kyle Kuzma\", \"Lauri Markkanen\", \"Donovan Mitchell\", \"Jayson Tatum\", \"Jamal Murray\", \"Domantas Sabonis\", \"Ben Simmons\", \"Devin Booker\", \"Montrezl Harrell\", \"Rondae Hollis-Jefferson\", \"Richaun Holmes\", \"Kristaps Porzingis\", \"D'Angelo Russell\", \"Myles Turner\"], \"legendgroup\": \"neural=1\", \"marker\": {\"color\": [1, 1, 1, 1, 1, 1, 1, 1, 1, 1, 1, 1, 1, 1, 1, 1, 1], \"coloraxis\": \"coloraxis\", \"line\": {\"color\": \"DarkSlateGrey\", \"width\": 1}, \"size\": 10, \"symbol\": \"circle\"}, \"mode\": \"markers\", \"name\": \"neural=1\", \"showlegend\": true, \"type\": \"scatter\", \"x\": [0.623, 0.632, 0.544, 0.546, 0.5529999999999999, 0.537, 0.547, 0.5760000000000001, 0.5670000000000001, 0.557, 0.531, 0.662, 0.517, 0.611, 0.546, 0.518, 0.585], \"xaxis\": \"x\", \"y\": [15.8, 15.9, 24.5, 23.8, 25.1, 31.6, 22.1, 22.8, 22.1, 22.3, 28.6, 17.6, 18.7, 18.6, 24.3, 26.6, 19.5], \"yaxis\": \"y\"}, {\"customdata\": [[19.6, 16.2, 416.0, 0.1, 26.0, 1.7, 0.1, 1.0], [29.1, -6.0, 6.0, 0.0, 20.0, 0.9, 0.0, -0.1], [15.5, 9.8, 1352.0, 0.3, 21.0, 2.7, 0.3, 2.0], [16.8, 11.7, 759.0, -0.3, 23.0, 2.2, -0.3, 1.2], [16.9, 11.7, 1423.0, 0.9, 21.0, 6.2, 0.9, 1.6], [13.7, 12.9, 788.0, 0.3, 24.0, 3.1, 0.3, 1.6], [12.2, 10.2, 439.0, -0.3, 25.0, 3.6, -0.3, 0.3], [13.8, 12.7, 639.0, 0.5, 23.0, 3.8, 0.5, 1.4], [23.6, 19.6, 36.0, 0.0, 21.0, 2.2, 0.0, 0.1], [20.9, 7.6, 330.0, -0.3, 23.0, 2.9, -0.3, 0.0], [15.2, 10.9, 1034.0, 0.1, 23.0, 2.9, 0.1, 2.1], [16.6, 13.5, 1356.0, 0.7, 21.0, 3.8, 0.7, 2.9], [17.9, 7.8, 251.0, -0.3, 22.0, 2.3, -0.3, -0.1], [20.7, 13.1, 447.0, 0.0, 22.0, 2.3, 0.0, 0.7], [17.3, 10.8, 2004.0, -0.2, 24.0, 3.0, -0.2, 1.5], [12.7, 0.7, 64.0, -0.1, 22.0, 1.7, -0.1, -0.2], [40.7, -38.1, 1.0, 0.0, 22.0, 1.7, 0.0, 0.0], [10.6, 6.4, 1931.0, 0.0, 20.0, 1.4, 0.0, 2.8], [19.3, 10.5, 427.0, -0.1, 20.0, 3.4, -0.1, 0.3], [23.2, 14.4, 820.0, 0.0, 20.0, 3.8, 0.0, 1.0], [13.5, 9.3, 1715.0, 0.6, 23.0, 3.9, 0.6, 2.1], [11.8, 10.0, 221.0, 0.1, 20.0, 1.7, 0.1, 0.5], [16.3, 13.0, 1996.0, 1.1, 21.0, 5.0, 1.1, 4.0], [12.8, 8.7, 1233.0, -0.2, 24.0, 2.5, -0.2, 1.9], [18.5, 9.4, 1169.0, -0.9, 20.0, 2.2, -0.9, 0.4], [23.9, 10.6, 1988.0, -1.4, 21.0, 4.5, -1.4, -1.7], [12.9, 10.1, 1083.0, 0.1, 23.0, 2.7, 0.1, 1.6], [17.0, 13.9, 531.0, 0.1, 23.0, 2.7, 0.1, 1.3], [18.1, 11.9, 1437.0, 0.2, 22.0, 2.6, 0.2, 2.5], [17.5, 16.9, 522.0, 0.1, 21.0, 1.9, 0.1, 1.6], [10.6, 9.3, 94.0, 0.0, 22.0, 0.7, 0.0, 0.2], [21.8, 12.4, 435.0, -0.3, 24.0, 1.9, -0.3, 0.3], [24.6, 11.8, 1258.0, -0.6, 20.0, 1.5, -0.6, 0.3], [17.1, 16.2, 1970.0, 1.1, 23.0, 2.3, 1.1, 6.2], [16.6, 6.0, 904.0, -0.8, 20.0, 2.2, -0.8, -0.8], [14.1, 8.5, 594.0, -0.3, 24.0, 1.9, -0.3, 0.7], [15.7, 10.5, 21.0, 0.0, 21.0, 1.5, 0.0, 0.0], [17.2, 16.1, 721.0, 0.2, 21.0, 4.3, 0.2, 2.1], [12.1, 8.1, 47.0, 0.0, 23.0, 1.5, 0.0, 0.1], [23.3, 11.5, 908.0, -0.1, 21.0, 3.4, -0.1, 0.2], [27.0, 13.5, 600.0, -0.1, 21.0, 3.4, -0.1, -0.2], [17.6, 7.6, 210.0, -0.1, 23.0, 1.0, -0.1, 0.1], [18.4, 3.1, 145.0, -0.3, 21.0, 2.5, -0.3, -0.3], [14.9, 11.7, 33.0, 0.0, 21.0, 2.5, 0.0, 0.0], [11.3, 5.2, 313.0, -0.2, 24.0, 1.3, -0.2, 0.0], [17.7, 14.8, 1728.0, 1.3, 24.0, 3.3, 1.3, 3.6], [14.4, 10.3, 882.0, 0.1, 22.0, 3.3, 0.1, 1.7], [16.1, 16.6, 80.0, 0.0, 21.0, 1.2, 0.0, 0.3], [16.2, 9.0, 583.0, -0.5, 21.0, 1.7, -0.5, 0.3], [18.2, 7.6, 455.0, -0.3, 23.0, 3.3, -0.3, -0.4], [12.7, 7.1, 2069.0, -0.4, 20.0, 3.8, -0.4, 0.1], [12.6, 11.7, 38.0, -0.1, 24.0, 1.5, -0.1, 0.1], [19.1, 14.3, 1436.0, 0.2, 25.0, 3.5, 0.2, 2.7], [21.4, 13.6, 2152.0, 1.0, 21.0, 4.0, 1.0, 4.5], [18.1, 11.1, 1527.0, 0.0, 20.0, 4.5, 0.0, 0.7], [15.3, 16.6, 943.0, 0.3, 21.0, 3.2, 0.3, 2.7], [17.4, 17.0, 581.0, -0.2, 21.0, 4.6, -0.2, 1.9], [24.7, 14.5, 1525.0, 0.7, 23.0, 3.3, 0.7, 0.9], [23.8, 10.5, 329.0, -0.4, 21.0, 2.5, -0.4, 0.1], [19.9, 18.2, 28.0, 0.0, 22.0, 2.1, 0.0, 0.1], [24.3, 16.1, 2024.0, 0.9, 25.0, 4.0, 0.9, 2.8], [22.2, 13.8, 1975.0, 0.4, 20.0, 4.7, 0.4, 2.8], [13.9, 6.8, 89.0, -0.1, 22.0, 2.3, -0.1, 0.1], [16.9, 3.4, 80.0, -0.1, 20.0, 1.9, -0.1, 0.0], [14.6, 4.9, 160.0, -0.1, 23.0, 1.8, -0.1, -0.1], [22.5, 14.2, 1864.0, 0.7, 23.0, 3.6, 0.7, 2.3], [14.6, 10.2, 1238.0, -0.2, 20.0, 2.8, -0.2, 1.5], [12.8, 7.4, 961.0, -0.3, 22.0, 1.5, -0.3, 0.6], [20.7, 15.1, 1743.0, 1.4, 21.0, 4.2, 1.4, 3.2], [17.1, 5.1, 522.0, -0.5, 24.0, 1.7, -0.5, -0.1], [20.9, 9.2, 32.0, 0.0, 24.0, 1.2, 0.0, 0.0], [16.1, -3.2, 22.0, -0.1, 21.0, 2.3, -0.1, -0.1], [23.0, 9.1, 28.0, 0.0, 24.0, 0.8, 0.0, 0.0], [16.8, 1.9, 124.0, -0.2, 22.0, 1.2, -0.2, -0.3], [15.7, 14.5, 1679.0, 1.7, 23.0, 5.1, 1.7, 4.7], [18.5, 10.1, 1658.0, -1.3, 22.0, 1.7, -1.3, -0.2], [17.5, 12.1, 2095.0, 0.8, 24.0, 4.1, 0.8, 2.5], [16.6, 10.1, 851.0, 0.0, 23.0, 2.2, 0.0, 0.7], [22.1, 12.8, 2464.0, 0.8, 23.0, 3.8, 0.8, 2.0], [28.5, 11.5, 180.0, -0.2, 22.0, 2.4, -0.2, -0.1], [15.7, 12.3, 235.0, 0.1, 22.0, 1.4, 0.1, 0.6], [15.2, 5.2, 824.0, -0.8, 23.0, 2.6, -0.8, -0.6], [18.8, 24.2, 214.0, 0.1, 21.0, 4.2, 0.1, 1.0], [17.6, 15.3, 410.0, 0.0, 20.0, 4.6, 0.0, 1.0], [19.7, 16.3, 1421.0, 0.3, 23.0, 6.4, 0.3, 2.9], [13.1, 10.4, 219.0, -0.1, 25.0, 1.9, -0.1, 0.5], [13.0, 11.8, 316.0, 0.0, 24.0, 2.3, 0.0, 0.6], [14.9, 13.1, 1419.0, 0.3, 22.0, 3.0, 0.3, 3.1], [16.0, 13.2, 1028.0, 0.4, 24.0, 1.9, 0.4, 2.5], [16.4, 8.7, 1474.0, -0.2, 22.0, 2.0, -0.2, 1.6], [20.3, 19.0, 1324.0, 0.7, 22.0, 5.6, 0.7, 3.4], [18.8, 7.2, 960.0, -0.9, 21.0, 3.0, -0.9, -0.7], [19.3, 5.9, 381.0, -0.4, 23.0, 0.9, -0.4, -0.2], [4.8, -3.2, 9.0, 0.0, 23.0, 1.0, 0.0, 0.0], [14.8, 7.2, 1371.0, 0.0, 20.0, 3.4, 0.0, 0.4], [13.6, 13.8, 774.0, 0.0, 20.0, 1.5, 0.0, 1.5], [21.8, 13.0, 1954.0, 0.2, 23.0, 4.0, 0.2, 2.3], [13.4, 13.6, 447.0, 0.3, 20.0, 3.8, 0.3, 1.4], [21.7, 9.9, 1158.0, -0.3, 21.0, 3.9, -0.3, 0.8], [16.4, 8.7, 558.0, -0.6, 22.0, 3.5, -0.6, 0.6], [15.5, 9.8, 141.0, -0.1, 22.0, 2.0, -0.1, 0.1], [22.6, 10.9, 1406.0, -0.6, 20.0, 3.1, -0.6, 0.2], [13.4, 15.7, 1442.0, 1.4, 24.0, 6.5, 1.4, 3.5], [24.1, 14.8, 1134.0, -0.4, 21.0, 5.1, -0.4, 1.2], [14.6, 9.1, 1605.0, -0.1, 21.0, 3.7, -0.1, 2.0], [19.1, 14.9, 1000.0, -0.3, 21.0, 6.2, -0.3, 2.4], [21.1, 14.0, 1368.0, 0.2, 23.0, 2.1, 0.2, 2.8], [16.8, 10.7, 1614.0, 0.9, 23.0, 3.2, 0.9, 2.2], [17.1, 10.9, 1263.0, -0.2, 22.0, 3.6, -0.2, 1.4], [17.2, 7.8, 458.0, -0.3, 20.0, 1.1, -0.3, 0.0], [19.8, 8.2, 625.0, -0.1, 20.0, 5.3, -0.1, -0.1], [16.6, 15.0, 446.0, 0.4, 24.0, 2.8, 0.4, 1.1], [27.8, 11.4, 135.0, -0.2, 24.0, 1.0, -0.2, -0.1]], \"hoverlabel\": {\"namelength\": 0}, \"hovertemplate\": \"<b>%{hovertext}</b><br><br>neural=%{marker.color}<br>TS%=%{x}<br>USG%=%{customdata[0]}<br>PER=%{customdata[1]}<br>MP=%{customdata[2]}<br>VORP=%{customdata[6]}<br>Age=%{customdata[4]}<br>RPG=%{customdata[5]}<br>WS=%{customdata[7]}\", \"hovertext\": [\"Kadeem Allen\", \"Ike Anigbogu\", \"OG Anunoby\", \"Dwayne Bacon\", \"Lonzo Ball\", \"Jordan Bell\", \"Jaron Blossomgame\", \"Jonah Bolden\", \"Tony Bradley\", \"Dillon Brooks\", \"Sterling Brown\", \"Zach Collins\", \"Tyler Dorsey\", \"Tyler Dorsey\", \"Damyean Dotson\", \"Jawun Evans\", \"Jawun Evans\", \"Terrance Ferguson\", \"Markelle Fultz\", \"Harry Giles\", \"Josh Hart\", \"Isaiah Hartenstein\", \"Jonathan Isaac\", \"Wesley Iwundu\", \"Frank Jackson\", \"Josh Jackson\", \"Justin Jackson\", \"Justin Jackson\", \"Luke Kennard\", \"T.J. Leaf\", \"Tyler Lydon\", \"Frank Mason\", \"Malik Monk\", \"Monte Morris\", \"Frank Ntilikina\", \"Semi Ojeleye\", \"Justin Patton\", \"Ivan Rabb\", \"Davon Reed\", \"Dennis Smith\", \"Dennis Smith\", \"Edmond Sumner\", \"Caleb Swanigan\", \"Caleb Swanigan\", \"Sindarius Thornwell\", \"Derrick White\", \"D.J. Wilson\", \"Wade Baldwin\", \"Malik Beasley\", \"DeAndre' Bembry\", \"Dragan Bender\", \"Joel Bolomboy\", \"Malcolm Brogdon\", \"Jaylen Brown\", \"Marquese Chriss\", \"Deyonta Davis\", \"Cheick Diallo\", \"Kris Dunn\", \"Henry Ellenson\", \"Daniel Hamilton\", \"Buddy Hield\", \"Brandon Ingram\", \"Damian Jones\", \"Furkan Korkmaz\", \"Jake Layman\", \"Caris LeVert\", \"Thon Maker\", \"Patrick McCaw\", \"Dejounte Murray\", \"Abdel Nader\", \"Georges Niang\", \"Chinanu Onuaku\", \"Marcus Paige\", \"Zhou Qi\", \"Pascal Siakam\", \"Tyler Ulis\", \"Denzel Valentine\", \"Tyrone Wallace\", \"Taurean Waller-Prince\", \"Isaiah Whitehead\", \"Guerschon Yabusele\", \"Paul Zipser\", \"Ante \\u017di\\u017ei\\u0107\", \"Ivica Zubac\", \"Willie Cauley-Stein\", \"Rakeem Christmas\", \"Pat Connaughton\", \"Sam Dekker\", \"Jerian Grant\", \"Andrew Harrison\", \"Willy Hernangomez\", \"Mario Hezonja\", \"Darrun Hilliard\", \"R.J. Hunter\", \"Stanley Johnson\", \"Tyus Jones\", \"Frank Kaminsky\", \"Kevon Looney\", \"Trey Lyles\", \"Jarell Martin\", \"Jordan Mickey\", \"Emmanuel Mudiay\", \"Larry Nance\", \"Jahlil Okafor\", \"Kelly Oubre\", \"Bobby Portis\", \"Norman Powell\", \"Josh Richardson\", \"Terry Rozier\", \"Rashad Vaughn\", \"Justise Winslow\", \"Delon Wright\", \"Joe Young\"], \"legendgroup\": \"neural=0\", \"marker\": {\"color\": [0, 0, 0, 0, 0, 0, 0, 0, 0, 0, 0, 0, 0, 0, 0, 0, 0, 0, 0, 0, 0, 0, 0, 0, 0, 0, 0, 0, 0, 0, 0, 0, 0, 0, 0, 0, 0, 0, 0, 0, 0, 0, 0, 0, 0, 0, 0, 0, 0, 0, 0, 0, 0, 0, 0, 0, 0, 0, 0, 0, 0, 0, 0, 0, 0, 0, 0, 0, 0, 0, 0, 0, 0, 0, 0, 0, 0, 0, 0, 0, 0, 0, 0, 0, 0, 0, 0, 0, 0, 0, 0, 0, 0, 0, 0, 0, 0, 0, 0, 0, 0, 0, 0, 0, 0, 0, 0, 0, 0, 0, 0, 0, 0], \"coloraxis\": \"coloraxis\", \"line\": {\"color\": \"DarkSlateGrey\", \"width\": 1}, \"size\": 10, \"symbol\": \"diamond\"}, \"mode\": \"markers\", \"name\": \"neural=0\", \"showlegend\": true, \"type\": \"scatter\", \"x\": [0.574, 0.0, 0.544, 0.57, 0.48700000000000004, 0.531, 0.51, 0.595, 0.504, 0.499, 0.563, 0.562, 0.44799999999999995, 0.541, 0.526, 0.231, 0.0, 0.5660000000000001, 0.452, 0.526, 0.526, 0.562, 0.537, 0.531, 0.517, 0.48700000000000004, 0.546, 0.584, 0.56, 0.5720000000000001, 0.595, 0.502, 0.518, 0.5770000000000001, 0.41700000000000004, 0.531, 0.317, 0.586, 0.5, 0.527, 0.473, 0.44299999999999995, 0.37200000000000005, 0.405, 0.485, 0.555, 0.515, 0.748, 0.509, 0.47700000000000004, 0.524, 0.521, 0.578, 0.562, 0.509, 0.621, 0.619, 0.488, 0.47600000000000003, 0.545, 0.557, 0.536, 0.517, 0.386, 0.35200000000000004, 0.525, 0.499, 0.47700000000000004, 0.485, 0.439, 0.379, 0.4, 0.40299999999999997, 0.295, 0.5489999999999999, 0.465, 0.527, 0.517, 0.5489999999999999, 0.53, 0.5589999999999999, 0.445, 0.746, 0.557, 0.5579999999999999, 0.529, 0.645, 0.5489999999999999, 0.555, 0.47700000000000004, 0.564, 0.45, 0.45899999999999996, 0.0, 0.436, 0.523, 0.502, 0.5529999999999999, 0.46399999999999997, 0.47700000000000004, 0.473, 0.483, 0.5670000000000001, 0.546, 0.516, 0.545, 0.552, 0.493, 0.466, 0.449, 0.39899999999999997, 0.535, 0.433], \"xaxis\": \"x\", \"y\": [19.6, 29.1, 15.5, 16.8, 16.9, 13.7, 12.2, 13.8, 23.6, 20.9, 15.2, 16.6, 17.9, 20.7, 17.3, 12.7, 40.7, 10.6, 19.3, 23.2, 13.5, 11.8, 16.3, 12.8, 18.5, 23.9, 12.9, 17.0, 18.1, 17.5, 10.6, 21.8, 24.6, 17.1, 16.6, 14.1, 15.7, 17.2, 12.1, 23.3, 27.0, 17.6, 18.4, 14.9, 11.3, 17.7, 14.4, 16.1, 16.2, 18.2, 12.7, 12.6, 19.1, 21.4, 18.1, 15.3, 17.4, 24.7, 23.8, 19.9, 24.3, 22.2, 13.9, 16.9, 14.6, 22.5, 14.6, 12.8, 20.7, 17.1, 20.9, 16.1, 23.0, 16.8, 15.7, 18.5, 17.5, 16.6, 22.1, 28.5, 15.7, 15.2, 18.8, 17.6, 19.7, 13.1, 13.0, 14.9, 16.0, 16.4, 20.3, 18.8, 19.3, 4.8, 14.8, 13.6, 21.8, 13.4, 21.7, 16.4, 15.5, 22.6, 13.4, 24.1, 14.6, 19.1, 21.1, 16.8, 17.1, 17.2, 19.8, 16.6, 27.8], \"yaxis\": \"y\"}],\n",
       "                        {\"coloraxis\": {\"colorbar\": {\"title\": {\"text\": \"neural\"}}, \"colorscale\": [[0.0, \"rgb(142,1,82)\"], [0.1, \"rgb(197,27,125)\"], [0.2, \"rgb(222,119,174)\"], [0.3, \"rgb(241,182,218)\"], [0.4, \"rgb(253,224,239)\"], [0.5, \"rgb(247,247,247)\"], [0.6, \"rgb(230,245,208)\"], [0.7, \"rgb(184,225,134)\"], [0.8, \"rgb(127,188,65)\"], [0.9, \"rgb(77,146,33)\"], [1.0, \"rgb(39,100,25)\"]]}, \"height\": 600, \"legend\": {\"orientation\": \"h\", \"tracegroupgap\": 0}, \"margin\": {\"t\": 60}, \"template\": {\"data\": {\"bar\": [{\"error_x\": {\"color\": \"#2a3f5f\"}, \"error_y\": {\"color\": \"#2a3f5f\"}, \"marker\": {\"line\": {\"color\": \"#E5ECF6\", \"width\": 0.5}}, \"type\": \"bar\"}], \"barpolar\": [{\"marker\": {\"line\": {\"color\": \"#E5ECF6\", \"width\": 0.5}}, \"type\": \"barpolar\"}], \"carpet\": [{\"aaxis\": {\"endlinecolor\": \"#2a3f5f\", \"gridcolor\": \"white\", \"linecolor\": \"white\", \"minorgridcolor\": \"white\", \"startlinecolor\": \"#2a3f5f\"}, \"baxis\": {\"endlinecolor\": \"#2a3f5f\", \"gridcolor\": \"white\", \"linecolor\": \"white\", \"minorgridcolor\": \"white\", \"startlinecolor\": \"#2a3f5f\"}, \"type\": \"carpet\"}], \"choropleth\": [{\"colorbar\": {\"outlinewidth\": 0, \"ticks\": \"\"}, \"type\": \"choropleth\"}], \"contour\": [{\"colorbar\": {\"outlinewidth\": 0, \"ticks\": \"\"}, \"colorscale\": [[0.0, \"#0d0887\"], [0.1111111111111111, \"#46039f\"], [0.2222222222222222, \"#7201a8\"], [0.3333333333333333, \"#9c179e\"], [0.4444444444444444, \"#bd3786\"], [0.5555555555555556, \"#d8576b\"], [0.6666666666666666, \"#ed7953\"], [0.7777777777777778, \"#fb9f3a\"], [0.8888888888888888, \"#fdca26\"], [1.0, \"#f0f921\"]], \"type\": \"contour\"}], \"contourcarpet\": [{\"colorbar\": {\"outlinewidth\": 0, \"ticks\": \"\"}, \"type\": \"contourcarpet\"}], \"heatmap\": [{\"colorbar\": {\"outlinewidth\": 0, \"ticks\": \"\"}, \"colorscale\": [[0.0, \"#0d0887\"], [0.1111111111111111, \"#46039f\"], [0.2222222222222222, \"#7201a8\"], [0.3333333333333333, \"#9c179e\"], [0.4444444444444444, \"#bd3786\"], [0.5555555555555556, \"#d8576b\"], [0.6666666666666666, \"#ed7953\"], [0.7777777777777778, \"#fb9f3a\"], [0.8888888888888888, \"#fdca26\"], [1.0, \"#f0f921\"]], \"type\": \"heatmap\"}], \"heatmapgl\": [{\"colorbar\": {\"outlinewidth\": 0, \"ticks\": \"\"}, \"colorscale\": [[0.0, \"#0d0887\"], [0.1111111111111111, \"#46039f\"], [0.2222222222222222, \"#7201a8\"], [0.3333333333333333, \"#9c179e\"], [0.4444444444444444, \"#bd3786\"], [0.5555555555555556, \"#d8576b\"], [0.6666666666666666, \"#ed7953\"], [0.7777777777777778, \"#fb9f3a\"], [0.8888888888888888, \"#fdca26\"], [1.0, \"#f0f921\"]], \"type\": \"heatmapgl\"}], \"histogram\": [{\"marker\": {\"colorbar\": {\"outlinewidth\": 0, \"ticks\": \"\"}}, \"type\": \"histogram\"}], \"histogram2d\": [{\"colorbar\": {\"outlinewidth\": 0, \"ticks\": \"\"}, \"colorscale\": [[0.0, \"#0d0887\"], [0.1111111111111111, \"#46039f\"], [0.2222222222222222, \"#7201a8\"], [0.3333333333333333, \"#9c179e\"], [0.4444444444444444, \"#bd3786\"], [0.5555555555555556, \"#d8576b\"], [0.6666666666666666, \"#ed7953\"], [0.7777777777777778, \"#fb9f3a\"], [0.8888888888888888, \"#fdca26\"], [1.0, \"#f0f921\"]], \"type\": \"histogram2d\"}], \"histogram2dcontour\": [{\"colorbar\": {\"outlinewidth\": 0, \"ticks\": \"\"}, \"colorscale\": [[0.0, \"#0d0887\"], [0.1111111111111111, \"#46039f\"], [0.2222222222222222, \"#7201a8\"], [0.3333333333333333, \"#9c179e\"], [0.4444444444444444, \"#bd3786\"], [0.5555555555555556, \"#d8576b\"], [0.6666666666666666, \"#ed7953\"], [0.7777777777777778, \"#fb9f3a\"], [0.8888888888888888, \"#fdca26\"], [1.0, \"#f0f921\"]], \"type\": \"histogram2dcontour\"}], \"mesh3d\": [{\"colorbar\": {\"outlinewidth\": 0, \"ticks\": \"\"}, \"type\": \"mesh3d\"}], \"parcoords\": [{\"line\": {\"colorbar\": {\"outlinewidth\": 0, \"ticks\": \"\"}}, \"type\": \"parcoords\"}], \"scatter\": [{\"marker\": {\"colorbar\": {\"outlinewidth\": 0, \"ticks\": \"\"}}, \"type\": \"scatter\"}], \"scatter3d\": [{\"line\": {\"colorbar\": {\"outlinewidth\": 0, \"ticks\": \"\"}}, \"marker\": {\"colorbar\": {\"outlinewidth\": 0, \"ticks\": \"\"}}, \"type\": \"scatter3d\"}], \"scattercarpet\": [{\"marker\": {\"colorbar\": {\"outlinewidth\": 0, \"ticks\": \"\"}}, \"type\": \"scattercarpet\"}], \"scattergeo\": [{\"marker\": {\"colorbar\": {\"outlinewidth\": 0, \"ticks\": \"\"}}, \"type\": \"scattergeo\"}], \"scattergl\": [{\"marker\": {\"colorbar\": {\"outlinewidth\": 0, \"ticks\": \"\"}}, \"type\": \"scattergl\"}], \"scattermapbox\": [{\"marker\": {\"colorbar\": {\"outlinewidth\": 0, \"ticks\": \"\"}}, \"type\": \"scattermapbox\"}], \"scatterpolar\": [{\"marker\": {\"colorbar\": {\"outlinewidth\": 0, \"ticks\": \"\"}}, \"type\": \"scatterpolar\"}], \"scatterpolargl\": [{\"marker\": {\"colorbar\": {\"outlinewidth\": 0, \"ticks\": \"\"}}, \"type\": \"scatterpolargl\"}], \"scatterternary\": [{\"marker\": {\"colorbar\": {\"outlinewidth\": 0, \"ticks\": \"\"}}, \"type\": \"scatterternary\"}], \"surface\": [{\"colorbar\": {\"outlinewidth\": 0, \"ticks\": \"\"}, \"colorscale\": [[0.0, \"#0d0887\"], [0.1111111111111111, \"#46039f\"], [0.2222222222222222, \"#7201a8\"], [0.3333333333333333, \"#9c179e\"], [0.4444444444444444, \"#bd3786\"], [0.5555555555555556, \"#d8576b\"], [0.6666666666666666, \"#ed7953\"], [0.7777777777777778, \"#fb9f3a\"], [0.8888888888888888, \"#fdca26\"], [1.0, \"#f0f921\"]], \"type\": \"surface\"}], \"table\": [{\"cells\": {\"fill\": {\"color\": \"#EBF0F8\"}, \"line\": {\"color\": \"white\"}}, \"header\": {\"fill\": {\"color\": \"#C8D4E3\"}, \"line\": {\"color\": \"white\"}}, \"type\": \"table\"}]}, \"layout\": {\"annotationdefaults\": {\"arrowcolor\": \"#2a3f5f\", \"arrowhead\": 0, \"arrowwidth\": 1}, \"colorscale\": {\"diverging\": [[0, \"#8e0152\"], [0.1, \"#c51b7d\"], [0.2, \"#de77ae\"], [0.3, \"#f1b6da\"], [0.4, \"#fde0ef\"], [0.5, \"#f7f7f7\"], [0.6, \"#e6f5d0\"], [0.7, \"#b8e186\"], [0.8, \"#7fbc41\"], [0.9, \"#4d9221\"], [1, \"#276419\"]], \"sequential\": [[0.0, \"#0d0887\"], [0.1111111111111111, \"#46039f\"], [0.2222222222222222, \"#7201a8\"], [0.3333333333333333, \"#9c179e\"], [0.4444444444444444, \"#bd3786\"], [0.5555555555555556, \"#d8576b\"], [0.6666666666666666, \"#ed7953\"], [0.7777777777777778, \"#fb9f3a\"], [0.8888888888888888, \"#fdca26\"], [1.0, \"#f0f921\"]], \"sequentialminus\": [[0.0, \"#0d0887\"], [0.1111111111111111, \"#46039f\"], [0.2222222222222222, \"#7201a8\"], [0.3333333333333333, \"#9c179e\"], [0.4444444444444444, \"#bd3786\"], [0.5555555555555556, \"#d8576b\"], [0.6666666666666666, \"#ed7953\"], [0.7777777777777778, \"#fb9f3a\"], [0.8888888888888888, \"#fdca26\"], [1.0, \"#f0f921\"]]}, \"colorway\": [\"#636efa\", \"#EF553B\", \"#00cc96\", \"#ab63fa\", \"#FFA15A\", \"#19d3f3\", \"#FF6692\", \"#B6E880\", \"#FF97FF\", \"#FECB52\"], \"font\": {\"color\": \"#2a3f5f\"}, \"geo\": {\"bgcolor\": \"white\", \"lakecolor\": \"white\", \"landcolor\": \"#E5ECF6\", \"showlakes\": true, \"showland\": true, \"subunitcolor\": \"white\"}, \"hoverlabel\": {\"align\": \"left\"}, \"hovermode\": \"closest\", \"mapbox\": {\"style\": \"light\"}, \"paper_bgcolor\": \"white\", \"plot_bgcolor\": \"#E5ECF6\", \"polar\": {\"angularaxis\": {\"gridcolor\": \"white\", \"linecolor\": \"white\", \"ticks\": \"\"}, \"bgcolor\": \"#E5ECF6\", \"radialaxis\": {\"gridcolor\": \"white\", \"linecolor\": \"white\", \"ticks\": \"\"}}, \"scene\": {\"xaxis\": {\"backgroundcolor\": \"#E5ECF6\", \"gridcolor\": \"white\", \"gridwidth\": 2, \"linecolor\": \"white\", \"showbackground\": true, \"ticks\": \"\", \"zerolinecolor\": \"white\"}, \"yaxis\": {\"backgroundcolor\": \"#E5ECF6\", \"gridcolor\": \"white\", \"gridwidth\": 2, \"linecolor\": \"white\", \"showbackground\": true, \"ticks\": \"\", \"zerolinecolor\": \"white\"}, \"zaxis\": {\"backgroundcolor\": \"#E5ECF6\", \"gridcolor\": \"white\", \"gridwidth\": 2, \"linecolor\": \"white\", \"showbackground\": true, \"ticks\": \"\", \"zerolinecolor\": \"white\"}}, \"shapedefaults\": {\"line\": {\"color\": \"#2a3f5f\"}}, \"ternary\": {\"aaxis\": {\"gridcolor\": \"white\", \"linecolor\": \"white\", \"ticks\": \"\"}, \"baxis\": {\"gridcolor\": \"white\", \"linecolor\": \"white\", \"ticks\": \"\"}, \"bgcolor\": \"#E5ECF6\", \"caxis\": {\"gridcolor\": \"white\", \"linecolor\": \"white\", \"ticks\": \"\"}}, \"title\": {\"x\": 0.05}, \"xaxis\": {\"automargin\": true, \"gridcolor\": \"white\", \"linecolor\": \"white\", \"ticks\": \"\", \"zerolinecolor\": \"white\", \"zerolinewidth\": 2}, \"yaxis\": {\"automargin\": true, \"gridcolor\": \"white\", \"linecolor\": \"white\", \"ticks\": \"\", \"zerolinecolor\": \"white\", \"zerolinewidth\": 2}}}, \"xaxis\": {\"anchor\": \"y\", \"domain\": [0.0, 0.98], \"title\": {\"text\": \"TS%\"}}, \"yaxis\": {\"anchor\": \"x\", \"domain\": [0.0, 1.0], \"title\": {\"text\": \"USG%\"}}},\n",
       "                        {\"responsive\": true}\n",
       "                    ).then(function(){\n",
       "                            \n",
       "var gd = document.getElementById('95a8f6fd-2f47-447b-876f-1b7351a1543b');\n",
       "var x = new MutationObserver(function (mutations, observer) {{\n",
       "        var display = window.getComputedStyle(gd).display;\n",
       "        if (!display || display === 'none') {{\n",
       "            console.log([gd, 'removed!']);\n",
       "            Plotly.purge(gd);\n",
       "            observer.disconnect();\n",
       "        }}\n",
       "}});\n",
       "\n",
       "// Listen for the removal of the full notebook cells\n",
       "var notebookContainer = gd.closest('#notebook-container');\n",
       "if (notebookContainer) {{\n",
       "    x.observe(notebookContainer, {childList: true});\n",
       "}}\n",
       "\n",
       "// Listen for the clearing of the current output cell\n",
       "var outputEl = gd.closest('.output');\n",
       "if (outputEl) {{\n",
       "    x.observe(outputEl, {childList: true});\n",
       "}}\n",
       "\n",
       "                        })\n",
       "                };\n",
       "                });\n",
       "            </script>\n",
       "        </div>"
      ]
     },
     "metadata": {},
     "output_type": "display_data"
    },
    {
     "data": {
      "text/plain": [
       "'html_files/aggregated_usg_ts%.html'"
      ]
     },
     "execution_count": 182,
     "metadata": {},
     "output_type": "execute_result"
    }
   ],
   "source": [
    "fig = px.scatter(test_master_w_predictions, x='TS%', y='USG%',\n",
    "                 color='neural',\n",
    "                 hover_name='Player_name',\n",
    "                 hover_data=['USG%', 'PER', 'MP', 'VORP', 'Age', 'RPG', 'VORP', 'WS'], \n",
    "                 color_continuous_scale=px.colors.diverging.PiYG,\n",
    "                 symbol='neural')\n",
    "fig.update_traces(marker=dict(size=10,\n",
    "                              line=dict(width=1,\n",
    "                                        color='DarkSlateGrey')),\n",
    "                  selector=dict(mode='markers'))\n",
    "fig.update_layout(legend_orientation=\"h\")\n",
    "# fig.update_xaxes(range=[-2, 4.5])\n",
    "fig.show()\n",
    "plotly.offline.plot(fig, filename='html_files/aggregated_usg_ts%.html')"
   ]
  },
  {
   "cell_type": "code",
   "execution_count": 183,
   "metadata": {},
   "outputs": [
    {
     "data": {
      "application/vnd.plotly.v1+json": {
       "config": {
        "plotlyServerURL": "https://plot.ly"
       },
       "data": [
        {
         "customdata": [
          [
           15.8,
           17.9,
           1913,
           2.4,
           21,
           6.5,
           2.4,
           6.8
          ],
          [
           15.9,
           18.5,
           2096,
           2.4,
           20,
           7,
           2.4,
           7.6
          ],
          [
           24.5,
           18.1,
           2546,
           2,
           21,
           3.3,
           2,
           5.6
          ],
          [
           23.8,
           14,
           2314,
           0.2,
           23,
           5.9,
           0.2,
           3.1
          ],
          [
           25.1,
           17.1,
           1682,
           0,
           21,
           8.2,
           0,
           2.7
          ],
          [
           31.6,
           17.2,
           2598,
           1.7,
           22,
           3.9,
           1.7,
           5
          ],
          [
           22.1,
           15.1,
           2455,
           0.8,
           20,
           5.5,
           0.8,
           5
          ],
          [
           22.8,
           16.1,
           2565,
           1.2,
           20,
           3.5,
           1.2,
           5.5
          ],
          [
           22.1,
           17.5,
           1810,
           0.8,
           21,
           6.8,
           0.8,
           4.7
          ],
          [
           22.3,
           20,
           2732,
           4.6,
           21,
           8.5,
           4.6,
           9.2
          ],
          [
           28.6,
           14.6,
           2730,
           -0.2,
           20,
           3.5,
           -0.2,
           2
          ],
          [
           17.6,
           19.2,
           1064,
           0.8,
           23,
           4.4,
           0.8,
           4.1
          ],
          [
           18.7,
           13.7,
           1761,
           0.4,
           22,
           5.9,
           0.4,
           2.6
          ],
          [
           18.6,
           18.6,
           1193,
           1.1,
           23,
           4.4,
           1.1,
           3.8
          ],
          [
           24.3,
           17.4,
           2164,
           1.2,
           21,
           7.1,
           1.2,
           4.5
          ],
          [
           26.6,
           15.3,
           1811,
           0.7,
           20,
           3.7,
           0.7,
           1.3
          ],
          [
           19.5,
           18.5,
           2541,
           2.8,
           20,
           6.7,
           2.8,
           8
          ]
         ],
         "hoverlabel": {
          "namelength": 0
         },
         "hovertemplate": "<b>%{hovertext}</b><br><br>neural=%{marker.color}<br>OWS=%{x}<br>DWS=%{y}<br>USG%=%{customdata[0]}<br>PER=%{customdata[1]}<br>MP=%{customdata[2]}<br>VORP=%{customdata[6]}<br>Age=%{customdata[4]}<br>RPG=%{customdata[5]}<br>WS=%{customdata[7]}",
         "hovertext": [
          "Bam Adebayo",
          "Jarrett Allen",
          "De'Aaron Fox",
          "Kyle Kuzma",
          "Lauri Markkanen",
          "Donovan Mitchell",
          "Jayson Tatum",
          "Jamal Murray",
          "Domantas Sabonis",
          "Ben Simmons",
          "Devin Booker",
          "Montrezl Harrell",
          "Rondae Hollis-Jefferson",
          "Richaun Holmes",
          "Kristaps Porzingis",
          "D'Angelo Russell",
          "Myles Turner"
         ],
         "legendgroup": "neural=1",
         "marker": {
          "color": [
           1,
           1,
           1,
           1,
           1,
           1,
           1,
           1,
           1,
           1,
           1,
           1,
           1,
           1,
           1,
           1,
           1
          ],
          "coloraxis": "coloraxis",
          "line": {
           "color": "DarkSlateGrey",
           "width": 1
          },
          "size": 10,
          "symbol": "circle"
         },
         "mode": "markers",
         "name": "neural=1",
         "showlegend": true,
         "type": "scatter",
         "x": [
          3.4,
          4.4,
          3.2,
          1.2,
          1.3,
          1.3,
          1.6,
          4.3,
          2.5,
          4.2,
          1.3,
          3.1,
          0.4,
          2.2,
          2.4,
          0.3,
          4.3
         ],
         "xaxis": "x",
         "y": [
          3.4,
          3.3,
          2.5,
          1.9,
          1.5,
          3.7,
          3.4,
          1.2,
          2.2,
          5,
          0.6,
          1,
          2.2,
          1.6,
          2.1,
          1,
          3.7
         ],
         "yaxis": "y"
        },
        {
         "customdata": [
          [
           19.6,
           16.2,
           416,
           0.1,
           26,
           1.7,
           0.1,
           1
          ],
          [
           29.1,
           -6,
           6,
           0,
           20,
           0.9,
           0,
           -0.1
          ],
          [
           15.5,
           9.8,
           1352,
           0.3,
           21,
           2.7,
           0.3,
           2
          ],
          [
           16.8,
           11.7,
           759,
           -0.3,
           23,
           2.2,
           -0.3,
           1.2
          ],
          [
           16.9,
           11.7,
           1423,
           0.9,
           21,
           6.2,
           0.9,
           1.6
          ],
          [
           13.7,
           12.9,
           788,
           0.3,
           24,
           3.1,
           0.3,
           1.6
          ],
          [
           12.2,
           10.2,
           439,
           -0.3,
           25,
           3.6,
           -0.3,
           0.3
          ],
          [
           13.8,
           12.7,
           639,
           0.5,
           23,
           3.8,
           0.5,
           1.4
          ],
          [
           23.6,
           19.6,
           36,
           0,
           21,
           2.2,
           0,
           0.1
          ],
          [
           20.9,
           7.6,
           330,
           -0.3,
           23,
           2.9,
           -0.3,
           0
          ],
          [
           15.2,
           10.9,
           1034,
           0.1,
           23,
           2.9,
           0.1,
           2.1
          ],
          [
           16.6,
           13.5,
           1356,
           0.7,
           21,
           3.8,
           0.7,
           2.9
          ],
          [
           17.9,
           7.8,
           251,
           -0.3,
           22,
           2.3,
           -0.3,
           -0.1
          ],
          [
           20.7,
           13.1,
           447,
           0,
           22,
           2.3,
           0,
           0.7
          ],
          [
           17.3,
           10.8,
           2004,
           -0.2,
           24,
           3,
           -0.2,
           1.5
          ],
          [
           12.7,
           0.7,
           64,
           -0.1,
           22,
           1.7,
           -0.1,
           -0.2
          ],
          [
           40.7,
           -38.1,
           1,
           0,
           22,
           1.7,
           0,
           0
          ],
          [
           10.6,
           6.4,
           1931,
           0,
           20,
           1.4,
           0,
           2.8
          ],
          [
           19.3,
           10.5,
           427,
           -0.1,
           20,
           3.4,
           -0.1,
           0.3
          ],
          [
           23.2,
           14.4,
           820,
           0,
           20,
           3.8,
           0,
           1
          ],
          [
           13.5,
           9.3,
           1715,
           0.6,
           23,
           3.9,
           0.6,
           2.1
          ],
          [
           11.8,
           10,
           221,
           0.1,
           20,
           1.7,
           0.1,
           0.5
          ],
          [
           16.3,
           13,
           1996,
           1.1,
           21,
           5,
           1.1,
           4
          ],
          [
           12.8,
           8.7,
           1233,
           -0.2,
           24,
           2.5,
           -0.2,
           1.9
          ],
          [
           18.5,
           9.4,
           1169,
           -0.9,
           20,
           2.2,
           -0.9,
           0.4
          ],
          [
           23.9,
           10.6,
           1988,
           -1.4,
           21,
           4.5,
           -1.4,
           -1.7
          ],
          [
           12.9,
           10.1,
           1083,
           0.1,
           23,
           2.7,
           0.1,
           1.6
          ],
          [
           17,
           13.9,
           531,
           0.1,
           23,
           2.7,
           0.1,
           1.3
          ],
          [
           18.1,
           11.9,
           1437,
           0.2,
           22,
           2.6,
           0.2,
           2.5
          ],
          [
           17.5,
           16.9,
           522,
           0.1,
           21,
           1.9,
           0.1,
           1.6
          ],
          [
           10.6,
           9.3,
           94,
           0,
           22,
           0.7,
           0,
           0.2
          ],
          [
           21.8,
           12.4,
           435,
           -0.3,
           24,
           1.9,
           -0.3,
           0.3
          ],
          [
           24.6,
           11.8,
           1258,
           -0.6,
           20,
           1.5,
           -0.6,
           0.3
          ],
          [
           17.1,
           16.2,
           1970,
           1.1,
           23,
           2.3,
           1.1,
           6.2
          ],
          [
           16.6,
           6,
           904,
           -0.8,
           20,
           2.2,
           -0.8,
           -0.8
          ],
          [
           14.1,
           8.5,
           594,
           -0.3,
           24,
           1.9,
           -0.3,
           0.7
          ],
          [
           15.7,
           10.5,
           21,
           0,
           21,
           1.5,
           0,
           0
          ],
          [
           17.2,
           16.1,
           721,
           0.2,
           21,
           4.3,
           0.2,
           2.1
          ],
          [
           12.1,
           8.1,
           47,
           0,
           23,
           1.5,
           0,
           0.1
          ],
          [
           23.3,
           11.5,
           908,
           -0.1,
           21,
           3.4,
           -0.1,
           0.2
          ],
          [
           27,
           13.5,
           600,
           -0.1,
           21,
           3.4,
           -0.1,
           -0.2
          ],
          [
           17.6,
           7.6,
           210,
           -0.1,
           23,
           1,
           -0.1,
           0.1
          ],
          [
           18.4,
           3.1,
           145,
           -0.3,
           21,
           2.5,
           -0.3,
           -0.3
          ],
          [
           14.9,
           11.7,
           33,
           0,
           21,
           2.5,
           0,
           0
          ],
          [
           11.3,
           5.2,
           313,
           -0.2,
           24,
           1.3,
           -0.2,
           0
          ],
          [
           17.7,
           14.8,
           1728,
           1.3,
           24,
           3.3,
           1.3,
           3.6
          ],
          [
           14.4,
           10.3,
           882,
           0.1,
           22,
           3.3,
           0.1,
           1.7
          ],
          [
           16.1,
           16.6,
           80,
           0,
           21,
           1.2,
           0,
           0.3
          ],
          [
           16.2,
           9,
           583,
           -0.5,
           21,
           1.7,
           -0.5,
           0.3
          ],
          [
           18.2,
           7.6,
           455,
           -0.3,
           23,
           3.3,
           -0.3,
           -0.4
          ],
          [
           12.7,
           7.1,
           2069,
           -0.4,
           20,
           3.8,
           -0.4,
           0.1
          ],
          [
           12.6,
           11.7,
           38,
           -0.1,
           24,
           1.5,
           -0.1,
           0.1
          ],
          [
           19.1,
           14.3,
           1436,
           0.2,
           25,
           3.5,
           0.2,
           2.7
          ],
          [
           21.4,
           13.6,
           2152,
           1,
           21,
           4,
           1,
           4.5
          ],
          [
           18.1,
           11.1,
           1527,
           0,
           20,
           4.5,
           0,
           0.7
          ],
          [
           15.3,
           16.6,
           943,
           0.3,
           21,
           3.2,
           0.3,
           2.7
          ],
          [
           17.4,
           17,
           581,
           -0.2,
           21,
           4.6,
           -0.2,
           1.9
          ],
          [
           24.7,
           14.5,
           1525,
           0.7,
           23,
           3.3,
           0.7,
           0.9
          ],
          [
           23.8,
           10.5,
           329,
           -0.4,
           21,
           2.5,
           -0.4,
           0.1
          ],
          [
           19.9,
           18.2,
           28,
           0,
           22,
           2.1,
           0,
           0.1
          ],
          [
           24.3,
           16.1,
           2024,
           0.9,
           25,
           4,
           0.9,
           2.8
          ],
          [
           22.2,
           13.8,
           1975,
           0.4,
           20,
           4.7,
           0.4,
           2.8
          ],
          [
           13.9,
           6.8,
           89,
           -0.1,
           22,
           2.3,
           -0.1,
           0.1
          ],
          [
           16.9,
           3.4,
           80,
           -0.1,
           20,
           1.9,
           -0.1,
           0
          ],
          [
           14.6,
           4.9,
           160,
           -0.1,
           23,
           1.8,
           -0.1,
           -0.1
          ],
          [
           22.5,
           14.2,
           1864,
           0.7,
           23,
           3.6,
           0.7,
           2.3
          ],
          [
           14.6,
           10.2,
           1238,
           -0.2,
           20,
           2.8,
           -0.2,
           1.5
          ],
          [
           12.8,
           7.4,
           961,
           -0.3,
           22,
           1.5,
           -0.3,
           0.6
          ],
          [
           20.7,
           15.1,
           1743,
           1.4,
           21,
           4.2,
           1.4,
           3.2
          ],
          [
           17.1,
           5.1,
           522,
           -0.5,
           24,
           1.7,
           -0.5,
           -0.1
          ],
          [
           20.9,
           9.2,
           32,
           0,
           24,
           1.2,
           0,
           0
          ],
          [
           16.1,
           -3.2,
           22,
           -0.1,
           21,
           2.3,
           -0.1,
           -0.1
          ],
          [
           23,
           9.1,
           28,
           0,
           24,
           0.8,
           0,
           0
          ],
          [
           16.8,
           1.9,
           124,
           -0.2,
           22,
           1.2,
           -0.2,
           -0.3
          ],
          [
           15.7,
           14.5,
           1679,
           1.7,
           23,
           5.1,
           1.7,
           4.7
          ],
          [
           18.5,
           10.1,
           1658,
           -1.3,
           22,
           1.7,
           -1.3,
           -0.2
          ],
          [
           17.5,
           12.1,
           2095,
           0.8,
           24,
           4.1,
           0.8,
           2.5
          ],
          [
           16.6,
           10.1,
           851,
           0,
           23,
           2.2,
           0,
           0.7
          ],
          [
           22.1,
           12.8,
           2464,
           0.8,
           23,
           3.8,
           0.8,
           2
          ],
          [
           28.5,
           11.5,
           180,
           -0.2,
           22,
           2.4,
           -0.2,
           -0.1
          ],
          [
           15.7,
           12.3,
           235,
           0.1,
           22,
           1.4,
           0.1,
           0.6
          ],
          [
           15.2,
           5.2,
           824,
           -0.8,
           23,
           2.6,
           -0.8,
           -0.6
          ],
          [
           18.8,
           24.2,
           214,
           0.1,
           21,
           4.2,
           0.1,
           1
          ],
          [
           17.6,
           15.3,
           410,
           0,
           20,
           4.6,
           0,
           1
          ],
          [
           19.7,
           16.3,
           1421,
           0.3,
           23,
           6.4,
           0.3,
           2.9
          ],
          [
           13.1,
           10.4,
           219,
           -0.1,
           25,
           1.9,
           -0.1,
           0.5
          ],
          [
           13,
           11.8,
           316,
           0,
           24,
           2.3,
           0,
           0.6
          ],
          [
           14.9,
           13.1,
           1419,
           0.3,
           22,
           3,
           0.3,
           3.1
          ],
          [
           16,
           13.2,
           1028,
           0.4,
           24,
           1.9,
           0.4,
           2.5
          ],
          [
           16.4,
           8.7,
           1474,
           -0.2,
           22,
           2,
           -0.2,
           1.6
          ],
          [
           20.3,
           19,
           1324,
           0.7,
           22,
           5.6,
           0.7,
           3.4
          ],
          [
           18.8,
           7.2,
           960,
           -0.9,
           21,
           3,
           -0.9,
           -0.7
          ],
          [
           19.3,
           5.9,
           381,
           -0.4,
           23,
           0.9,
           -0.4,
           -0.2
          ],
          [
           4.8,
           -3.2,
           9,
           0,
           23,
           1,
           0,
           0
          ],
          [
           14.8,
           7.2,
           1371,
           0,
           20,
           3.4,
           0,
           0.4
          ],
          [
           13.6,
           13.8,
           774,
           0,
           20,
           1.5,
           0,
           1.5
          ],
          [
           21.8,
           13,
           1954,
           0.2,
           23,
           4,
           0.2,
           2.3
          ],
          [
           13.4,
           13.6,
           447,
           0.3,
           20,
           3.8,
           0.3,
           1.4
          ],
          [
           21.7,
           9.9,
           1158,
           -0.3,
           21,
           3.9,
           -0.3,
           0.8
          ],
          [
           16.4,
           8.7,
           558,
           -0.6,
           22,
           3.5,
           -0.6,
           0.6
          ],
          [
           15.5,
           9.8,
           141,
           -0.1,
           22,
           2,
           -0.1,
           0.1
          ],
          [
           22.6,
           10.9,
           1406,
           -0.6,
           20,
           3.1,
           -0.6,
           0.2
          ],
          [
           13.4,
           15.7,
           1442,
           1.4,
           24,
           6.5,
           1.4,
           3.5
          ],
          [
           24.1,
           14.8,
           1134,
           -0.4,
           21,
           5.1,
           -0.4,
           1.2
          ],
          [
           14.6,
           9.1,
           1605,
           -0.1,
           21,
           3.7,
           -0.1,
           2
          ],
          [
           19.1,
           14.9,
           1000,
           -0.3,
           21,
           6.2,
           -0.3,
           2.4
          ],
          [
           21.1,
           14,
           1368,
           0.2,
           23,
           2.1,
           0.2,
           2.8
          ],
          [
           16.8,
           10.7,
           1614,
           0.9,
           23,
           3.2,
           0.9,
           2.2
          ],
          [
           17.1,
           10.9,
           1263,
           -0.2,
           22,
           3.6,
           -0.2,
           1.4
          ],
          [
           17.2,
           7.8,
           458,
           -0.3,
           20,
           1.1,
           -0.3,
           0
          ],
          [
           19.8,
           8.2,
           625,
           -0.1,
           20,
           5.3,
           -0.1,
           -0.1
          ],
          [
           16.6,
           15,
           446,
           0.4,
           24,
           2.8,
           0.4,
           1.1
          ],
          [
           27.8,
           11.4,
           135,
           -0.2,
           24,
           1,
           -0.2,
           -0.1
          ]
         ],
         "hoverlabel": {
          "namelength": 0
         },
         "hovertemplate": "<b>%{hovertext}</b><br><br>neural=%{marker.color}<br>OWS=%{x}<br>DWS=%{y}<br>USG%=%{customdata[0]}<br>PER=%{customdata[1]}<br>MP=%{customdata[2]}<br>VORP=%{customdata[6]}<br>Age=%{customdata[4]}<br>RPG=%{customdata[5]}<br>WS=%{customdata[7]}",
         "hovertext": [
          "Kadeem Allen",
          "Ike Anigbogu",
          "OG Anunoby",
          "Dwayne Bacon",
          "Lonzo Ball",
          "Jordan Bell",
          "Jaron Blossomgame",
          "Jonah Bolden",
          "Tony Bradley",
          "Dillon Brooks",
          "Sterling Brown",
          "Zach Collins",
          "Tyler Dorsey",
          "Tyler Dorsey",
          "Damyean Dotson",
          "Jawun Evans",
          "Jawun Evans",
          "Terrance Ferguson",
          "Markelle Fultz",
          "Harry Giles",
          "Josh Hart",
          "Isaiah Hartenstein",
          "Jonathan Isaac",
          "Wesley Iwundu",
          "Frank Jackson",
          "Josh Jackson",
          "Justin Jackson",
          "Justin Jackson",
          "Luke Kennard",
          "T.J. Leaf",
          "Tyler Lydon",
          "Frank Mason",
          "Malik Monk",
          "Monte Morris",
          "Frank Ntilikina",
          "Semi Ojeleye",
          "Justin Patton",
          "Ivan Rabb",
          "Davon Reed",
          "Dennis Smith",
          "Dennis Smith",
          "Edmond Sumner",
          "Caleb Swanigan",
          "Caleb Swanigan",
          "Sindarius Thornwell",
          "Derrick White",
          "D.J. Wilson",
          "Wade Baldwin",
          "Malik Beasley",
          "DeAndre' Bembry",
          "Dragan Bender",
          "Joel Bolomboy",
          "Malcolm Brogdon",
          "Jaylen Brown",
          "Marquese Chriss",
          "Deyonta Davis",
          "Cheick Diallo",
          "Kris Dunn",
          "Henry Ellenson",
          "Daniel Hamilton",
          "Buddy Hield",
          "Brandon Ingram",
          "Damian Jones",
          "Furkan Korkmaz",
          "Jake Layman",
          "Caris LeVert",
          "Thon Maker",
          "Patrick McCaw",
          "Dejounte Murray",
          "Abdel Nader",
          "Georges Niang",
          "Chinanu Onuaku",
          "Marcus Paige",
          "Zhou Qi",
          "Pascal Siakam",
          "Tyler Ulis",
          "Denzel Valentine",
          "Tyrone Wallace",
          "Taurean Waller-Prince",
          "Isaiah Whitehead",
          "Guerschon Yabusele",
          "Paul Zipser",
          "Ante Žižić",
          "Ivica Zubac",
          "Willie Cauley-Stein",
          "Rakeem Christmas",
          "Pat Connaughton",
          "Sam Dekker",
          "Jerian Grant",
          "Andrew Harrison",
          "Willy Hernangomez",
          "Mario Hezonja",
          "Darrun Hilliard",
          "R.J. Hunter",
          "Stanley Johnson",
          "Tyus Jones",
          "Frank Kaminsky",
          "Kevon Looney",
          "Trey Lyles",
          "Jarell Martin",
          "Jordan Mickey",
          "Emmanuel Mudiay",
          "Larry Nance",
          "Jahlil Okafor",
          "Kelly Oubre",
          "Bobby Portis",
          "Norman Powell",
          "Josh Richardson",
          "Terry Rozier",
          "Rashad Vaughn",
          "Justise Winslow",
          "Delon Wright",
          "Joe Young"
         ],
         "legendgroup": "neural=0",
         "marker": {
          "color": [
           0,
           0,
           0,
           0,
           0,
           0,
           0,
           0,
           0,
           0,
           0,
           0,
           0,
           0,
           0,
           0,
           0,
           0,
           0,
           0,
           0,
           0,
           0,
           0,
           0,
           0,
           0,
           0,
           0,
           0,
           0,
           0,
           0,
           0,
           0,
           0,
           0,
           0,
           0,
           0,
           0,
           0,
           0,
           0,
           0,
           0,
           0,
           0,
           0,
           0,
           0,
           0,
           0,
           0,
           0,
           0,
           0,
           0,
           0,
           0,
           0,
           0,
           0,
           0,
           0,
           0,
           0,
           0,
           0,
           0,
           0,
           0,
           0,
           0,
           0,
           0,
           0,
           0,
           0,
           0,
           0,
           0,
           0,
           0,
           0,
           0,
           0,
           0,
           0,
           0,
           0,
           0,
           0,
           0,
           0,
           0,
           0,
           0,
           0,
           0,
           0,
           0,
           0,
           0,
           0,
           0,
           0,
           0,
           0,
           0,
           0,
           0,
           0
          ],
          "coloraxis": "coloraxis",
          "line": {
           "color": "DarkSlateGrey",
           "width": 1
          },
          "size": 10,
          "symbol": "diamond"
         },
         "mode": "markers",
         "name": "neural=0",
         "showlegend": true,
         "type": "scatter",
         "x": [
          0.7,
          -0.1,
          0.3,
          0.9,
          -0.2,
          0.5,
          0.2,
          0.5,
          0,
          -0.3,
          0.7,
          1.4,
          -0.2,
          0.4,
          0.7,
          -0.2,
          0,
          1.2,
          -0.1,
          0,
          0.2,
          0.2,
          0.9,
          0.5,
          0.1,
          -2.8,
          1,
          1,
          1.3,
          0.9,
          0.1,
          0,
          -0.4,
          4.4,
          -1.3,
          0.2,
          0,
          1.2,
          0,
          -0.7,
          -0.5,
          -0.2,
          -0.4,
          0,
          -0.3,
          1.7,
          0.3,
          0.2,
          0.1,
          -0.9,
          -0.7,
          0,
          2,
          1.2,
          -0.8,
          1.9,
          1.1,
          -1,
          -0.2,
          0.1,
          1.3,
          1,
          0,
          -0.1,
          -0.3,
          0.7,
          0.3,
          -0.3,
          -0.2,
          -0.9,
          -0.1,
          -0.1,
          0,
          -0.5,
          2.1,
          -0.7,
          1,
          0.2,
          0,
          -0.3,
          0.3,
          -1.1,
          0.9,
          0.5,
          1.4,
          0.3,
          0.4,
          1.9,
          1.4,
          0,
          1.8,
          -1.4,
          -0.6,
          0,
          -1.4,
          1,
          0.4,
          0.7,
          -0.9,
          -0.2,
          -0.1,
          -0.4,
          2.1,
          0.1,
          0.6,
          1.1,
          1.4,
          0.3,
          0,
          -0.5,
          -0.9,
          0.5,
          -0.2
         ],
         "xaxis": "x",
         "y": [
          0.2,
          0,
          1.7,
          0.3,
          1.7,
          1.1,
          0.1,
          0.9,
          0.1,
          0.3,
          1.4,
          1.5,
          0.1,
          0.3,
          0.9,
          0,
          0,
          1.6,
          0.4,
          1,
          1.9,
          0.3,
          3.1,
          1.4,
          0.4,
          1.1,
          0.6,
          0.3,
          1.3,
          0.7,
          0.1,
          0.3,
          0.7,
          1.8,
          0.4,
          0.5,
          0,
          0.9,
          0,
          0.9,
          0.3,
          0.3,
          0.2,
          0.1,
          0.3,
          1.9,
          1.4,
          0.1,
          0.3,
          0.5,
          0.8,
          0,
          0.7,
          3.2,
          1.5,
          0.8,
          0.8,
          1.9,
          0.4,
          0,
          1.5,
          1.8,
          0.1,
          0.1,
          0.2,
          1.6,
          1.1,
          0.8,
          3.4,
          0.8,
          0.1,
          0,
          0,
          0.2,
          2.5,
          0.5,
          1.5,
          0.5,
          2,
          0.2,
          0.3,
          0.6,
          0.2,
          0.5,
          1.5,
          0.2,
          0.2,
          1.2,
          1.2,
          1.5,
          1.6,
          0.8,
          0.4,
          0,
          1.8,
          0.6,
          1.9,
          0.8,
          1.6,
          0.8,
          0.2,
          0.5,
          1.5,
          1.1,
          1.5,
          1.2,
          1.4,
          1.9,
          1.4,
          0.4,
          0.8,
          0.6,
          0.1
         ],
         "yaxis": "y"
        }
       ],
       "layout": {
        "coloraxis": {
         "colorbar": {
          "title": {
           "text": "neural"
          }
         },
         "colorscale": [
          [
           0,
           "rgb(103,0,31)"
          ],
          [
           0.1,
           "rgb(178,24,43)"
          ],
          [
           0.2,
           "rgb(214,96,77)"
          ],
          [
           0.3,
           "rgb(244,165,130)"
          ],
          [
           0.4,
           "rgb(253,219,199)"
          ],
          [
           0.5,
           "rgb(247,247,247)"
          ],
          [
           0.6,
           "rgb(209,229,240)"
          ],
          [
           0.7,
           "rgb(146,197,222)"
          ],
          [
           0.8,
           "rgb(67,147,195)"
          ],
          [
           0.9,
           "rgb(33,102,172)"
          ],
          [
           1,
           "rgb(5,48,97)"
          ]
         ]
        },
        "height": 600,
        "legend": {
         "orientation": "h",
         "tracegroupgap": 0
        },
        "margin": {
         "t": 60
        },
        "template": {
         "data": {
          "bar": [
           {
            "error_x": {
             "color": "#2a3f5f"
            },
            "error_y": {
             "color": "#2a3f5f"
            },
            "marker": {
             "line": {
              "color": "#E5ECF6",
              "width": 0.5
             }
            },
            "type": "bar"
           }
          ],
          "barpolar": [
           {
            "marker": {
             "line": {
              "color": "#E5ECF6",
              "width": 0.5
             }
            },
            "type": "barpolar"
           }
          ],
          "carpet": [
           {
            "aaxis": {
             "endlinecolor": "#2a3f5f",
             "gridcolor": "white",
             "linecolor": "white",
             "minorgridcolor": "white",
             "startlinecolor": "#2a3f5f"
            },
            "baxis": {
             "endlinecolor": "#2a3f5f",
             "gridcolor": "white",
             "linecolor": "white",
             "minorgridcolor": "white",
             "startlinecolor": "#2a3f5f"
            },
            "type": "carpet"
           }
          ],
          "choropleth": [
           {
            "colorbar": {
             "outlinewidth": 0,
             "ticks": ""
            },
            "type": "choropleth"
           }
          ],
          "contour": [
           {
            "colorbar": {
             "outlinewidth": 0,
             "ticks": ""
            },
            "colorscale": [
             [
              0,
              "#0d0887"
             ],
             [
              0.1111111111111111,
              "#46039f"
             ],
             [
              0.2222222222222222,
              "#7201a8"
             ],
             [
              0.3333333333333333,
              "#9c179e"
             ],
             [
              0.4444444444444444,
              "#bd3786"
             ],
             [
              0.5555555555555556,
              "#d8576b"
             ],
             [
              0.6666666666666666,
              "#ed7953"
             ],
             [
              0.7777777777777778,
              "#fb9f3a"
             ],
             [
              0.8888888888888888,
              "#fdca26"
             ],
             [
              1,
              "#f0f921"
             ]
            ],
            "type": "contour"
           }
          ],
          "contourcarpet": [
           {
            "colorbar": {
             "outlinewidth": 0,
             "ticks": ""
            },
            "type": "contourcarpet"
           }
          ],
          "heatmap": [
           {
            "colorbar": {
             "outlinewidth": 0,
             "ticks": ""
            },
            "colorscale": [
             [
              0,
              "#0d0887"
             ],
             [
              0.1111111111111111,
              "#46039f"
             ],
             [
              0.2222222222222222,
              "#7201a8"
             ],
             [
              0.3333333333333333,
              "#9c179e"
             ],
             [
              0.4444444444444444,
              "#bd3786"
             ],
             [
              0.5555555555555556,
              "#d8576b"
             ],
             [
              0.6666666666666666,
              "#ed7953"
             ],
             [
              0.7777777777777778,
              "#fb9f3a"
             ],
             [
              0.8888888888888888,
              "#fdca26"
             ],
             [
              1,
              "#f0f921"
             ]
            ],
            "type": "heatmap"
           }
          ],
          "heatmapgl": [
           {
            "colorbar": {
             "outlinewidth": 0,
             "ticks": ""
            },
            "colorscale": [
             [
              0,
              "#0d0887"
             ],
             [
              0.1111111111111111,
              "#46039f"
             ],
             [
              0.2222222222222222,
              "#7201a8"
             ],
             [
              0.3333333333333333,
              "#9c179e"
             ],
             [
              0.4444444444444444,
              "#bd3786"
             ],
             [
              0.5555555555555556,
              "#d8576b"
             ],
             [
              0.6666666666666666,
              "#ed7953"
             ],
             [
              0.7777777777777778,
              "#fb9f3a"
             ],
             [
              0.8888888888888888,
              "#fdca26"
             ],
             [
              1,
              "#f0f921"
             ]
            ],
            "type": "heatmapgl"
           }
          ],
          "histogram": [
           {
            "marker": {
             "colorbar": {
              "outlinewidth": 0,
              "ticks": ""
             }
            },
            "type": "histogram"
           }
          ],
          "histogram2d": [
           {
            "colorbar": {
             "outlinewidth": 0,
             "ticks": ""
            },
            "colorscale": [
             [
              0,
              "#0d0887"
             ],
             [
              0.1111111111111111,
              "#46039f"
             ],
             [
              0.2222222222222222,
              "#7201a8"
             ],
             [
              0.3333333333333333,
              "#9c179e"
             ],
             [
              0.4444444444444444,
              "#bd3786"
             ],
             [
              0.5555555555555556,
              "#d8576b"
             ],
             [
              0.6666666666666666,
              "#ed7953"
             ],
             [
              0.7777777777777778,
              "#fb9f3a"
             ],
             [
              0.8888888888888888,
              "#fdca26"
             ],
             [
              1,
              "#f0f921"
             ]
            ],
            "type": "histogram2d"
           }
          ],
          "histogram2dcontour": [
           {
            "colorbar": {
             "outlinewidth": 0,
             "ticks": ""
            },
            "colorscale": [
             [
              0,
              "#0d0887"
             ],
             [
              0.1111111111111111,
              "#46039f"
             ],
             [
              0.2222222222222222,
              "#7201a8"
             ],
             [
              0.3333333333333333,
              "#9c179e"
             ],
             [
              0.4444444444444444,
              "#bd3786"
             ],
             [
              0.5555555555555556,
              "#d8576b"
             ],
             [
              0.6666666666666666,
              "#ed7953"
             ],
             [
              0.7777777777777778,
              "#fb9f3a"
             ],
             [
              0.8888888888888888,
              "#fdca26"
             ],
             [
              1,
              "#f0f921"
             ]
            ],
            "type": "histogram2dcontour"
           }
          ],
          "mesh3d": [
           {
            "colorbar": {
             "outlinewidth": 0,
             "ticks": ""
            },
            "type": "mesh3d"
           }
          ],
          "parcoords": [
           {
            "line": {
             "colorbar": {
              "outlinewidth": 0,
              "ticks": ""
             }
            },
            "type": "parcoords"
           }
          ],
          "scatter": [
           {
            "marker": {
             "colorbar": {
              "outlinewidth": 0,
              "ticks": ""
             }
            },
            "type": "scatter"
           }
          ],
          "scatter3d": [
           {
            "line": {
             "colorbar": {
              "outlinewidth": 0,
              "ticks": ""
             }
            },
            "marker": {
             "colorbar": {
              "outlinewidth": 0,
              "ticks": ""
             }
            },
            "type": "scatter3d"
           }
          ],
          "scattercarpet": [
           {
            "marker": {
             "colorbar": {
              "outlinewidth": 0,
              "ticks": ""
             }
            },
            "type": "scattercarpet"
           }
          ],
          "scattergeo": [
           {
            "marker": {
             "colorbar": {
              "outlinewidth": 0,
              "ticks": ""
             }
            },
            "type": "scattergeo"
           }
          ],
          "scattergl": [
           {
            "marker": {
             "colorbar": {
              "outlinewidth": 0,
              "ticks": ""
             }
            },
            "type": "scattergl"
           }
          ],
          "scattermapbox": [
           {
            "marker": {
             "colorbar": {
              "outlinewidth": 0,
              "ticks": ""
             }
            },
            "type": "scattermapbox"
           }
          ],
          "scatterpolar": [
           {
            "marker": {
             "colorbar": {
              "outlinewidth": 0,
              "ticks": ""
             }
            },
            "type": "scatterpolar"
           }
          ],
          "scatterpolargl": [
           {
            "marker": {
             "colorbar": {
              "outlinewidth": 0,
              "ticks": ""
             }
            },
            "type": "scatterpolargl"
           }
          ],
          "scatterternary": [
           {
            "marker": {
             "colorbar": {
              "outlinewidth": 0,
              "ticks": ""
             }
            },
            "type": "scatterternary"
           }
          ],
          "surface": [
           {
            "colorbar": {
             "outlinewidth": 0,
             "ticks": ""
            },
            "colorscale": [
             [
              0,
              "#0d0887"
             ],
             [
              0.1111111111111111,
              "#46039f"
             ],
             [
              0.2222222222222222,
              "#7201a8"
             ],
             [
              0.3333333333333333,
              "#9c179e"
             ],
             [
              0.4444444444444444,
              "#bd3786"
             ],
             [
              0.5555555555555556,
              "#d8576b"
             ],
             [
              0.6666666666666666,
              "#ed7953"
             ],
             [
              0.7777777777777778,
              "#fb9f3a"
             ],
             [
              0.8888888888888888,
              "#fdca26"
             ],
             [
              1,
              "#f0f921"
             ]
            ],
            "type": "surface"
           }
          ],
          "table": [
           {
            "cells": {
             "fill": {
              "color": "#EBF0F8"
             },
             "line": {
              "color": "white"
             }
            },
            "header": {
             "fill": {
              "color": "#C8D4E3"
             },
             "line": {
              "color": "white"
             }
            },
            "type": "table"
           }
          ]
         },
         "layout": {
          "annotationdefaults": {
           "arrowcolor": "#2a3f5f",
           "arrowhead": 0,
           "arrowwidth": 1
          },
          "colorscale": {
           "diverging": [
            [
             0,
             "#8e0152"
            ],
            [
             0.1,
             "#c51b7d"
            ],
            [
             0.2,
             "#de77ae"
            ],
            [
             0.3,
             "#f1b6da"
            ],
            [
             0.4,
             "#fde0ef"
            ],
            [
             0.5,
             "#f7f7f7"
            ],
            [
             0.6,
             "#e6f5d0"
            ],
            [
             0.7,
             "#b8e186"
            ],
            [
             0.8,
             "#7fbc41"
            ],
            [
             0.9,
             "#4d9221"
            ],
            [
             1,
             "#276419"
            ]
           ],
           "sequential": [
            [
             0,
             "#0d0887"
            ],
            [
             0.1111111111111111,
             "#46039f"
            ],
            [
             0.2222222222222222,
             "#7201a8"
            ],
            [
             0.3333333333333333,
             "#9c179e"
            ],
            [
             0.4444444444444444,
             "#bd3786"
            ],
            [
             0.5555555555555556,
             "#d8576b"
            ],
            [
             0.6666666666666666,
             "#ed7953"
            ],
            [
             0.7777777777777778,
             "#fb9f3a"
            ],
            [
             0.8888888888888888,
             "#fdca26"
            ],
            [
             1,
             "#f0f921"
            ]
           ],
           "sequentialminus": [
            [
             0,
             "#0d0887"
            ],
            [
             0.1111111111111111,
             "#46039f"
            ],
            [
             0.2222222222222222,
             "#7201a8"
            ],
            [
             0.3333333333333333,
             "#9c179e"
            ],
            [
             0.4444444444444444,
             "#bd3786"
            ],
            [
             0.5555555555555556,
             "#d8576b"
            ],
            [
             0.6666666666666666,
             "#ed7953"
            ],
            [
             0.7777777777777778,
             "#fb9f3a"
            ],
            [
             0.8888888888888888,
             "#fdca26"
            ],
            [
             1,
             "#f0f921"
            ]
           ]
          },
          "colorway": [
           "#636efa",
           "#EF553B",
           "#00cc96",
           "#ab63fa",
           "#FFA15A",
           "#19d3f3",
           "#FF6692",
           "#B6E880",
           "#FF97FF",
           "#FECB52"
          ],
          "font": {
           "color": "#2a3f5f"
          },
          "geo": {
           "bgcolor": "white",
           "lakecolor": "white",
           "landcolor": "#E5ECF6",
           "showlakes": true,
           "showland": true,
           "subunitcolor": "white"
          },
          "hoverlabel": {
           "align": "left"
          },
          "hovermode": "closest",
          "mapbox": {
           "style": "light"
          },
          "paper_bgcolor": "white",
          "plot_bgcolor": "#E5ECF6",
          "polar": {
           "angularaxis": {
            "gridcolor": "white",
            "linecolor": "white",
            "ticks": ""
           },
           "bgcolor": "#E5ECF6",
           "radialaxis": {
            "gridcolor": "white",
            "linecolor": "white",
            "ticks": ""
           }
          },
          "scene": {
           "xaxis": {
            "backgroundcolor": "#E5ECF6",
            "gridcolor": "white",
            "gridwidth": 2,
            "linecolor": "white",
            "showbackground": true,
            "ticks": "",
            "zerolinecolor": "white"
           },
           "yaxis": {
            "backgroundcolor": "#E5ECF6",
            "gridcolor": "white",
            "gridwidth": 2,
            "linecolor": "white",
            "showbackground": true,
            "ticks": "",
            "zerolinecolor": "white"
           },
           "zaxis": {
            "backgroundcolor": "#E5ECF6",
            "gridcolor": "white",
            "gridwidth": 2,
            "linecolor": "white",
            "showbackground": true,
            "ticks": "",
            "zerolinecolor": "white"
           }
          },
          "shapedefaults": {
           "line": {
            "color": "#2a3f5f"
           }
          },
          "ternary": {
           "aaxis": {
            "gridcolor": "white",
            "linecolor": "white",
            "ticks": ""
           },
           "baxis": {
            "gridcolor": "white",
            "linecolor": "white",
            "ticks": ""
           },
           "bgcolor": "#E5ECF6",
           "caxis": {
            "gridcolor": "white",
            "linecolor": "white",
            "ticks": ""
           }
          },
          "title": {
           "x": 0.05
          },
          "xaxis": {
           "automargin": true,
           "gridcolor": "white",
           "linecolor": "white",
           "ticks": "",
           "zerolinecolor": "white",
           "zerolinewidth": 2
          },
          "yaxis": {
           "automargin": true,
           "gridcolor": "white",
           "linecolor": "white",
           "ticks": "",
           "zerolinecolor": "white",
           "zerolinewidth": 2
          }
         }
        },
        "xaxis": {
         "anchor": "y",
         "domain": [
          0,
          0.98
         ],
         "title": {
          "text": "OWS"
         }
        },
        "yaxis": {
         "anchor": "x",
         "domain": [
          0,
          1
         ],
         "title": {
          "text": "DWS"
         }
        }
       }
      },
      "text/html": [
       "<div>\n",
       "        \n",
       "        \n",
       "            <div id=\"1ec97ce1-d72c-4490-ad99-84e605c0f1c2\" class=\"plotly-graph-div\" style=\"height:600px; width:100%;\"></div>\n",
       "            <script type=\"text/javascript\">\n",
       "                require([\"plotly\"], function(Plotly) {\n",
       "                    window.PLOTLYENV=window.PLOTLYENV || {};\n",
       "                    \n",
       "                if (document.getElementById(\"1ec97ce1-d72c-4490-ad99-84e605c0f1c2\")) {\n",
       "                    Plotly.newPlot(\n",
       "                        '1ec97ce1-d72c-4490-ad99-84e605c0f1c2',\n",
       "                        [{\"customdata\": [[15.8, 17.9, 1913.0, 2.4, 21.0, 6.5, 2.4, 6.8], [15.9, 18.5, 2096.0, 2.4, 20.0, 7.0, 2.4, 7.6], [24.5, 18.1, 2546.0, 2.0, 21.0, 3.3, 2.0, 5.6], [23.8, 14.0, 2314.0, 0.2, 23.0, 5.9, 0.2, 3.1], [25.1, 17.1, 1682.0, 0.0, 21.0, 8.2, 0.0, 2.7], [31.6, 17.2, 2598.0, 1.7, 22.0, 3.9, 1.7, 5.0], [22.1, 15.1, 2455.0, 0.8, 20.0, 5.5, 0.8, 5.0], [22.8, 16.1, 2565.0, 1.2, 20.0, 3.5, 1.2, 5.5], [22.1, 17.5, 1810.0, 0.8, 21.0, 6.8, 0.8, 4.7], [22.3, 20.0, 2732.0, 4.6, 21.0, 8.5, 4.6, 9.2], [28.6, 14.6, 2730.0, -0.2, 20.0, 3.5, -0.2, 2.0], [17.6, 19.2, 1064.0, 0.8, 23.0, 4.4, 0.8, 4.1], [18.7, 13.7, 1761.0, 0.4, 22.0, 5.9, 0.4, 2.6], [18.6, 18.6, 1193.0, 1.1, 23.0, 4.4, 1.1, 3.8], [24.3, 17.4, 2164.0, 1.2, 21.0, 7.1, 1.2, 4.5], [26.6, 15.3, 1811.0, 0.7, 20.0, 3.7, 0.7, 1.3], [19.5, 18.5, 2541.0, 2.8, 20.0, 6.7, 2.8, 8.0]], \"hoverlabel\": {\"namelength\": 0}, \"hovertemplate\": \"<b>%{hovertext}</b><br><br>neural=%{marker.color}<br>OWS=%{x}<br>DWS=%{y}<br>USG%=%{customdata[0]}<br>PER=%{customdata[1]}<br>MP=%{customdata[2]}<br>VORP=%{customdata[6]}<br>Age=%{customdata[4]}<br>RPG=%{customdata[5]}<br>WS=%{customdata[7]}\", \"hovertext\": [\"Bam Adebayo\", \"Jarrett Allen\", \"De'Aaron Fox\", \"Kyle Kuzma\", \"Lauri Markkanen\", \"Donovan Mitchell\", \"Jayson Tatum\", \"Jamal Murray\", \"Domantas Sabonis\", \"Ben Simmons\", \"Devin Booker\", \"Montrezl Harrell\", \"Rondae Hollis-Jefferson\", \"Richaun Holmes\", \"Kristaps Porzingis\", \"D'Angelo Russell\", \"Myles Turner\"], \"legendgroup\": \"neural=1\", \"marker\": {\"color\": [1, 1, 1, 1, 1, 1, 1, 1, 1, 1, 1, 1, 1, 1, 1, 1, 1], \"coloraxis\": \"coloraxis\", \"line\": {\"color\": \"DarkSlateGrey\", \"width\": 1}, \"size\": 10, \"symbol\": \"circle\"}, \"mode\": \"markers\", \"name\": \"neural=1\", \"showlegend\": true, \"type\": \"scatter\", \"x\": [3.4, 4.4, 3.2, 1.2, 1.3, 1.3, 1.6, 4.3, 2.5, 4.2, 1.3, 3.1, 0.4, 2.2, 2.4, 0.3, 4.3], \"xaxis\": \"x\", \"y\": [3.4, 3.3, 2.5, 1.9, 1.5, 3.7, 3.4, 1.2, 2.2, 5.0, 0.6, 1.0, 2.2, 1.6, 2.1, 1.0, 3.7], \"yaxis\": \"y\"}, {\"customdata\": [[19.6, 16.2, 416.0, 0.1, 26.0, 1.7, 0.1, 1.0], [29.1, -6.0, 6.0, 0.0, 20.0, 0.9, 0.0, -0.1], [15.5, 9.8, 1352.0, 0.3, 21.0, 2.7, 0.3, 2.0], [16.8, 11.7, 759.0, -0.3, 23.0, 2.2, -0.3, 1.2], [16.9, 11.7, 1423.0, 0.9, 21.0, 6.2, 0.9, 1.6], [13.7, 12.9, 788.0, 0.3, 24.0, 3.1, 0.3, 1.6], [12.2, 10.2, 439.0, -0.3, 25.0, 3.6, -0.3, 0.3], [13.8, 12.7, 639.0, 0.5, 23.0, 3.8, 0.5, 1.4], [23.6, 19.6, 36.0, 0.0, 21.0, 2.2, 0.0, 0.1], [20.9, 7.6, 330.0, -0.3, 23.0, 2.9, -0.3, 0.0], [15.2, 10.9, 1034.0, 0.1, 23.0, 2.9, 0.1, 2.1], [16.6, 13.5, 1356.0, 0.7, 21.0, 3.8, 0.7, 2.9], [17.9, 7.8, 251.0, -0.3, 22.0, 2.3, -0.3, -0.1], [20.7, 13.1, 447.0, 0.0, 22.0, 2.3, 0.0, 0.7], [17.3, 10.8, 2004.0, -0.2, 24.0, 3.0, -0.2, 1.5], [12.7, 0.7, 64.0, -0.1, 22.0, 1.7, -0.1, -0.2], [40.7, -38.1, 1.0, 0.0, 22.0, 1.7, 0.0, 0.0], [10.6, 6.4, 1931.0, 0.0, 20.0, 1.4, 0.0, 2.8], [19.3, 10.5, 427.0, -0.1, 20.0, 3.4, -0.1, 0.3], [23.2, 14.4, 820.0, 0.0, 20.0, 3.8, 0.0, 1.0], [13.5, 9.3, 1715.0, 0.6, 23.0, 3.9, 0.6, 2.1], [11.8, 10.0, 221.0, 0.1, 20.0, 1.7, 0.1, 0.5], [16.3, 13.0, 1996.0, 1.1, 21.0, 5.0, 1.1, 4.0], [12.8, 8.7, 1233.0, -0.2, 24.0, 2.5, -0.2, 1.9], [18.5, 9.4, 1169.0, -0.9, 20.0, 2.2, -0.9, 0.4], [23.9, 10.6, 1988.0, -1.4, 21.0, 4.5, -1.4, -1.7], [12.9, 10.1, 1083.0, 0.1, 23.0, 2.7, 0.1, 1.6], [17.0, 13.9, 531.0, 0.1, 23.0, 2.7, 0.1, 1.3], [18.1, 11.9, 1437.0, 0.2, 22.0, 2.6, 0.2, 2.5], [17.5, 16.9, 522.0, 0.1, 21.0, 1.9, 0.1, 1.6], [10.6, 9.3, 94.0, 0.0, 22.0, 0.7, 0.0, 0.2], [21.8, 12.4, 435.0, -0.3, 24.0, 1.9, -0.3, 0.3], [24.6, 11.8, 1258.0, -0.6, 20.0, 1.5, -0.6, 0.3], [17.1, 16.2, 1970.0, 1.1, 23.0, 2.3, 1.1, 6.2], [16.6, 6.0, 904.0, -0.8, 20.0, 2.2, -0.8, -0.8], [14.1, 8.5, 594.0, -0.3, 24.0, 1.9, -0.3, 0.7], [15.7, 10.5, 21.0, 0.0, 21.0, 1.5, 0.0, 0.0], [17.2, 16.1, 721.0, 0.2, 21.0, 4.3, 0.2, 2.1], [12.1, 8.1, 47.0, 0.0, 23.0, 1.5, 0.0, 0.1], [23.3, 11.5, 908.0, -0.1, 21.0, 3.4, -0.1, 0.2], [27.0, 13.5, 600.0, -0.1, 21.0, 3.4, -0.1, -0.2], [17.6, 7.6, 210.0, -0.1, 23.0, 1.0, -0.1, 0.1], [18.4, 3.1, 145.0, -0.3, 21.0, 2.5, -0.3, -0.3], [14.9, 11.7, 33.0, 0.0, 21.0, 2.5, 0.0, 0.0], [11.3, 5.2, 313.0, -0.2, 24.0, 1.3, -0.2, 0.0], [17.7, 14.8, 1728.0, 1.3, 24.0, 3.3, 1.3, 3.6], [14.4, 10.3, 882.0, 0.1, 22.0, 3.3, 0.1, 1.7], [16.1, 16.6, 80.0, 0.0, 21.0, 1.2, 0.0, 0.3], [16.2, 9.0, 583.0, -0.5, 21.0, 1.7, -0.5, 0.3], [18.2, 7.6, 455.0, -0.3, 23.0, 3.3, -0.3, -0.4], [12.7, 7.1, 2069.0, -0.4, 20.0, 3.8, -0.4, 0.1], [12.6, 11.7, 38.0, -0.1, 24.0, 1.5, -0.1, 0.1], [19.1, 14.3, 1436.0, 0.2, 25.0, 3.5, 0.2, 2.7], [21.4, 13.6, 2152.0, 1.0, 21.0, 4.0, 1.0, 4.5], [18.1, 11.1, 1527.0, 0.0, 20.0, 4.5, 0.0, 0.7], [15.3, 16.6, 943.0, 0.3, 21.0, 3.2, 0.3, 2.7], [17.4, 17.0, 581.0, -0.2, 21.0, 4.6, -0.2, 1.9], [24.7, 14.5, 1525.0, 0.7, 23.0, 3.3, 0.7, 0.9], [23.8, 10.5, 329.0, -0.4, 21.0, 2.5, -0.4, 0.1], [19.9, 18.2, 28.0, 0.0, 22.0, 2.1, 0.0, 0.1], [24.3, 16.1, 2024.0, 0.9, 25.0, 4.0, 0.9, 2.8], [22.2, 13.8, 1975.0, 0.4, 20.0, 4.7, 0.4, 2.8], [13.9, 6.8, 89.0, -0.1, 22.0, 2.3, -0.1, 0.1], [16.9, 3.4, 80.0, -0.1, 20.0, 1.9, -0.1, 0.0], [14.6, 4.9, 160.0, -0.1, 23.0, 1.8, -0.1, -0.1], [22.5, 14.2, 1864.0, 0.7, 23.0, 3.6, 0.7, 2.3], [14.6, 10.2, 1238.0, -0.2, 20.0, 2.8, -0.2, 1.5], [12.8, 7.4, 961.0, -0.3, 22.0, 1.5, -0.3, 0.6], [20.7, 15.1, 1743.0, 1.4, 21.0, 4.2, 1.4, 3.2], [17.1, 5.1, 522.0, -0.5, 24.0, 1.7, -0.5, -0.1], [20.9, 9.2, 32.0, 0.0, 24.0, 1.2, 0.0, 0.0], [16.1, -3.2, 22.0, -0.1, 21.0, 2.3, -0.1, -0.1], [23.0, 9.1, 28.0, 0.0, 24.0, 0.8, 0.0, 0.0], [16.8, 1.9, 124.0, -0.2, 22.0, 1.2, -0.2, -0.3], [15.7, 14.5, 1679.0, 1.7, 23.0, 5.1, 1.7, 4.7], [18.5, 10.1, 1658.0, -1.3, 22.0, 1.7, -1.3, -0.2], [17.5, 12.1, 2095.0, 0.8, 24.0, 4.1, 0.8, 2.5], [16.6, 10.1, 851.0, 0.0, 23.0, 2.2, 0.0, 0.7], [22.1, 12.8, 2464.0, 0.8, 23.0, 3.8, 0.8, 2.0], [28.5, 11.5, 180.0, -0.2, 22.0, 2.4, -0.2, -0.1], [15.7, 12.3, 235.0, 0.1, 22.0, 1.4, 0.1, 0.6], [15.2, 5.2, 824.0, -0.8, 23.0, 2.6, -0.8, -0.6], [18.8, 24.2, 214.0, 0.1, 21.0, 4.2, 0.1, 1.0], [17.6, 15.3, 410.0, 0.0, 20.0, 4.6, 0.0, 1.0], [19.7, 16.3, 1421.0, 0.3, 23.0, 6.4, 0.3, 2.9], [13.1, 10.4, 219.0, -0.1, 25.0, 1.9, -0.1, 0.5], [13.0, 11.8, 316.0, 0.0, 24.0, 2.3, 0.0, 0.6], [14.9, 13.1, 1419.0, 0.3, 22.0, 3.0, 0.3, 3.1], [16.0, 13.2, 1028.0, 0.4, 24.0, 1.9, 0.4, 2.5], [16.4, 8.7, 1474.0, -0.2, 22.0, 2.0, -0.2, 1.6], [20.3, 19.0, 1324.0, 0.7, 22.0, 5.6, 0.7, 3.4], [18.8, 7.2, 960.0, -0.9, 21.0, 3.0, -0.9, -0.7], [19.3, 5.9, 381.0, -0.4, 23.0, 0.9, -0.4, -0.2], [4.8, -3.2, 9.0, 0.0, 23.0, 1.0, 0.0, 0.0], [14.8, 7.2, 1371.0, 0.0, 20.0, 3.4, 0.0, 0.4], [13.6, 13.8, 774.0, 0.0, 20.0, 1.5, 0.0, 1.5], [21.8, 13.0, 1954.0, 0.2, 23.0, 4.0, 0.2, 2.3], [13.4, 13.6, 447.0, 0.3, 20.0, 3.8, 0.3, 1.4], [21.7, 9.9, 1158.0, -0.3, 21.0, 3.9, -0.3, 0.8], [16.4, 8.7, 558.0, -0.6, 22.0, 3.5, -0.6, 0.6], [15.5, 9.8, 141.0, -0.1, 22.0, 2.0, -0.1, 0.1], [22.6, 10.9, 1406.0, -0.6, 20.0, 3.1, -0.6, 0.2], [13.4, 15.7, 1442.0, 1.4, 24.0, 6.5, 1.4, 3.5], [24.1, 14.8, 1134.0, -0.4, 21.0, 5.1, -0.4, 1.2], [14.6, 9.1, 1605.0, -0.1, 21.0, 3.7, -0.1, 2.0], [19.1, 14.9, 1000.0, -0.3, 21.0, 6.2, -0.3, 2.4], [21.1, 14.0, 1368.0, 0.2, 23.0, 2.1, 0.2, 2.8], [16.8, 10.7, 1614.0, 0.9, 23.0, 3.2, 0.9, 2.2], [17.1, 10.9, 1263.0, -0.2, 22.0, 3.6, -0.2, 1.4], [17.2, 7.8, 458.0, -0.3, 20.0, 1.1, -0.3, 0.0], [19.8, 8.2, 625.0, -0.1, 20.0, 5.3, -0.1, -0.1], [16.6, 15.0, 446.0, 0.4, 24.0, 2.8, 0.4, 1.1], [27.8, 11.4, 135.0, -0.2, 24.0, 1.0, -0.2, -0.1]], \"hoverlabel\": {\"namelength\": 0}, \"hovertemplate\": \"<b>%{hovertext}</b><br><br>neural=%{marker.color}<br>OWS=%{x}<br>DWS=%{y}<br>USG%=%{customdata[0]}<br>PER=%{customdata[1]}<br>MP=%{customdata[2]}<br>VORP=%{customdata[6]}<br>Age=%{customdata[4]}<br>RPG=%{customdata[5]}<br>WS=%{customdata[7]}\", \"hovertext\": [\"Kadeem Allen\", \"Ike Anigbogu\", \"OG Anunoby\", \"Dwayne Bacon\", \"Lonzo Ball\", \"Jordan Bell\", \"Jaron Blossomgame\", \"Jonah Bolden\", \"Tony Bradley\", \"Dillon Brooks\", \"Sterling Brown\", \"Zach Collins\", \"Tyler Dorsey\", \"Tyler Dorsey\", \"Damyean Dotson\", \"Jawun Evans\", \"Jawun Evans\", \"Terrance Ferguson\", \"Markelle Fultz\", \"Harry Giles\", \"Josh Hart\", \"Isaiah Hartenstein\", \"Jonathan Isaac\", \"Wesley Iwundu\", \"Frank Jackson\", \"Josh Jackson\", \"Justin Jackson\", \"Justin Jackson\", \"Luke Kennard\", \"T.J. Leaf\", \"Tyler Lydon\", \"Frank Mason\", \"Malik Monk\", \"Monte Morris\", \"Frank Ntilikina\", \"Semi Ojeleye\", \"Justin Patton\", \"Ivan Rabb\", \"Davon Reed\", \"Dennis Smith\", \"Dennis Smith\", \"Edmond Sumner\", \"Caleb Swanigan\", \"Caleb Swanigan\", \"Sindarius Thornwell\", \"Derrick White\", \"D.J. Wilson\", \"Wade Baldwin\", \"Malik Beasley\", \"DeAndre' Bembry\", \"Dragan Bender\", \"Joel Bolomboy\", \"Malcolm Brogdon\", \"Jaylen Brown\", \"Marquese Chriss\", \"Deyonta Davis\", \"Cheick Diallo\", \"Kris Dunn\", \"Henry Ellenson\", \"Daniel Hamilton\", \"Buddy Hield\", \"Brandon Ingram\", \"Damian Jones\", \"Furkan Korkmaz\", \"Jake Layman\", \"Caris LeVert\", \"Thon Maker\", \"Patrick McCaw\", \"Dejounte Murray\", \"Abdel Nader\", \"Georges Niang\", \"Chinanu Onuaku\", \"Marcus Paige\", \"Zhou Qi\", \"Pascal Siakam\", \"Tyler Ulis\", \"Denzel Valentine\", \"Tyrone Wallace\", \"Taurean Waller-Prince\", \"Isaiah Whitehead\", \"Guerschon Yabusele\", \"Paul Zipser\", \"Ante \\u017di\\u017ei\\u0107\", \"Ivica Zubac\", \"Willie Cauley-Stein\", \"Rakeem Christmas\", \"Pat Connaughton\", \"Sam Dekker\", \"Jerian Grant\", \"Andrew Harrison\", \"Willy Hernangomez\", \"Mario Hezonja\", \"Darrun Hilliard\", \"R.J. Hunter\", \"Stanley Johnson\", \"Tyus Jones\", \"Frank Kaminsky\", \"Kevon Looney\", \"Trey Lyles\", \"Jarell Martin\", \"Jordan Mickey\", \"Emmanuel Mudiay\", \"Larry Nance\", \"Jahlil Okafor\", \"Kelly Oubre\", \"Bobby Portis\", \"Norman Powell\", \"Josh Richardson\", \"Terry Rozier\", \"Rashad Vaughn\", \"Justise Winslow\", \"Delon Wright\", \"Joe Young\"], \"legendgroup\": \"neural=0\", \"marker\": {\"color\": [0, 0, 0, 0, 0, 0, 0, 0, 0, 0, 0, 0, 0, 0, 0, 0, 0, 0, 0, 0, 0, 0, 0, 0, 0, 0, 0, 0, 0, 0, 0, 0, 0, 0, 0, 0, 0, 0, 0, 0, 0, 0, 0, 0, 0, 0, 0, 0, 0, 0, 0, 0, 0, 0, 0, 0, 0, 0, 0, 0, 0, 0, 0, 0, 0, 0, 0, 0, 0, 0, 0, 0, 0, 0, 0, 0, 0, 0, 0, 0, 0, 0, 0, 0, 0, 0, 0, 0, 0, 0, 0, 0, 0, 0, 0, 0, 0, 0, 0, 0, 0, 0, 0, 0, 0, 0, 0, 0, 0, 0, 0, 0, 0], \"coloraxis\": \"coloraxis\", \"line\": {\"color\": \"DarkSlateGrey\", \"width\": 1}, \"size\": 10, \"symbol\": \"diamond\"}, \"mode\": \"markers\", \"name\": \"neural=0\", \"showlegend\": true, \"type\": \"scatter\", \"x\": [0.7, -0.1, 0.3, 0.9, -0.2, 0.5, 0.2, 0.5, 0.0, -0.3, 0.7, 1.4, -0.2, 0.4, 0.7, -0.2, 0.0, 1.2, -0.1, 0.0, 0.2, 0.2, 0.9, 0.5, 0.1, -2.8, 1.0, 1.0, 1.3, 0.9, 0.1, 0.0, -0.4, 4.4, -1.3, 0.2, 0.0, 1.2, 0.0, -0.7, -0.5, -0.2, -0.4, 0.0, -0.3, 1.7, 0.3, 0.2, 0.1, -0.9, -0.7, 0.0, 2.0, 1.2, -0.8, 1.9, 1.1, -1.0, -0.2, 0.1, 1.3, 1.0, 0.0, -0.1, -0.3, 0.7, 0.3, -0.3, -0.2, -0.9, -0.1, -0.1, 0.0, -0.5, 2.1, -0.7, 1.0, 0.2, 0.0, -0.3, 0.3, -1.1, 0.9, 0.5, 1.4, 0.3, 0.4, 1.9, 1.4, 0.0, 1.8, -1.4, -0.6, 0.0, -1.4, 1.0, 0.4, 0.7, -0.9, -0.2, -0.1, -0.4, 2.1, 0.1, 0.6, 1.1, 1.4, 0.3, 0.0, -0.5, -0.9, 0.5, -0.2], \"xaxis\": \"x\", \"y\": [0.2, 0.0, 1.7, 0.3, 1.7, 1.1, 0.1, 0.9, 0.1, 0.3, 1.4, 1.5, 0.1, 0.3, 0.9, 0.0, 0.0, 1.6, 0.4, 1.0, 1.9, 0.3, 3.1, 1.4, 0.4, 1.1, 0.6, 0.3, 1.3, 0.7, 0.1, 0.3, 0.7, 1.8, 0.4, 0.5, 0.0, 0.9, 0.0, 0.9, 0.3, 0.3, 0.2, 0.1, 0.3, 1.9, 1.4, 0.1, 0.3, 0.5, 0.8, 0.0, 0.7, 3.2, 1.5, 0.8, 0.8, 1.9, 0.4, 0.0, 1.5, 1.8, 0.1, 0.1, 0.2, 1.6, 1.1, 0.8, 3.4, 0.8, 0.1, 0.0, 0.0, 0.2, 2.5, 0.5, 1.5, 0.5, 2.0, 0.2, 0.3, 0.6, 0.2, 0.5, 1.5, 0.2, 0.2, 1.2, 1.2, 1.5, 1.6, 0.8, 0.4, 0.0, 1.8, 0.6, 1.9, 0.8, 1.6, 0.8, 0.2, 0.5, 1.5, 1.1, 1.5, 1.2, 1.4, 1.9, 1.4, 0.4, 0.8, 0.6, 0.1], \"yaxis\": \"y\"}],\n",
       "                        {\"coloraxis\": {\"colorbar\": {\"title\": {\"text\": \"neural\"}}, \"colorscale\": [[0.0, \"rgb(103,0,31)\"], [0.1, \"rgb(178,24,43)\"], [0.2, \"rgb(214,96,77)\"], [0.3, \"rgb(244,165,130)\"], [0.4, \"rgb(253,219,199)\"], [0.5, \"rgb(247,247,247)\"], [0.6, \"rgb(209,229,240)\"], [0.7, \"rgb(146,197,222)\"], [0.8, \"rgb(67,147,195)\"], [0.9, \"rgb(33,102,172)\"], [1.0, \"rgb(5,48,97)\"]]}, \"height\": 600, \"legend\": {\"orientation\": \"h\", \"tracegroupgap\": 0}, \"margin\": {\"t\": 60}, \"template\": {\"data\": {\"bar\": [{\"error_x\": {\"color\": \"#2a3f5f\"}, \"error_y\": {\"color\": \"#2a3f5f\"}, \"marker\": {\"line\": {\"color\": \"#E5ECF6\", \"width\": 0.5}}, \"type\": \"bar\"}], \"barpolar\": [{\"marker\": {\"line\": {\"color\": \"#E5ECF6\", \"width\": 0.5}}, \"type\": \"barpolar\"}], \"carpet\": [{\"aaxis\": {\"endlinecolor\": \"#2a3f5f\", \"gridcolor\": \"white\", \"linecolor\": \"white\", \"minorgridcolor\": \"white\", \"startlinecolor\": \"#2a3f5f\"}, \"baxis\": {\"endlinecolor\": \"#2a3f5f\", \"gridcolor\": \"white\", \"linecolor\": \"white\", \"minorgridcolor\": \"white\", \"startlinecolor\": \"#2a3f5f\"}, \"type\": \"carpet\"}], \"choropleth\": [{\"colorbar\": {\"outlinewidth\": 0, \"ticks\": \"\"}, \"type\": \"choropleth\"}], \"contour\": [{\"colorbar\": {\"outlinewidth\": 0, \"ticks\": \"\"}, \"colorscale\": [[0.0, \"#0d0887\"], [0.1111111111111111, \"#46039f\"], [0.2222222222222222, \"#7201a8\"], [0.3333333333333333, \"#9c179e\"], [0.4444444444444444, \"#bd3786\"], [0.5555555555555556, \"#d8576b\"], [0.6666666666666666, \"#ed7953\"], [0.7777777777777778, \"#fb9f3a\"], [0.8888888888888888, \"#fdca26\"], [1.0, \"#f0f921\"]], \"type\": \"contour\"}], \"contourcarpet\": [{\"colorbar\": {\"outlinewidth\": 0, \"ticks\": \"\"}, \"type\": \"contourcarpet\"}], \"heatmap\": [{\"colorbar\": {\"outlinewidth\": 0, \"ticks\": \"\"}, \"colorscale\": [[0.0, \"#0d0887\"], [0.1111111111111111, \"#46039f\"], [0.2222222222222222, \"#7201a8\"], [0.3333333333333333, \"#9c179e\"], [0.4444444444444444, \"#bd3786\"], [0.5555555555555556, \"#d8576b\"], [0.6666666666666666, \"#ed7953\"], [0.7777777777777778, \"#fb9f3a\"], [0.8888888888888888, \"#fdca26\"], [1.0, \"#f0f921\"]], \"type\": \"heatmap\"}], \"heatmapgl\": [{\"colorbar\": {\"outlinewidth\": 0, \"ticks\": \"\"}, \"colorscale\": [[0.0, \"#0d0887\"], [0.1111111111111111, \"#46039f\"], [0.2222222222222222, \"#7201a8\"], [0.3333333333333333, \"#9c179e\"], [0.4444444444444444, \"#bd3786\"], [0.5555555555555556, \"#d8576b\"], [0.6666666666666666, \"#ed7953\"], [0.7777777777777778, \"#fb9f3a\"], [0.8888888888888888, \"#fdca26\"], [1.0, \"#f0f921\"]], \"type\": \"heatmapgl\"}], \"histogram\": [{\"marker\": {\"colorbar\": {\"outlinewidth\": 0, \"ticks\": \"\"}}, \"type\": \"histogram\"}], \"histogram2d\": [{\"colorbar\": {\"outlinewidth\": 0, \"ticks\": \"\"}, \"colorscale\": [[0.0, \"#0d0887\"], [0.1111111111111111, \"#46039f\"], [0.2222222222222222, \"#7201a8\"], [0.3333333333333333, \"#9c179e\"], [0.4444444444444444, \"#bd3786\"], [0.5555555555555556, \"#d8576b\"], [0.6666666666666666, \"#ed7953\"], [0.7777777777777778, \"#fb9f3a\"], [0.8888888888888888, \"#fdca26\"], [1.0, \"#f0f921\"]], \"type\": \"histogram2d\"}], \"histogram2dcontour\": [{\"colorbar\": {\"outlinewidth\": 0, \"ticks\": \"\"}, \"colorscale\": [[0.0, \"#0d0887\"], [0.1111111111111111, \"#46039f\"], [0.2222222222222222, \"#7201a8\"], [0.3333333333333333, \"#9c179e\"], [0.4444444444444444, \"#bd3786\"], [0.5555555555555556, \"#d8576b\"], [0.6666666666666666, \"#ed7953\"], [0.7777777777777778, \"#fb9f3a\"], [0.8888888888888888, \"#fdca26\"], [1.0, \"#f0f921\"]], \"type\": \"histogram2dcontour\"}], \"mesh3d\": [{\"colorbar\": {\"outlinewidth\": 0, \"ticks\": \"\"}, \"type\": \"mesh3d\"}], \"parcoords\": [{\"line\": {\"colorbar\": {\"outlinewidth\": 0, \"ticks\": \"\"}}, \"type\": \"parcoords\"}], \"scatter\": [{\"marker\": {\"colorbar\": {\"outlinewidth\": 0, \"ticks\": \"\"}}, \"type\": \"scatter\"}], \"scatter3d\": [{\"line\": {\"colorbar\": {\"outlinewidth\": 0, \"ticks\": \"\"}}, \"marker\": {\"colorbar\": {\"outlinewidth\": 0, \"ticks\": \"\"}}, \"type\": \"scatter3d\"}], \"scattercarpet\": [{\"marker\": {\"colorbar\": {\"outlinewidth\": 0, \"ticks\": \"\"}}, \"type\": \"scattercarpet\"}], \"scattergeo\": [{\"marker\": {\"colorbar\": {\"outlinewidth\": 0, \"ticks\": \"\"}}, \"type\": \"scattergeo\"}], \"scattergl\": [{\"marker\": {\"colorbar\": {\"outlinewidth\": 0, \"ticks\": \"\"}}, \"type\": \"scattergl\"}], \"scattermapbox\": [{\"marker\": {\"colorbar\": {\"outlinewidth\": 0, \"ticks\": \"\"}}, \"type\": \"scattermapbox\"}], \"scatterpolar\": [{\"marker\": {\"colorbar\": {\"outlinewidth\": 0, \"ticks\": \"\"}}, \"type\": \"scatterpolar\"}], \"scatterpolargl\": [{\"marker\": {\"colorbar\": {\"outlinewidth\": 0, \"ticks\": \"\"}}, \"type\": \"scatterpolargl\"}], \"scatterternary\": [{\"marker\": {\"colorbar\": {\"outlinewidth\": 0, \"ticks\": \"\"}}, \"type\": \"scatterternary\"}], \"surface\": [{\"colorbar\": {\"outlinewidth\": 0, \"ticks\": \"\"}, \"colorscale\": [[0.0, \"#0d0887\"], [0.1111111111111111, \"#46039f\"], [0.2222222222222222, \"#7201a8\"], [0.3333333333333333, \"#9c179e\"], [0.4444444444444444, \"#bd3786\"], [0.5555555555555556, \"#d8576b\"], [0.6666666666666666, \"#ed7953\"], [0.7777777777777778, \"#fb9f3a\"], [0.8888888888888888, \"#fdca26\"], [1.0, \"#f0f921\"]], \"type\": \"surface\"}], \"table\": [{\"cells\": {\"fill\": {\"color\": \"#EBF0F8\"}, \"line\": {\"color\": \"white\"}}, \"header\": {\"fill\": {\"color\": \"#C8D4E3\"}, \"line\": {\"color\": \"white\"}}, \"type\": \"table\"}]}, \"layout\": {\"annotationdefaults\": {\"arrowcolor\": \"#2a3f5f\", \"arrowhead\": 0, \"arrowwidth\": 1}, \"colorscale\": {\"diverging\": [[0, \"#8e0152\"], [0.1, \"#c51b7d\"], [0.2, \"#de77ae\"], [0.3, \"#f1b6da\"], [0.4, \"#fde0ef\"], [0.5, \"#f7f7f7\"], [0.6, \"#e6f5d0\"], [0.7, \"#b8e186\"], [0.8, \"#7fbc41\"], [0.9, \"#4d9221\"], [1, \"#276419\"]], \"sequential\": [[0.0, \"#0d0887\"], [0.1111111111111111, \"#46039f\"], [0.2222222222222222, \"#7201a8\"], [0.3333333333333333, \"#9c179e\"], [0.4444444444444444, \"#bd3786\"], [0.5555555555555556, \"#d8576b\"], [0.6666666666666666, \"#ed7953\"], [0.7777777777777778, \"#fb9f3a\"], [0.8888888888888888, \"#fdca26\"], [1.0, \"#f0f921\"]], \"sequentialminus\": [[0.0, \"#0d0887\"], [0.1111111111111111, \"#46039f\"], [0.2222222222222222, \"#7201a8\"], [0.3333333333333333, \"#9c179e\"], [0.4444444444444444, \"#bd3786\"], [0.5555555555555556, \"#d8576b\"], [0.6666666666666666, \"#ed7953\"], [0.7777777777777778, \"#fb9f3a\"], [0.8888888888888888, \"#fdca26\"], [1.0, \"#f0f921\"]]}, \"colorway\": [\"#636efa\", \"#EF553B\", \"#00cc96\", \"#ab63fa\", \"#FFA15A\", \"#19d3f3\", \"#FF6692\", \"#B6E880\", \"#FF97FF\", \"#FECB52\"], \"font\": {\"color\": \"#2a3f5f\"}, \"geo\": {\"bgcolor\": \"white\", \"lakecolor\": \"white\", \"landcolor\": \"#E5ECF6\", \"showlakes\": true, \"showland\": true, \"subunitcolor\": \"white\"}, \"hoverlabel\": {\"align\": \"left\"}, \"hovermode\": \"closest\", \"mapbox\": {\"style\": \"light\"}, \"paper_bgcolor\": \"white\", \"plot_bgcolor\": \"#E5ECF6\", \"polar\": {\"angularaxis\": {\"gridcolor\": \"white\", \"linecolor\": \"white\", \"ticks\": \"\"}, \"bgcolor\": \"#E5ECF6\", \"radialaxis\": {\"gridcolor\": \"white\", \"linecolor\": \"white\", \"ticks\": \"\"}}, \"scene\": {\"xaxis\": {\"backgroundcolor\": \"#E5ECF6\", \"gridcolor\": \"white\", \"gridwidth\": 2, \"linecolor\": \"white\", \"showbackground\": true, \"ticks\": \"\", \"zerolinecolor\": \"white\"}, \"yaxis\": {\"backgroundcolor\": \"#E5ECF6\", \"gridcolor\": \"white\", \"gridwidth\": 2, \"linecolor\": \"white\", \"showbackground\": true, \"ticks\": \"\", \"zerolinecolor\": \"white\"}, \"zaxis\": {\"backgroundcolor\": \"#E5ECF6\", \"gridcolor\": \"white\", \"gridwidth\": 2, \"linecolor\": \"white\", \"showbackground\": true, \"ticks\": \"\", \"zerolinecolor\": \"white\"}}, \"shapedefaults\": {\"line\": {\"color\": \"#2a3f5f\"}}, \"ternary\": {\"aaxis\": {\"gridcolor\": \"white\", \"linecolor\": \"white\", \"ticks\": \"\"}, \"baxis\": {\"gridcolor\": \"white\", \"linecolor\": \"white\", \"ticks\": \"\"}, \"bgcolor\": \"#E5ECF6\", \"caxis\": {\"gridcolor\": \"white\", \"linecolor\": \"white\", \"ticks\": \"\"}}, \"title\": {\"x\": 0.05}, \"xaxis\": {\"automargin\": true, \"gridcolor\": \"white\", \"linecolor\": \"white\", \"ticks\": \"\", \"zerolinecolor\": \"white\", \"zerolinewidth\": 2}, \"yaxis\": {\"automargin\": true, \"gridcolor\": \"white\", \"linecolor\": \"white\", \"ticks\": \"\", \"zerolinecolor\": \"white\", \"zerolinewidth\": 2}}}, \"xaxis\": {\"anchor\": \"y\", \"domain\": [0.0, 0.98], \"title\": {\"text\": \"OWS\"}}, \"yaxis\": {\"anchor\": \"x\", \"domain\": [0.0, 1.0], \"title\": {\"text\": \"DWS\"}}},\n",
       "                        {\"responsive\": true}\n",
       "                    ).then(function(){\n",
       "                            \n",
       "var gd = document.getElementById('1ec97ce1-d72c-4490-ad99-84e605c0f1c2');\n",
       "var x = new MutationObserver(function (mutations, observer) {{\n",
       "        var display = window.getComputedStyle(gd).display;\n",
       "        if (!display || display === 'none') {{\n",
       "            console.log([gd, 'removed!']);\n",
       "            Plotly.purge(gd);\n",
       "            observer.disconnect();\n",
       "        }}\n",
       "}});\n",
       "\n",
       "// Listen for the removal of the full notebook cells\n",
       "var notebookContainer = gd.closest('#notebook-container');\n",
       "if (notebookContainer) {{\n",
       "    x.observe(notebookContainer, {childList: true});\n",
       "}}\n",
       "\n",
       "// Listen for the clearing of the current output cell\n",
       "var outputEl = gd.closest('.output');\n",
       "if (outputEl) {{\n",
       "    x.observe(outputEl, {childList: true});\n",
       "}}\n",
       "\n",
       "                        })\n",
       "                };\n",
       "                });\n",
       "            </script>\n",
       "        </div>"
      ]
     },
     "metadata": {},
     "output_type": "display_data"
    },
    {
     "data": {
      "text/plain": [
       "'html_files/aggregated_OWS_DWS.html'"
      ]
     },
     "execution_count": 183,
     "metadata": {},
     "output_type": "execute_result"
    }
   ],
   "source": [
    "fig = px.scatter(test_master_w_predictions, x='OWS', y='DWS',\n",
    "                 color='neural',\n",
    "                 hover_name='Player_name',\n",
    "                 hover_data=['USG%', 'PER', 'MP', 'VORP', 'Age', 'RPG', 'VORP', 'WS'], \n",
    "                 color_continuous_scale=px.colors.diverging.RdBu,\n",
    "                 symbol='neural')\n",
    "fig.update_traces(marker=dict(size=10,\n",
    "                              line=dict(width=1,\n",
    "                                        color='DarkSlateGrey')),\n",
    "                  selector=dict(mode='markers'))\n",
    "fig.update_layout(legend_orientation=\"h\")\n",
    "# fig.update_xaxes(range=[-2, 4.5])\n",
    "fig.show()\n",
    "plotly.offline.plot(fig, filename='html_files/aggregated_OWS_DWS.html')"
   ]
  },
  {
   "cell_type": "code",
   "execution_count": 184,
   "metadata": {},
   "outputs": [
    {
     "data": {
      "text/html": [
       "<div>\n",
       "<style scoped>\n",
       "    .dataframe tbody tr th:only-of-type {\n",
       "        vertical-align: middle;\n",
       "    }\n",
       "\n",
       "    .dataframe tbody tr th {\n",
       "        vertical-align: top;\n",
       "    }\n",
       "\n",
       "    .dataframe thead th {\n",
       "        text-align: right;\n",
       "    }\n",
       "</style>\n",
       "<table border=\"1\" class=\"dataframe\">\n",
       "  <thead>\n",
       "    <tr style=\"text-align: right;\">\n",
       "      <th></th>\n",
       "      <th>tot</th>\n",
       "      <th>neural</th>\n",
       "    </tr>\n",
       "  </thead>\n",
       "  <tbody>\n",
       "    <tr>\n",
       "      <th>neural</th>\n",
       "      <td>0.827255</td>\n",
       "      <td>1.000000</td>\n",
       "    </tr>\n",
       "    <tr>\n",
       "      <th>tot</th>\n",
       "      <td>1.000000</td>\n",
       "      <td>0.827255</td>\n",
       "    </tr>\n",
       "    <tr>\n",
       "      <th>WS</th>\n",
       "      <td>0.641145</td>\n",
       "      <td>0.648498</td>\n",
       "    </tr>\n",
       "    <tr>\n",
       "      <th>PPG</th>\n",
       "      <td>0.598719</td>\n",
       "      <td>0.624230</td>\n",
       "    </tr>\n",
       "    <tr>\n",
       "      <th>OWS</th>\n",
       "      <td>0.616589</td>\n",
       "      <td>0.601110</td>\n",
       "    </tr>\n",
       "    <tr>\n",
       "      <th>PTS</th>\n",
       "      <td>0.586061</td>\n",
       "      <td>0.580487</td>\n",
       "    </tr>\n",
       "    <tr>\n",
       "      <th>VORP</th>\n",
       "      <td>0.537289</td>\n",
       "      <td>0.567751</td>\n",
       "    </tr>\n",
       "    <tr>\n",
       "      <th>RPG</th>\n",
       "      <td>0.683861</td>\n",
       "      <td>0.558142</td>\n",
       "    </tr>\n",
       "    <tr>\n",
       "      <th>MP</th>\n",
       "      <td>0.494084</td>\n",
       "      <td>0.547622</td>\n",
       "    </tr>\n",
       "    <tr>\n",
       "      <th>DWS</th>\n",
       "      <td>0.502906</td>\n",
       "      <td>0.538986</td>\n",
       "    </tr>\n",
       "    <tr>\n",
       "      <th>target</th>\n",
       "      <td>0.622398</td>\n",
       "      <td>0.515638</td>\n",
       "    </tr>\n",
       "    <tr>\n",
       "      <th>TRB</th>\n",
       "      <td>0.635438</td>\n",
       "      <td>0.511741</td>\n",
       "    </tr>\n",
       "    <tr>\n",
       "      <th>AST</th>\n",
       "      <td>0.340902</td>\n",
       "      <td>0.412924</td>\n",
       "    </tr>\n",
       "    <tr>\n",
       "      <th>G</th>\n",
       "      <td>0.364226</td>\n",
       "      <td>0.357972</td>\n",
       "    </tr>\n",
       "    <tr>\n",
       "      <th>PER</th>\n",
       "      <td>0.418981</td>\n",
       "      <td>0.343521</td>\n",
       "    </tr>\n",
       "    <tr>\n",
       "      <th>APG</th>\n",
       "      <td>0.218420</td>\n",
       "      <td>0.316587</td>\n",
       "    </tr>\n",
       "    <tr>\n",
       "      <th>USG%</th>\n",
       "      <td>0.292197</td>\n",
       "      <td>0.314848</td>\n",
       "    </tr>\n",
       "    <tr>\n",
       "      <th>BPM</th>\n",
       "      <td>0.315717</td>\n",
       "      <td>0.285843</td>\n",
       "    </tr>\n",
       "    <tr>\n",
       "      <th>OBPM</th>\n",
       "      <td>0.295606</td>\n",
       "      <td>0.272717</td>\n",
       "    </tr>\n",
       "    <tr>\n",
       "      <th>FG%</th>\n",
       "      <td>0.415380</td>\n",
       "      <td>0.255215</td>\n",
       "    </tr>\n",
       "    <tr>\n",
       "      <th>TS%</th>\n",
       "      <td>0.290700</td>\n",
       "      <td>0.227410</td>\n",
       "    </tr>\n",
       "    <tr>\n",
       "      <th>FTr</th>\n",
       "      <td>0.181790</td>\n",
       "      <td>0.209135</td>\n",
       "    </tr>\n",
       "    <tr>\n",
       "      <th>WS/48</th>\n",
       "      <td>0.263696</td>\n",
       "      <td>0.205805</td>\n",
       "    </tr>\n",
       "    <tr>\n",
       "      <th>DRB%</th>\n",
       "      <td>0.303461</td>\n",
       "      <td>0.160372</td>\n",
       "    </tr>\n",
       "    <tr>\n",
       "      <th>AST%</th>\n",
       "      <td>0.050908</td>\n",
       "      <td>0.136053</td>\n",
       "    </tr>\n",
       "    <tr>\n",
       "      <th>FT%</th>\n",
       "      <td>0.086633</td>\n",
       "      <td>0.135869</td>\n",
       "    </tr>\n",
       "    <tr>\n",
       "      <th>DBPM</th>\n",
       "      <td>0.154788</td>\n",
       "      <td>0.130885</td>\n",
       "    </tr>\n",
       "    <tr>\n",
       "      <th>BLK%</th>\n",
       "      <td>0.191765</td>\n",
       "      <td>0.120046</td>\n",
       "    </tr>\n",
       "    <tr>\n",
       "      <th>TRB%</th>\n",
       "      <td>0.264210</td>\n",
       "      <td>0.117946</td>\n",
       "    </tr>\n",
       "    <tr>\n",
       "      <th>Yrs</th>\n",
       "      <td>0.190288</td>\n",
       "      <td>0.112231</td>\n",
       "    </tr>\n",
       "    <tr>\n",
       "      <th>ORB%</th>\n",
       "      <td>0.143228</td>\n",
       "      <td>0.028311</td>\n",
       "    </tr>\n",
       "    <tr>\n",
       "      <th>STL%</th>\n",
       "      <td>-0.021621</td>\n",
       "      <td>0.024445</td>\n",
       "    </tr>\n",
       "    <tr>\n",
       "      <th>3P%</th>\n",
       "      <td>-0.049184</td>\n",
       "      <td>-0.033591</td>\n",
       "    </tr>\n",
       "    <tr>\n",
       "      <th>TOV%</th>\n",
       "      <td>-0.074271</td>\n",
       "      <td>-0.038703</td>\n",
       "    </tr>\n",
       "    <tr>\n",
       "      <th>DRAFT_YEAR+1</th>\n",
       "      <td>-0.173164</td>\n",
       "      <td>-0.065458</td>\n",
       "    </tr>\n",
       "    <tr>\n",
       "      <th>SEASON</th>\n",
       "      <td>-0.173164</td>\n",
       "      <td>-0.065458</td>\n",
       "    </tr>\n",
       "    <tr>\n",
       "      <th>3PAr</th>\n",
       "      <td>-0.303969</td>\n",
       "      <td>-0.188346</td>\n",
       "    </tr>\n",
       "    <tr>\n",
       "      <th>Age</th>\n",
       "      <td>-0.150534</td>\n",
       "      <td>-0.215585</td>\n",
       "    </tr>\n",
       "    <tr>\n",
       "      <th>draft_round</th>\n",
       "      <td>-0.178491</td>\n",
       "      <td>-0.218186</td>\n",
       "    </tr>\n",
       "    <tr>\n",
       "      <th>Pk</th>\n",
       "      <td>-0.274304</td>\n",
       "      <td>-0.294158</td>\n",
       "    </tr>\n",
       "  </tbody>\n",
       "</table>\n",
       "</div>"
      ],
      "text/plain": [
       "                   tot    neural\n",
       "neural        0.827255  1.000000\n",
       "tot           1.000000  0.827255\n",
       "WS            0.641145  0.648498\n",
       "PPG           0.598719  0.624230\n",
       "OWS           0.616589  0.601110\n",
       "PTS           0.586061  0.580487\n",
       "VORP          0.537289  0.567751\n",
       "RPG           0.683861  0.558142\n",
       "MP            0.494084  0.547622\n",
       "DWS           0.502906  0.538986\n",
       "target        0.622398  0.515638\n",
       "TRB           0.635438  0.511741\n",
       "AST           0.340902  0.412924\n",
       "G             0.364226  0.357972\n",
       "PER           0.418981  0.343521\n",
       "APG           0.218420  0.316587\n",
       "USG%          0.292197  0.314848\n",
       "BPM           0.315717  0.285843\n",
       "OBPM          0.295606  0.272717\n",
       "FG%           0.415380  0.255215\n",
       "TS%           0.290700  0.227410\n",
       "FTr           0.181790  0.209135\n",
       "WS/48         0.263696  0.205805\n",
       "DRB%          0.303461  0.160372\n",
       "AST%          0.050908  0.136053\n",
       "FT%           0.086633  0.135869\n",
       "DBPM          0.154788  0.130885\n",
       "BLK%          0.191765  0.120046\n",
       "TRB%          0.264210  0.117946\n",
       "Yrs           0.190288  0.112231\n",
       "ORB%          0.143228  0.028311\n",
       "STL%         -0.021621  0.024445\n",
       "3P%          -0.049184 -0.033591\n",
       "TOV%         -0.074271 -0.038703\n",
       "DRAFT_YEAR+1 -0.173164 -0.065458\n",
       "SEASON       -0.173164 -0.065458\n",
       "3PAr         -0.303969 -0.188346\n",
       "Age          -0.150534 -0.215585\n",
       "draft_round  -0.178491 -0.218186\n",
       "Pk           -0.274304 -0.294158"
      ]
     },
     "execution_count": 184,
     "metadata": {},
     "output_type": "execute_result"
    }
   ],
   "source": [
    "test_master_w_predictions.corr()[['tot', 'neural']].sort_values('neural', ascending=False)"
   ]
  },
  {
   "cell_type": "code",
   "execution_count": null,
   "metadata": {},
   "outputs": [],
   "source": []
  }
 ],
 "metadata": {
  "kernelspec": {
   "display_name": "Python 3",
   "language": "python",
   "name": "python3"
  },
  "language_info": {
   "codemirror_mode": {
    "name": "ipython",
    "version": 3
   },
   "file_extension": ".py",
   "mimetype": "text/x-python",
   "name": "python",
   "nbconvert_exporter": "python",
   "pygments_lexer": "ipython3",
   "version": "3.7.6"
  }
 },
 "nbformat": 4,
 "nbformat_minor": 4
}
